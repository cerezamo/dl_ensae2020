{
  "nbformat": 4,
  "nbformat_minor": 0,
  "metadata": {
    "colab": {
      "name": "TEST_USPS_MNIST.ipynb",
      "provenance": [],
      "toc_visible": true,
      "authorship_tag": "ABX9TyNu1dVby7xTq963SW1WEfxn",
      "include_colab_link": true
    },
    "kernelspec": {
      "name": "python3",
      "display_name": "Python 3"
    },
    "accelerator": "GPU",
    "widgets": {
      "application/vnd.jupyter.widget-state+json": {
        "f823ca1206404e00a279001ecacd0b97": {
          "model_module": "@jupyter-widgets/controls",
          "model_name": "HBoxModel",
          "state": {
            "_view_name": "HBoxView",
            "_dom_classes": [],
            "_model_name": "HBoxModel",
            "_view_module": "@jupyter-widgets/controls",
            "_model_module_version": "1.5.0",
            "_view_count": null,
            "_view_module_version": "1.5.0",
            "box_style": "",
            "layout": "IPY_MODEL_ed3f76dae3eb4125b336ceb81944044f",
            "_model_module": "@jupyter-widgets/controls",
            "children": [
              "IPY_MODEL_45c88074d8334416b8e71e2444e1abb2",
              "IPY_MODEL_0d398b47aedd46ada5d4fb9a9942435d"
            ]
          }
        },
        "ed3f76dae3eb4125b336ceb81944044f": {
          "model_module": "@jupyter-widgets/base",
          "model_name": "LayoutModel",
          "state": {
            "_view_name": "LayoutView",
            "grid_template_rows": null,
            "right": null,
            "justify_content": null,
            "_view_module": "@jupyter-widgets/base",
            "overflow": null,
            "_model_module_version": "1.2.0",
            "_view_count": null,
            "flex_flow": null,
            "width": null,
            "min_width": null,
            "border": null,
            "align_items": null,
            "bottom": null,
            "_model_module": "@jupyter-widgets/base",
            "top": null,
            "grid_column": null,
            "overflow_y": null,
            "overflow_x": null,
            "grid_auto_flow": null,
            "grid_area": null,
            "grid_template_columns": null,
            "flex": null,
            "_model_name": "LayoutModel",
            "justify_items": null,
            "grid_row": null,
            "max_height": null,
            "align_content": null,
            "visibility": null,
            "align_self": null,
            "height": null,
            "min_height": null,
            "padding": null,
            "grid_auto_rows": null,
            "grid_gap": null,
            "max_width": null,
            "order": null,
            "_view_module_version": "1.2.0",
            "grid_template_areas": null,
            "object_position": null,
            "object_fit": null,
            "grid_auto_columns": null,
            "margin": null,
            "display": null,
            "left": null
          }
        },
        "45c88074d8334416b8e71e2444e1abb2": {
          "model_module": "@jupyter-widgets/controls",
          "model_name": "IntProgressModel",
          "state": {
            "_view_name": "ProgressView",
            "style": "IPY_MODEL_05d155ab41714b37a1b61fd3c0aeea57",
            "_dom_classes": [],
            "description": "",
            "_model_name": "IntProgressModel",
            "bar_style": "success",
            "max": 1,
            "_view_module": "@jupyter-widgets/controls",
            "_model_module_version": "1.5.0",
            "value": 1,
            "_view_count": null,
            "_view_module_version": "1.5.0",
            "orientation": "horizontal",
            "min": 0,
            "description_tooltip": null,
            "_model_module": "@jupyter-widgets/controls",
            "layout": "IPY_MODEL_831af58efdcf41c1b447adc21b0dd8e2"
          }
        },
        "0d398b47aedd46ada5d4fb9a9942435d": {
          "model_module": "@jupyter-widgets/controls",
          "model_name": "HTMLModel",
          "state": {
            "_view_name": "HTMLView",
            "style": "IPY_MODEL_c5019079d3fd435fa2a9efa2a9c5cba5",
            "_dom_classes": [],
            "description": "",
            "_model_name": "HTMLModel",
            "placeholder": "​",
            "_view_module": "@jupyter-widgets/controls",
            "_model_module_version": "1.5.0",
            "value": " 9920512/? [00:06&lt;00:00, 1590595.03it/s]",
            "_view_count": null,
            "_view_module_version": "1.5.0",
            "description_tooltip": null,
            "_model_module": "@jupyter-widgets/controls",
            "layout": "IPY_MODEL_f0a2e3724ddf4dffa080d8b744962110"
          }
        },
        "05d155ab41714b37a1b61fd3c0aeea57": {
          "model_module": "@jupyter-widgets/controls",
          "model_name": "ProgressStyleModel",
          "state": {
            "_view_name": "StyleView",
            "_model_name": "ProgressStyleModel",
            "description_width": "initial",
            "_view_module": "@jupyter-widgets/base",
            "_model_module_version": "1.5.0",
            "_view_count": null,
            "_view_module_version": "1.2.0",
            "bar_color": null,
            "_model_module": "@jupyter-widgets/controls"
          }
        },
        "831af58efdcf41c1b447adc21b0dd8e2": {
          "model_module": "@jupyter-widgets/base",
          "model_name": "LayoutModel",
          "state": {
            "_view_name": "LayoutView",
            "grid_template_rows": null,
            "right": null,
            "justify_content": null,
            "_view_module": "@jupyter-widgets/base",
            "overflow": null,
            "_model_module_version": "1.2.0",
            "_view_count": null,
            "flex_flow": null,
            "width": null,
            "min_width": null,
            "border": null,
            "align_items": null,
            "bottom": null,
            "_model_module": "@jupyter-widgets/base",
            "top": null,
            "grid_column": null,
            "overflow_y": null,
            "overflow_x": null,
            "grid_auto_flow": null,
            "grid_area": null,
            "grid_template_columns": null,
            "flex": null,
            "_model_name": "LayoutModel",
            "justify_items": null,
            "grid_row": null,
            "max_height": null,
            "align_content": null,
            "visibility": null,
            "align_self": null,
            "height": null,
            "min_height": null,
            "padding": null,
            "grid_auto_rows": null,
            "grid_gap": null,
            "max_width": null,
            "order": null,
            "_view_module_version": "1.2.0",
            "grid_template_areas": null,
            "object_position": null,
            "object_fit": null,
            "grid_auto_columns": null,
            "margin": null,
            "display": null,
            "left": null
          }
        },
        "c5019079d3fd435fa2a9efa2a9c5cba5": {
          "model_module": "@jupyter-widgets/controls",
          "model_name": "DescriptionStyleModel",
          "state": {
            "_view_name": "StyleView",
            "_model_name": "DescriptionStyleModel",
            "description_width": "",
            "_view_module": "@jupyter-widgets/base",
            "_model_module_version": "1.5.0",
            "_view_count": null,
            "_view_module_version": "1.2.0",
            "_model_module": "@jupyter-widgets/controls"
          }
        },
        "f0a2e3724ddf4dffa080d8b744962110": {
          "model_module": "@jupyter-widgets/base",
          "model_name": "LayoutModel",
          "state": {
            "_view_name": "LayoutView",
            "grid_template_rows": null,
            "right": null,
            "justify_content": null,
            "_view_module": "@jupyter-widgets/base",
            "overflow": null,
            "_model_module_version": "1.2.0",
            "_view_count": null,
            "flex_flow": null,
            "width": null,
            "min_width": null,
            "border": null,
            "align_items": null,
            "bottom": null,
            "_model_module": "@jupyter-widgets/base",
            "top": null,
            "grid_column": null,
            "overflow_y": null,
            "overflow_x": null,
            "grid_auto_flow": null,
            "grid_area": null,
            "grid_template_columns": null,
            "flex": null,
            "_model_name": "LayoutModel",
            "justify_items": null,
            "grid_row": null,
            "max_height": null,
            "align_content": null,
            "visibility": null,
            "align_self": null,
            "height": null,
            "min_height": null,
            "padding": null,
            "grid_auto_rows": null,
            "grid_gap": null,
            "max_width": null,
            "order": null,
            "_view_module_version": "1.2.0",
            "grid_template_areas": null,
            "object_position": null,
            "object_fit": null,
            "grid_auto_columns": null,
            "margin": null,
            "display": null,
            "left": null
          }
        },
        "245fad3764fe4116baf0d9dd6f12de6d": {
          "model_module": "@jupyter-widgets/controls",
          "model_name": "HBoxModel",
          "state": {
            "_view_name": "HBoxView",
            "_dom_classes": [],
            "_model_name": "HBoxModel",
            "_view_module": "@jupyter-widgets/controls",
            "_model_module_version": "1.5.0",
            "_view_count": null,
            "_view_module_version": "1.5.0",
            "box_style": "",
            "layout": "IPY_MODEL_0bfc67504d2b44ceb95acc1f9d852309",
            "_model_module": "@jupyter-widgets/controls",
            "children": [
              "IPY_MODEL_665461a08dae4596abc71977b700734f",
              "IPY_MODEL_65dc106fe9574d16ace6f9e7db368709"
            ]
          }
        },
        "0bfc67504d2b44ceb95acc1f9d852309": {
          "model_module": "@jupyter-widgets/base",
          "model_name": "LayoutModel",
          "state": {
            "_view_name": "LayoutView",
            "grid_template_rows": null,
            "right": null,
            "justify_content": null,
            "_view_module": "@jupyter-widgets/base",
            "overflow": null,
            "_model_module_version": "1.2.0",
            "_view_count": null,
            "flex_flow": null,
            "width": null,
            "min_width": null,
            "border": null,
            "align_items": null,
            "bottom": null,
            "_model_module": "@jupyter-widgets/base",
            "top": null,
            "grid_column": null,
            "overflow_y": null,
            "overflow_x": null,
            "grid_auto_flow": null,
            "grid_area": null,
            "grid_template_columns": null,
            "flex": null,
            "_model_name": "LayoutModel",
            "justify_items": null,
            "grid_row": null,
            "max_height": null,
            "align_content": null,
            "visibility": null,
            "align_self": null,
            "height": null,
            "min_height": null,
            "padding": null,
            "grid_auto_rows": null,
            "grid_gap": null,
            "max_width": null,
            "order": null,
            "_view_module_version": "1.2.0",
            "grid_template_areas": null,
            "object_position": null,
            "object_fit": null,
            "grid_auto_columns": null,
            "margin": null,
            "display": null,
            "left": null
          }
        },
        "665461a08dae4596abc71977b700734f": {
          "model_module": "@jupyter-widgets/controls",
          "model_name": "IntProgressModel",
          "state": {
            "_view_name": "ProgressView",
            "style": "IPY_MODEL_d1b0d0677af247d182d7aca74f71dda6",
            "_dom_classes": [],
            "description": "",
            "_model_name": "IntProgressModel",
            "bar_style": "success",
            "max": 1,
            "_view_module": "@jupyter-widgets/controls",
            "_model_module_version": "1.5.0",
            "value": 1,
            "_view_count": null,
            "_view_module_version": "1.5.0",
            "orientation": "horizontal",
            "min": 0,
            "description_tooltip": null,
            "_model_module": "@jupyter-widgets/controls",
            "layout": "IPY_MODEL_02bad5908edd4b239eb9b04dc40f8d22"
          }
        },
        "65dc106fe9574d16ace6f9e7db368709": {
          "model_module": "@jupyter-widgets/controls",
          "model_name": "HTMLModel",
          "state": {
            "_view_name": "HTMLView",
            "style": "IPY_MODEL_07a9894617ad49909ffff3f85f7758fb",
            "_dom_classes": [],
            "description": "",
            "_model_name": "HTMLModel",
            "placeholder": "​",
            "_view_module": "@jupyter-widgets/controls",
            "_model_module_version": "1.5.0",
            "value": " 32768/? [00:00&lt;00:00, 120950.60it/s]",
            "_view_count": null,
            "_view_module_version": "1.5.0",
            "description_tooltip": null,
            "_model_module": "@jupyter-widgets/controls",
            "layout": "IPY_MODEL_3e4454243517457fb7eddcafc67fd441"
          }
        },
        "d1b0d0677af247d182d7aca74f71dda6": {
          "model_module": "@jupyter-widgets/controls",
          "model_name": "ProgressStyleModel",
          "state": {
            "_view_name": "StyleView",
            "_model_name": "ProgressStyleModel",
            "description_width": "initial",
            "_view_module": "@jupyter-widgets/base",
            "_model_module_version": "1.5.0",
            "_view_count": null,
            "_view_module_version": "1.2.0",
            "bar_color": null,
            "_model_module": "@jupyter-widgets/controls"
          }
        },
        "02bad5908edd4b239eb9b04dc40f8d22": {
          "model_module": "@jupyter-widgets/base",
          "model_name": "LayoutModel",
          "state": {
            "_view_name": "LayoutView",
            "grid_template_rows": null,
            "right": null,
            "justify_content": null,
            "_view_module": "@jupyter-widgets/base",
            "overflow": null,
            "_model_module_version": "1.2.0",
            "_view_count": null,
            "flex_flow": null,
            "width": null,
            "min_width": null,
            "border": null,
            "align_items": null,
            "bottom": null,
            "_model_module": "@jupyter-widgets/base",
            "top": null,
            "grid_column": null,
            "overflow_y": null,
            "overflow_x": null,
            "grid_auto_flow": null,
            "grid_area": null,
            "grid_template_columns": null,
            "flex": null,
            "_model_name": "LayoutModel",
            "justify_items": null,
            "grid_row": null,
            "max_height": null,
            "align_content": null,
            "visibility": null,
            "align_self": null,
            "height": null,
            "min_height": null,
            "padding": null,
            "grid_auto_rows": null,
            "grid_gap": null,
            "max_width": null,
            "order": null,
            "_view_module_version": "1.2.0",
            "grid_template_areas": null,
            "object_position": null,
            "object_fit": null,
            "grid_auto_columns": null,
            "margin": null,
            "display": null,
            "left": null
          }
        },
        "07a9894617ad49909ffff3f85f7758fb": {
          "model_module": "@jupyter-widgets/controls",
          "model_name": "DescriptionStyleModel",
          "state": {
            "_view_name": "StyleView",
            "_model_name": "DescriptionStyleModel",
            "description_width": "",
            "_view_module": "@jupyter-widgets/base",
            "_model_module_version": "1.5.0",
            "_view_count": null,
            "_view_module_version": "1.2.0",
            "_model_module": "@jupyter-widgets/controls"
          }
        },
        "3e4454243517457fb7eddcafc67fd441": {
          "model_module": "@jupyter-widgets/base",
          "model_name": "LayoutModel",
          "state": {
            "_view_name": "LayoutView",
            "grid_template_rows": null,
            "right": null,
            "justify_content": null,
            "_view_module": "@jupyter-widgets/base",
            "overflow": null,
            "_model_module_version": "1.2.0",
            "_view_count": null,
            "flex_flow": null,
            "width": null,
            "min_width": null,
            "border": null,
            "align_items": null,
            "bottom": null,
            "_model_module": "@jupyter-widgets/base",
            "top": null,
            "grid_column": null,
            "overflow_y": null,
            "overflow_x": null,
            "grid_auto_flow": null,
            "grid_area": null,
            "grid_template_columns": null,
            "flex": null,
            "_model_name": "LayoutModel",
            "justify_items": null,
            "grid_row": null,
            "max_height": null,
            "align_content": null,
            "visibility": null,
            "align_self": null,
            "height": null,
            "min_height": null,
            "padding": null,
            "grid_auto_rows": null,
            "grid_gap": null,
            "max_width": null,
            "order": null,
            "_view_module_version": "1.2.0",
            "grid_template_areas": null,
            "object_position": null,
            "object_fit": null,
            "grid_auto_columns": null,
            "margin": null,
            "display": null,
            "left": null
          }
        },
        "c0a54fc9551e4708bde52d56bf97e09d": {
          "model_module": "@jupyter-widgets/controls",
          "model_name": "HBoxModel",
          "state": {
            "_view_name": "HBoxView",
            "_dom_classes": [],
            "_model_name": "HBoxModel",
            "_view_module": "@jupyter-widgets/controls",
            "_model_module_version": "1.5.0",
            "_view_count": null,
            "_view_module_version": "1.5.0",
            "box_style": "",
            "layout": "IPY_MODEL_4d25454fcd31438298035f304eaab4be",
            "_model_module": "@jupyter-widgets/controls",
            "children": [
              "IPY_MODEL_09dc8f14ee4b48128b36f21b326c7a76",
              "IPY_MODEL_a0c04941128b448cbbe3539a0f39b8bb"
            ]
          }
        },
        "4d25454fcd31438298035f304eaab4be": {
          "model_module": "@jupyter-widgets/base",
          "model_name": "LayoutModel",
          "state": {
            "_view_name": "LayoutView",
            "grid_template_rows": null,
            "right": null,
            "justify_content": null,
            "_view_module": "@jupyter-widgets/base",
            "overflow": null,
            "_model_module_version": "1.2.0",
            "_view_count": null,
            "flex_flow": null,
            "width": null,
            "min_width": null,
            "border": null,
            "align_items": null,
            "bottom": null,
            "_model_module": "@jupyter-widgets/base",
            "top": null,
            "grid_column": null,
            "overflow_y": null,
            "overflow_x": null,
            "grid_auto_flow": null,
            "grid_area": null,
            "grid_template_columns": null,
            "flex": null,
            "_model_name": "LayoutModel",
            "justify_items": null,
            "grid_row": null,
            "max_height": null,
            "align_content": null,
            "visibility": null,
            "align_self": null,
            "height": null,
            "min_height": null,
            "padding": null,
            "grid_auto_rows": null,
            "grid_gap": null,
            "max_width": null,
            "order": null,
            "_view_module_version": "1.2.0",
            "grid_template_areas": null,
            "object_position": null,
            "object_fit": null,
            "grid_auto_columns": null,
            "margin": null,
            "display": null,
            "left": null
          }
        },
        "09dc8f14ee4b48128b36f21b326c7a76": {
          "model_module": "@jupyter-widgets/controls",
          "model_name": "IntProgressModel",
          "state": {
            "_view_name": "ProgressView",
            "style": "IPY_MODEL_bcc2471f74924048b1fe1f9be303aa6b",
            "_dom_classes": [],
            "description": "",
            "_model_name": "IntProgressModel",
            "bar_style": "success",
            "max": 1,
            "_view_module": "@jupyter-widgets/controls",
            "_model_module_version": "1.5.0",
            "value": 1,
            "_view_count": null,
            "_view_module_version": "1.5.0",
            "orientation": "horizontal",
            "min": 0,
            "description_tooltip": null,
            "_model_module": "@jupyter-widgets/controls",
            "layout": "IPY_MODEL_13a306fd261743d8890d3c91a9d71a36"
          }
        },
        "a0c04941128b448cbbe3539a0f39b8bb": {
          "model_module": "@jupyter-widgets/controls",
          "model_name": "HTMLModel",
          "state": {
            "_view_name": "HTMLView",
            "style": "IPY_MODEL_75427fc7a91241c5bd24610fa7156e41",
            "_dom_classes": [],
            "description": "",
            "_model_name": "HTMLModel",
            "placeholder": "​",
            "_view_module": "@jupyter-widgets/controls",
            "_model_module_version": "1.5.0",
            "value": " 1654784/? [00:04&lt;00:00, 358507.07it/s]",
            "_view_count": null,
            "_view_module_version": "1.5.0",
            "description_tooltip": null,
            "_model_module": "@jupyter-widgets/controls",
            "layout": "IPY_MODEL_46b81984dcc64832863127ff445722d2"
          }
        },
        "bcc2471f74924048b1fe1f9be303aa6b": {
          "model_module": "@jupyter-widgets/controls",
          "model_name": "ProgressStyleModel",
          "state": {
            "_view_name": "StyleView",
            "_model_name": "ProgressStyleModel",
            "description_width": "initial",
            "_view_module": "@jupyter-widgets/base",
            "_model_module_version": "1.5.0",
            "_view_count": null,
            "_view_module_version": "1.2.0",
            "bar_color": null,
            "_model_module": "@jupyter-widgets/controls"
          }
        },
        "13a306fd261743d8890d3c91a9d71a36": {
          "model_module": "@jupyter-widgets/base",
          "model_name": "LayoutModel",
          "state": {
            "_view_name": "LayoutView",
            "grid_template_rows": null,
            "right": null,
            "justify_content": null,
            "_view_module": "@jupyter-widgets/base",
            "overflow": null,
            "_model_module_version": "1.2.0",
            "_view_count": null,
            "flex_flow": null,
            "width": null,
            "min_width": null,
            "border": null,
            "align_items": null,
            "bottom": null,
            "_model_module": "@jupyter-widgets/base",
            "top": null,
            "grid_column": null,
            "overflow_y": null,
            "overflow_x": null,
            "grid_auto_flow": null,
            "grid_area": null,
            "grid_template_columns": null,
            "flex": null,
            "_model_name": "LayoutModel",
            "justify_items": null,
            "grid_row": null,
            "max_height": null,
            "align_content": null,
            "visibility": null,
            "align_self": null,
            "height": null,
            "min_height": null,
            "padding": null,
            "grid_auto_rows": null,
            "grid_gap": null,
            "max_width": null,
            "order": null,
            "_view_module_version": "1.2.0",
            "grid_template_areas": null,
            "object_position": null,
            "object_fit": null,
            "grid_auto_columns": null,
            "margin": null,
            "display": null,
            "left": null
          }
        },
        "75427fc7a91241c5bd24610fa7156e41": {
          "model_module": "@jupyter-widgets/controls",
          "model_name": "DescriptionStyleModel",
          "state": {
            "_view_name": "StyleView",
            "_model_name": "DescriptionStyleModel",
            "description_width": "",
            "_view_module": "@jupyter-widgets/base",
            "_model_module_version": "1.5.0",
            "_view_count": null,
            "_view_module_version": "1.2.0",
            "_model_module": "@jupyter-widgets/controls"
          }
        },
        "46b81984dcc64832863127ff445722d2": {
          "model_module": "@jupyter-widgets/base",
          "model_name": "LayoutModel",
          "state": {
            "_view_name": "LayoutView",
            "grid_template_rows": null,
            "right": null,
            "justify_content": null,
            "_view_module": "@jupyter-widgets/base",
            "overflow": null,
            "_model_module_version": "1.2.0",
            "_view_count": null,
            "flex_flow": null,
            "width": null,
            "min_width": null,
            "border": null,
            "align_items": null,
            "bottom": null,
            "_model_module": "@jupyter-widgets/base",
            "top": null,
            "grid_column": null,
            "overflow_y": null,
            "overflow_x": null,
            "grid_auto_flow": null,
            "grid_area": null,
            "grid_template_columns": null,
            "flex": null,
            "_model_name": "LayoutModel",
            "justify_items": null,
            "grid_row": null,
            "max_height": null,
            "align_content": null,
            "visibility": null,
            "align_self": null,
            "height": null,
            "min_height": null,
            "padding": null,
            "grid_auto_rows": null,
            "grid_gap": null,
            "max_width": null,
            "order": null,
            "_view_module_version": "1.2.0",
            "grid_template_areas": null,
            "object_position": null,
            "object_fit": null,
            "grid_auto_columns": null,
            "margin": null,
            "display": null,
            "left": null
          }
        },
        "cf4a98a1afb44ec781d5acf24b086b8a": {
          "model_module": "@jupyter-widgets/controls",
          "model_name": "HBoxModel",
          "state": {
            "_view_name": "HBoxView",
            "_dom_classes": [],
            "_model_name": "HBoxModel",
            "_view_module": "@jupyter-widgets/controls",
            "_model_module_version": "1.5.0",
            "_view_count": null,
            "_view_module_version": "1.5.0",
            "box_style": "",
            "layout": "IPY_MODEL_f6ecbf746b1d427686c42baf3a97391f",
            "_model_module": "@jupyter-widgets/controls",
            "children": [
              "IPY_MODEL_f6b57f11d983406b995e7c054251db48",
              "IPY_MODEL_65ac900fbe44443d83466c2179191572"
            ]
          }
        },
        "f6ecbf746b1d427686c42baf3a97391f": {
          "model_module": "@jupyter-widgets/base",
          "model_name": "LayoutModel",
          "state": {
            "_view_name": "LayoutView",
            "grid_template_rows": null,
            "right": null,
            "justify_content": null,
            "_view_module": "@jupyter-widgets/base",
            "overflow": null,
            "_model_module_version": "1.2.0",
            "_view_count": null,
            "flex_flow": null,
            "width": null,
            "min_width": null,
            "border": null,
            "align_items": null,
            "bottom": null,
            "_model_module": "@jupyter-widgets/base",
            "top": null,
            "grid_column": null,
            "overflow_y": null,
            "overflow_x": null,
            "grid_auto_flow": null,
            "grid_area": null,
            "grid_template_columns": null,
            "flex": null,
            "_model_name": "LayoutModel",
            "justify_items": null,
            "grid_row": null,
            "max_height": null,
            "align_content": null,
            "visibility": null,
            "align_self": null,
            "height": null,
            "min_height": null,
            "padding": null,
            "grid_auto_rows": null,
            "grid_gap": null,
            "max_width": null,
            "order": null,
            "_view_module_version": "1.2.0",
            "grid_template_areas": null,
            "object_position": null,
            "object_fit": null,
            "grid_auto_columns": null,
            "margin": null,
            "display": null,
            "left": null
          }
        },
        "f6b57f11d983406b995e7c054251db48": {
          "model_module": "@jupyter-widgets/controls",
          "model_name": "IntProgressModel",
          "state": {
            "_view_name": "ProgressView",
            "style": "IPY_MODEL_2d065c21009f4cd6ab525e06ecb0d50a",
            "_dom_classes": [],
            "description": "",
            "_model_name": "IntProgressModel",
            "bar_style": "success",
            "max": 1,
            "_view_module": "@jupyter-widgets/controls",
            "_model_module_version": "1.5.0",
            "value": 1,
            "_view_count": null,
            "_view_module_version": "1.5.0",
            "orientation": "horizontal",
            "min": 0,
            "description_tooltip": null,
            "_model_module": "@jupyter-widgets/controls",
            "layout": "IPY_MODEL_82d9c59106384f70b75d34e87042e44b"
          }
        },
        "65ac900fbe44443d83466c2179191572": {
          "model_module": "@jupyter-widgets/controls",
          "model_name": "HTMLModel",
          "state": {
            "_view_name": "HTMLView",
            "style": "IPY_MODEL_f86a406963c84ce791b6643c3f287e34",
            "_dom_classes": [],
            "description": "",
            "_model_name": "HTMLModel",
            "placeholder": "​",
            "_view_module": "@jupyter-widgets/controls",
            "_model_module_version": "1.5.0",
            "value": " 8192/? [00:03&lt;00:00, 2158.96it/s]",
            "_view_count": null,
            "_view_module_version": "1.5.0",
            "description_tooltip": null,
            "_model_module": "@jupyter-widgets/controls",
            "layout": "IPY_MODEL_b1898bcc89944ef7b1b415a1ea3329bc"
          }
        },
        "2d065c21009f4cd6ab525e06ecb0d50a": {
          "model_module": "@jupyter-widgets/controls",
          "model_name": "ProgressStyleModel",
          "state": {
            "_view_name": "StyleView",
            "_model_name": "ProgressStyleModel",
            "description_width": "initial",
            "_view_module": "@jupyter-widgets/base",
            "_model_module_version": "1.5.0",
            "_view_count": null,
            "_view_module_version": "1.2.0",
            "bar_color": null,
            "_model_module": "@jupyter-widgets/controls"
          }
        },
        "82d9c59106384f70b75d34e87042e44b": {
          "model_module": "@jupyter-widgets/base",
          "model_name": "LayoutModel",
          "state": {
            "_view_name": "LayoutView",
            "grid_template_rows": null,
            "right": null,
            "justify_content": null,
            "_view_module": "@jupyter-widgets/base",
            "overflow": null,
            "_model_module_version": "1.2.0",
            "_view_count": null,
            "flex_flow": null,
            "width": null,
            "min_width": null,
            "border": null,
            "align_items": null,
            "bottom": null,
            "_model_module": "@jupyter-widgets/base",
            "top": null,
            "grid_column": null,
            "overflow_y": null,
            "overflow_x": null,
            "grid_auto_flow": null,
            "grid_area": null,
            "grid_template_columns": null,
            "flex": null,
            "_model_name": "LayoutModel",
            "justify_items": null,
            "grid_row": null,
            "max_height": null,
            "align_content": null,
            "visibility": null,
            "align_self": null,
            "height": null,
            "min_height": null,
            "padding": null,
            "grid_auto_rows": null,
            "grid_gap": null,
            "max_width": null,
            "order": null,
            "_view_module_version": "1.2.0",
            "grid_template_areas": null,
            "object_position": null,
            "object_fit": null,
            "grid_auto_columns": null,
            "margin": null,
            "display": null,
            "left": null
          }
        },
        "f86a406963c84ce791b6643c3f287e34": {
          "model_module": "@jupyter-widgets/controls",
          "model_name": "DescriptionStyleModel",
          "state": {
            "_view_name": "StyleView",
            "_model_name": "DescriptionStyleModel",
            "description_width": "",
            "_view_module": "@jupyter-widgets/base",
            "_model_module_version": "1.5.0",
            "_view_count": null,
            "_view_module_version": "1.2.0",
            "_model_module": "@jupyter-widgets/controls"
          }
        },
        "b1898bcc89944ef7b1b415a1ea3329bc": {
          "model_module": "@jupyter-widgets/base",
          "model_name": "LayoutModel",
          "state": {
            "_view_name": "LayoutView",
            "grid_template_rows": null,
            "right": null,
            "justify_content": null,
            "_view_module": "@jupyter-widgets/base",
            "overflow": null,
            "_model_module_version": "1.2.0",
            "_view_count": null,
            "flex_flow": null,
            "width": null,
            "min_width": null,
            "border": null,
            "align_items": null,
            "bottom": null,
            "_model_module": "@jupyter-widgets/base",
            "top": null,
            "grid_column": null,
            "overflow_y": null,
            "overflow_x": null,
            "grid_auto_flow": null,
            "grid_area": null,
            "grid_template_columns": null,
            "flex": null,
            "_model_name": "LayoutModel",
            "justify_items": null,
            "grid_row": null,
            "max_height": null,
            "align_content": null,
            "visibility": null,
            "align_self": null,
            "height": null,
            "min_height": null,
            "padding": null,
            "grid_auto_rows": null,
            "grid_gap": null,
            "max_width": null,
            "order": null,
            "_view_module_version": "1.2.0",
            "grid_template_areas": null,
            "object_position": null,
            "object_fit": null,
            "grid_auto_columns": null,
            "margin": null,
            "display": null,
            "left": null
          }
        },
        "2260a422a5a8457c9e856d5839246ae7": {
          "model_module": "@jupyter-widgets/controls",
          "model_name": "HBoxModel",
          "state": {
            "_view_name": "HBoxView",
            "_dom_classes": [],
            "_model_name": "HBoxModel",
            "_view_module": "@jupyter-widgets/controls",
            "_model_module_version": "1.5.0",
            "_view_count": null,
            "_view_module_version": "1.5.0",
            "box_style": "",
            "layout": "IPY_MODEL_2ded320728bb427ab3fac6d78aecd41a",
            "_model_module": "@jupyter-widgets/controls",
            "children": [
              "IPY_MODEL_f76caf3560154f9896a724a8e2e3601d",
              "IPY_MODEL_e1e5969f9467457c88d83690d5f49462"
            ]
          }
        },
        "2ded320728bb427ab3fac6d78aecd41a": {
          "model_module": "@jupyter-widgets/base",
          "model_name": "LayoutModel",
          "state": {
            "_view_name": "LayoutView",
            "grid_template_rows": null,
            "right": null,
            "justify_content": null,
            "_view_module": "@jupyter-widgets/base",
            "overflow": null,
            "_model_module_version": "1.2.0",
            "_view_count": null,
            "flex_flow": null,
            "width": null,
            "min_width": null,
            "border": null,
            "align_items": null,
            "bottom": null,
            "_model_module": "@jupyter-widgets/base",
            "top": null,
            "grid_column": null,
            "overflow_y": null,
            "overflow_x": null,
            "grid_auto_flow": null,
            "grid_area": null,
            "grid_template_columns": null,
            "flex": null,
            "_model_name": "LayoutModel",
            "justify_items": null,
            "grid_row": null,
            "max_height": null,
            "align_content": null,
            "visibility": null,
            "align_self": null,
            "height": null,
            "min_height": null,
            "padding": null,
            "grid_auto_rows": null,
            "grid_gap": null,
            "max_width": null,
            "order": null,
            "_view_module_version": "1.2.0",
            "grid_template_areas": null,
            "object_position": null,
            "object_fit": null,
            "grid_auto_columns": null,
            "margin": null,
            "display": null,
            "left": null
          }
        },
        "f76caf3560154f9896a724a8e2e3601d": {
          "model_module": "@jupyter-widgets/controls",
          "model_name": "IntProgressModel",
          "state": {
            "_view_name": "ProgressView",
            "style": "IPY_MODEL_0897549ae291457192680912934ff1f8",
            "_dom_classes": [],
            "description": "",
            "_model_name": "IntProgressModel",
            "bar_style": "success",
            "max": 1,
            "_view_module": "@jupyter-widgets/controls",
            "_model_module_version": "1.5.0",
            "value": 1,
            "_view_count": null,
            "_view_module_version": "1.5.0",
            "orientation": "horizontal",
            "min": 0,
            "description_tooltip": null,
            "_model_module": "@jupyter-widgets/controls",
            "layout": "IPY_MODEL_3e8a85529f51459ea426c55678a1c840"
          }
        },
        "e1e5969f9467457c88d83690d5f49462": {
          "model_module": "@jupyter-widgets/controls",
          "model_name": "HTMLModel",
          "state": {
            "_view_name": "HTMLView",
            "style": "IPY_MODEL_209b3ecd0115431486163bac027759a3",
            "_dom_classes": [],
            "description": "",
            "_model_name": "HTMLModel",
            "placeholder": "​",
            "_view_module": "@jupyter-widgets/controls",
            "_model_module_version": "1.5.0",
            "value": " 6586368/? [00:03&lt;00:00, 1889268.75it/s]",
            "_view_count": null,
            "_view_module_version": "1.5.0",
            "description_tooltip": null,
            "_model_module": "@jupyter-widgets/controls",
            "layout": "IPY_MODEL_4e2149c414dc4ef5a4b3a245ed1c5ce2"
          }
        },
        "0897549ae291457192680912934ff1f8": {
          "model_module": "@jupyter-widgets/controls",
          "model_name": "ProgressStyleModel",
          "state": {
            "_view_name": "StyleView",
            "_model_name": "ProgressStyleModel",
            "description_width": "initial",
            "_view_module": "@jupyter-widgets/base",
            "_model_module_version": "1.5.0",
            "_view_count": null,
            "_view_module_version": "1.2.0",
            "bar_color": null,
            "_model_module": "@jupyter-widgets/controls"
          }
        },
        "3e8a85529f51459ea426c55678a1c840": {
          "model_module": "@jupyter-widgets/base",
          "model_name": "LayoutModel",
          "state": {
            "_view_name": "LayoutView",
            "grid_template_rows": null,
            "right": null,
            "justify_content": null,
            "_view_module": "@jupyter-widgets/base",
            "overflow": null,
            "_model_module_version": "1.2.0",
            "_view_count": null,
            "flex_flow": null,
            "width": null,
            "min_width": null,
            "border": null,
            "align_items": null,
            "bottom": null,
            "_model_module": "@jupyter-widgets/base",
            "top": null,
            "grid_column": null,
            "overflow_y": null,
            "overflow_x": null,
            "grid_auto_flow": null,
            "grid_area": null,
            "grid_template_columns": null,
            "flex": null,
            "_model_name": "LayoutModel",
            "justify_items": null,
            "grid_row": null,
            "max_height": null,
            "align_content": null,
            "visibility": null,
            "align_self": null,
            "height": null,
            "min_height": null,
            "padding": null,
            "grid_auto_rows": null,
            "grid_gap": null,
            "max_width": null,
            "order": null,
            "_view_module_version": "1.2.0",
            "grid_template_areas": null,
            "object_position": null,
            "object_fit": null,
            "grid_auto_columns": null,
            "margin": null,
            "display": null,
            "left": null
          }
        },
        "209b3ecd0115431486163bac027759a3": {
          "model_module": "@jupyter-widgets/controls",
          "model_name": "DescriptionStyleModel",
          "state": {
            "_view_name": "StyleView",
            "_model_name": "DescriptionStyleModel",
            "description_width": "",
            "_view_module": "@jupyter-widgets/base",
            "_model_module_version": "1.5.0",
            "_view_count": null,
            "_view_module_version": "1.2.0",
            "_model_module": "@jupyter-widgets/controls"
          }
        },
        "4e2149c414dc4ef5a4b3a245ed1c5ce2": {
          "model_module": "@jupyter-widgets/base",
          "model_name": "LayoutModel",
          "state": {
            "_view_name": "LayoutView",
            "grid_template_rows": null,
            "right": null,
            "justify_content": null,
            "_view_module": "@jupyter-widgets/base",
            "overflow": null,
            "_model_module_version": "1.2.0",
            "_view_count": null,
            "flex_flow": null,
            "width": null,
            "min_width": null,
            "border": null,
            "align_items": null,
            "bottom": null,
            "_model_module": "@jupyter-widgets/base",
            "top": null,
            "grid_column": null,
            "overflow_y": null,
            "overflow_x": null,
            "grid_auto_flow": null,
            "grid_area": null,
            "grid_template_columns": null,
            "flex": null,
            "_model_name": "LayoutModel",
            "justify_items": null,
            "grid_row": null,
            "max_height": null,
            "align_content": null,
            "visibility": null,
            "align_self": null,
            "height": null,
            "min_height": null,
            "padding": null,
            "grid_auto_rows": null,
            "grid_gap": null,
            "max_width": null,
            "order": null,
            "_view_module_version": "1.2.0",
            "grid_template_areas": null,
            "object_position": null,
            "object_fit": null,
            "grid_auto_columns": null,
            "margin": null,
            "display": null,
            "left": null
          }
        },
        "1711995a750c4fc8a896035ce944ece1": {
          "model_module": "@jupyter-widgets/controls",
          "model_name": "HBoxModel",
          "state": {
            "_view_name": "HBoxView",
            "_dom_classes": [],
            "_model_name": "HBoxModel",
            "_view_module": "@jupyter-widgets/controls",
            "_model_module_version": "1.5.0",
            "_view_count": null,
            "_view_module_version": "1.5.0",
            "box_style": "",
            "layout": "IPY_MODEL_fa20ea833fc3410e92bf4954dfe3c5b6",
            "_model_module": "@jupyter-widgets/controls",
            "children": [
              "IPY_MODEL_d6feeef29c38469e95799f02a07e1d51",
              "IPY_MODEL_616d4ffcb34244e2b4e61c9fdd8b2021"
            ]
          }
        },
        "fa20ea833fc3410e92bf4954dfe3c5b6": {
          "model_module": "@jupyter-widgets/base",
          "model_name": "LayoutModel",
          "state": {
            "_view_name": "LayoutView",
            "grid_template_rows": null,
            "right": null,
            "justify_content": null,
            "_view_module": "@jupyter-widgets/base",
            "overflow": null,
            "_model_module_version": "1.2.0",
            "_view_count": null,
            "flex_flow": null,
            "width": null,
            "min_width": null,
            "border": null,
            "align_items": null,
            "bottom": null,
            "_model_module": "@jupyter-widgets/base",
            "top": null,
            "grid_column": null,
            "overflow_y": null,
            "overflow_x": null,
            "grid_auto_flow": null,
            "grid_area": null,
            "grid_template_columns": null,
            "flex": null,
            "_model_name": "LayoutModel",
            "justify_items": null,
            "grid_row": null,
            "max_height": null,
            "align_content": null,
            "visibility": null,
            "align_self": null,
            "height": null,
            "min_height": null,
            "padding": null,
            "grid_auto_rows": null,
            "grid_gap": null,
            "max_width": null,
            "order": null,
            "_view_module_version": "1.2.0",
            "grid_template_areas": null,
            "object_position": null,
            "object_fit": null,
            "grid_auto_columns": null,
            "margin": null,
            "display": null,
            "left": null
          }
        },
        "d6feeef29c38469e95799f02a07e1d51": {
          "model_module": "@jupyter-widgets/controls",
          "model_name": "IntProgressModel",
          "state": {
            "_view_name": "ProgressView",
            "style": "IPY_MODEL_c72bcc9407dd4c79a99c9c231466df62",
            "_dom_classes": [],
            "description": "",
            "_model_name": "IntProgressModel",
            "bar_style": "success",
            "max": 1,
            "_view_module": "@jupyter-widgets/controls",
            "_model_module_version": "1.5.0",
            "value": 1,
            "_view_count": null,
            "_view_module_version": "1.5.0",
            "orientation": "horizontal",
            "min": 0,
            "description_tooltip": null,
            "_model_module": "@jupyter-widgets/controls",
            "layout": "IPY_MODEL_e9ac843494a541399be36cf70d7e7326"
          }
        },
        "616d4ffcb34244e2b4e61c9fdd8b2021": {
          "model_module": "@jupyter-widgets/controls",
          "model_name": "HTMLModel",
          "state": {
            "_view_name": "HTMLView",
            "style": "IPY_MODEL_b22e9104717543b0a616d0227704c794",
            "_dom_classes": [],
            "description": "",
            "_model_name": "HTMLModel",
            "placeholder": "​",
            "_view_module": "@jupyter-widgets/controls",
            "_model_module_version": "1.5.0",
            "value": " 1835008/? [00:01&lt;00:00, 998019.72it/s]",
            "_view_count": null,
            "_view_module_version": "1.5.0",
            "description_tooltip": null,
            "_model_module": "@jupyter-widgets/controls",
            "layout": "IPY_MODEL_e8d1857fe914446f8ad8b4f420aa93bc"
          }
        },
        "c72bcc9407dd4c79a99c9c231466df62": {
          "model_module": "@jupyter-widgets/controls",
          "model_name": "ProgressStyleModel",
          "state": {
            "_view_name": "StyleView",
            "_model_name": "ProgressStyleModel",
            "description_width": "initial",
            "_view_module": "@jupyter-widgets/base",
            "_model_module_version": "1.5.0",
            "_view_count": null,
            "_view_module_version": "1.2.0",
            "bar_color": null,
            "_model_module": "@jupyter-widgets/controls"
          }
        },
        "e9ac843494a541399be36cf70d7e7326": {
          "model_module": "@jupyter-widgets/base",
          "model_name": "LayoutModel",
          "state": {
            "_view_name": "LayoutView",
            "grid_template_rows": null,
            "right": null,
            "justify_content": null,
            "_view_module": "@jupyter-widgets/base",
            "overflow": null,
            "_model_module_version": "1.2.0",
            "_view_count": null,
            "flex_flow": null,
            "width": null,
            "min_width": null,
            "border": null,
            "align_items": null,
            "bottom": null,
            "_model_module": "@jupyter-widgets/base",
            "top": null,
            "grid_column": null,
            "overflow_y": null,
            "overflow_x": null,
            "grid_auto_flow": null,
            "grid_area": null,
            "grid_template_columns": null,
            "flex": null,
            "_model_name": "LayoutModel",
            "justify_items": null,
            "grid_row": null,
            "max_height": null,
            "align_content": null,
            "visibility": null,
            "align_self": null,
            "height": null,
            "min_height": null,
            "padding": null,
            "grid_auto_rows": null,
            "grid_gap": null,
            "max_width": null,
            "order": null,
            "_view_module_version": "1.2.0",
            "grid_template_areas": null,
            "object_position": null,
            "object_fit": null,
            "grid_auto_columns": null,
            "margin": null,
            "display": null,
            "left": null
          }
        },
        "b22e9104717543b0a616d0227704c794": {
          "model_module": "@jupyter-widgets/controls",
          "model_name": "DescriptionStyleModel",
          "state": {
            "_view_name": "StyleView",
            "_model_name": "DescriptionStyleModel",
            "description_width": "",
            "_view_module": "@jupyter-widgets/base",
            "_model_module_version": "1.5.0",
            "_view_count": null,
            "_view_module_version": "1.2.0",
            "_model_module": "@jupyter-widgets/controls"
          }
        },
        "e8d1857fe914446f8ad8b4f420aa93bc": {
          "model_module": "@jupyter-widgets/base",
          "model_name": "LayoutModel",
          "state": {
            "_view_name": "LayoutView",
            "grid_template_rows": null,
            "right": null,
            "justify_content": null,
            "_view_module": "@jupyter-widgets/base",
            "overflow": null,
            "_model_module_version": "1.2.0",
            "_view_count": null,
            "flex_flow": null,
            "width": null,
            "min_width": null,
            "border": null,
            "align_items": null,
            "bottom": null,
            "_model_module": "@jupyter-widgets/base",
            "top": null,
            "grid_column": null,
            "overflow_y": null,
            "overflow_x": null,
            "grid_auto_flow": null,
            "grid_area": null,
            "grid_template_columns": null,
            "flex": null,
            "_model_name": "LayoutModel",
            "justify_items": null,
            "grid_row": null,
            "max_height": null,
            "align_content": null,
            "visibility": null,
            "align_self": null,
            "height": null,
            "min_height": null,
            "padding": null,
            "grid_auto_rows": null,
            "grid_gap": null,
            "max_width": null,
            "order": null,
            "_view_module_version": "1.2.0",
            "grid_template_areas": null,
            "object_position": null,
            "object_fit": null,
            "grid_auto_columns": null,
            "margin": null,
            "display": null,
            "left": null
          }
        }
      }
    }
  },
  "cells": [
    {
      "cell_type": "markdown",
      "metadata": {
        "id": "view-in-github",
        "colab_type": "text"
      },
      "source": [
        "<a href=\"https://colab.research.google.com/github/cerezamo/dl_ensae2020/blob/master/TEST_USPS_MNIST_2.ipynb\" target=\"_parent\"><img src=\"https://colab.research.google.com/assets/colab-badge.svg\" alt=\"Open In Colab\"/></a>"
      ]
    },
    {
      "cell_type": "markdown",
      "metadata": {
        "id": "d3WozZiVqzTe",
        "colab_type": "text"
      },
      "source": [
        "# **Deep Learning - ENSAE 2020** "
      ]
    },
    {
      "cell_type": "markdown",
      "metadata": {
        "id": "ALiFm5zLOqV9",
        "colab_type": "text"
      },
      "source": [
        "In this notebook we undertake an Image-to-Image translation using the Cycle-GANs architecture. The first section uses a simple architecture proposed in the Cycle-GAN introductory [paper](https://arxiv.org/pdf/1703.10593.pdf) and its Pytorch implementation in the following [github](https://github.com/junyanz/pytorch-CycleGAN-and-pix2pix). The task is to translate from USPS to MNIST. Section 2 proposes improvements based on [(Martin Arjovsky et al., 2017)]() and computes a Wasserstein Cycle-GAN on the same task. Regarding the good results achieved with those two first methods, Section 3 increases (a lot) the tasks difficulty and tries to translate from two different collections of satellite imagery of the city of Alep in Syria.  "
      ]
    },
    {
      "cell_type": "markdown",
      "metadata": {
        "id": "vSTMrsRArdZM",
        "colab_type": "text"
      },
      "source": [
        "## **Cycle-Gans application** : from MNIST to USPS "
      ]
    },
    {
      "cell_type": "markdown",
      "metadata": {
        "id": "l11pGx3YrZ33",
        "colab_type": "text"
      },
      "source": [
        "### Import packages "
      ]
    },
    {
      "cell_type": "code",
      "metadata": {
        "id": "fo2xoAWXbQNk",
        "colab_type": "code",
        "colab": {}
      },
      "source": [
        "import torch\n",
        "import torch.nn as nn\n",
        "from torch.autograd import Variable\n",
        "from torch import optim\n",
        "import torchvision.utils as utils\n",
        "import torch.nn.functional as F\n",
        "import torch.utils as tutils\n",
        "from torchvision import datasets\n",
        "from torchvision import transforms\n",
        "import numpy as np\n",
        "from torchvision import datasets, models, transforms\n",
        "import os "
      ],
      "execution_count": 0,
      "outputs": []
    },
    {
      "cell_type": "markdown",
      "metadata": {
        "id": "0Nzv4stxsPBE",
        "colab_type": "text"
      },
      "source": [
        "This code is adapted from [yunjey](https://github.com/yunjey/) ,[yunjey](https://github.com/yunjey/mnist-svhn-transfer/blob/master/model.py) and the assignment proposed. "
      ]
    },
    {
      "cell_type": "markdown",
      "metadata": {
        "id": "VkJhQlnyd1pf",
        "colab_type": "text"
      },
      "source": [
        "### Download and construct loaders for USPS and Mnist"
      ]
    },
    {
      "cell_type": "code",
      "metadata": {
        "id": "zMntxDhzaCsX",
        "colab_type": "code",
        "colab": {}
      },
      "source": [
        "def get_loader_mnist(image_size,batch_size):\n",
        "  transform = transforms.Compose([\n",
        "                    transforms.CenterCrop(22),\n",
        "                    transforms.Resize(image_size),\n",
        "                    transforms.ToTensor(),\n",
        "                    transforms.Normalize((0.5,), (0.5,))\n",
        "                    ])\n",
        "  \n",
        "  mnist_train = datasets.MNIST(root='content/',download=True, transform = transform,train=True)\n",
        "  mnist_test = datasets.MNIST(root='content/',download=True, transform = transform,train=False)\n",
        "\n",
        "  train_loader = torch.utils.data.DataLoader(dataset=mnist_train,\n",
        "                                             batch_size=batch_size,\n",
        "                                             shuffle=True)\n",
        "  \n",
        "  test_loader = torch.utils.data.DataLoader(dataset=mnist_test,\n",
        "                                             batch_size=batch_size,\n",
        "                                             shuffle=False)\n",
        "  \n",
        "  return train_loader, test_loader "
      ],
      "execution_count": 0,
      "outputs": []
    },
    {
      "cell_type": "code",
      "metadata": {
        "id": "EBjkiheLeG5B",
        "colab_type": "code",
        "colab": {}
      },
      "source": [
        "def get_loader_usps(image_size,batch_size):\n",
        "  transform = transforms.Compose([\n",
        "                    transforms.Resize(image_size),\n",
        "                    transforms.ToTensor(),\n",
        "                    transforms.Normalize((0.5,), (0.5,))\n",
        "                    ])\n",
        "  \n",
        "  usps_train = datasets.USPS(root='content/',download=True, transform = transform,train=True)\n",
        "  usps_test = datasets.USPS(root='content/',download=True, transform = transform,train=False)\n",
        "\n",
        "  train_loader = torch.utils.data.DataLoader(dataset=usps_train,\n",
        "                                             batch_size=batch_size,\n",
        "                                             shuffle=True)\n",
        "  \n",
        "  test_loader = torch.utils.data.DataLoader(dataset=usps_test,\n",
        "                                             batch_size=batch_size,\n",
        "                                             shuffle=False)\n",
        "  \n",
        "  return train_loader, test_loader "
      ],
      "execution_count": 0,
      "outputs": []
    },
    {
      "cell_type": "code",
      "metadata": {
        "id": "NS9TtewDd0-7",
        "colab_type": "code",
        "outputId": "c8d1ab44-a917-4e18-90f8-003c304c75e6",
        "colab": {
          "base_uri": "https://localhost:8080/",
          "height": 365,
          "referenced_widgets": [
            "f823ca1206404e00a279001ecacd0b97",
            "ed3f76dae3eb4125b336ceb81944044f",
            "45c88074d8334416b8e71e2444e1abb2",
            "0d398b47aedd46ada5d4fb9a9942435d",
            "05d155ab41714b37a1b61fd3c0aeea57",
            "831af58efdcf41c1b447adc21b0dd8e2",
            "c5019079d3fd435fa2a9efa2a9c5cba5",
            "f0a2e3724ddf4dffa080d8b744962110",
            "245fad3764fe4116baf0d9dd6f12de6d",
            "0bfc67504d2b44ceb95acc1f9d852309",
            "665461a08dae4596abc71977b700734f",
            "65dc106fe9574d16ace6f9e7db368709",
            "d1b0d0677af247d182d7aca74f71dda6",
            "02bad5908edd4b239eb9b04dc40f8d22",
            "07a9894617ad49909ffff3f85f7758fb",
            "3e4454243517457fb7eddcafc67fd441",
            "c0a54fc9551e4708bde52d56bf97e09d",
            "4d25454fcd31438298035f304eaab4be",
            "09dc8f14ee4b48128b36f21b326c7a76",
            "a0c04941128b448cbbe3539a0f39b8bb",
            "bcc2471f74924048b1fe1f9be303aa6b",
            "13a306fd261743d8890d3c91a9d71a36",
            "75427fc7a91241c5bd24610fa7156e41",
            "46b81984dcc64832863127ff445722d2",
            "cf4a98a1afb44ec781d5acf24b086b8a",
            "f6ecbf746b1d427686c42baf3a97391f",
            "f6b57f11d983406b995e7c054251db48",
            "65ac900fbe44443d83466c2179191572",
            "2d065c21009f4cd6ab525e06ecb0d50a",
            "82d9c59106384f70b75d34e87042e44b",
            "f86a406963c84ce791b6643c3f287e34",
            "b1898bcc89944ef7b1b415a1ea3329bc"
          ]
        }
      },
      "source": [
        "M_train_loader, M_test_loader =get_loader_mnist(image_size,batch_size)"
      ],
      "execution_count": 0,
      "outputs": [
        {
          "output_type": "stream",
          "text": [
            "Downloading http://yann.lecun.com/exdb/mnist/train-images-idx3-ubyte.gz to content/MNIST/raw/train-images-idx3-ubyte.gz\n"
          ],
          "name": "stdout"
        },
        {
          "output_type": "display_data",
          "data": {
            "application/vnd.jupyter.widget-view+json": {
              "model_id": "f823ca1206404e00a279001ecacd0b97",
              "version_minor": 0,
              "version_major": 2
            },
            "text/plain": [
              "HBox(children=(IntProgress(value=1, bar_style='info', max=1), HTML(value='')))"
            ]
          },
          "metadata": {
            "tags": []
          }
        },
        {
          "output_type": "stream",
          "text": [
            "Extracting content/MNIST/raw/train-images-idx3-ubyte.gz to content/MNIST/raw\n",
            "Downloading http://yann.lecun.com/exdb/mnist/train-labels-idx1-ubyte.gz to content/MNIST/raw/train-labels-idx1-ubyte.gz\n"
          ],
          "name": "stdout"
        },
        {
          "output_type": "display_data",
          "data": {
            "application/vnd.jupyter.widget-view+json": {
              "model_id": "245fad3764fe4116baf0d9dd6f12de6d",
              "version_minor": 0,
              "version_major": 2
            },
            "text/plain": [
              "HBox(children=(IntProgress(value=1, bar_style='info', max=1), HTML(value='')))"
            ]
          },
          "metadata": {
            "tags": []
          }
        },
        {
          "output_type": "stream",
          "text": [
            "Extracting content/MNIST/raw/train-labels-idx1-ubyte.gz to content/MNIST/raw\n",
            "Downloading http://yann.lecun.com/exdb/mnist/t10k-images-idx3-ubyte.gz to content/MNIST/raw/t10k-images-idx3-ubyte.gz\n",
            "\n"
          ],
          "name": "stdout"
        },
        {
          "output_type": "display_data",
          "data": {
            "application/vnd.jupyter.widget-view+json": {
              "model_id": "c0a54fc9551e4708bde52d56bf97e09d",
              "version_minor": 0,
              "version_major": 2
            },
            "text/plain": [
              "HBox(children=(IntProgress(value=1, bar_style='info', max=1), HTML(value='')))"
            ]
          },
          "metadata": {
            "tags": []
          }
        },
        {
          "output_type": "stream",
          "text": [
            "Extracting content/MNIST/raw/t10k-images-idx3-ubyte.gz to content/MNIST/raw\n",
            "Downloading http://yann.lecun.com/exdb/mnist/t10k-labels-idx1-ubyte.gz to content/MNIST/raw/t10k-labels-idx1-ubyte.gz\n"
          ],
          "name": "stdout"
        },
        {
          "output_type": "display_data",
          "data": {
            "application/vnd.jupyter.widget-view+json": {
              "model_id": "cf4a98a1afb44ec781d5acf24b086b8a",
              "version_minor": 0,
              "version_major": 2
            },
            "text/plain": [
              "HBox(children=(IntProgress(value=1, bar_style='info', max=1), HTML(value='')))"
            ]
          },
          "metadata": {
            "tags": []
          }
        },
        {
          "output_type": "stream",
          "text": [
            "Extracting content/MNIST/raw/t10k-labels-idx1-ubyte.gz to content/MNIST/raw\n",
            "Processing...\n",
            "Done!\n"
          ],
          "name": "stdout"
        }
      ]
    },
    {
      "cell_type": "code",
      "metadata": {
        "id": "PWVC0H3Oaijj",
        "colab_type": "code",
        "outputId": "3d5adf85-d063-4108-e8ef-f8f82ecbc059",
        "colab": {
          "base_uri": "https://localhost:8080/",
          "height": 228,
          "referenced_widgets": [
            "2260a422a5a8457c9e856d5839246ae7",
            "2ded320728bb427ab3fac6d78aecd41a",
            "f76caf3560154f9896a724a8e2e3601d",
            "e1e5969f9467457c88d83690d5f49462",
            "0897549ae291457192680912934ff1f8",
            "3e8a85529f51459ea426c55678a1c840",
            "209b3ecd0115431486163bac027759a3",
            "4e2149c414dc4ef5a4b3a245ed1c5ce2",
            "1711995a750c4fc8a896035ce944ece1",
            "fa20ea833fc3410e92bf4954dfe3c5b6",
            "d6feeef29c38469e95799f02a07e1d51",
            "616d4ffcb34244e2b4e61c9fdd8b2021",
            "c72bcc9407dd4c79a99c9c231466df62",
            "e9ac843494a541399be36cf70d7e7326",
            "b22e9104717543b0a616d0227704c794",
            "e8d1857fe914446f8ad8b4f420aa93bc"
          ]
        }
      },
      "source": [
        "U_train_loader, U_test_loader =get_loader_usps(image_size,batch_size)"
      ],
      "execution_count": 0,
      "outputs": [
        {
          "output_type": "stream",
          "text": [
            "Downloading https://www.csie.ntu.edu.tw/~cjlin/libsvmtools/datasets/multiclass/usps.bz2 to content/usps.bz2\n"
          ],
          "name": "stdout"
        },
        {
          "output_type": "display_data",
          "data": {
            "application/vnd.jupyter.widget-view+json": {
              "model_id": "2260a422a5a8457c9e856d5839246ae7",
              "version_minor": 0,
              "version_major": 2
            },
            "text/plain": [
              "HBox(children=(IntProgress(value=1, bar_style='info', max=1), HTML(value='')))"
            ]
          },
          "metadata": {
            "tags": []
          }
        },
        {
          "output_type": "stream",
          "text": [
            "\n",
            "\n",
            "\n",
            "\n",
            "Downloading https://www.csie.ntu.edu.tw/~cjlin/libsvmtools/datasets/multiclass/usps.t.bz2 to content/usps.t.bz2\n"
          ],
          "name": "stdout"
        },
        {
          "output_type": "display_data",
          "data": {
            "application/vnd.jupyter.widget-view+json": {
              "model_id": "1711995a750c4fc8a896035ce944ece1",
              "version_minor": 0,
              "version_major": 2
            },
            "text/plain": [
              "HBox(children=(IntProgress(value=1, bar_style='info', max=1), HTML(value='')))"
            ]
          },
          "metadata": {
            "tags": []
          }
        },
        {
          "output_type": "stream",
          "text": [
            "\n"
          ],
          "name": "stdout"
        }
      ]
    },
    {
      "cell_type": "code",
      "metadata": {
        "id": "dc6q_rHdlhUd",
        "colab_type": "code",
        "colab": {}
      },
      "source": [
        "examples_mnist = enumerate(M_train_loader)\n",
        "batch_idx, (example_data_mnist, example_targets_mnist) = next(examples_mnist)\n",
        "\n",
        "examples_usps = enumerate(U_train_loader)\n",
        "batch_idx, (example_data_usps, example_targets_usps) = next(examples_usps)"
      ],
      "execution_count": 0,
      "outputs": []
    },
    {
      "cell_type": "code",
      "metadata": {
        "id": "vUMuqDB5lo9z",
        "colab_type": "code",
        "outputId": "63674cf0-5387-4c13-b224-dadc12acdef7",
        "colab": {
          "base_uri": "https://localhost:8080/",
          "height": 35
        }
      },
      "source": [
        "example_data_usps.shape, example_data_mnist.shape # 64 per batch, size 32x32  # 64 per batch, size 32x32 "
      ],
      "execution_count": 0,
      "outputs": [
        {
          "output_type": "execute_result",
          "data": {
            "text/plain": [
              "(torch.Size([64, 1, 32, 32]), torch.Size([64, 1, 32, 32]))"
            ]
          },
          "metadata": {
            "tags": []
          },
          "execution_count": 9
        }
      ]
    },
    {
      "cell_type": "code",
      "metadata": {
        "id": "kO11V_IXE9j2",
        "colab_type": "code",
        "colab": {}
      },
      "source": [
        "list_label = []\n",
        "list_images = []\n",
        "\n",
        "while len(list_label)<10:\n",
        "  for i in range(len(example_targets_mnist)):\n",
        "    if example_targets_mnist[i].item() in list_label:\n",
        "      pass\n",
        "    else:\n",
        "      list_label.append(example_targets_mnist[i].item())\n",
        "      list_images.append(example_data_mnist[i])\n",
        "\n",
        "list_label,list_images = zip(*sorted(zip(list_label,list_images)))"
      ],
      "execution_count": 0,
      "outputs": []
    },
    {
      "cell_type": "code",
      "metadata": {
        "id": "n46JB-OHl4TU",
        "colab_type": "code",
        "outputId": "3b755934-9977-4641-ec0d-19533f205020",
        "colab": {
          "base_uri": "https://localhost:8080/",
          "height": 92
        }
      },
      "source": [
        "import matplotlib.pyplot as plt\n",
        "\n",
        "fig = plt.figure(figsize=(20,12))\n",
        "for i in range(10):\n",
        "  plt.subplot(1,10,i+1)\n",
        "  plt.tight_layout()\n",
        "  plt.imshow(list_images[i][0],cmap='gray', interpolation='none')\n",
        "  plt.title(\"Labels: {}\".format(list_label[i]))\n",
        "  plt.xticks([])\n",
        "  plt.yticks([])"
      ],
      "execution_count": 0,
      "outputs": [
        {
          "output_type": "display_data",
          "data": {
            "image/png": "[encoded data removed]",
            "text/plain": [
              "<Figure size 1440x864 with 10 Axes>"
            ]
          },
          "metadata": {
            "tags": []
          }
        }
      ]
    },
    {
      "cell_type": "code",
      "metadata": {
        "id": "-BV-63YrIWk-",
        "colab_type": "code",
        "colab": {}
      },
      "source": [
        "list_label = []\n",
        "list_images = []\n",
        "\n",
        "while len(list_label)<10:\n",
        "  for i in range(len(example_targets_usps)):\n",
        "    if example_targets_usps[i].item() in list_label:\n",
        "      pass\n",
        "    else:\n",
        "      list_label.append(example_targets_usps[i].item())\n",
        "      list_images.append(example_data_usps[i])\n",
        "\n",
        "list_label,list_images = zip(*sorted(zip(list_label,list_images)))"
      ],
      "execution_count": 0,
      "outputs": []
    },
    {
      "cell_type": "code",
      "metadata": {
        "id": "qn0disVBmcT-",
        "colab_type": "code",
        "outputId": "ec8650be-3dd1-40a2-9bb6-b8061548aa8a",
        "colab": {
          "base_uri": "https://localhost:8080/",
          "height": 92
        }
      },
      "source": [
        "import matplotlib.pyplot as plt\n",
        "\n",
        "fig = plt.figure(figsize=(20,12))\n",
        "for i in range(10):\n",
        "  plt.subplot(1,10,i+1)\n",
        "  plt.tight_layout()\n",
        "  plt.imshow(list_images[i][0],cmap='gray', interpolation='none')\n",
        "  plt.title(\"Labels: {}\".format(list_label[i]))\n",
        "  plt.xticks([])\n",
        "  plt.yticks([])"
      ],
      "execution_count": 0,
      "outputs": [
        {
          "output_type": "display_data",
          "data": {
            "image/png": "[encoded data removed]",
            "text/plain": [
              "<Figure size 1440x864 with 10 Axes>"
            ]
          },
          "metadata": {
            "tags": []
          }
        }
      ]
    },
    {
      "cell_type": "code",
      "metadata": {
        "id": "RgPmv5meb_cP",
        "colab_type": "code",
        "outputId": "7110bff9-6e07-4f85-950a-85a0af830d53",
        "colab": {
          "base_uri": "https://localhost:8080/",
          "height": 35
        }
      },
      "source": [
        "example_data_mnist.size()"
      ],
      "execution_count": 0,
      "outputs": [
        {
          "output_type": "execute_result",
          "data": {
            "text/plain": [
              "torch.Size([64, 1, 32, 32])"
            ]
          },
          "metadata": {
            "tags": []
          },
          "execution_count": 14
        }
      ]
    },
    {
      "cell_type": "markdown",
      "metadata": {
        "id": "HhDEfGGNDybx",
        "colab_type": "text"
      },
      "source": [
        "The USPS dataset consists of 7,291 training images and 2007 test images each of which is of the original size of 16x16. The MNIST dataset consists of 60 000 training images and 10 000 test images each of which is of the size 28x28. Both contains 10 categories (numbers from 0 to 9) and follow distinct distributions. "
      ]
    },
    {
      "cell_type": "markdown",
      "metadata": {
        "id": "gbl9ZuYKnWzS",
        "colab_type": "text"
      },
      "source": [
        "#### Helper functions"
      ]
    },
    {
      "cell_type": "code",
      "metadata": {
        "id": "uGPVAZ0FtUvx",
        "colab_type": "code",
        "colab": {}
      },
      "source": [
        "import torch.nn as nn"
      ],
      "execution_count": 0,
      "outputs": []
    },
    {
      "cell_type": "code",
      "metadata": {
        "id": "6O_Sr4Eem6cq",
        "colab_type": "code",
        "colab": {}
      },
      "source": [
        "def deconv(c_in, c_out, k_size, stride=2, pad=1, batch_norm=True):\n",
        "    \"\"\"Custom deconvolutional layer \"\"\"\n",
        "    layers = []\n",
        "    layers.append(nn.ConvTranspose2d(c_in, c_out, k_size, stride, pad, bias=False))\n",
        "    if batch_norm:\n",
        "        layers.append(nn.BatchNorm2d(c_out))\n",
        "    return nn.Sequential(*layers)\n",
        "\n",
        "def conv(c_in, c_out, k_size, stride=2, pad=1, batch_norm=True):\n",
        "    \"\"\"Custom convolutional layer\"\"\"\n",
        "    layers = []\n",
        "    layers.append(nn.Conv2d(c_in, c_out, k_size, stride, pad, bias=False))\n",
        "    if batch_norm:\n",
        "        layers.append(nn.BatchNorm2d(c_out))\n",
        "    return nn.Sequential(*layers)\n",
        "\n",
        "# Batch norm True False (last layer)"
      ],
      "execution_count": 0,
      "outputs": []
    },
    {
      "cell_type": "markdown",
      "metadata": {
        "id": "lryI_Qeft8cV",
        "colab_type": "text"
      },
      "source": [
        "Construction of the two discriminators "
      ]
    },
    {
      "cell_type": "code",
      "metadata": {
        "id": "NKaAbO-Nm6fG",
        "colab_type": "code",
        "colab": {}
      },
      "source": [
        "class D_MNIST(nn.Module):\n",
        "    \"\"\"Discriminator for mnist.\"\"\"\n",
        "    def __init__(self, conv_dim=64, use_labels=False):\n",
        "        super(D_MNIST, self).__init__()\n",
        "        self.conv1 = conv(1, conv_dim, 4, batch_norm=False)\n",
        "        self.conv2 = conv(conv_dim, conv_dim*2, 4)\n",
        "        self.conv3 = conv(conv_dim*2, conv_dim*4, 4)\n",
        "        n_out = 11 if use_labels else 1\n",
        "        self.fc = conv(conv_dim*4, n_out, 4, 1, 0, False)\n",
        "\n",
        "    def forward(self, x):\n",
        "        out = F.leaky_relu(self.conv1(x), 0.05)    # (?, 64, 16, 16)\n",
        "        out = F.leaky_relu(self.conv2(out), 0.05)  # (?, 128, 8, 8)\n",
        "        out = F.leaky_relu(self.conv3(out), 0.05)  # (?, 256, 4, 4)\n",
        "        out = self.fc(out).squeeze()\n",
        "        return out\n",
        "\n",
        "class D_USPS(nn.Module):\n",
        "    \"\"\"Discriminator for usps.\"\"\"\n",
        "    def __init__(self, conv_dim=64, use_labels=False):\n",
        "        super(D_USPS, self).__init__()\n",
        "        self.conv1 = conv(1, conv_dim, 4, batch_norm=False) #1\n",
        "        self.conv2 = conv(conv_dim, conv_dim*2, 4)\n",
        "        self.conv3 = conv(conv_dim*2, conv_dim*4, 4)\n",
        "        n_out = 11 if use_labels else 1\n",
        "        self.fc = conv(conv_dim*4, n_out, 4, 1, 0, False)\n",
        "\n",
        "    def forward(self, x):\n",
        "        out = F.leaky_relu(self.conv1(x), 0.05)    # (?, 64, 16, 16)\n",
        "        out = F.leaky_relu(self.conv2(out), 0.05)  # (?, 128, 8, 8)\n",
        "        out = F.leaky_relu(self.conv3(out), 0.05)  # (?, 256, 4, 4)\n",
        "        out = self.fc(out).squeeze()\n",
        "        return out\n"
      ],
      "execution_count": 0,
      "outputs": []
    },
    {
      "cell_type": "code",
      "metadata": {
        "id": "lcBcBPe03Eyl",
        "colab_type": "code",
        "colab": {}
      },
      "source": [
        ""
      ],
      "execution_count": 0,
      "outputs": []
    },
    {
      "cell_type": "markdown",
      "metadata": {
        "id": "3SROYfqxu-m8",
        "colab_type": "text"
      },
      "source": [
        "Creating the two generators "
      ]
    },
    {
      "cell_type": "code",
      "metadata": {
        "id": "WU30ammS0vCP",
        "colab_type": "code",
        "colab": {}
      },
      "source": [
        "class G_MNIST_USPS(nn.Module):\n",
        "    \"\"\"Generator for transfering from mnist to usps\"\"\"\n",
        "    def __init__(self, conv_dim=64):\n",
        "        super(G_MNIST_USPS, self).__init__()\n",
        "        # encoding blocks\n",
        "        self.conv1 = conv(1, conv_dim, 4)\n",
        "        self.conv2 = conv(conv_dim, conv_dim*2, 4)\n",
        "\n",
        "        # residual blocks\n",
        "        self.conv3 = conv(conv_dim*2, conv_dim*2, 3, 1, 1)\n",
        "        self.conv4 = conv(conv_dim*2, conv_dim*2, 3, 1, 1)\n",
        "\n",
        "        # decoding blocks\n",
        "        self.deconv1 = deconv(conv_dim*2, conv_dim, 4)\n",
        "        self.deconv2 = deconv(conv_dim, 1, 4, batch_norm=False)\n",
        "\n",
        "    def forward(self, x):\n",
        "        out = F.leaky_relu(self.conv1(x), 0.05)      # (?, 64, 16, 16)\n",
        "        out = F.leaky_relu(self.conv2(out), 0.05)    # (?, 128, 8, 8)\n",
        "\n",
        "        out = F.leaky_relu(self.conv3(out), 0.05)    # ( \" )\n",
        "        out = F.leaky_relu(self.conv4(out), 0.05)    # ( \" )\n",
        "\n",
        "        out = F.leaky_relu(self.deconv1(out), 0.05)  # (?, 64, 16, 16)\n",
        "        out = torch.tanh(self.deconv2(out))              # (?, 3, 32, 32)\n",
        "        return out\n",
        "\n",
        "class G_USPS_MNIST(nn.Module):\n",
        "    \"\"\"Generator for transfering from usps to mnist\"\"\"\n",
        "    def __init__(self, conv_dim=64):\n",
        "        super(G_USPS_MNIST, self).__init__()\n",
        "        # encoding blocks\n",
        "        self.conv1 = conv(1, conv_dim, 4)\n",
        "        self.conv2 = conv(conv_dim, conv_dim*2, 4)\n",
        "\n",
        "        # residual blocks\n",
        "        self.conv3 = conv(conv_dim*2, conv_dim*2, 3, 1, 1)\n",
        "        self.conv4 = conv(conv_dim*2, conv_dim*2, 3, 1, 1)\n",
        "\n",
        "        # decoding blocks\n",
        "        self.deconv1 = deconv(conv_dim*2, conv_dim, 4)\n",
        "        self.deconv2 = deconv(conv_dim, 1, 4, batch_norm=False)\n",
        "\n",
        "    def forward(self, x):\n",
        "        out = F.leaky_relu(self.conv1(x), 0.05)      # (?, 64, 16, 16)\n",
        "        out = F.leaky_relu(self.conv2(out), 0.05)    # (?, 128, 8, 8)\n",
        "\n",
        "        out = F.leaky_relu(self.conv3(out), 0.05)    # ( \" )\n",
        "        out = F.leaky_relu(self.conv4(out), 0.05)    # ( \" )\n",
        "\n",
        "        out = F.leaky_relu(self.deconv1(out), 0.05)  # (?, 64, 16, 16)\n",
        "        out = torch.tanh(self.deconv2(out))              # (?, 1, 32, 32)\n",
        "        return out\n"
      ],
      "execution_count": 0,
      "outputs": []
    },
    {
      "cell_type": "markdown",
      "metadata": {
        "id": "w_bxYEIkPrMn",
        "colab_type": "text"
      },
      "source": [
        "Building model "
      ]
    },
    {
      "cell_type": "code",
      "metadata": {
        "id": "Pd6SynLQQTHG",
        "colab_type": "code",
        "colab": {}
      },
      "source": [
        "def print_models(G_MtoU, G_UtoM, D_M, D_U):\n",
        "    \"\"\"Prints model information for the generators and discriminators.\n",
        "    \"\"\"\n",
        "    print(\"                 G_MtoU                \")\n",
        "    print(\"---------------------------------------\")\n",
        "    print(G_MtoU)\n",
        "    print(\"---------------------------------------\")\n",
        "\n",
        "    print(\"                 G_UtoM                \")\n",
        "    print(\"---------------------------------------\")\n",
        "    print(G_UtoM)\n",
        "    print(\"---------------------------------------\")\n",
        "\n",
        "    print(\"                  D_M                  \")\n",
        "    print(\"---------------------------------------\")\n",
        "    print(D_M)\n",
        "    print(\"---------------------------------------\")\n",
        "\n",
        "    print(\"                  D_U                  \")\n",
        "    print(\"---------------------------------------\")\n",
        "    print(D_U)\n",
        "    print(\"---------------------------------------\")"
      ],
      "execution_count": 0,
      "outputs": []
    },
    {
      "cell_type": "code",
      "metadata": {
        "id": "BXd4mpXsPqSF",
        "colab_type": "code",
        "colab": {}
      },
      "source": [
        "def create_model():\n",
        "  G_MtoU = G_MNIST_USPS()\n",
        "  G_UtoM = G_USPS_MNIST()\n",
        "  D_M = D_MNIST()\n",
        "  D_U = D_USPS()\n",
        "\n",
        "  print_models(G_MtoU, G_UtoM, D_M, D_U)\n",
        "\n",
        "  if torch.cuda.is_available():\n",
        "      G_MtoU.cuda()\n",
        "      G_UtoM.cuda()\n",
        "      D_M.cuda()\n",
        "      D_U.cuda()\n",
        "      print('Models moved to GPU.')\n",
        "  return G_MtoU,G_UtoM, D_M, D_U"
      ],
      "execution_count": 0,
      "outputs": []
    },
    {
      "cell_type": "code",
      "metadata": {
        "id": "w6qi6MbnPqU2",
        "colab_type": "code",
        "colab": {}
      },
      "source": [
        ""
      ],
      "execution_count": 0,
      "outputs": []
    },
    {
      "cell_type": "code",
      "metadata": {
        "id": "tAe8wnLPPqa8",
        "colab_type": "code",
        "colab": {}
      },
      "source": [
        "def save_samples(iteration, fixed_U, fixed_M, G_UtoM, G_MtoU):\n",
        "    \"\"\"Saves samples from both generators M->U and U->M.\n",
        "    \"\"\"\n",
        "    import os\n",
        "    import imageio\n",
        "    fake_M = G_UtoM(fixed_U)\n",
        "    fake_U = G_MtoU(fixed_M)\n",
        "\n",
        "    M, fake_M = to_data(fixed_M), to_data(fake_M)\n",
        "    U, fake_U = to_data(fixed_U), to_data(fake_U)\n",
        "\n",
        "    merged = merge_images(M, fake_U)\n",
        "    path = os.path.join('/content/', 'sample-{:06d}-M-U.png'.format(iteration))\n",
        "    imageio.imwrite(path, merged)\n",
        "    print('Saved {}'.format(path))\n",
        "\n",
        "    merged = merge_images(U, fake_M)\n",
        "    path = os.path.join('/content/', 'sample-{:06d}-U-M.png'.format(iteration))\n",
        "    imageio.imwrite(path, merged)\n",
        "    print('Saved {}'.format(path))"
      ],
      "execution_count": 0,
      "outputs": []
    },
    {
      "cell_type": "code",
      "metadata": {
        "id": "_heIWaZsPqXw",
        "colab_type": "code",
        "colab": {}
      },
      "source": [
        ""
      ],
      "execution_count": 0,
      "outputs": []
    },
    {
      "cell_type": "code",
      "metadata": {
        "id": "A9Yt42NGm6mS",
        "colab_type": "code",
        "colab": {}
      },
      "source": [
        "def merge_images(sources, targets, k=10):\n",
        "    \"\"\"Creates a grid consisting of pairs of columns, where the first column in\n",
        "    each pair contains images source images and the second column in each pair\n",
        "    contains images generated by the CycleGAN from the corresponding images in\n",
        "    the first column.\n",
        "    \"\"\"\n",
        "    _, _, h, w = sources.shape\n",
        "    row = int(np.sqrt(64))\n",
        "    merged = np.zeros([3, row*h, row*w*2]) # 3\n",
        "    for idx, (s, t) in enumerate(zip(sources, targets)):\n",
        "        i = idx // row\n",
        "        j = idx % row\n",
        "        merged[:, i*h:(i+1)*h, (j*2)*h:(j*2+1)*h] = s\n",
        "        merged[:, i*h:(i+1)*h, (j*2+1)*h:(j*2+2)*h] = t\n",
        "    return merged.transpose(1, 2, 0)"
      ],
      "execution_count": 0,
      "outputs": []
    },
    {
      "cell_type": "markdown",
      "metadata": {
        "id": "F2wljkASOSQB",
        "colab_type": "text"
      },
      "source": [
        "Helper functions "
      ]
    },
    {
      "cell_type": "code",
      "metadata": {
        "id": "oTF243GGm6oy",
        "colab_type": "code",
        "colab": {}
      },
      "source": [
        "def to_var(x):\n",
        "    \"\"\"Converts numpy to variable.\"\"\"\n",
        "    if torch.cuda.is_available():\n",
        "        x = x.cuda()\n",
        "    return Variable(x)\n",
        "\n",
        "\n",
        "def to_data(x):\n",
        "    \"\"\"Converts variable to numpy.\"\"\"\n",
        "    if torch.cuda.is_available():\n",
        "        x = x.cpu()\n",
        "    return x.data.numpy()"
      ],
      "execution_count": 0,
      "outputs": []
    },
    {
      "cell_type": "markdown",
      "metadata": {
        "id": "uVvh5v9LvxXm",
        "colab_type": "text"
      },
      "source": [
        "### Training loop"
      ]
    },
    {
      "cell_type": "code",
      "metadata": {
        "id": "BA21BZb41Iyc",
        "colab_type": "code",
        "outputId": "d9178bcc-9f3c-44ce-cb70-c26299f88ebc",
        "colab": {
          "base_uri": "https://localhost:8080/",
          "height": 35
        }
      },
      "source": [
        "# Check number of parameters in the generator\n",
        "pytorch_total_params = sum(p.numel() for p in G_MNIST_USPS().parameters())\n",
        "pytorch_total_params"
      ],
      "execution_count": 0,
      "outputs": [
        {
          "output_type": "execute_result",
          "data": {
            "text/plain": [
              "560128"
            ]
          },
          "metadata": {
            "tags": []
          },
          "execution_count": 24
        }
      ]
    },
    {
      "cell_type": "code",
      "metadata": {
        "id": "pNPE6lhI3MMs",
        "colab_type": "code",
        "outputId": "c08a9a5e-b86d-4463-d0e1-0af4fff91373",
        "colab": {
          "base_uri": "https://localhost:8080/",
          "height": 308
        }
      },
      "source": [
        "[torch.std(p).item() for p in G_MNIST_USPS().parameters()]"
      ],
      "execution_count": 0,
      "outputs": [
        {
          "output_type": "execute_result",
          "data": {
            "text/plain": [
              "[0.14411965012550354,\n",
              " 0.0,\n",
              " 0.0,\n",
              " 0.018012182787060738,\n",
              " 0.0,\n",
              " 0.0,\n",
              " 0.017013899981975555,\n",
              " 0.0,\n",
              " 0.0,\n",
              " 0.017013514414429665,\n",
              " 0.0,\n",
              " 0.0,\n",
              " 0.018053261563181877,\n",
              " 0.0,\n",
              " 0.0,\n",
              " 0.14460092782974243]"
            ]
          },
          "metadata": {
            "tags": []
          },
          "execution_count": 25
        }
      ]
    },
    {
      "cell_type": "code",
      "metadata": {
        "id": "oPeVcmkoJHIS",
        "colab_type": "code",
        "outputId": "974008da-6a0b-483d-c1c2-859c94e751f1",
        "colab": {
          "base_uri": "https://localhost:8080/",
          "height": 1000
        }
      },
      "source": [
        "G_MtoU, G_UtoM, D_M, D_U = create_model()\n",
        "\n",
        "iter_M = iter(M_train_loader)\n",
        "iter_U = iter(U_train_loader)\n"
      ],
      "execution_count": 0,
      "outputs": [
        {
          "output_type": "stream",
          "text": [
            "                 G_MtoU                \n",
            "---------------------------------------\n",
            "G_MNIST_USPS(\n",
            "  (conv1): Sequential(\n",
            "    (0): Conv2d(1, 64, kernel_size=(4, 4), stride=(2, 2), padding=(1, 1), bias=False)\n",
            "    (1): BatchNorm2d(64, eps=1e-05, momentum=0.1, affine=True, track_running_stats=True)\n",
            "  )\n",
            "  (conv2): Sequential(\n",
            "    (0): Conv2d(64, 128, kernel_size=(4, 4), stride=(2, 2), padding=(1, 1), bias=False)\n",
            "    (1): BatchNorm2d(128, eps=1e-05, momentum=0.1, affine=True, track_running_stats=True)\n",
            "  )\n",
            "  (conv3): Sequential(\n",
            "    (0): Conv2d(128, 128, kernel_size=(3, 3), stride=(1, 1), padding=(1, 1), bias=False)\n",
            "    (1): BatchNorm2d(128, eps=1e-05, momentum=0.1, affine=True, track_running_stats=True)\n",
            "  )\n",
            "  (conv4): Sequential(\n",
            "    (0): Conv2d(128, 128, kernel_size=(3, 3), stride=(1, 1), padding=(1, 1), bias=False)\n",
            "    (1): BatchNorm2d(128, eps=1e-05, momentum=0.1, affine=True, track_running_stats=True)\n",
            "  )\n",
            "  (deconv1): Sequential(\n",
            "    (0): ConvTranspose2d(128, 64, kernel_size=(4, 4), stride=(2, 2), padding=(1, 1), bias=False)\n",
            "    (1): BatchNorm2d(64, eps=1e-05, momentum=0.1, affine=True, track_running_stats=True)\n",
            "  )\n",
            "  (deconv2): Sequential(\n",
            "    (0): ConvTranspose2d(64, 1, kernel_size=(4, 4), stride=(2, 2), padding=(1, 1), bias=False)\n",
            "  )\n",
            ")\n",
            "---------------------------------------\n",
            "                 G_UtoM                \n",
            "---------------------------------------\n",
            "G_USPS_MNIST(\n",
            "  (conv1): Sequential(\n",
            "    (0): Conv2d(1, 64, kernel_size=(4, 4), stride=(2, 2), padding=(1, 1), bias=False)\n",
            "    (1): BatchNorm2d(64, eps=1e-05, momentum=0.1, affine=True, track_running_stats=True)\n",
            "  )\n",
            "  (conv2): Sequential(\n",
            "    (0): Conv2d(64, 128, kernel_size=(4, 4), stride=(2, 2), padding=(1, 1), bias=False)\n",
            "    (1): BatchNorm2d(128, eps=1e-05, momentum=0.1, affine=True, track_running_stats=True)\n",
            "  )\n",
            "  (conv3): Sequential(\n",
            "    (0): Conv2d(128, 128, kernel_size=(3, 3), stride=(1, 1), padding=(1, 1), bias=False)\n",
            "    (1): BatchNorm2d(128, eps=1e-05, momentum=0.1, affine=True, track_running_stats=True)\n",
            "  )\n",
            "  (conv4): Sequential(\n",
            "    (0): Conv2d(128, 128, kernel_size=(3, 3), stride=(1, 1), padding=(1, 1), bias=False)\n",
            "    (1): BatchNorm2d(128, eps=1e-05, momentum=0.1, affine=True, track_running_stats=True)\n",
            "  )\n",
            "  (deconv1): Sequential(\n",
            "    (0): ConvTranspose2d(128, 64, kernel_size=(4, 4), stride=(2, 2), padding=(1, 1), bias=False)\n",
            "    (1): BatchNorm2d(64, eps=1e-05, momentum=0.1, affine=True, track_running_stats=True)\n",
            "  )\n",
            "  (deconv2): Sequential(\n",
            "    (0): ConvTranspose2d(64, 1, kernel_size=(4, 4), stride=(2, 2), padding=(1, 1), bias=False)\n",
            "  )\n",
            ")\n",
            "---------------------------------------\n",
            "                  D_M                  \n",
            "---------------------------------------\n",
            "D_MNIST(\n",
            "  (conv1): Sequential(\n",
            "    (0): Conv2d(1, 64, kernel_size=(4, 4), stride=(2, 2), padding=(1, 1), bias=False)\n",
            "  )\n",
            "  (conv2): Sequential(\n",
            "    (0): Conv2d(64, 128, kernel_size=(4, 4), stride=(2, 2), padding=(1, 1), bias=False)\n",
            "    (1): BatchNorm2d(128, eps=1e-05, momentum=0.1, affine=True, track_running_stats=True)\n",
            "  )\n",
            "  (conv3): Sequential(\n",
            "    (0): Conv2d(128, 256, kernel_size=(4, 4), stride=(2, 2), padding=(1, 1), bias=False)\n",
            "    (1): BatchNorm2d(256, eps=1e-05, momentum=0.1, affine=True, track_running_stats=True)\n",
            "  )\n",
            "  (fc): Sequential(\n",
            "    (0): Conv2d(256, 1, kernel_size=(4, 4), stride=(1, 1), bias=False)\n",
            "  )\n",
            ")\n",
            "---------------------------------------\n",
            "                  D_U                  \n",
            "---------------------------------------\n",
            "D_USPS(\n",
            "  (conv1): Sequential(\n",
            "    (0): Conv2d(1, 64, kernel_size=(4, 4), stride=(2, 2), padding=(1, 1), bias=False)\n",
            "  )\n",
            "  (conv2): Sequential(\n",
            "    (0): Conv2d(64, 128, kernel_size=(4, 4), stride=(2, 2), padding=(1, 1), bias=False)\n",
            "    (1): BatchNorm2d(128, eps=1e-05, momentum=0.1, affine=True, track_running_stats=True)\n",
            "  )\n",
            "  (conv3): Sequential(\n",
            "    (0): Conv2d(128, 256, kernel_size=(4, 4), stride=(2, 2), padding=(1, 1), bias=False)\n",
            "    (1): BatchNorm2d(256, eps=1e-05, momentum=0.1, affine=True, track_running_stats=True)\n",
            "  )\n",
            "  (fc): Sequential(\n",
            "    (0): Conv2d(256, 1, kernel_size=(4, 4), stride=(1, 1), bias=False)\n",
            "  )\n",
            ")\n",
            "---------------------------------------\n",
            "Models moved to GPU.\n"
          ],
          "name": "stdout"
        }
      ]
    },
    {
      "cell_type": "code",
      "metadata": {
        "id": "iN1boKhPI8d5",
        "colab_type": "code",
        "colab": {}
      },
      "source": [
        "images_M, labels_M = iter_M.next()\n",
        "images_M, labels_M = to_var(images_M), to_var(labels_M).long().squeeze()"
      ],
      "execution_count": 0,
      "outputs": []
    },
    {
      "cell_type": "code",
      "metadata": {
        "id": "iAneiudOJEQ4",
        "colab_type": "code",
        "colab": {}
      },
      "source": [
        "# Compute the discriminator losses on real images\n",
        "out_M = D_M(images_M) # discriminator mnist true\n",
        "#D_M_loss = torch.mean((out_M-1)**2) "
      ],
      "execution_count": 0,
      "outputs": []
    },
    {
      "cell_type": "code",
      "metadata": {
        "id": "iw8qWxbcJP8Z",
        "colab_type": "code",
        "outputId": "82eb98b4-1a27-4e23-b55d-176cd744da6b",
        "colab": {
          "base_uri": "https://localhost:8080/",
          "height": 181
        }
      },
      "source": [
        "out_M"
      ],
      "execution_count": 0,
      "outputs": [
        {
          "output_type": "execute_result",
          "data": {
            "text/plain": [
              "tensor([ 0.2239,  0.2320,  0.0634,  0.0598,  0.2448,  0.0676,  0.4505,  0.5053,\n",
              "        -0.2431, -0.0935,  0.6951,  0.7418,  0.5591,  0.1627,  0.4361,  0.1604,\n",
              "         0.2521,  0.3427,  0.0935,  0.3805,  0.4336,  1.0922,  0.5143,  0.0138,\n",
              "         0.5848, -0.0446,  0.2944,  0.4483, -0.1428, -0.1015,  0.2153, -0.0944,\n",
              "         0.4546,  0.3822,  0.4425, -0.1694,  0.1318,  0.0861,  0.0304,  0.0427,\n",
              "         0.3522,  0.2573,  0.4582,  0.2563,  0.1378,  0.5268,  0.3860, -0.2368,\n",
              "         0.3703,  0.3108,  0.4408,  0.6655,  0.0784,  0.1322,  0.1849, -0.3596,\n",
              "         0.3978,  0.4776,  0.3512, -0.1268,  0.3235,  0.4257,  0.3164,  0.2606],\n",
              "       device='cuda:0', grad_fn=<SqueezeBackward0>)"
            ]
          },
          "metadata": {
            "tags": []
          },
          "execution_count": 36
        }
      ]
    },
    {
      "cell_type": "code",
      "metadata": {
        "id": "8xfU2vFFJhMh",
        "colab_type": "code",
        "outputId": "3e7792ed-d50b-46da-c87f-0af18d0059f7",
        "colab": {
          "base_uri": "https://localhost:8080/",
          "height": 35
        }
      },
      "source": [
        "torch.mean((out_M-1)**2).item(), torch.mean(out_M-1).item()\n"
      ],
      "execution_count": 0,
      "outputs": [
        {
          "output_type": "execute_result",
          "data": {
            "text/plain": [
              "(0.6238396763801575, -0.7447456121444702)"
            ]
          },
          "metadata": {
            "tags": []
          },
          "execution_count": 43
        }
      ]
    },
    {
      "cell_type": "code",
      "metadata": {
        "id": "6CJ0Ms4dRKdF",
        "colab_type": "code",
        "colab": {}
      },
      "source": [
        "def training_loop(M_train_loader, U_train_loader, M_test_loader, U_test_loader, sample_every=1000,  lr=0.0002, train_iters=20000, log_step = 10, batch_size=64, use_cycle_consistency_loss=True):\n",
        "  # Create generators and discriminators\n",
        "  G_MtoU, G_UtoM, D_M, D_U = create_model()\n",
        "\n",
        "  g_params = list(G_MtoU.parameters()) + list(G_UtoM.parameters())  # Get generator parameters\n",
        "  d_params = list(D_M.parameters()) + list(D_U.parameters())  # Get discriminator parameters\n",
        "\n",
        "  # Create optimizers for the generators and discriminators\n",
        "  g_optimizer = optim.Adam(g_params, lr)\n",
        "  d_optimizer = optim.Adam(d_params, lr)\n",
        "\n",
        "  iter_M = iter(M_train_loader)\n",
        "  iter_U = iter(U_train_loader)\n",
        "\n",
        "  test_iter_M = iter(M_test_loader)\n",
        "  test_iter_U = iter(U_test_loader)\n",
        "\n",
        "  # Get some fixed data from domains X and Y for sampling. These are images that are held\n",
        "  # constant throughout training, that allow us to inspect the model's performance.\n",
        "  fixed_M = to_var(test_iter_M.next()[0])\n",
        "  fixed_U = to_var(test_iter_U.next()[0])\n",
        "\n",
        "  iter_per_epoch = min(len(iter_M), len(iter_U))\n",
        "\n",
        "  for iteration in range(1, train_iters+1):\n",
        "\n",
        "      # Reset data_iter for each epoch\n",
        "      if iteration % iter_per_epoch == 0:\n",
        "          iter_M = iter(M_train_loader)\n",
        "          iter_U = iter(U_train_loader)\n",
        "\n",
        "      images_M, labels_M = iter_M.next()\n",
        "      images_M, labels_M = to_var(images_M), to_var(labels_M).long().squeeze()\n",
        "\n",
        "      images_U, labels_U = iter_U.next()\n",
        "      images_U, labels_U = to_var(images_U), to_var(labels_U).long().squeeze()\n",
        "\n",
        "     # num_classes = 10\n",
        "\n",
        "      #if use_labels:\n",
        "      #  M_fake_labels = to_var(\n",
        "       #     torch.Tensor([num_classes]*images_U.size(0)).long())\n",
        "        #svhn_fake_labels = to_var(\n",
        "         #   torch.Tensor([num_classes]*images_M.size(0)).long())\n",
        "\n",
        "\n",
        "      # ============================================\n",
        "      #            TRAIN THE DISCRIMINATORS\n",
        "      # ============================================\n",
        "\n",
        "       # Clipping discriminator parameters \n",
        "      for p in D_M.parameters():\n",
        "            p.data.clamp_(-0.01, 0.01)\n",
        "\n",
        "      # Train with real images\n",
        "      d_optimizer.zero_grad()\n",
        "\n",
        "      # Compute the discriminator losses on real images\n",
        "      out_M = D_M(images_M) # discriminator mnist true\n",
        "      D_M_loss = torch.mean((out_M-1)**2) \n",
        "\n",
        "      out_U = D_U(images_U)\n",
        "      D_U_loss = torch.mean((out_U-1)**2)\n",
        "\n",
        "      d_real_loss = D_M_loss + D_U_loss\n",
        "      d_real_loss.backward()\n",
        "      d_optimizer.step()\n",
        "\n",
        "      # Train with fake images\n",
        "      d_optimizer.zero_grad()\n",
        "\n",
        "      # Generate fake images that look like domain MNIST based on real images in domain USPS\n",
        "      fake_M = G_UtoM(images_U)\n",
        "\n",
        "      # Compute the loss for D_M\n",
        "      out_M = D_M(fake_M)\n",
        "      D_M_loss = torch.mean(out_M**2) \n",
        "\n",
        "      # 4. Generate fake images that look like domain U based on real images in domain M\n",
        "      fake_U = G_MtoU(images_M)\n",
        "\n",
        "      # 5. Compute the loss for D_U\n",
        "      out_U = D_U(fake_U)\n",
        "      D_U_loss = torch.mean((out_U)**2) \n",
        "\n",
        "      d_fake_loss = D_M_loss + D_U_loss\n",
        "      d_fake_loss.backward()\n",
        "      d_optimizer.step()\n",
        "\n",
        "      # =========================================\n",
        "      #            TRAIN THE GENERATORS\n",
        "      # =========================================\n",
        "\n",
        "      ## U--M-->U \n",
        "\n",
        "      g_optimizer.zero_grad()\n",
        "\n",
        "      # 1. Generate fake images that look like domain M based on real images in domain U\n",
        "      fake_M = G_UtoM(images_U)\n",
        "      out = D_M(fake_M)\n",
        "\n",
        "      # 2. Compute the generator loss based on domain M\n",
        "\n",
        "      g_loss = torch.mean((out-1)**2)\n",
        "\n",
        "      if use_cycle_consistency_loss:\n",
        "          reconstructed_U = G_MtoU(fake_M)\n",
        "          # 3. Compute the cycle consistency loss (the reconstruction loss)\n",
        "          cycle_consistency_loss = torch.mean((images_U - reconstructed_U)**2)\n",
        "          g_loss += cycle_consistency_loss\n",
        "\n",
        "      g_loss.backward()\n",
        "      g_optimizer.step()\n",
        "\n",
        "      ## M--U-->M \n",
        "\n",
        "      g_optimizer.zero_grad()\n",
        "\n",
        "      # 1. Generate fake images that look like domain U based on real images in domain M\n",
        "      fake_U = G_MtoU(images_M)\n",
        "      out = D_U(fake_U)\n",
        "\n",
        "      # 2. Compute the generator loss based on domain U\n",
        "      g_loss = torch.mean((out-1)**2)\n",
        "\n",
        "      if use_cycle_consistency_loss:\n",
        "          reconstructed_M = G_UtoM(fake_U)\n",
        "          # 3. Compute the cycle consistency loss (the reconstruction loss)\n",
        "          cycle_consistency_loss = torch.mean((images_M - reconstructed_M)**2)\n",
        "          g_loss += cycle_consistency_loss\n",
        "\n",
        "      g_loss.backward()\n",
        "      g_optimizer.step()\n",
        "\n",
        "\n",
        "      # Print the log info\n",
        "      if iteration % log_step == 0:\n",
        "          print('Iteration [{:5d}/{:5d}] | d_real_loss: {:6.4f} | d_U_loss: {:6.4f} | d_M_loss: {:6.4f} | '\n",
        "                'd_fake_loss: {:6.4f} | g_loss: {:6.4f}'.format(\n",
        "                  iteration, train_iters, d_real_loss.item(), D_U_loss.item(),\n",
        "                  D_M_loss.item(), d_fake_loss.item(), g_loss.item()))\n",
        "\n",
        "\n",
        "      # Save the generated samples\n",
        "      if iteration % sample_every == 0:\n",
        "          save_samples(iteration, fixed_U, fixed_M, G_UtoM, G_MtoU)"
      ],
      "execution_count": 0,
      "outputs": []
    },
    {
      "cell_type": "code",
      "metadata": {
        "id": "fpMhowQMRKgq",
        "colab_type": "code",
        "outputId": "76490266-beec-46ed-e5fc-f1a96c28484c",
        "colab": {
          "base_uri": "https://localhost:8080/",
          "height": 1000
        }
      },
      "source": [
        "training_loop(M_train_loader, U_train_loader, M_test_loader, U_test_loader, sample_every=1000,  lr=0.0002, train_iters=5000, log_step = 100,  use_cycle_consistency_loss=True)"
      ],
      "execution_count": 0,
      "outputs": [
        {
          "output_type": "stream",
          "text": [
            "                 G_MtoU                \n",
            "---------------------------------------\n",
            "G_MNIST_USPS(\n",
            "  (conv1): Sequential(\n",
            "    (0): Conv2d(1, 64, kernel_size=(4, 4), stride=(2, 2), padding=(1, 1), bias=False)\n",
            "    (1): BatchNorm2d(64, eps=1e-05, momentum=0.1, affine=True, track_running_stats=True)\n",
            "  )\n",
            "  (conv2): Sequential(\n",
            "    (0): Conv2d(64, 128, kernel_size=(4, 4), stride=(2, 2), padding=(1, 1), bias=False)\n",
            "    (1): BatchNorm2d(128, eps=1e-05, momentum=0.1, affine=True, track_running_stats=True)\n",
            "  )\n",
            "  (conv3): Sequential(\n",
            "    (0): Conv2d(128, 128, kernel_size=(3, 3), stride=(1, 1), padding=(1, 1), bias=False)\n",
            "    (1): BatchNorm2d(128, eps=1e-05, momentum=0.1, affine=True, track_running_stats=True)\n",
            "  )\n",
            "  (conv4): Sequential(\n",
            "    (0): Conv2d(128, 128, kernel_size=(3, 3), stride=(1, 1), padding=(1, 1), bias=False)\n",
            "    (1): BatchNorm2d(128, eps=1e-05, momentum=0.1, affine=True, track_running_stats=True)\n",
            "  )\n",
            "  (deconv1): Sequential(\n",
            "    (0): ConvTranspose2d(128, 64, kernel_size=(4, 4), stride=(2, 2), padding=(1, 1), bias=False)\n",
            "    (1): BatchNorm2d(64, eps=1e-05, momentum=0.1, affine=True, track_running_stats=True)\n",
            "  )\n",
            "  (deconv2): Sequential(\n",
            "    (0): ConvTranspose2d(64, 1, kernel_size=(4, 4), stride=(2, 2), padding=(1, 1), bias=False)\n",
            "  )\n",
            ")\n",
            "---------------------------------------\n",
            "                 G_UtoM                \n",
            "---------------------------------------\n",
            "G_USPS_MNIST(\n",
            "  (conv1): Sequential(\n",
            "    (0): Conv2d(1, 64, kernel_size=(4, 4), stride=(2, 2), padding=(1, 1), bias=False)\n",
            "    (1): BatchNorm2d(64, eps=1e-05, momentum=0.1, affine=True, track_running_stats=True)\n",
            "  )\n",
            "  (conv2): Sequential(\n",
            "    (0): Conv2d(64, 128, kernel_size=(4, 4), stride=(2, 2), padding=(1, 1), bias=False)\n",
            "    (1): BatchNorm2d(128, eps=1e-05, momentum=0.1, affine=True, track_running_stats=True)\n",
            "  )\n",
            "  (conv3): Sequential(\n",
            "    (0): Conv2d(128, 128, kernel_size=(3, 3), stride=(1, 1), padding=(1, 1), bias=False)\n",
            "    (1): BatchNorm2d(128, eps=1e-05, momentum=0.1, affine=True, track_running_stats=True)\n",
            "  )\n",
            "  (conv4): Sequential(\n",
            "    (0): Conv2d(128, 128, kernel_size=(3, 3), stride=(1, 1), padding=(1, 1), bias=False)\n",
            "    (1): BatchNorm2d(128, eps=1e-05, momentum=0.1, affine=True, track_running_stats=True)\n",
            "  )\n",
            "  (deconv1): Sequential(\n",
            "    (0): ConvTranspose2d(128, 64, kernel_size=(4, 4), stride=(2, 2), padding=(1, 1), bias=False)\n",
            "    (1): BatchNorm2d(64, eps=1e-05, momentum=0.1, affine=True, track_running_stats=True)\n",
            "  )\n",
            "  (deconv2): Sequential(\n",
            "    (0): ConvTranspose2d(64, 1, kernel_size=(4, 4), stride=(2, 2), padding=(1, 1), bias=False)\n",
            "  )\n",
            ")\n",
            "---------------------------------------\n",
            "                  D_M                  \n",
            "---------------------------------------\n",
            "D_MNIST(\n",
            "  (conv1): Sequential(\n",
            "    (0): Conv2d(1, 64, kernel_size=(4, 4), stride=(2, 2), padding=(1, 1), bias=False)\n",
            "  )\n",
            "  (conv2): Sequential(\n",
            "    (0): Conv2d(64, 128, kernel_size=(4, 4), stride=(2, 2), padding=(1, 1), bias=False)\n",
            "    (1): BatchNorm2d(128, eps=1e-05, momentum=0.1, affine=True, track_running_stats=True)\n",
            "  )\n",
            "  (conv3): Sequential(\n",
            "    (0): Conv2d(128, 256, kernel_size=(4, 4), stride=(2, 2), padding=(1, 1), bias=False)\n",
            "    (1): BatchNorm2d(256, eps=1e-05, momentum=0.1, affine=True, track_running_stats=True)\n",
            "  )\n",
            "  (fc): Sequential(\n",
            "    (0): Conv2d(256, 1, kernel_size=(4, 4), stride=(1, 1), bias=False)\n",
            "  )\n",
            ")\n",
            "---------------------------------------\n",
            "                  D_U                  \n",
            "---------------------------------------\n",
            "D_USPS(\n",
            "  (conv1): Sequential(\n",
            "    (0): Conv2d(1, 64, kernel_size=(4, 4), stride=(2, 2), padding=(1, 1), bias=False)\n",
            "  )\n",
            "  (conv2): Sequential(\n",
            "    (0): Conv2d(64, 128, kernel_size=(4, 4), stride=(2, 2), padding=(1, 1), bias=False)\n",
            "    (1): BatchNorm2d(128, eps=1e-05, momentum=0.1, affine=True, track_running_stats=True)\n",
            "  )\n",
            "  (conv3): Sequential(\n",
            "    (0): Conv2d(128, 256, kernel_size=(4, 4), stride=(2, 2), padding=(1, 1), bias=False)\n",
            "    (1): BatchNorm2d(256, eps=1e-05, momentum=0.1, affine=True, track_running_stats=True)\n",
            "  )\n",
            "  (fc): Sequential(\n",
            "    (0): Conv2d(256, 1, kernel_size=(4, 4), stride=(1, 1), bias=False)\n",
            "  )\n",
            ")\n",
            "---------------------------------------\n",
            "Models moved to GPU.\n",
            "Iteration [  100/ 5000] | d_real_loss: 0.3827 | d_U_loss: 0.0459 | d_M_loss: 0.1490 | d_fake_loss: 0.1949 | g_loss: 1.1620\n",
            "Iteration [  200/ 5000] | d_real_loss: 0.4390 | d_U_loss: 0.0575 | d_M_loss: 0.0872 | d_fake_loss: 0.1447 | g_loss: 1.0674\n",
            "Iteration [  300/ 5000] | d_real_loss: 0.4487 | d_U_loss: 0.0690 | d_M_loss: 0.0964 | d_fake_loss: 0.1655 | g_loss: 0.7958\n",
            "Iteration [  400/ 5000] | d_real_loss: 0.3953 | d_U_loss: 0.1287 | d_M_loss: 0.1428 | d_fake_loss: 0.2715 | g_loss: 1.0142\n",
            "Iteration [  500/ 5000] | d_real_loss: 0.4308 | d_U_loss: 0.0339 | d_M_loss: 0.1629 | d_fake_loss: 0.1968 | g_loss: 1.2001\n",
            "Iteration [  600/ 5000] | d_real_loss: 0.4807 | d_U_loss: 0.0630 | d_M_loss: 0.1635 | d_fake_loss: 0.2265 | g_loss: 1.2397\n",
            "Iteration [  700/ 5000] | d_real_loss: 0.3922 | d_U_loss: 0.1422 | d_M_loss: 0.1654 | d_fake_loss: 0.3076 | g_loss: 0.8560\n",
            "Iteration [  800/ 5000] | d_real_loss: 0.4251 | d_U_loss: 0.0830 | d_M_loss: 0.1480 | d_fake_loss: 0.2311 | g_loss: 0.9194\n",
            "Iteration [  900/ 5000] | d_real_loss: 0.3764 | d_U_loss: 0.1728 | d_M_loss: 0.1629 | d_fake_loss: 0.3356 | g_loss: 1.0575\n"
          ],
          "name": "stdout"
        },
        {
          "output_type": "stream",
          "text": [
            "WARNING:root:Lossy conversion from float64 to uint8. Range [-1.0, 1.0]. Convert image to uint8 prior to saving to suppress this warning.\n",
            "WARNING:root:Lossy conversion from float64 to uint8. Range [-1.0, 0.9921568632125854]. Convert image to uint8 prior to saving to suppress this warning.\n"
          ],
          "name": "stderr"
        },
        {
          "output_type": "stream",
          "text": [
            "Iteration [ 1000/ 5000] | d_real_loss: 0.4221 | d_U_loss: 0.0508 | d_M_loss: 0.1474 | d_fake_loss: 0.1982 | g_loss: 1.6579\n",
            "Saved /content/sample-001000-M-U.png\n",
            "Saved /content/sample-001000-U-M.png\n",
            "Iteration [ 1100/ 5000] | d_real_loss: 0.3943 | d_U_loss: 0.0916 | d_M_loss: 0.1753 | d_fake_loss: 0.2670 | g_loss: 0.9434\n",
            "Iteration [ 1200/ 5000] | d_real_loss: 0.3502 | d_U_loss: 0.2080 | d_M_loss: 0.1806 | d_fake_loss: 0.3885 | g_loss: 0.7984\n",
            "Iteration [ 1300/ 5000] | d_real_loss: 0.3457 | d_U_loss: 0.2053 | d_M_loss: 0.1805 | d_fake_loss: 0.3857 | g_loss: 0.8468\n",
            "Iteration [ 1400/ 5000] | d_real_loss: 0.3561 | d_U_loss: 0.1034 | d_M_loss: 0.1720 | d_fake_loss: 0.2755 | g_loss: 0.9460\n",
            "Iteration [ 1500/ 5000] | d_real_loss: 0.3490 | d_U_loss: 0.3254 | d_M_loss: 0.1837 | d_fake_loss: 0.5092 | g_loss: 0.7134\n",
            "Iteration [ 1600/ 5000] | d_real_loss: 0.4610 | d_U_loss: 0.0574 | d_M_loss: 0.1757 | d_fake_loss: 0.2331 | g_loss: 0.8158\n",
            "Iteration [ 1700/ 5000] | d_real_loss: 0.3619 | d_U_loss: 0.1455 | d_M_loss: 0.1690 | d_fake_loss: 0.3145 | g_loss: 0.6953\n",
            "Iteration [ 1800/ 5000] | d_real_loss: 0.3583 | d_U_loss: 0.0367 | d_M_loss: 0.1670 | d_fake_loss: 0.2037 | g_loss: 1.1998\n",
            "Iteration [ 1900/ 5000] | d_real_loss: 0.4084 | d_U_loss: 0.1278 | d_M_loss: 0.1740 | d_fake_loss: 0.3018 | g_loss: 1.4786\n"
          ],
          "name": "stdout"
        },
        {
          "output_type": "stream",
          "text": [
            "WARNING:root:Lossy conversion from float64 to uint8. Range [-1.0, 1.0]. Convert image to uint8 prior to saving to suppress this warning.\n",
            "WARNING:root:Lossy conversion from float64 to uint8. Range [-1.0, 0.9966748952865601]. Convert image to uint8 prior to saving to suppress this warning.\n"
          ],
          "name": "stderr"
        },
        {
          "output_type": "stream",
          "text": [
            "Iteration [ 2000/ 5000] | d_real_loss: 0.3999 | d_U_loss: 0.0677 | d_M_loss: 0.1768 | d_fake_loss: 0.2445 | g_loss: 0.8247\n",
            "Saved /content/sample-002000-M-U.png\n",
            "Saved /content/sample-002000-U-M.png\n",
            "Iteration [ 2100/ 5000] | d_real_loss: 0.3449 | d_U_loss: 0.0261 | d_M_loss: 0.1733 | d_fake_loss: 0.1994 | g_loss: 1.5555\n",
            "Iteration [ 2200/ 5000] | d_real_loss: 0.3762 | d_U_loss: 0.0376 | d_M_loss: 0.1722 | d_fake_loss: 0.2098 | g_loss: 1.0368\n",
            "Iteration [ 2300/ 5000] | d_real_loss: 0.3984 | d_U_loss: 0.2010 | d_M_loss: 0.1697 | d_fake_loss: 0.3707 | g_loss: 0.6282\n",
            "Iteration [ 2400/ 5000] | d_real_loss: 0.4593 | d_U_loss: 0.0446 | d_M_loss: 0.1720 | d_fake_loss: 0.2166 | g_loss: 1.7098\n",
            "Iteration [ 2500/ 5000] | d_real_loss: 0.3839 | d_U_loss: 0.2482 | d_M_loss: 0.1694 | d_fake_loss: 0.4176 | g_loss: 0.4289\n",
            "Iteration [ 2600/ 5000] | d_real_loss: 0.4225 | d_U_loss: 0.0449 | d_M_loss: 0.1673 | d_fake_loss: 0.2122 | g_loss: 0.7769\n",
            "Iteration [ 2700/ 5000] | d_real_loss: 0.3558 | d_U_loss: 0.2267 | d_M_loss: 0.1732 | d_fake_loss: 0.3998 | g_loss: 0.5552\n",
            "Iteration [ 2800/ 5000] | d_real_loss: 0.3483 | d_U_loss: 0.0556 | d_M_loss: 0.1740 | d_fake_loss: 0.2296 | g_loss: 1.1944\n",
            "Iteration [ 2900/ 5000] | d_real_loss: 0.4324 | d_U_loss: 0.0309 | d_M_loss: 0.1783 | d_fake_loss: 0.2092 | g_loss: 1.1879\n"
          ],
          "name": "stdout"
        },
        {
          "output_type": "stream",
          "text": [
            "WARNING:root:Lossy conversion from float64 to uint8. Range [-1.0, 1.0]. Convert image to uint8 prior to saving to suppress this warning.\n",
            "WARNING:root:Lossy conversion from float64 to uint8. Range [-1.0, 0.9977153539657593]. Convert image to uint8 prior to saving to suppress this warning.\n"
          ],
          "name": "stderr"
        },
        {
          "output_type": "stream",
          "text": [
            "Iteration [ 3000/ 5000] | d_real_loss: 0.3541 | d_U_loss: 0.0582 | d_M_loss: 0.1671 | d_fake_loss: 0.2253 | g_loss: 1.1032\n",
            "Saved /content/sample-003000-M-U.png\n",
            "Saved /content/sample-003000-U-M.png\n",
            "Iteration [ 3100/ 5000] | d_real_loss: 0.3446 | d_U_loss: 0.1205 | d_M_loss: 0.1791 | d_fake_loss: 0.2996 | g_loss: 0.8346\n",
            "Iteration [ 3200/ 5000] | d_real_loss: 0.3460 | d_U_loss: 0.0419 | d_M_loss: 0.1738 | d_fake_loss: 0.2156 | g_loss: 1.0591\n",
            "Iteration [ 3300/ 5000] | d_real_loss: 0.3452 | d_U_loss: 0.0657 | d_M_loss: 0.1750 | d_fake_loss: 0.2407 | g_loss: 1.2028\n",
            "Iteration [ 3400/ 5000] | d_real_loss: 0.3552 | d_U_loss: 0.1709 | d_M_loss: 0.1666 | d_fake_loss: 0.3374 | g_loss: 0.6767\n",
            "Iteration [ 3500/ 5000] | d_real_loss: 0.3452 | d_U_loss: 0.1044 | d_M_loss: 0.1709 | d_fake_loss: 0.2753 | g_loss: 0.8850\n",
            "Iteration [ 3600/ 5000] | d_real_loss: 0.3348 | d_U_loss: 0.0446 | d_M_loss: 0.1755 | d_fake_loss: 0.2201 | g_loss: 1.9598\n",
            "Iteration [ 3700/ 5000] | d_real_loss: 0.3355 | d_U_loss: 0.0348 | d_M_loss: 0.1781 | d_fake_loss: 0.2129 | g_loss: 1.3568\n",
            "Iteration [ 3800/ 5000] | d_real_loss: 0.3483 | d_U_loss: 0.0173 | d_M_loss: 0.1748 | d_fake_loss: 0.1921 | g_loss: 1.2771\n",
            "Iteration [ 3900/ 5000] | d_real_loss: 0.5012 | d_U_loss: 0.0234 | d_M_loss: 0.1705 | d_fake_loss: 0.1939 | g_loss: 1.0525\n"
          ],
          "name": "stdout"
        },
        {
          "output_type": "stream",
          "text": [
            "WARNING:root:Lossy conversion from float64 to uint8. Range [-1.0, 1.0]. Convert image to uint8 prior to saving to suppress this warning.\n",
            "WARNING:root:Lossy conversion from float64 to uint8. Range [-1.0, 0.9931633472442627]. Convert image to uint8 prior to saving to suppress this warning.\n"
          ],
          "name": "stderr"
        },
        {
          "output_type": "stream",
          "text": [
            "Iteration [ 4000/ 5000] | d_real_loss: 0.4295 | d_U_loss: 0.1395 | d_M_loss: 0.1801 | d_fake_loss: 0.3196 | g_loss: 0.9699\n",
            "Saved /content/sample-004000-M-U.png\n",
            "Saved /content/sample-004000-U-M.png\n",
            "Iteration [ 4100/ 5000] | d_real_loss: 0.3921 | d_U_loss: 0.0366 | d_M_loss: 0.1752 | d_fake_loss: 0.2118 | g_loss: 0.9103\n",
            "Iteration [ 4200/ 5000] | d_real_loss: 0.3415 | d_U_loss: 0.0465 | d_M_loss: 0.1726 | d_fake_loss: 0.2191 | g_loss: 1.5730\n",
            "Iteration [ 4300/ 5000] | d_real_loss: 0.3380 | d_U_loss: 0.0256 | d_M_loss: 0.1786 | d_fake_loss: 0.2042 | g_loss: 1.4574\n",
            "Iteration [ 4400/ 5000] | d_real_loss: 0.4085 | d_U_loss: 0.1961 | d_M_loss: 0.1758 | d_fake_loss: 0.3719 | g_loss: 0.9770\n",
            "Iteration [ 4500/ 5000] | d_real_loss: 0.3521 | d_U_loss: 0.0311 | d_M_loss: 0.1757 | d_fake_loss: 0.2068 | g_loss: 1.0087\n",
            "Iteration [ 4600/ 5000] | d_real_loss: 0.3607 | d_U_loss: 0.2571 | d_M_loss: 0.1786 | d_fake_loss: 0.4357 | g_loss: 0.5268\n",
            "Iteration [ 4700/ 5000] | d_real_loss: 0.4397 | d_U_loss: 0.0353 | d_M_loss: 0.1788 | d_fake_loss: 0.2141 | g_loss: 0.8535\n",
            "Iteration [ 4800/ 5000] | d_real_loss: 0.3877 | d_U_loss: 0.0478 | d_M_loss: 0.1772 | d_fake_loss: 0.2250 | g_loss: 1.0797\n",
            "Iteration [ 4900/ 5000] | d_real_loss: 0.3380 | d_U_loss: 0.0897 | d_M_loss: 0.1765 | d_fake_loss: 0.2662 | g_loss: 0.8917\n"
          ],
          "name": "stdout"
        },
        {
          "output_type": "stream",
          "text": [
            "WARNING:root:Lossy conversion from float64 to uint8. Range [-1.0, 1.0]. Convert image to uint8 prior to saving to suppress this warning.\n",
            "WARNING:root:Lossy conversion from float64 to uint8. Range [-1.0, 0.9979041218757629]. Convert image to uint8 prior to saving to suppress this warning.\n"
          ],
          "name": "stderr"
        },
        {
          "output_type": "stream",
          "text": [
            "Iteration [ 5000/ 5000] | d_real_loss: 0.3359 | d_U_loss: 0.0359 | d_M_loss: 0.1802 | d_fake_loss: 0.2160 | g_loss: 1.0683\n",
            "Saved /content/sample-005000-M-U.png\n",
            "Saved /content/sample-005000-U-M.png\n"
          ],
          "name": "stdout"
        }
      ]
    },
    {
      "cell_type": "code",
      "metadata": {
        "id": "HGjWBRrA74G6",
        "colab_type": "code",
        "outputId": "213c4fda-a0f6-4c7e-ea58-a5eb805593f6",
        "colab": {
          "base_uri": "https://localhost:8080/",
          "height": 273
        }
      },
      "source": [
        "from PIL import Image\n",
        "image = Image.open('/content/sample-005000-U-M.png')\n",
        "image"
      ],
      "execution_count": 0,
      "outputs": [
        {
          "output_type": "execute_result",
          "data": {
            "image/png": "[encoded data removed]",
            "text/plain": [
              "<PIL.PngImagePlugin.PngImageFile image mode=RGB size=512x256 at 0x7F059F51E7B8>"
            ]
          },
          "metadata": {
            "tags": []
          },
          "execution_count": 46
        }
      ]
    },
    {
      "cell_type": "code",
      "metadata": {
        "id": "Fd0elE7Ecuhv",
        "colab_type": "code",
        "outputId": "1822ac11-2071-49f5-98d3-480f19b57c26",
        "colab": {
          "base_uri": "https://localhost:8080/",
          "height": 273
        }
      },
      "source": [
        "from PIL import Image\n",
        "image = Image.open('/content/sample-005000-M-U.png')\n",
        "image"
      ],
      "execution_count": 0,
      "outputs": [
        {
          "output_type": "execute_result",
          "data": {
            "image/png": "[encoded data removed]",
            "text/plain": [
              "<PIL.PngImagePlugin.PngImageFile image mode=RGB size=512x256 at 0x7F059F51E9B0>"
            ]
          },
          "metadata": {
            "tags": []
          },
          "execution_count": 47
        }
      ]
    },
    {
      "cell_type": "code",
      "metadata": {
        "id": "id1tpHyidAdr",
        "colab_type": "code",
        "outputId": "2ef53785-bca9-4e8f-a5d8-009a7042ff6a",
        "colab": {
          "base_uri": "https://localhost:8080/",
          "height": 1000
        }
      },
      "source": [
        "training_loop(M_train_loader, U_train_loader, M_test_loader, U_test_loader, sample_every=1000,  lr=0.0002, train_iters=5000, log_step = 100,  use_cycle_consistency_loss=False)"
      ],
      "execution_count": 0,
      "outputs": [
        {
          "output_type": "stream",
          "text": [
            "                 G_MtoU                \n",
            "---------------------------------------\n",
            "G_MNIST_USPS(\n",
            "  (conv1): Sequential(\n",
            "    (0): Conv2d(1, 64, kernel_size=(4, 4), stride=(2, 2), padding=(1, 1), bias=False)\n",
            "    (1): BatchNorm2d(64, eps=1e-05, momentum=0.1, affine=True, track_running_stats=True)\n",
            "  )\n",
            "  (conv2): Sequential(\n",
            "    (0): Conv2d(64, 128, kernel_size=(4, 4), stride=(2, 2), padding=(1, 1), bias=False)\n",
            "    (1): BatchNorm2d(128, eps=1e-05, momentum=0.1, affine=True, track_running_stats=True)\n",
            "  )\n",
            "  (conv3): Sequential(\n",
            "    (0): Conv2d(128, 128, kernel_size=(3, 3), stride=(1, 1), padding=(1, 1), bias=False)\n",
            "    (1): BatchNorm2d(128, eps=1e-05, momentum=0.1, affine=True, track_running_stats=True)\n",
            "  )\n",
            "  (conv4): Sequential(\n",
            "    (0): Conv2d(128, 128, kernel_size=(3, 3), stride=(1, 1), padding=(1, 1), bias=False)\n",
            "    (1): BatchNorm2d(128, eps=1e-05, momentum=0.1, affine=True, track_running_stats=True)\n",
            "  )\n",
            "  (deconv1): Sequential(\n",
            "    (0): ConvTranspose2d(128, 64, kernel_size=(4, 4), stride=(2, 2), padding=(1, 1), bias=False)\n",
            "    (1): BatchNorm2d(64, eps=1e-05, momentum=0.1, affine=True, track_running_stats=True)\n",
            "  )\n",
            "  (deconv2): Sequential(\n",
            "    (0): ConvTranspose2d(64, 1, kernel_size=(4, 4), stride=(2, 2), padding=(1, 1), bias=False)\n",
            "  )\n",
            ")\n",
            "---------------------------------------\n",
            "                 G_UtoM                \n",
            "---------------------------------------\n",
            "G_USPS_MNIST(\n",
            "  (conv1): Sequential(\n",
            "    (0): Conv2d(1, 64, kernel_size=(4, 4), stride=(2, 2), padding=(1, 1), bias=False)\n",
            "    (1): BatchNorm2d(64, eps=1e-05, momentum=0.1, affine=True, track_running_stats=True)\n",
            "  )\n",
            "  (conv2): Sequential(\n",
            "    (0): Conv2d(64, 128, kernel_size=(4, 4), stride=(2, 2), padding=(1, 1), bias=False)\n",
            "    (1): BatchNorm2d(128, eps=1e-05, momentum=0.1, affine=True, track_running_stats=True)\n",
            "  )\n",
            "  (conv3): Sequential(\n",
            "    (0): Conv2d(128, 128, kernel_size=(3, 3), stride=(1, 1), padding=(1, 1), bias=False)\n",
            "    (1): BatchNorm2d(128, eps=1e-05, momentum=0.1, affine=True, track_running_stats=True)\n",
            "  )\n",
            "  (conv4): Sequential(\n",
            "    (0): Conv2d(128, 128, kernel_size=(3, 3), stride=(1, 1), padding=(1, 1), bias=False)\n",
            "    (1): BatchNorm2d(128, eps=1e-05, momentum=0.1, affine=True, track_running_stats=True)\n",
            "  )\n",
            "  (deconv1): Sequential(\n",
            "    (0): ConvTranspose2d(128, 64, kernel_size=(4, 4), stride=(2, 2), padding=(1, 1), bias=False)\n",
            "    (1): BatchNorm2d(64, eps=1e-05, momentum=0.1, affine=True, track_running_stats=True)\n",
            "  )\n",
            "  (deconv2): Sequential(\n",
            "    (0): ConvTranspose2d(64, 1, kernel_size=(4, 4), stride=(2, 2), padding=(1, 1), bias=False)\n",
            "  )\n",
            ")\n",
            "---------------------------------------\n",
            "                  D_M                  \n",
            "---------------------------------------\n",
            "D_MNIST(\n",
            "  (conv1): Sequential(\n",
            "    (0): Conv2d(1, 64, kernel_size=(4, 4), stride=(2, 2), padding=(1, 1), bias=False)\n",
            "  )\n",
            "  (conv2): Sequential(\n",
            "    (0): Conv2d(64, 128, kernel_size=(4, 4), stride=(2, 2), padding=(1, 1), bias=False)\n",
            "    (1): BatchNorm2d(128, eps=1e-05, momentum=0.1, affine=True, track_running_stats=True)\n",
            "  )\n",
            "  (conv3): Sequential(\n",
            "    (0): Conv2d(128, 256, kernel_size=(4, 4), stride=(2, 2), padding=(1, 1), bias=False)\n",
            "    (1): BatchNorm2d(256, eps=1e-05, momentum=0.1, affine=True, track_running_stats=True)\n",
            "  )\n",
            "  (fc): Sequential(\n",
            "    (0): Conv2d(256, 1, kernel_size=(4, 4), stride=(1, 1), bias=False)\n",
            "  )\n",
            ")\n",
            "---------------------------------------\n",
            "                  D_U                  \n",
            "---------------------------------------\n",
            "D_USPS(\n",
            "  (conv1): Sequential(\n",
            "    (0): Conv2d(1, 64, kernel_size=(4, 4), stride=(2, 2), padding=(1, 1), bias=False)\n",
            "  )\n",
            "  (conv2): Sequential(\n",
            "    (0): Conv2d(64, 128, kernel_size=(4, 4), stride=(2, 2), padding=(1, 1), bias=False)\n",
            "    (1): BatchNorm2d(128, eps=1e-05, momentum=0.1, affine=True, track_running_stats=True)\n",
            "  )\n",
            "  (conv3): Sequential(\n",
            "    (0): Conv2d(128, 256, kernel_size=(4, 4), stride=(2, 2), padding=(1, 1), bias=False)\n",
            "    (1): BatchNorm2d(256, eps=1e-05, momentum=0.1, affine=True, track_running_stats=True)\n",
            "  )\n",
            "  (fc): Sequential(\n",
            "    (0): Conv2d(256, 1, kernel_size=(4, 4), stride=(1, 1), bias=False)\n",
            "  )\n",
            ")\n",
            "---------------------------------------\n",
            "Models moved to GPU.\n",
            "Iteration [  100/ 5000] | d_real_loss: 0.0721 | d_U_loss: 0.0040 | d_M_loss: 0.0391 | d_fake_loss: 0.0431 | g_loss: 1.2120\n",
            "Iteration [  200/ 5000] | d_real_loss: 0.0684 | d_U_loss: 0.0034 | d_M_loss: 0.0782 | d_fake_loss: 0.0815 | g_loss: 0.9873\n",
            "Iteration [  300/ 5000] | d_real_loss: 0.0596 | d_U_loss: 0.0152 | d_M_loss: 0.0868 | d_fake_loss: 0.1020 | g_loss: 1.0687\n",
            "Iteration [  400/ 5000] | d_real_loss: 0.1433 | d_U_loss: 0.0975 | d_M_loss: 0.0611 | d_fake_loss: 0.1585 | g_loss: 0.8054\n",
            "Iteration [  500/ 5000] | d_real_loss: 0.2664 | d_U_loss: 0.1609 | d_M_loss: 0.0280 | d_fake_loss: 0.1889 | g_loss: 0.5845\n",
            "Iteration [  600/ 5000] | d_real_loss: 0.3736 | d_U_loss: 0.0593 | d_M_loss: 0.0593 | d_fake_loss: 0.1186 | g_loss: 0.5611\n",
            "Iteration [  700/ 5000] | d_real_loss: 0.1110 | d_U_loss: 0.0427 | d_M_loss: 0.0449 | d_fake_loss: 0.0876 | g_loss: 0.7654\n",
            "Iteration [  800/ 5000] | d_real_loss: 0.1225 | d_U_loss: 0.0705 | d_M_loss: 0.0780 | d_fake_loss: 0.1485 | g_loss: 1.2517\n",
            "Iteration [  900/ 5000] | d_real_loss: 0.1032 | d_U_loss: 0.0510 | d_M_loss: 0.0984 | d_fake_loss: 0.1494 | g_loss: 1.1654\n"
          ],
          "name": "stdout"
        },
        {
          "output_type": "stream",
          "text": [
            "WARNING:root:Lossy conversion from float64 to uint8. Range [-1.0, 1.0]. Convert image to uint8 prior to saving to suppress this warning.\n",
            "WARNING:root:Lossy conversion from float64 to uint8. Range [-1.0, 0.9990125298500061]. Convert image to uint8 prior to saving to suppress this warning.\n"
          ],
          "name": "stderr"
        },
        {
          "output_type": "stream",
          "text": [
            "Iteration [ 1000/ 5000] | d_real_loss: 0.2220 | d_U_loss: 0.0932 | d_M_loss: 0.0504 | d_fake_loss: 0.1436 | g_loss: 0.9194\n",
            "Saved /content/sample-001000-M-U.png\n",
            "Saved /content/sample-001000-U-M.png\n",
            "Iteration [ 1100/ 5000] | d_real_loss: 0.1619 | d_U_loss: 0.2259 | d_M_loss: 0.1988 | d_fake_loss: 0.4247 | g_loss: 0.6991\n",
            "Iteration [ 1200/ 5000] | d_real_loss: 0.2109 | d_U_loss: 0.0424 | d_M_loss: 0.0451 | d_fake_loss: 0.0874 | g_loss: 1.1110\n",
            "Iteration [ 1300/ 5000] | d_real_loss: 0.3366 | d_U_loss: 0.0370 | d_M_loss: 0.1136 | d_fake_loss: 0.1505 | g_loss: 0.7218\n",
            "Iteration [ 1400/ 5000] | d_real_loss: 0.1829 | d_U_loss: 0.1464 | d_M_loss: 0.0465 | d_fake_loss: 0.1930 | g_loss: 1.1514\n",
            "Iteration [ 1500/ 5000] | d_real_loss: 0.3740 | d_U_loss: 0.0936 | d_M_loss: 0.0359 | d_fake_loss: 0.1295 | g_loss: 0.5534\n",
            "Iteration [ 1600/ 5000] | d_real_loss: 0.2273 | d_U_loss: 0.1515 | d_M_loss: 0.0726 | d_fake_loss: 0.2241 | g_loss: 0.5994\n",
            "Iteration [ 1700/ 5000] | d_real_loss: 0.1631 | d_U_loss: 0.3557 | d_M_loss: 0.0822 | d_fake_loss: 0.4379 | g_loss: 0.4746\n",
            "Iteration [ 1800/ 5000] | d_real_loss: 0.2049 | d_U_loss: 0.0672 | d_M_loss: 0.0934 | d_fake_loss: 0.1606 | g_loss: 0.7013\n",
            "Iteration [ 1900/ 5000] | d_real_loss: 0.1450 | d_U_loss: 0.4244 | d_M_loss: 0.0503 | d_fake_loss: 0.4746 | g_loss: 0.4633\n"
          ],
          "name": "stdout"
        },
        {
          "output_type": "stream",
          "text": [
            "WARNING:root:Lossy conversion from float64 to uint8. Range [-1.0, 1.0]. Convert image to uint8 prior to saving to suppress this warning.\n",
            "WARNING:root:Lossy conversion from float64 to uint8. Range [-1.0, 0.9921956658363342]. Convert image to uint8 prior to saving to suppress this warning.\n"
          ],
          "name": "stderr"
        },
        {
          "output_type": "stream",
          "text": [
            "Iteration [ 2000/ 5000] | d_real_loss: 0.1403 | d_U_loss: 0.0380 | d_M_loss: 0.0597 | d_fake_loss: 0.0977 | g_loss: 1.2202\n",
            "Saved /content/sample-002000-M-U.png\n",
            "Saved /content/sample-002000-U-M.png\n",
            "Iteration [ 2100/ 5000] | d_real_loss: 0.3136 | d_U_loss: 0.0427 | d_M_loss: 0.0583 | d_fake_loss: 0.1010 | g_loss: 0.8064\n",
            "Iteration [ 2200/ 5000] | d_real_loss: 0.0880 | d_U_loss: 0.1548 | d_M_loss: 0.0453 | d_fake_loss: 0.2001 | g_loss: 0.7306\n",
            "Iteration [ 2300/ 5000] | d_real_loss: 0.2123 | d_U_loss: 0.1884 | d_M_loss: 0.0650 | d_fake_loss: 0.2533 | g_loss: 0.5011\n",
            "Iteration [ 2400/ 5000] | d_real_loss: 0.2846 | d_U_loss: 0.2948 | d_M_loss: 0.0292 | d_fake_loss: 0.3240 | g_loss: 0.5928\n",
            "Iteration [ 2500/ 5000] | d_real_loss: 0.1387 | d_U_loss: 0.0471 | d_M_loss: 0.0510 | d_fake_loss: 0.0981 | g_loss: 0.6433\n",
            "Iteration [ 2600/ 5000] | d_real_loss: 0.0956 | d_U_loss: 0.1729 | d_M_loss: 0.0361 | d_fake_loss: 0.2090 | g_loss: 0.5021\n",
            "Iteration [ 2700/ 5000] | d_real_loss: 0.0478 | d_U_loss: 0.0654 | d_M_loss: 0.0301 | d_fake_loss: 0.0954 | g_loss: 1.1659\n",
            "Iteration [ 2800/ 5000] | d_real_loss: 0.2373 | d_U_loss: 0.0490 | d_M_loss: 0.0463 | d_fake_loss: 0.0953 | g_loss: 0.8364\n",
            "Iteration [ 2900/ 5000] | d_real_loss: 0.2991 | d_U_loss: 0.0939 | d_M_loss: 0.0433 | d_fake_loss: 0.1372 | g_loss: 0.5347\n"
          ],
          "name": "stdout"
        },
        {
          "output_type": "stream",
          "text": [
            "WARNING:root:Lossy conversion from float64 to uint8. Range [-1.0, 1.0]. Convert image to uint8 prior to saving to suppress this warning.\n",
            "WARNING:root:Lossy conversion from float64 to uint8. Range [-1.0, 0.9937154650688171]. Convert image to uint8 prior to saving to suppress this warning.\n"
          ],
          "name": "stderr"
        },
        {
          "output_type": "stream",
          "text": [
            "Iteration [ 3000/ 5000] | d_real_loss: 0.2272 | d_U_loss: 0.0386 | d_M_loss: 0.0846 | d_fake_loss: 0.1232 | g_loss: 0.7984\n",
            "Saved /content/sample-003000-M-U.png\n",
            "Saved /content/sample-003000-U-M.png\n",
            "Iteration [ 3100/ 5000] | d_real_loss: 0.4039 | d_U_loss: 0.0627 | d_M_loss: 0.0470 | d_fake_loss: 0.1097 | g_loss: 0.6154\n",
            "Iteration [ 3200/ 5000] | d_real_loss: 0.2297 | d_U_loss: 0.0504 | d_M_loss: 0.0284 | d_fake_loss: 0.0788 | g_loss: 1.0219\n",
            "Iteration [ 3300/ 5000] | d_real_loss: 0.0638 | d_U_loss: 0.0426 | d_M_loss: 0.0409 | d_fake_loss: 0.0836 | g_loss: 1.0732\n",
            "Iteration [ 3400/ 5000] | d_real_loss: 0.1972 | d_U_loss: 0.1194 | d_M_loss: 0.0188 | d_fake_loss: 0.1382 | g_loss: 0.5326\n",
            "Iteration [ 3500/ 5000] | d_real_loss: 0.0953 | d_U_loss: 0.0725 | d_M_loss: 0.0221 | d_fake_loss: 0.0946 | g_loss: 1.0044\n",
            "Iteration [ 3600/ 5000] | d_real_loss: 0.2176 | d_U_loss: 0.1941 | d_M_loss: 0.0697 | d_fake_loss: 0.2638 | g_loss: 0.6038\n",
            "Iteration [ 3700/ 5000] | d_real_loss: 0.0930 | d_U_loss: 0.0787 | d_M_loss: 0.0238 | d_fake_loss: 0.1025 | g_loss: 0.8421\n",
            "Iteration [ 3800/ 5000] | d_real_loss: 0.1058 | d_U_loss: 0.1044 | d_M_loss: 0.0250 | d_fake_loss: 0.1295 | g_loss: 0.7309\n",
            "Iteration [ 3900/ 5000] | d_real_loss: 0.1456 | d_U_loss: 0.0243 | d_M_loss: 0.0350 | d_fake_loss: 0.0594 | g_loss: 1.1125\n"
          ],
          "name": "stdout"
        },
        {
          "output_type": "stream",
          "text": [
            "WARNING:root:Lossy conversion from float64 to uint8. Range [-1.0, 1.0]. Convert image to uint8 prior to saving to suppress this warning.\n",
            "WARNING:root:Lossy conversion from float64 to uint8. Range [-1.0, 0.9946696758270264]. Convert image to uint8 prior to saving to suppress this warning.\n"
          ],
          "name": "stderr"
        },
        {
          "output_type": "stream",
          "text": [
            "Iteration [ 4000/ 5000] | d_real_loss: 0.1895 | d_U_loss: 0.0846 | d_M_loss: 0.0301 | d_fake_loss: 0.1146 | g_loss: 0.7748\n",
            "Saved /content/sample-004000-M-U.png\n",
            "Saved /content/sample-004000-U-M.png\n",
            "Iteration [ 4100/ 5000] | d_real_loss: 0.1045 | d_U_loss: 0.0651 | d_M_loss: 0.0607 | d_fake_loss: 0.1257 | g_loss: 1.3450\n",
            "Iteration [ 4200/ 5000] | d_real_loss: 0.2526 | d_U_loss: 0.0585 | d_M_loss: 0.0194 | d_fake_loss: 0.0779 | g_loss: 1.1409\n",
            "Iteration [ 4300/ 5000] | d_real_loss: 0.1311 | d_U_loss: 0.1578 | d_M_loss: 0.0387 | d_fake_loss: 0.1965 | g_loss: 0.6865\n",
            "Iteration [ 4400/ 5000] | d_real_loss: 0.1738 | d_U_loss: 0.0858 | d_M_loss: 0.0291 | d_fake_loss: 0.1149 | g_loss: 0.6862\n",
            "Iteration [ 4500/ 5000] | d_real_loss: 0.2106 | d_U_loss: 0.0381 | d_M_loss: 0.0548 | d_fake_loss: 0.0930 | g_loss: 0.7724\n",
            "Iteration [ 4600/ 5000] | d_real_loss: 0.1131 | d_U_loss: 0.0545 | d_M_loss: 0.0470 | d_fake_loss: 0.1015 | g_loss: 1.0520\n",
            "Iteration [ 4700/ 5000] | d_real_loss: 0.1715 | d_U_loss: 0.0777 | d_M_loss: 0.0481 | d_fake_loss: 0.1258 | g_loss: 0.5797\n",
            "Iteration [ 4800/ 5000] | d_real_loss: 0.2399 | d_U_loss: 0.1293 | d_M_loss: 0.0143 | d_fake_loss: 0.1435 | g_loss: 0.6415\n",
            "Iteration [ 4900/ 5000] | d_real_loss: 0.1267 | d_U_loss: 0.0430 | d_M_loss: 0.0797 | d_fake_loss: 0.1227 | g_loss: 1.1367\n"
          ],
          "name": "stdout"
        },
        {
          "output_type": "stream",
          "text": [
            "WARNING:root:Lossy conversion from float64 to uint8. Range [-1.0, 1.0]. Convert image to uint8 prior to saving to suppress this warning.\n",
            "WARNING:root:Lossy conversion from float64 to uint8. Range [-1.0, 0.9921568632125854]. Convert image to uint8 prior to saving to suppress this warning.\n"
          ],
          "name": "stderr"
        },
        {
          "output_type": "stream",
          "text": [
            "Iteration [ 5000/ 5000] | d_real_loss: 0.0940 | d_U_loss: 0.0284 | d_M_loss: 0.0433 | d_fake_loss: 0.0716 | g_loss: 0.8823\n",
            "Saved /content/sample-005000-M-U.png\n",
            "Saved /content/sample-005000-U-M.png\n"
          ],
          "name": "stdout"
        }
      ]
    },
    {
      "cell_type": "code",
      "metadata": {
        "id": "bss5S2VWvcmJ",
        "colab_type": "code",
        "outputId": "3d8ab99a-16ea-4a45-bee5-df97fcbdc2c0",
        "colab": {
          "base_uri": "https://localhost:8080/",
          "height": 273
        }
      },
      "source": [
        "from PIL import Image\n",
        "image = Image.open('/content/sample-005000-U-M.png')\n",
        "image"
      ],
      "execution_count": 0,
      "outputs": [
        {
          "output_type": "execute_result",
          "data": {
            "image/png": "[encoded data removed]",
            "text/plain": [
              "<PIL.PngImagePlugin.PngImageFile image mode=RGB size=512x256 at 0x7FBA9922A080>"
            ]
          },
          "metadata": {
            "tags": []
          },
          "execution_count": 27
        }
      ]
    },
    {
      "cell_type": "code",
      "metadata": {
        "id": "l5ruFbd3vjIU",
        "colab_type": "code",
        "colab": {}
      },
      "source": [
        ""
      ],
      "execution_count": 0,
      "outputs": []
    },
    {
      "cell_type": "markdown",
      "metadata": {
        "id": "VPtcxEDx-ay-",
        "colab_type": "text"
      },
      "source": [
        "# Testing Wassesrstein Cycle GAN "
      ]
    },
    {
      "cell_type": "markdown",
      "metadata": {
        "id": "YU7cxgZD_uF0",
        "colab_type": "text"
      },
      "source": [
        "What we need to modify : \n",
        "1. Turning the Adam optimizer into the RMS Prop optimizer \n",
        "2. The discriminator should not end with a sigmoid on the last layer (this is ok) \n",
        "3. D_loss =  -torch.mean(discriminator(real_imgs)) + torch.mean(discriminator(fake_imgs))\n",
        "\n",
        "\n",
        "G_loss = -torch.mean(D_fake)\n",
        "\n",
        "4. Clip parameters "
      ]
    },
    {
      "cell_type": "code",
      "metadata": {
        "id": "Ad2tc3lV_lok",
        "colab_type": "code",
        "colab": {}
      },
      "source": [
        ""
      ],
      "execution_count": 0,
      "outputs": []
    },
    {
      "cell_type": "code",
      "metadata": {
        "id": "5ev-Mrd_-epC",
        "colab_type": "code",
        "colab": {}
      },
      "source": [
        "def training_loop(M_train_loader, U_train_loader, M_test_loader, U_test_loader, sample_every=1000,  lr=0.0002, train_iters=20000, log_step = 10, batch_size=64, use_cycle_consistency_loss=True):\n",
        "  # Create generators and discriminators\n",
        "  G_MtoU, G_UtoM, D_M, D_U = create_model()\n",
        "\n",
        "  g_params = list(G_MtoU.parameters()) + list(G_UtoM.parameters())  # Get generator parameters\n",
        "  d_m_params = list(D_M.parameters())  # Get discriminator parameters\n",
        "  d_u_params = list(D_U.parameters())  # Get discriminator parameters\n",
        "\n",
        "  # Create optimizers for the generators and discriminators\n",
        "  g_optimizer = optim.RMSprop(g_params, lr, alpha=0.99, eps=1e-08, weight_decay=0, momentum=0, centered=False)\n",
        "  d_m_optimizer = optim.RMSprop(d_m_params, lr, alpha=0.99, eps=1e-08, weight_decay=0, momentum=0, centered=False)\n",
        "  d_u_optimizer = optim.RMSprop(d_u_params, lr, alpha=0.99, eps=1e-08, weight_decay=0, momentum=0, centered=False)\n",
        "\n",
        "  iter_M = iter(M_train_loader)\n",
        "  iter_U = iter(U_train_loader)\n",
        "\n",
        "  test_iter_M = iter(M_test_loader)\n",
        "  test_iter_U = iter(U_test_loader)\n",
        "\n",
        "  fixed_M = to_var(test_iter_M.next()[0])\n",
        "  fixed_U = to_var(test_iter_U.next()[0])\n",
        "\n",
        "  iter_per_epoch = min(len(iter_M), len(iter_U))\n",
        "\n",
        "  for iteration in range(1, train_iters+1):\n",
        "\n",
        "      # Reset data_iter for each epoch\n",
        "      if iteration % iter_per_epoch == 0:\n",
        "          iter_M = iter(M_train_loader)\n",
        "          iter_U = iter(U_train_loader)\n",
        "\n",
        "      images_M, labels_M = iter_M.next()\n",
        "      images_M, labels_M = to_var(images_M), to_var(labels_M).long().squeeze()\n",
        "\n",
        "      images_U, labels_U = iter_U.next()\n",
        "      images_U, labels_U = to_var(images_U), to_var(labels_U).long().squeeze()\n",
        "\n",
        "      # ============================================\n",
        "      #            TRAIN THE DISCRIMINATORS\n",
        "      # ============================================\n",
        "\n",
        "      for _ in range(5):\n",
        "        # Train with real images\n",
        "        d_m_optimizer.zero_grad()\n",
        "        d_u_optimizer.zero_grad()\n",
        "\n",
        "        # Compute the discriminator losses on real images\n",
        "        out_M = D_M(images_M) # discriminator mnist true\n",
        "        D_M_loss = - torch.mean(out_M) \n",
        "\n",
        "        out_U = D_U(images_U)\n",
        "        D_U_loss = - torch.mean(out_U)\n",
        "\n",
        "        d_real_loss = D_M_loss + D_U_loss\n",
        "        d_real_loss_m = D_M_loss\n",
        "        d_real_loss_u = D_U_loss\n",
        "        #d_real_loss.backward()\n",
        "        #d_optimizer.step()\n",
        "\n",
        "        # Train with fake images\n",
        "        #d_optimizer.zero_grad()\n",
        "\n",
        "        # Generate fake images that look like domain MNIST based on real images in domain USPS\n",
        "        fake_M = G_UtoM(images_U)\n",
        "\n",
        "        # Compute the loss for D_M\n",
        "        out_M = D_M(fake_M)\n",
        "        D_M_loss =  torch.mean(out_M) \n",
        "\n",
        "        # 4. Generate fake images that look like domain U based on real images in domain M\n",
        "        fake_U = G_MtoU(images_M)\n",
        "\n",
        "        # 5. Compute the loss for D_U\n",
        "        out_U = D_U(fake_U)\n",
        "        D_U_loss = torch.mean(out_U) \n",
        "\n",
        "        d_fake_loss = D_M_loss + D_U_loss\n",
        "\n",
        "        d_loss = d_real_loss + d_fake_loss\n",
        "\n",
        "        d_fake_loss_m = D_M_loss\n",
        "        d_fake_loss_u = D_U_loss\n",
        "\n",
        "        d_loss_m = d_real_loss_m + d_fake_loss_m\n",
        "        d_loss_u = d_real_loss_u + d_fake_loss_u\n",
        "\n",
        "        d_loss_u.backward()\n",
        "        d_loss_m.backward()\n",
        "\n",
        "        d_m_optimizer.step()\n",
        "        d_u_optimizer.step()\n",
        "\n",
        "        #d_loss.backward()\n",
        "        #d_optimizer.step()\n",
        "\n",
        "        # Clipping discriminator parameters \n",
        "        for p in D_M.parameters():\n",
        "              p.data.clamp_(-0.01, 0.01)\n",
        "        \n",
        "        # Clipping discriminator parameters \n",
        "        for p in D_U.parameters():\n",
        "              p.data.clamp_(-0.01, 0.01)\n",
        "\n",
        "      # =========================================\n",
        "      #            TRAIN THE GENERATORS\n",
        "      # =========================================\n",
        "\n",
        "      ## U--M-->U \n",
        "\n",
        "      g_optimizer.zero_grad()\n",
        "\n",
        "      # 1. Generate fake images that look like domain M based on real images in domain U\n",
        "      fake_M = G_UtoM(images_U)\n",
        "      out = D_M(fake_M)\n",
        "\n",
        "      # 2. Compute the generator loss based on domain M\n",
        "\n",
        "      g_loss = - torch.mean(out)\n",
        "\n",
        "      if use_cycle_consistency_loss:\n",
        "          reconstructed_U = G_MtoU(fake_M)\n",
        "          # 3. Compute the cycle consistency loss (the reconstruction loss)\n",
        "          cycle_consistency_loss = torch.mean((images_U - reconstructed_U)**2)\n",
        "          g_loss += cycle_consistency_loss\n",
        "\n",
        "      #g_loss.backward()\n",
        "      #g_optimizer.step()\n",
        "\n",
        "      ## M--U-->M \n",
        "\n",
        "      #torch.mean((D_M(G_UtoM(images_U)-1)**2) + torch.mean((images_U - G_MtoU(G_UtoM(images_U)))**2)\n",
        "\n",
        "      #g_optimizer.zero_grad()\n",
        "\n",
        "      # 1. Generate fake images that look like domain U based on real images in domain M\n",
        "      fake_U = G_MtoU(images_M)\n",
        "      out = D_U(fake_U)\n",
        "\n",
        "      # 2. Compute the generator loss based on domain U\n",
        "      #g_loss = - torch.mean(out)\n",
        "      g_loss += - torch.mean(out)\n",
        "\n",
        "      if use_cycle_consistency_loss:\n",
        "          reconstructed_M = G_UtoM(fake_U)\n",
        "          # 3. Compute the cycle consistency loss (the reconstruction loss)\n",
        "          cycle_consistency_loss = torch.mean((images_M - reconstructed_M)**2)\n",
        "          g_loss += cycle_consistency_loss\n",
        "\n",
        "      g_loss.backward()\n",
        "      g_optimizer.step()\n",
        "\n",
        "\n",
        "      # Print the log info\n",
        "      if iteration % log_step == 0:\n",
        "          print('Iteration [{:5d}/{:5d}] | d_real_loss: {:6.4f} | d_U_loss: {:6.4f} | d_M_loss: {:6.4f} | '\n",
        "                'd_fake_loss: {:6.4f} | g_loss: {:6.4f}'.format(\n",
        "                  iteration, train_iters, d_real_loss.item(), D_U_loss.item(),\n",
        "                  D_M_loss.item(), d_fake_loss.item(), g_loss.item()))\n",
        "\n",
        "\n",
        "      # Save the generated samples\n",
        "      if iteration % sample_every == 0:\n",
        "          save_samples(iteration, fixed_U, fixed_M, G_UtoM, G_MtoU)"
      ],
      "execution_count": 0,
      "outputs": []
    },
    {
      "cell_type": "code",
      "metadata": {
        "id": "HWDo6oMe-er4",
        "colab_type": "code",
        "outputId": "aa5d0dc7-f5c4-477d-8907-5cd476bca211",
        "colab": {
          "base_uri": "https://localhost:8080/",
          "height": 1000
        }
      },
      "source": [
        "training_loop(M_train_loader, U_train_loader, M_test_loader, U_test_loader, sample_every=1000,  lr=0.0002, train_iters=5000, log_step = 100,  use_cycle_consistency_loss=False)"
      ],
      "execution_count": 0,
      "outputs": [
        {
          "output_type": "stream",
          "text": [
            "                 G_MtoU                \n",
            "---------------------------------------\n",
            "G_MNIST_USPS(\n",
            "  (conv1): Sequential(\n",
            "    (0): Conv2d(1, 64, kernel_size=(4, 4), stride=(2, 2), padding=(1, 1), bias=False)\n",
            "    (1): BatchNorm2d(64, eps=1e-05, momentum=0.1, affine=True, track_running_stats=True)\n",
            "  )\n",
            "  (conv2): Sequential(\n",
            "    (0): Conv2d(64, 128, kernel_size=(4, 4), stride=(2, 2), padding=(1, 1), bias=False)\n",
            "    (1): BatchNorm2d(128, eps=1e-05, momentum=0.1, affine=True, track_running_stats=True)\n",
            "  )\n",
            "  (conv3): Sequential(\n",
            "    (0): Conv2d(128, 128, kernel_size=(3, 3), stride=(1, 1), padding=(1, 1), bias=False)\n",
            "    (1): BatchNorm2d(128, eps=1e-05, momentum=0.1, affine=True, track_running_stats=True)\n",
            "  )\n",
            "  (conv4): Sequential(\n",
            "    (0): Conv2d(128, 128, kernel_size=(3, 3), stride=(1, 1), padding=(1, 1), bias=False)\n",
            "    (1): BatchNorm2d(128, eps=1e-05, momentum=0.1, affine=True, track_running_stats=True)\n",
            "  )\n",
            "  (deconv1): Sequential(\n",
            "    (0): ConvTranspose2d(128, 64, kernel_size=(4, 4), stride=(2, 2), padding=(1, 1), bias=False)\n",
            "    (1): BatchNorm2d(64, eps=1e-05, momentum=0.1, affine=True, track_running_stats=True)\n",
            "  )\n",
            "  (deconv2): Sequential(\n",
            "    (0): ConvTranspose2d(64, 1, kernel_size=(4, 4), stride=(2, 2), padding=(1, 1), bias=False)\n",
            "  )\n",
            ")\n",
            "---------------------------------------\n",
            "                 G_UtoM                \n",
            "---------------------------------------\n",
            "G_USPS_MNIST(\n",
            "  (conv1): Sequential(\n",
            "    (0): Conv2d(1, 64, kernel_size=(4, 4), stride=(2, 2), padding=(1, 1), bias=False)\n",
            "    (1): BatchNorm2d(64, eps=1e-05, momentum=0.1, affine=True, track_running_stats=True)\n",
            "  )\n",
            "  (conv2): Sequential(\n",
            "    (0): Conv2d(64, 128, kernel_size=(4, 4), stride=(2, 2), padding=(1, 1), bias=False)\n",
            "    (1): BatchNorm2d(128, eps=1e-05, momentum=0.1, affine=True, track_running_stats=True)\n",
            "  )\n",
            "  (conv3): Sequential(\n",
            "    (0): Conv2d(128, 128, kernel_size=(3, 3), stride=(1, 1), padding=(1, 1), bias=False)\n",
            "    (1): BatchNorm2d(128, eps=1e-05, momentum=0.1, affine=True, track_running_stats=True)\n",
            "  )\n",
            "  (conv4): Sequential(\n",
            "    (0): Conv2d(128, 128, kernel_size=(3, 3), stride=(1, 1), padding=(1, 1), bias=False)\n",
            "    (1): BatchNorm2d(128, eps=1e-05, momentum=0.1, affine=True, track_running_stats=True)\n",
            "  )\n",
            "  (deconv1): Sequential(\n",
            "    (0): ConvTranspose2d(128, 64, kernel_size=(4, 4), stride=(2, 2), padding=(1, 1), bias=False)\n",
            "    (1): BatchNorm2d(64, eps=1e-05, momentum=0.1, affine=True, track_running_stats=True)\n",
            "  )\n",
            "  (deconv2): Sequential(\n",
            "    (0): ConvTranspose2d(64, 1, kernel_size=(4, 4), stride=(2, 2), padding=(1, 1), bias=False)\n",
            "  )\n",
            ")\n",
            "---------------------------------------\n",
            "                  D_M                  \n",
            "---------------------------------------\n",
            "D_MNIST(\n",
            "  (conv1): Sequential(\n",
            "    (0): Conv2d(1, 64, kernel_size=(4, 4), stride=(2, 2), padding=(1, 1), bias=False)\n",
            "  )\n",
            "  (conv2): Sequential(\n",
            "    (0): Conv2d(64, 128, kernel_size=(4, 4), stride=(2, 2), padding=(1, 1), bias=False)\n",
            "    (1): BatchNorm2d(128, eps=1e-05, momentum=0.1, affine=True, track_running_stats=True)\n",
            "  )\n",
            "  (conv3): Sequential(\n",
            "    (0): Conv2d(128, 256, kernel_size=(4, 4), stride=(2, 2), padding=(1, 1), bias=False)\n",
            "    (1): BatchNorm2d(256, eps=1e-05, momentum=0.1, affine=True, track_running_stats=True)\n",
            "  )\n",
            "  (fc): Sequential(\n",
            "    (0): Conv2d(256, 1, kernel_size=(4, 4), stride=(1, 1), bias=False)\n",
            "  )\n",
            ")\n",
            "---------------------------------------\n",
            "                  D_U                  \n",
            "---------------------------------------\n",
            "D_USPS(\n",
            "  (conv1): Sequential(\n",
            "    (0): Conv2d(1, 64, kernel_size=(4, 4), stride=(2, 2), padding=(1, 1), bias=False)\n",
            "  )\n",
            "  (conv2): Sequential(\n",
            "    (0): Conv2d(64, 128, kernel_size=(4, 4), stride=(2, 2), padding=(1, 1), bias=False)\n",
            "    (1): BatchNorm2d(128, eps=1e-05, momentum=0.1, affine=True, track_running_stats=True)\n",
            "  )\n",
            "  (conv3): Sequential(\n",
            "    (0): Conv2d(128, 256, kernel_size=(4, 4), stride=(2, 2), padding=(1, 1), bias=False)\n",
            "    (1): BatchNorm2d(256, eps=1e-05, momentum=0.1, affine=True, track_running_stats=True)\n",
            "  )\n",
            "  (fc): Sequential(\n",
            "    (0): Conv2d(256, 1, kernel_size=(4, 4), stride=(1, 1), bias=False)\n",
            "  )\n",
            ")\n",
            "---------------------------------------\n",
            "Models moved to GPU.\n",
            "Iteration [  100/ 5000] | d_real_loss: -0.1877 | d_U_loss: -0.1227 | d_M_loss: -0.0908 | d_fake_loss: -0.2135 | g_loss: 0.0965\n",
            "Iteration [  200/ 5000] | d_real_loss: -0.2461 | d_U_loss: -0.0023 | d_M_loss: -0.2120 | d_fake_loss: -0.2143 | g_loss: 0.2985\n",
            "Iteration [  300/ 5000] | d_real_loss: -0.1500 | d_U_loss: -0.2189 | d_M_loss: -0.0993 | d_fake_loss: -0.3182 | g_loss: 0.2108\n",
            "Iteration [  400/ 5000] | d_real_loss: -0.2491 | d_U_loss: -0.1221 | d_M_loss: -0.1445 | d_fake_loss: -0.2667 | g_loss: 0.1679\n",
            "Iteration [  500/ 5000] | d_real_loss: -0.3618 | d_U_loss: -0.0247 | d_M_loss: -0.0265 | d_fake_loss: -0.0512 | g_loss: 0.4321\n",
            "Iteration [  600/ 5000] | d_real_loss: -0.4501 | d_U_loss: 0.0449 | d_M_loss: -0.0229 | d_fake_loss: 0.0220 | g_loss: 0.4714\n",
            "Iteration [  700/ 5000] | d_real_loss: -0.2318 | d_U_loss: -0.1796 | d_M_loss: 0.0244 | d_fake_loss: -0.1553 | g_loss: 0.1673\n",
            "Iteration [  800/ 5000] | d_real_loss: -0.1545 | d_U_loss: -0.0978 | d_M_loss: -0.1399 | d_fake_loss: -0.2377 | g_loss: 0.1330\n",
            "Iteration [  900/ 5000] | d_real_loss: -0.2781 | d_U_loss: 0.0563 | d_M_loss: -0.1480 | d_fake_loss: -0.0917 | g_loss: 0.2893\n"
          ],
          "name": "stdout"
        },
        {
          "output_type": "stream",
          "text": [
            "WARNING:root:Lossy conversion from float64 to uint8. Range [-1.0, 1.0]. Convert image to uint8 prior to saving to suppress this warning.\n",
            "WARNING:root:Lossy conversion from float64 to uint8. Range [-1.0, 0.9989150166511536]. Convert image to uint8 prior to saving to suppress this warning.\n"
          ],
          "name": "stderr"
        },
        {
          "output_type": "stream",
          "text": [
            "Iteration [ 1000/ 5000] | d_real_loss: -0.4124 | d_U_loss: 0.0946 | d_M_loss: 0.0057 | d_fake_loss: 0.1003 | g_loss: 0.4309\n",
            "Saved /content/sample-001000-M-U.png\n",
            "Saved /content/sample-001000-U-M.png\n",
            "Iteration [ 1100/ 5000] | d_real_loss: -0.2091 | d_U_loss: -0.0367 | d_M_loss: -0.1201 | d_fake_loss: -0.1568 | g_loss: 0.2553\n",
            "Iteration [ 1200/ 5000] | d_real_loss: -0.2281 | d_U_loss: 0.0239 | d_M_loss: -0.1717 | d_fake_loss: -0.1478 | g_loss: 0.2339\n",
            "Iteration [ 1300/ 5000] | d_real_loss: -0.1451 | d_U_loss: -0.1951 | d_M_loss: -0.0334 | d_fake_loss: -0.2285 | g_loss: 0.2073\n",
            "Iteration [ 1400/ 5000] | d_real_loss: -0.2063 | d_U_loss: 0.0349 | d_M_loss: -0.1641 | d_fake_loss: -0.1292 | g_loss: 0.2399\n",
            "Iteration [ 1500/ 5000] | d_real_loss: -0.3129 | d_U_loss: 0.0821 | d_M_loss: -0.1149 | d_fake_loss: -0.0328 | g_loss: 0.2907\n",
            "Iteration [ 1600/ 5000] | d_real_loss: 0.0523 | d_U_loss: -0.1791 | d_M_loss: -0.1544 | d_fake_loss: -0.3336 | g_loss: 0.1110\n",
            "Iteration [ 1700/ 5000] | d_real_loss: -0.1225 | d_U_loss: -0.0561 | d_M_loss: -0.1378 | d_fake_loss: -0.1939 | g_loss: 0.1556\n",
            "Iteration [ 1800/ 5000] | d_real_loss: -0.3321 | d_U_loss: 0.0636 | d_M_loss: -0.0575 | d_fake_loss: 0.0060 | g_loss: 0.3660\n",
            "Iteration [ 1900/ 5000] | d_real_loss: -0.0425 | d_U_loss: -0.1614 | d_M_loss: -0.1075 | d_fake_loss: -0.2689 | g_loss: 0.1191\n"
          ],
          "name": "stdout"
        },
        {
          "output_type": "stream",
          "text": [
            "WARNING:root:Lossy conversion from float64 to uint8. Range [-1.0, 1.0]. Convert image to uint8 prior to saving to suppress this warning.\n",
            "WARNING:root:Lossy conversion from float64 to uint8. Range [-1.0, 0.9994796514511108]. Convert image to uint8 prior to saving to suppress this warning.\n"
          ],
          "name": "stderr"
        },
        {
          "output_type": "stream",
          "text": [
            "Iteration [ 2000/ 5000] | d_real_loss: -0.1396 | d_U_loss: 0.0277 | d_M_loss: -0.1790 | d_fake_loss: -0.1512 | g_loss: 0.1112\n",
            "Saved /content/sample-002000-M-U.png\n",
            "Saved /content/sample-002000-U-M.png\n",
            "Iteration [ 2100/ 5000] | d_real_loss: -0.1380 | d_U_loss: -0.1176 | d_M_loss: -0.0548 | d_fake_loss: -0.1725 | g_loss: 0.1081\n",
            "Iteration [ 2200/ 5000] | d_real_loss: -0.2318 | d_U_loss: -0.0026 | d_M_loss: -0.0972 | d_fake_loss: -0.0997 | g_loss: 0.3379\n",
            "Iteration [ 2300/ 5000] | d_real_loss: -0.1340 | d_U_loss: 0.0013 | d_M_loss: -0.1525 | d_fake_loss: -0.1512 | g_loss: 0.1743\n",
            "Iteration [ 2400/ 5000] | d_real_loss: -0.1555 | d_U_loss: -0.0638 | d_M_loss: -0.0999 | d_fake_loss: -0.1637 | g_loss: 0.2592\n",
            "Iteration [ 2500/ 5000] | d_real_loss: -0.1445 | d_U_loss: -0.0671 | d_M_loss: -0.0568 | d_fake_loss: -0.1239 | g_loss: 0.1956\n",
            "Iteration [ 2600/ 5000] | d_real_loss: 0.0378 | d_U_loss: -0.0925 | d_M_loss: -0.1825 | d_fake_loss: -0.2750 | g_loss: -0.0226\n",
            "Iteration [ 2700/ 5000] | d_real_loss: -0.2465 | d_U_loss: -0.0483 | d_M_loss: 0.0176 | d_fake_loss: -0.0308 | g_loss: 0.2327\n",
            "Iteration [ 2800/ 5000] | d_real_loss: -0.0399 | d_U_loss: -0.0518 | d_M_loss: -0.1796 | d_fake_loss: -0.2314 | g_loss: 0.0385\n",
            "Iteration [ 2900/ 5000] | d_real_loss: -0.1480 | d_U_loss: -0.0554 | d_M_loss: -0.1014 | d_fake_loss: -0.1569 | g_loss: 0.2115\n"
          ],
          "name": "stdout"
        },
        {
          "output_type": "stream",
          "text": [
            "WARNING:root:Lossy conversion from float64 to uint8. Range [-1.0, 1.0]. Convert image to uint8 prior to saving to suppress this warning.\n",
            "WARNING:root:Lossy conversion from float64 to uint8. Range [-1.0, 0.9997968673706055]. Convert image to uint8 prior to saving to suppress this warning.\n"
          ],
          "name": "stderr"
        },
        {
          "output_type": "stream",
          "text": [
            "Iteration [ 3000/ 5000] | d_real_loss: -0.2600 | d_U_loss: -0.0396 | d_M_loss: -0.0292 | d_fake_loss: -0.0689 | g_loss: 0.3601\n",
            "Saved /content/sample-003000-M-U.png\n",
            "Saved /content/sample-003000-U-M.png\n",
            "Iteration [ 3100/ 5000] | d_real_loss: -0.0426 | d_U_loss: -0.0641 | d_M_loss: -0.1778 | d_fake_loss: -0.2419 | g_loss: 0.0277\n",
            "Iteration [ 3200/ 5000] | d_real_loss: -0.1807 | d_U_loss: -0.0201 | d_M_loss: -0.1142 | d_fake_loss: -0.1343 | g_loss: 0.1791\n",
            "Iteration [ 3300/ 5000] | d_real_loss: -0.1422 | d_U_loss: -0.0316 | d_M_loss: -0.1097 | d_fake_loss: -0.1413 | g_loss: 0.1719\n",
            "Iteration [ 3400/ 5000] | d_real_loss: -0.0369 | d_U_loss: -0.0707 | d_M_loss: -0.1775 | d_fake_loss: -0.2481 | g_loss: 0.1117\n",
            "Iteration [ 3500/ 5000] | d_real_loss: -0.1060 | d_U_loss: -0.0670 | d_M_loss: -0.1047 | d_fake_loss: -0.1717 | g_loss: 0.1026\n",
            "Iteration [ 3600/ 5000] | d_real_loss: -0.1886 | d_U_loss: -0.0098 | d_M_loss: -0.0858 | d_fake_loss: -0.0956 | g_loss: 0.3044\n",
            "Iteration [ 3700/ 5000] | d_real_loss: -0.1309 | d_U_loss: -0.0580 | d_M_loss: -0.1268 | d_fake_loss: -0.1849 | g_loss: 0.1840\n",
            "Iteration [ 3800/ 5000] | d_real_loss: -0.0269 | d_U_loss: -0.0832 | d_M_loss: -0.1444 | d_fake_loss: -0.2276 | g_loss: 0.1084\n",
            "Iteration [ 3900/ 5000] | d_real_loss: -0.0579 | d_U_loss: -0.0263 | d_M_loss: -0.1947 | d_fake_loss: -0.2209 | g_loss: 0.0529\n"
          ],
          "name": "stdout"
        },
        {
          "output_type": "stream",
          "text": [
            "WARNING:root:Lossy conversion from float64 to uint8. Range [-1.0, 1.0]. Convert image to uint8 prior to saving to suppress this warning.\n",
            "WARNING:root:Lossy conversion from float64 to uint8. Range [-1.0, 0.999747633934021]. Convert image to uint8 prior to saving to suppress this warning.\n"
          ],
          "name": "stderr"
        },
        {
          "output_type": "stream",
          "text": [
            "Iteration [ 4000/ 5000] | d_real_loss: -0.0839 | d_U_loss: -0.0807 | d_M_loss: -0.0916 | d_fake_loss: -0.1724 | g_loss: 0.1768\n",
            "Saved /content/sample-004000-M-U.png\n",
            "Saved /content/sample-004000-U-M.png\n",
            "Iteration [ 4100/ 5000] | d_real_loss: -0.0674 | d_U_loss: -0.0949 | d_M_loss: -0.1036 | d_fake_loss: -0.1984 | g_loss: 0.1196\n",
            "Iteration [ 4200/ 5000] | d_real_loss: -0.1708 | d_U_loss: -0.0734 | d_M_loss: -0.0720 | d_fake_loss: -0.1454 | g_loss: 0.2532\n",
            "Iteration [ 4300/ 5000] | d_real_loss: -0.1243 | d_U_loss: -0.0564 | d_M_loss: -0.0980 | d_fake_loss: -0.1544 | g_loss: 0.1408\n",
            "Iteration [ 4400/ 5000] | d_real_loss: -0.0253 | d_U_loss: -0.0537 | d_M_loss: -0.1777 | d_fake_loss: -0.2314 | g_loss: 0.0139\n",
            "Iteration [ 4500/ 5000] | d_real_loss: -0.0564 | d_U_loss: -0.0747 | d_M_loss: -0.1809 | d_fake_loss: -0.2556 | g_loss: 0.1583\n",
            "Iteration [ 4600/ 5000] | d_real_loss: -0.1041 | d_U_loss: 0.0367 | d_M_loss: -0.1837 | d_fake_loss: -0.1471 | g_loss: 0.0160\n",
            "Iteration [ 4700/ 5000] | d_real_loss: -0.1538 | d_U_loss: -0.0547 | d_M_loss: -0.1278 | d_fake_loss: -0.1825 | g_loss: 0.1648\n",
            "Iteration [ 4800/ 5000] | d_real_loss: -0.1528 | d_U_loss: -0.0517 | d_M_loss: -0.0827 | d_fake_loss: -0.1344 | g_loss: 0.1478\n",
            "Iteration [ 4900/ 5000] | d_real_loss: -0.2060 | d_U_loss: -0.0591 | d_M_loss: -0.0740 | d_fake_loss: -0.1331 | g_loss: 0.3038\n"
          ],
          "name": "stdout"
        },
        {
          "output_type": "stream",
          "text": [
            "WARNING:root:Lossy conversion from float64 to uint8. Range [-1.0, 1.0]. Convert image to uint8 prior to saving to suppress this warning.\n",
            "WARNING:root:Lossy conversion from float64 to uint8. Range [-1.0, 0.9995278716087341]. Convert image to uint8 prior to saving to suppress this warning.\n"
          ],
          "name": "stderr"
        },
        {
          "output_type": "stream",
          "text": [
            "Iteration [ 5000/ 5000] | d_real_loss: -0.0702 | d_U_loss: -0.0936 | d_M_loss: -0.1226 | d_fake_loss: -0.2162 | g_loss: 0.1375\n",
            "Saved /content/sample-005000-M-U.png\n",
            "Saved /content/sample-005000-U-M.png\n"
          ],
          "name": "stdout"
        }
      ]
    },
    {
      "cell_type": "code",
      "metadata": {
        "id": "vzDALZRj-evC",
        "colab_type": "code",
        "colab": {}
      },
      "source": [
        ""
      ],
      "execution_count": 0,
      "outputs": []
    },
    {
      "cell_type": "code",
      "metadata": {
        "id": "YHTPSlKEf3-7",
        "colab_type": "code",
        "colab": {}
      },
      "source": [
        ""
      ],
      "execution_count": 0,
      "outputs": []
    },
    {
      "cell_type": "code",
      "metadata": {
        "id": "qMtPb_KtgErI",
        "colab_type": "code",
        "colab": {}
      },
      "source": [
        ""
      ],
      "execution_count": 0,
      "outputs": []
    },
    {
      "cell_type": "code",
      "metadata": {
        "id": "_tLppSUH-eya",
        "colab_type": "code",
        "colab": {}
      },
      "source": [
        ""
      ],
      "execution_count": 0,
      "outputs": []
    }
  ]
}