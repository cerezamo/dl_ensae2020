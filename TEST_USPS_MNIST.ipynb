{
  "nbformat": 4,
  "nbformat_minor": 0,
  "metadata": {
    "colab": {
      "name": "TEST_USPS_MNIST.ipynb",
      "provenance": [],
      "authorship_tag": "ABX9TyOcY4DY9Kxt7THuRw2SxTu3",
      "include_colab_link": true
    },
    "kernelspec": {
      "name": "python3",
      "display_name": "Python 3"
    },
    "accelerator": "GPU"
  },
  "cells": [
    {
      "cell_type": "markdown",
      "metadata": {
        "id": "view-in-github",
        "colab_type": "text"
      },
      "source": [
        "<a href=\"https://colab.research.google.com/github/cerezamo/dl_ensae2020/blob/master/TEST_USPS_MNIST.ipynb\" target=\"_parent\"><img src=\"https://colab.research.google.com/assets/colab-badge.svg\" alt=\"Open In Colab\"/></a>"
      ]
    },
    {
      "cell_type": "markdown",
      "metadata": {
        "id": "d3WozZiVqzTe",
        "colab_type": "text"
      },
      "source": [
        "# Deep Learning - CycleGAN - ENSAE 2020 "
      ]
    },
    {
      "cell_type": "markdown",
      "metadata": {
        "id": "vSTMrsRArdZM",
        "colab_type": "text"
      },
      "source": [
        "## From MNIST to USPS "
      ]
    },
    {
      "cell_type": "markdown",
      "metadata": {
        "id": "l11pGx3YrZ33",
        "colab_type": "text"
      },
      "source": [
        "### Import packages "
      ]
    },
    {
      "cell_type": "code",
      "metadata": {
        "id": "fo2xoAWXbQNk",
        "colab_type": "code",
        "colab": {}
      },
      "source": [
        "import torch\n",
        "import torch.nn as nn\n",
        "from torch.autograd import Variable\n",
        "from torch import optim\n",
        "import torchvision.utils as utils\n",
        "import torch.nn.functional as F\n",
        "import torch.utils as tutils\n",
        "from torchvision import datasets\n",
        "from torchvision import transforms\n",
        "import numpy as np"
      ],
      "execution_count": 0,
      "outputs": []
    },
    {
      "cell_type": "markdown",
      "metadata": {
        "id": "0Nzv4stxsPBE",
        "colab_type": "text"
      },
      "source": [
        "This code is adapted from [yunjey](https://github.com/yunjey/) and the assignment proposed. "
      ]
    },
    {
      "cell_type": "markdown",
      "metadata": {
        "id": "HpkDg-4a3gSD",
        "colab_type": "text"
      },
      "source": [
        "### Dictionnary of parameters we will use"
      ]
    },
    {
      "cell_type": "code",
      "metadata": {
        "id": "HhMPhE5R3feR",
        "colab_type": "code",
        "colab": {
          "base_uri": "https://localhost:8080/",
          "height": 129
        },
        "outputId": "5cb70666-307e-48e3-81ef-33a34748a796"
      },
      "source": [
        "par = dict(batch_size= 64\n",
        "           image_size=16\n",
        "           )"
      ],
      "execution_count": 50,
      "outputs": [
        {
          "output_type": "error",
          "ename": "SyntaxError",
          "evalue": "ignored",
          "traceback": [
            "\u001b[0;36m  File \u001b[0;32m\"<ipython-input-51-3e77482d9b76>\"\u001b[0;36m, line \u001b[0;32m2\u001b[0m\n\u001b[0;31m    image_size=28\u001b[0m\n\u001b[0m             ^\u001b[0m\n\u001b[0;31mSyntaxError\u001b[0m\u001b[0;31m:\u001b[0m invalid syntax\n"
          ]
        }
      ]
    },
    {
      "cell_type": "code",
      "metadata": {
        "id": "wTXJMovK4DjD",
        "colab_type": "code",
        "colab": {}
      },
      "source": [
        ""
      ],
      "execution_count": 0,
      "outputs": []
    },
    {
      "cell_type": "markdown",
      "metadata": {
        "id": "VkJhQlnyd1pf",
        "colab_type": "text"
      },
      "source": [
        "### Download and construct loaders for USPS and Mnist"
      ]
    },
    {
      "cell_type": "code",
      "metadata": {
        "id": "l-iq6gXIr53M",
        "colab_type": "code",
        "colab": {}
      },
      "source": [
        "# We set the batch size to 64\n",
        "# We choose an image size of 20 , moreover, MNIST images are slightly cropped at the center. \n",
        "# Recall that USPS image size is 16 and MNIST image size is 28. \n",
        "batch_size = 64\n",
        "image_size = 32"
      ],
      "execution_count": 0,
      "outputs": []
    },
    {
      "cell_type": "code",
      "metadata": {
        "id": "zMntxDhzaCsX",
        "colab_type": "code",
        "colab": {}
      },
      "source": [
        "def get_loader_mnist(image_size,batch_size):\n",
        "  transform = transforms.Compose([\n",
        "                    transforms.CenterCrop(22),\n",
        "                    transforms.Resize(image_size),\n",
        "                    transforms.ToTensor(),\n",
        "                    transforms.Normalize((0.5,), (0.5,))\n",
        "                    ])\n",
        "  \n",
        "  mnist_train = datasets.MNIST(root='content/',download=True, transform = transform,train=True)\n",
        "  mnist_test = datasets.MNIST(root='content/',download=True, transform = transform,train=False)\n",
        "\n",
        "  train_loader = torch.utils.data.DataLoader(dataset=mnist_train,\n",
        "                                             batch_size=batch_size,\n",
        "                                             shuffle=True)\n",
        "  \n",
        "  test_loader = torch.utils.data.DataLoader(dataset=mnist_test,\n",
        "                                             batch_size=batch_size,\n",
        "                                             shuffle=False)\n",
        "  \n",
        "  return train_loader, test_loader "
      ],
      "execution_count": 0,
      "outputs": []
    },
    {
      "cell_type": "code",
      "metadata": {
        "id": "EBjkiheLeG5B",
        "colab_type": "code",
        "colab": {}
      },
      "source": [
        "def get_loader_usps(image_size,batch_size):\n",
        "  transform = transforms.Compose([\n",
        "                    transforms.Resize(image_size),\n",
        "                    transforms.ToTensor(),\n",
        "                    transforms.Normalize((0.5,), (0.5,))\n",
        "                    ])\n",
        "  \n",
        "  usps_train = datasets.USPS(root='content/',download=True, transform = transform,train=True)\n",
        "  usps_test = datasets.USPS(root='content/',download=True, transform = transform,train=False)\n",
        "\n",
        "  train_loader = torch.utils.data.DataLoader(dataset=usps_train,\n",
        "                                             batch_size=batch_size,\n",
        "                                             shuffle=True)\n",
        "  \n",
        "  test_loader = torch.utils.data.DataLoader(dataset=usps_test,\n",
        "                                             batch_size=batch_size,\n",
        "                                             shuffle=False)\n",
        "  \n",
        "  return train_loader, test_loader "
      ],
      "execution_count": 0,
      "outputs": []
    },
    {
      "cell_type": "code",
      "metadata": {
        "id": "NS9TtewDd0-7",
        "colab_type": "code",
        "colab": {}
      },
      "source": [
        "M_train_loader, M_test_loader =get_loader_mnist(image_size,batch_size)"
      ],
      "execution_count": 0,
      "outputs": []
    },
    {
      "cell_type": "code",
      "metadata": {
        "id": "PWVC0H3Oaijj",
        "colab_type": "code",
        "colab": {}
      },
      "source": [
        "U_train_loader, U_test_loader =get_loader_usps(image_size,batch_size)"
      ],
      "execution_count": 0,
      "outputs": []
    },
    {
      "cell_type": "code",
      "metadata": {
        "id": "dc6q_rHdlhUd",
        "colab_type": "code",
        "colab": {}
      },
      "source": [
        "examples_mnist = enumerate(M_train_loader)\n",
        "batch_idx, (example_data_mnist, example_targets_mnist) = next(examples_mnist)\n",
        "\n",
        "examples_usps = enumerate(U_train_loader)\n",
        "batch_idx, (example_data_usps, example_targets_usps) = next(examples_usps)"
      ],
      "execution_count": 0,
      "outputs": []
    },
    {
      "cell_type": "code",
      "metadata": {
        "id": "vUMuqDB5lo9z",
        "colab_type": "code",
        "outputId": "e372f36f-96c8-41b1-d4f4-989bd3e331f6",
        "colab": {
          "base_uri": "https://localhost:8080/",
          "height": 34
        }
      },
      "source": [
        "example_data_usps.shape, example_data_mnist.shape # 64 per batch, size 32x32  # 64 per batch, size 32x32 "
      ],
      "execution_count": 122,
      "outputs": [
        {
          "output_type": "execute_result",
          "data": {
            "text/plain": [
              "(torch.Size([64, 1, 20, 20]), torch.Size([64, 1, 20, 20]))"
            ]
          },
          "metadata": {
            "tags": []
          },
          "execution_count": 122
        }
      ]
    },
    {
      "cell_type": "code",
      "metadata": {
        "id": "n46JB-OHl4TU",
        "colab_type": "code",
        "outputId": "c510d65d-edcd-4c11-c1c8-9d35084680f4",
        "colab": {
          "base_uri": "https://localhost:8080/",
          "height": 137
        }
      },
      "source": [
        "import matplotlib.pyplot as plt\n",
        "\n",
        "fig = plt.figure()\n",
        "for i in range(6):\n",
        "  plt.subplot(1,6,i+1)\n",
        "  plt.tight_layout()\n",
        "  plt.imshow(example_data_mnist[i][0], cmap='gray', interpolation='none')\n",
        "  plt.title(\"Labels: {}\".format(example_targets_mnist[i]))\n",
        "  plt.xticks([])\n",
        "  plt.yticks([])\n",
        "fig"
      ],
      "execution_count": 123,
      "outputs": [
        {
          "output_type": "execute_result",
          "data": {
            "image/png": "[encoded data removed]",
            "text/plain": [
              "<Figure size 432x288 with 6 Axes>"
            ]
          },
          "metadata": {
            "tags": []
          },
          "execution_count": 123
        },
        {
          "output_type": "display_data",
          "data": {
            "image/png": "[encoded data removed]",
            "text/plain": [
              "<Figure size 432x288 with 6 Axes>"
            ]
          },
          "metadata": {
            "tags": []
          }
        }
      ]
    },
    {
      "cell_type": "code",
      "metadata": {
        "id": "qn0disVBmcT-",
        "colab_type": "code",
        "outputId": "02496a85-1f22-4aaa-eb6d-bba13a752084",
        "colab": {
          "base_uri": "https://localhost:8080/",
          "height": 149
        }
      },
      "source": [
        "\n",
        "fig = plt.figure()\n",
        "for i in range(6):\n",
        "  plt.subplot(1,6,i+1)\n",
        "  plt.tight_layout()\n",
        "  plt.imshow(example_data_usps[i][0], cmap='gray', interpolation='none')\n",
        "  plt.title(\"Label: {}\".format(example_targets_usps[i]))\n",
        "  plt.xticks([])\n",
        "  plt.yticks([])\n",
        "fig"
      ],
      "execution_count": 124,
      "outputs": [
        {
          "output_type": "execute_result",
          "data": {
            "image/png": "[encoded data removed]",
            "text/plain": [
              "<Figure size 432x288 with 6 Axes>"
            ]
          },
          "metadata": {
            "tags": []
          },
          "execution_count": 124
        },
        {
          "output_type": "display_data",
          "data": {
            "image/png": "[encoded data removed]",
            "text/plain": [
              "<Figure size 432x288 with 6 Axes>"
            ]
          },
          "metadata": {
            "tags": []
          }
        }
      ]
    },
    {
      "cell_type": "code",
      "metadata": {
        "id": "RgPmv5meb_cP",
        "colab_type": "code",
        "colab": {
          "base_uri": "https://localhost:8080/",
          "height": 34
        },
        "outputId": "8dc80ae5-80fa-4b7f-81e4-b449d55b8e4a"
      },
      "source": [
        "example_data_mnist.size()"
      ],
      "execution_count": 125,
      "outputs": [
        {
          "output_type": "execute_result",
          "data": {
            "text/plain": [
              "torch.Size([64, 1, 20, 20])"
            ]
          },
          "metadata": {
            "tags": []
          },
          "execution_count": 125
        }
      ]
    },
    {
      "cell_type": "code",
      "metadata": {
        "id": "HLv4o0Kec7z5",
        "colab_type": "code",
        "colab": {}
      },
      "source": [
        "\n"
      ],
      "execution_count": 0,
      "outputs": []
    },
    {
      "cell_type": "markdown",
      "metadata": {
        "id": "gbl9ZuYKnWzS",
        "colab_type": "text"
      },
      "source": [
        "Helper functions (taken from github Cycle gan) "
      ]
    },
    {
      "cell_type": "code",
      "metadata": {
        "id": "uGPVAZ0FtUvx",
        "colab_type": "code",
        "colab": {}
      },
      "source": [
        "import torch.nn as nn"
      ],
      "execution_count": 0,
      "outputs": []
    },
    {
      "cell_type": "code",
      "metadata": {
        "id": "6O_Sr4Eem6cq",
        "colab_type": "code",
        "colab": {}
      },
      "source": [
        "def deconv(c_in, c_out, k_size, stride=2, pad=1, batch_norm=True):\n",
        "    \"\"\"Custom deconvolutional layer \"\"\"\n",
        "    layers = []\n",
        "    layers.append(nn.ConvTranspose2d(c_in, c_out, k_size, stride, pad, bias=False))\n",
        "    if batch_norm:\n",
        "        layers.append(nn.BatchNorm2d(c_out))\n",
        "    return nn.Sequential(*layers)\n",
        "\n",
        "def conv(c_in, c_out, k_size, stride=2, pad=1, batch_norm=True):\n",
        "    \"\"\"Custom convolutional layer\"\"\"\n",
        "    layers = []\n",
        "    layers.append(nn.Conv2d(c_in, c_out, k_size, stride, pad, bias=False))\n",
        "    if batch_norm:\n",
        "        layers.append(nn.BatchNorm2d(c_out))\n",
        "    return nn.Sequential(*layers)\n",
        "\n",
        "# Batch norm True False (last layer)"
      ],
      "execution_count": 0,
      "outputs": []
    },
    {
      "cell_type": "markdown",
      "metadata": {
        "id": "lryI_Qeft8cV",
        "colab_type": "text"
      },
      "source": [
        "Construction of the two discriminators "
      ]
    },
    {
      "cell_type": "code",
      "metadata": {
        "id": "NKaAbO-Nm6fG",
        "colab_type": "code",
        "colab": {}
      },
      "source": [
        "class D_MNIST(nn.Module):\n",
        "    \"\"\"Discriminator for mnist.\"\"\"\n",
        "    def __init__(self, conv_dim=64, use_labels=False):\n",
        "        super(D_MNIST, self).__init__()\n",
        "        self.conv1 = conv(1, conv_dim, 4, bn=False)\n",
        "        self.conv2 = conv(conv_dim, conv_dim*2, 4)\n",
        "        self.conv3 = conv(conv_dim*2, conv_dim*4, 4)\n",
        "        n_out = 11 if use_labels else 1\n",
        "        self.fc = conv(conv_dim*4, n_out, 4, 1, 0, False)\n",
        "\n",
        "    def forward(self, x):\n",
        "        out = F.leaky_relu(self.conv1(x), 0.05)    # (?, 64, 16, 16)\n",
        "        out = F.leaky_relu(self.conv2(out), 0.05)  # (?, 128, 8, 8)\n",
        "        out = F.leaky_relu(self.conv3(out), 0.05)  # (?, 256, 4, 4)\n",
        "        out = self.fc(out).squeeze()\n",
        "        return out\n",
        "\n",
        "class D_USPS(nn.Module):\n",
        "    \"\"\"Discriminator for usps.\"\"\"\n",
        "    def __init__(self, conv_dim=64, use_labels=False):\n",
        "        super(D_USPS, self).__init__()\n",
        "        self.conv1 = conv(1, conv_dim, 4, bn=False) #1\n",
        "        self.conv2 = conv(conv_dim, conv_dim*2, 4)\n",
        "        self.conv3 = conv(conv_dim*2, conv_dim*4, 4)\n",
        "        n_out = 11 if use_labels else 1\n",
        "        self.fc = conv(conv_dim*4, n_out, 4, 1, 0, False)\n",
        "\n",
        "    def forward(self, x):\n",
        "        out = F.leaky_relu(self.conv1(x), 0.05)    # (?, 64, 16, 16)\n",
        "        out = F.leaky_relu(self.conv2(out), 0.05)  # (?, 128, 8, 8)\n",
        "        out = F.leaky_relu(self.conv3(out), 0.05)  # (?, 256, 4, 4)\n",
        "        out = self.fc(out).squeeze()\n",
        "        return out\n"
      ],
      "execution_count": 0,
      "outputs": []
    },
    {
      "cell_type": "markdown",
      "metadata": {
        "id": "3SROYfqxu-m8",
        "colab_type": "text"
      },
      "source": [
        "Creating the two generators "
      ]
    },
    {
      "cell_type": "code",
      "metadata": {
        "id": "rtpzQyJM185W",
        "colab_type": "code",
        "colab": {}
      },
      "source": [
        "def deconv(c_in, c_out, k_size, stride=2, pad=1, bn=True):\n",
        "    \"\"\"Custom deconvolutional layer \"\"\"\n",
        "    layers = []\n",
        "    layers.append(nn.ConvTranspose2d(c_in, c_out, k_size, stride, pad, bias=False))\n",
        "    if bn:\n",
        "        layers.append(nn.BatchNorm2d(c_out))\n",
        "    return nn.Sequential(*layers)\n",
        "\n",
        "def conv(c_in, c_out, k_size, stride=2, pad=1, bn=True):\n",
        "    \"\"\"Custom convolutional layer \"\"\"\n",
        "    layers = []\n",
        "    layers.append(nn.Conv2d(c_in, c_out, k_size, stride, pad, bias=False))\n",
        "    if bn:\n",
        "        layers.append(nn.BatchNorm2d(c_out))\n",
        "    return nn.Sequential(*layers)"
      ],
      "execution_count": 0,
      "outputs": []
    },
    {
      "cell_type": "code",
      "metadata": {
        "id": "WU30ammS0vCP",
        "colab_type": "code",
        "colab": {}
      },
      "source": [
        "class G_MNIST_USPS(nn.Module):\n",
        "    \"\"\"Generator for transfering from mnist to usps\"\"\"\n",
        "    def __init__(self, conv_dim=64):\n",
        "        super(G_MNIST_USPS, self).__init__()\n",
        "        # encoding blocks\n",
        "        self.conv1 = conv(1, conv_dim, 4)\n",
        "        self.conv2 = conv(conv_dim, conv_dim*2, 4)\n",
        "\n",
        "        # residual blocks\n",
        "        self.conv3 = conv(conv_dim*2, conv_dim*2, 3, 1, 1)\n",
        "        self.conv4 = conv(conv_dim*2, conv_dim*2, 3, 1, 1)\n",
        "\n",
        "        # decoding blocks\n",
        "        self.deconv1 = deconv(conv_dim*2, conv_dim, 4)\n",
        "        self.deconv2 = deconv(conv_dim, 1, 4, bn=False)\n",
        "\n",
        "    def forward(self, x):\n",
        "        out = F.leaky_relu(self.conv1(x), 0.05)      # (?, 64, 16, 16)\n",
        "        out = F.leaky_relu(self.conv2(out), 0.05)    # (?, 128, 8, 8)\n",
        "\n",
        "        out = F.leaky_relu(self.conv3(out), 0.05)    # ( \" )\n",
        "        out = F.leaky_relu(self.conv4(out), 0.05)    # ( \" )\n",
        "\n",
        "        out = F.leaky_relu(self.deconv1(out), 0.05)  # (?, 64, 16, 16)\n",
        "        out = F.tanh(self.deconv2(out))              # (?, 3, 32, 32)\n",
        "        return out\n",
        "\n",
        "class G_USPS_MNIST(nn.Module):\n",
        "    \"\"\"Generator for transfering from usps to mnist\"\"\"\n",
        "    def __init__(self, conv_dim=64):\n",
        "        super(G_USPS_MNIST, self).__init__()\n",
        "        # encoding blocks\n",
        "        self.conv1 = conv(1, conv_dim, 4)\n",
        "        self.conv2 = conv(conv_dim, conv_dim*2, 4)\n",
        "\n",
        "        # residual blocks\n",
        "        self.conv3 = conv(conv_dim*2, conv_dim*2, 3, 1, 1)\n",
        "        self.conv4 = conv(conv_dim*2, conv_dim*2, 3, 1, 1)\n",
        "\n",
        "        # decoding blocks\n",
        "        self.deconv1 = deconv(conv_dim*2, conv_dim, 4)\n",
        "        self.deconv2 = deconv(conv_dim, 1, 4, bn=False)\n",
        "\n",
        "    def forward(self, x):\n",
        "        out = F.leaky_relu(self.conv1(x), 0.05)      # (?, 64, 16, 16)\n",
        "        out = F.leaky_relu(self.conv2(out), 0.05)    # (?, 128, 8, 8)\n",
        "\n",
        "        out = F.leaky_relu(self.conv3(out), 0.05)    # ( \" )\n",
        "        out = F.leaky_relu(self.conv4(out), 0.05)    # ( \" )\n",
        "\n",
        "        out = F.leaky_relu(self.deconv1(out), 0.05)  # (?, 64, 16, 16)\n",
        "        out = torch.tanh(self.deconv2(out))              # (?, 1, 32, 32)\n",
        "        return out\n"
      ],
      "execution_count": 0,
      "outputs": []
    },
    {
      "cell_type": "markdown",
      "metadata": {
        "id": "w_bxYEIkPrMn",
        "colab_type": "text"
      },
      "source": [
        "Building model "
      ]
    },
    {
      "cell_type": "code",
      "metadata": {
        "id": "Pd6SynLQQTHG",
        "colab_type": "code",
        "colab": {}
      },
      "source": [
        "def print_models(G_MtoU, G_UtoM, D_M, D_U):\n",
        "    \"\"\"Prints model information for the generators and discriminators.\n",
        "    \"\"\"\n",
        "    print(\"                 G_MtoU                \")\n",
        "    print(\"---------------------------------------\")\n",
        "    print(G_MtoU)\n",
        "    print(\"---------------------------------------\")\n",
        "\n",
        "    print(\"                 G_UtoM                \")\n",
        "    print(\"---------------------------------------\")\n",
        "    print(G_UtoM)\n",
        "    print(\"---------------------------------------\")\n",
        "\n",
        "    print(\"                  D_M                  \")\n",
        "    print(\"---------------------------------------\")\n",
        "    print(D_M)\n",
        "    print(\"---------------------------------------\")\n",
        "\n",
        "    print(\"                  D_U                  \")\n",
        "    print(\"---------------------------------------\")\n",
        "    print(D_U)\n",
        "    print(\"---------------------------------------\")"
      ],
      "execution_count": 0,
      "outputs": []
    },
    {
      "cell_type": "code",
      "metadata": {
        "id": "BXd4mpXsPqSF",
        "colab_type": "code",
        "colab": {}
      },
      "source": [
        "def create_model():\n",
        "  G_MtoU = G_MNIST_USPS()\n",
        "  G_UtoM = G_USPS_MNIST()\n",
        "  D_M = D_MNIST()\n",
        "  D_U = D_USPS()\n",
        "\n",
        "  print_models(G_MtoU, G_UtoM, D_M, D_U)\n",
        "\n",
        "  if torch.cuda.is_available():\n",
        "      G_MtoU.cuda()\n",
        "      G_UtoM.cuda()\n",
        "      D_M.cuda()\n",
        "      D_U.cuda()\n",
        "      print('Models moved to GPU.')\n",
        "  return G_MtoU,G_UtoM, D_M, D_U"
      ],
      "execution_count": 0,
      "outputs": []
    },
    {
      "cell_type": "code",
      "metadata": {
        "id": "w6qi6MbnPqU2",
        "colab_type": "code",
        "colab": {}
      },
      "source": [
        ""
      ],
      "execution_count": 0,
      "outputs": []
    },
    {
      "cell_type": "code",
      "metadata": {
        "id": "tAe8wnLPPqa8",
        "colab_type": "code",
        "colab": {}
      },
      "source": [
        "def save_samples(iteration, fixed_U, fixed_M, G_UtoM, G_MtoU):\n",
        "    \"\"\"Saves samples from both generators M->U and U->M.\n",
        "    \"\"\"\n",
        "    import os\n",
        "    import imageio\n",
        "    fake_M = G_UtoM(fixed_U)\n",
        "    fake_U = G_MtoU(fixed_M)\n",
        "\n",
        "    M, fake_M = to_data(fixed_M), to_data(fake_M)\n",
        "    U, fake_U = to_data(fixed_U), to_data(fake_U)\n",
        "\n",
        "    merged = merge_images(M, fake_U)\n",
        "    path = os.path.join('/content/', 'sample-{:06d}-X-Y.png'.format(iteration))\n",
        "    imageio.imwrite(path, merged)\n",
        "    print('Saved {}'.format(path))\n",
        "\n",
        "    merged = merge_images(U, fake_M)\n",
        "    path = os.path.join('/content/', 'sample-{:06d}-Y-X.png'.format(iteration))\n",
        "    imageio.imwrite(path, merged)\n",
        "    print('Saved {}'.format(path))"
      ],
      "execution_count": 0,
      "outputs": []
    },
    {
      "cell_type": "code",
      "metadata": {
        "id": "_heIWaZsPqXw",
        "colab_type": "code",
        "colab": {}
      },
      "source": [
        ""
      ],
      "execution_count": 0,
      "outputs": []
    },
    {
      "cell_type": "code",
      "metadata": {
        "id": "A9Yt42NGm6mS",
        "colab_type": "code",
        "colab": {}
      },
      "source": [
        "def merge_images(sources, targets, k=10):\n",
        "    \"\"\"Creates a grid consisting of pairs of columns, where the first column in\n",
        "    each pair contains images source images and the second column in each pair\n",
        "    contains images generated by the CycleGAN from the corresponding images in\n",
        "    the first column.\n",
        "    \"\"\"\n",
        "    _, _, h, w = sources.shape\n",
        "    row = int(np.sqrt(64))\n",
        "    merged = np.zeros([3, row*h, row*w*2])\n",
        "    for idx, (s, t) in enumerate(zip(sources, targets)):\n",
        "        i = idx // row\n",
        "        j = idx % row\n",
        "        merged[:, i*h:(i+1)*h, (j*2)*h:(j*2+1)*h] = s\n",
        "        merged[:, i*h:(i+1)*h, (j*2+1)*h:(j*2+2)*h] = t\n",
        "    return merged.transpose(1, 2, 0)"
      ],
      "execution_count": 0,
      "outputs": []
    },
    {
      "cell_type": "markdown",
      "metadata": {
        "id": "F2wljkASOSQB",
        "colab_type": "text"
      },
      "source": [
        "Helper functions "
      ]
    },
    {
      "cell_type": "code",
      "metadata": {
        "id": "oTF243GGm6oy",
        "colab_type": "code",
        "colab": {}
      },
      "source": [
        "def to_var(x):\n",
        "    \"\"\"Converts numpy to variable.\"\"\"\n",
        "    if torch.cuda.is_available():\n",
        "        x = x.cuda()\n",
        "    return Variable(x)\n",
        "\n",
        "\n",
        "def to_data(x):\n",
        "    \"\"\"Converts variable to numpy.\"\"\"\n",
        "    if torch.cuda.is_available():\n",
        "        x = x.cpu()\n",
        "    return x.data.numpy()"
      ],
      "execution_count": 0,
      "outputs": []
    },
    {
      "cell_type": "markdown",
      "metadata": {
        "id": "uVvh5v9LvxXm",
        "colab_type": "text"
      },
      "source": [
        "### Training loop"
      ]
    },
    {
      "cell_type": "code",
      "metadata": {
        "id": "BA21BZb41Iyc",
        "colab_type": "code",
        "colab": {
          "base_uri": "https://localhost:8080/",
          "height": 34
        },
        "outputId": "127717f9-0171-4f1d-ded9-769a501a3f7b"
      },
      "source": [
        "# Check number of parameters in the generator\n",
        "pytorch_total_params = sum(p.numel() for p in G_MNIST_USPS().parameters())\n",
        "pytorch_total_params"
      ],
      "execution_count": 136,
      "outputs": [
        {
          "output_type": "execute_result",
          "data": {
            "text/plain": [
              "560128"
            ]
          },
          "metadata": {
            "tags": []
          },
          "execution_count": 136
        }
      ]
    },
    {
      "cell_type": "code",
      "metadata": {
        "id": "6CJ0Ms4dRKdF",
        "colab_type": "code",
        "colab": {}
      },
      "source": [
        "def training_loop(M_train_loader, U_train_loader, M_test_loader, U_test_loader, sample_every=1000,  lr=0.0002, train_iters=20000, log_step = 10, batch_size=64, use_cycle_consistency_loss=True):\n",
        "  # Create generators and discriminators\n",
        "  G_MtoU, G_UtoM, D_M, D_U = create_model()\n",
        "\n",
        "  g_params = list(G_MtoU.parameters()) + list(G_UtoM.parameters())  # Get generator parameters\n",
        "  d_params = list(D_M.parameters()) + list(D_U.parameters())  # Get discriminator parameters\n",
        "\n",
        "  # Create optimizers for the generators and discriminators\n",
        "  g_optimizer = optim.Adam(g_params, lr)\n",
        "  d_optimizer = optim.Adam(d_params, lr)\n",
        "\n",
        "  iter_M = iter(M_train_loader)\n",
        "  iter_U = iter(U_train_loader)\n",
        "\n",
        "  test_iter_M = iter(M_test_loader)\n",
        "  test_iter_U = iter(U_test_loader)\n",
        "\n",
        "  # Get some fixed data from domains X and Y for sampling. These are images that are held\n",
        "  # constant throughout training, that allow us to inspect the model's performance.\n",
        "  fixed_M = to_var(test_iter_M.next()[0])\n",
        "  fixed_U = to_var(test_iter_U.next()[0])\n",
        "\n",
        "  iter_per_epoch = min(len(iter_M), len(iter_U))\n",
        "\n",
        "  for iteration in range(1, train_iters+1):\n",
        "\n",
        "      # Reset data_iter for each epoch\n",
        "      if iteration % iter_per_epoch == 0:\n",
        "          iter_M = iter(M_train_loader)\n",
        "          iter_U = iter(U_train_loader)\n",
        "\n",
        "      images_M, labels_M = iter_M.next()\n",
        "      images_M, labels_M = to_var(images_M), to_var(labels_M).long().squeeze()\n",
        "\n",
        "      images_U, labels_U = iter_U.next()\n",
        "      images_U, labels_U = to_var(images_U), to_var(labels_U).long().squeeze()\n",
        "\n",
        "\n",
        "      # ============================================\n",
        "      #            TRAIN THE DISCRIMINATORS\n",
        "      # ============================================\n",
        "\n",
        "      # Train with real images\n",
        "      d_optimizer.zero_grad()\n",
        "\n",
        "      # Compute the discriminator losses on real images\n",
        "      out_M = D_M(images_M) # discriminator mnist true\n",
        "      D_M_loss = torch.mean((out_M-1)**2) \n",
        "      out_U = D_U(images_U)\n",
        "      D_U_loss = torch.mean((out_U-1)**2)\n",
        "\n",
        "      d_real_loss = D_M_loss + D_U_loss\n",
        "      d_real_loss.backward()\n",
        "      d_optimizer.step()\n",
        "\n",
        "      # Train with fake images\n",
        "      d_optimizer.zero_grad()\n",
        "\n",
        "      # Generate fake images that look like domain MNIST based on real images in domain USPS\n",
        "      fake_M = G_UtoM(images_U)\n",
        "\n",
        "      # Compute the loss for D_M\n",
        "      out_M = D_M(fake_M)\n",
        "      D_M_loss = torch.mean((out_M-1)**2) \n",
        "\n",
        "      # 4. Generate fake images that look like domain U based on real images in domain M\n",
        "      fake_U = G_MtoU(images_M)\n",
        "\n",
        "      # 5. Compute the loss for D_U\n",
        "      out_U = D_U(fake_U)\n",
        "      D_U_loss = torch.mean((out_U-1)**2) \n",
        "\n",
        "      d_fake_loss = D_M_loss + D_U_loss\n",
        "      d_fake_loss.backward()\n",
        "      d_optimizer.step()\n",
        "\n",
        "\n",
        "\n",
        "      # =========================================\n",
        "      #            TRAIN THE GENERATORS\n",
        "      # =========================================\n",
        "\n",
        "      ## U--M-->U \n",
        "\n",
        "      g_optimizer.zero_grad()\n",
        "\n",
        "      # 1. Generate fake images that look like domain M based on real images in domain U\n",
        "      fake_M = G_UtoM(images_U)\n",
        "      out = D_M(fake_M)\n",
        "\n",
        "      # 2. Compute the generator loss based on domain M\n",
        "\n",
        "      g_loss = torch.mean((out-1)**2)\n",
        "\n",
        "      if use_cycle_consistency_loss:\n",
        "          reconstructed_U = G_MtoU(fake_M)\n",
        "          # 3. Compute the cycle consistency loss (the reconstruction loss)\n",
        "          cycle_consistency_loss = torch.mean((images_U - reconstructed_U)**2)\n",
        "          g_loss += cycle_consistency_loss\n",
        "\n",
        "      g_loss.backward()\n",
        "      g_optimizer.step()\n",
        "\n",
        "      ## M--U-->M \n",
        "\n",
        "      g_optimizer.zero_grad()\n",
        "\n",
        "      # 1. Generate fake images that look like domain U based on real images in domain M\n",
        "      fake_U = G_MtoU(images_M)\n",
        "      out = D_U(fake_U)\n",
        "\n",
        "      # 2. Compute the generator loss based on domain U\n",
        "      g_loss = torch.mean((out-1)**2)\n",
        "\n",
        "      if use_cycle_consistency_loss:\n",
        "          reconstructed_M = G_UtoM(fake_U)\n",
        "          # 3. Compute the cycle consistency loss (the reconstruction loss)\n",
        "          cycle_consistency_loss = torch.mean((images_M - reconstructed_M)**2)\n",
        "          g_loss += cycle_consistency_loss\n",
        "\n",
        "      g_loss.backward()\n",
        "      g_optimizer.step()\n",
        "\n",
        "\n",
        "      # Print the log info\n",
        "      if iteration % log_step == 0:\n",
        "          print('Iteration [{:5d}/{:5d}] | d_real_loss: {:6.4f} | d_U_loss: {:6.4f} | d_M_loss: {:6.4f} | '\n",
        "                'd_fake_loss: {:6.4f} | g_loss: {:6.4f}'.format(\n",
        "                  iteration, train_iters, d_real_loss.item(), D_U_loss.item(),\n",
        "                  D_M_loss.item(), d_fake_loss.item(), g_loss.item()))\n",
        "\n",
        "\n",
        "      # Save the generated samples\n",
        "      if iteration % sample_every == 0:\n",
        "          save_samples(iteration, fixed_U, fixed_M, G_UtoM, G_MtoU)"
      ],
      "execution_count": 0,
      "outputs": []
    },
    {
      "cell_type": "code",
      "metadata": {
        "id": "fpMhowQMRKgq",
        "colab_type": "code",
        "colab": {
          "base_uri": "https://localhost:8080/",
          "height": 1000
        },
        "outputId": "98437784-5fb4-4bcd-efc7-f843c9284957"
      },
      "source": [
        "training_loop(M_train_loader, U_train_loader, M_test_loader, U_test_loader, sample_every=1000,  lr=0.0002, train_iters=5000, log_step = 100,  use_cycle_consistency_loss=True)"
      ],
      "execution_count": 138,
      "outputs": [
        {
          "output_type": "stream",
          "text": [
            "                 G_MtoU                \n",
            "---------------------------------------\n",
            "G_MNIST_USPS(\n",
            "  (conv1): Sequential(\n",
            "    (0): Conv2d(1, 64, kernel_size=(4, 4), stride=(2, 2), padding=(1, 1), bias=False)\n",
            "    (1): BatchNorm2d(64, eps=1e-05, momentum=0.1, affine=True, track_running_stats=True)\n",
            "  )\n",
            "  (conv2): Sequential(\n",
            "    (0): Conv2d(64, 128, kernel_size=(4, 4), stride=(2, 2), padding=(1, 1), bias=False)\n",
            "    (1): BatchNorm2d(128, eps=1e-05, momentum=0.1, affine=True, track_running_stats=True)\n",
            "  )\n",
            "  (conv3): Sequential(\n",
            "    (0): Conv2d(128, 128, kernel_size=(3, 3), stride=(1, 1), padding=(1, 1), bias=False)\n",
            "    (1): BatchNorm2d(128, eps=1e-05, momentum=0.1, affine=True, track_running_stats=True)\n",
            "  )\n",
            "  (conv4): Sequential(\n",
            "    (0): Conv2d(128, 128, kernel_size=(3, 3), stride=(1, 1), padding=(1, 1), bias=False)\n",
            "    (1): BatchNorm2d(128, eps=1e-05, momentum=0.1, affine=True, track_running_stats=True)\n",
            "  )\n",
            "  (deconv1): Sequential(\n",
            "    (0): ConvTranspose2d(128, 64, kernel_size=(4, 4), stride=(2, 2), padding=(1, 1), bias=False)\n",
            "    (1): BatchNorm2d(64, eps=1e-05, momentum=0.1, affine=True, track_running_stats=True)\n",
            "  )\n",
            "  (deconv2): Sequential(\n",
            "    (0): ConvTranspose2d(64, 1, kernel_size=(4, 4), stride=(2, 2), padding=(1, 1), bias=False)\n",
            "  )\n",
            ")\n",
            "---------------------------------------\n",
            "                 G_UtoM                \n",
            "---------------------------------------\n",
            "G_USPS_MNIST(\n",
            "  (conv1): Sequential(\n",
            "    (0): Conv2d(1, 64, kernel_size=(4, 4), stride=(2, 2), padding=(1, 1), bias=False)\n",
            "    (1): BatchNorm2d(64, eps=1e-05, momentum=0.1, affine=True, track_running_stats=True)\n",
            "  )\n",
            "  (conv2): Sequential(\n",
            "    (0): Conv2d(64, 128, kernel_size=(4, 4), stride=(2, 2), padding=(1, 1), bias=False)\n",
            "    (1): BatchNorm2d(128, eps=1e-05, momentum=0.1, affine=True, track_running_stats=True)\n",
            "  )\n",
            "  (conv3): Sequential(\n",
            "    (0): Conv2d(128, 128, kernel_size=(3, 3), stride=(1, 1), padding=(1, 1), bias=False)\n",
            "    (1): BatchNorm2d(128, eps=1e-05, momentum=0.1, affine=True, track_running_stats=True)\n",
            "  )\n",
            "  (conv4): Sequential(\n",
            "    (0): Conv2d(128, 128, kernel_size=(3, 3), stride=(1, 1), padding=(1, 1), bias=False)\n",
            "    (1): BatchNorm2d(128, eps=1e-05, momentum=0.1, affine=True, track_running_stats=True)\n",
            "  )\n",
            "  (deconv1): Sequential(\n",
            "    (0): ConvTranspose2d(128, 64, kernel_size=(4, 4), stride=(2, 2), padding=(1, 1), bias=False)\n",
            "    (1): BatchNorm2d(64, eps=1e-05, momentum=0.1, affine=True, track_running_stats=True)\n",
            "  )\n",
            "  (deconv2): Sequential(\n",
            "    (0): ConvTranspose2d(64, 1, kernel_size=(4, 4), stride=(2, 2), padding=(1, 1), bias=False)\n",
            "  )\n",
            ")\n",
            "---------------------------------------\n",
            "                  D_M                  \n",
            "---------------------------------------\n",
            "D_MNIST(\n",
            "  (conv1): Sequential(\n",
            "    (0): Conv2d(1, 64, kernel_size=(4, 4), stride=(2, 2), padding=(1, 1), bias=False)\n",
            "  )\n",
            "  (conv2): Sequential(\n",
            "    (0): Conv2d(64, 128, kernel_size=(4, 4), stride=(2, 2), padding=(1, 1), bias=False)\n",
            "    (1): BatchNorm2d(128, eps=1e-05, momentum=0.1, affine=True, track_running_stats=True)\n",
            "  )\n",
            "  (conv3): Sequential(\n",
            "    (0): Conv2d(128, 256, kernel_size=(4, 4), stride=(2, 2), padding=(1, 1), bias=False)\n",
            "    (1): BatchNorm2d(256, eps=1e-05, momentum=0.1, affine=True, track_running_stats=True)\n",
            "  )\n",
            "  (fc): Sequential(\n",
            "    (0): Conv2d(256, 1, kernel_size=(4, 4), stride=(1, 1), bias=False)\n",
            "  )\n",
            ")\n",
            "---------------------------------------\n",
            "                  D_U                  \n",
            "---------------------------------------\n",
            "D_USPS(\n",
            "  (conv1): Sequential(\n",
            "    (0): Conv2d(1, 64, kernel_size=(4, 4), stride=(2, 2), padding=(1, 1), bias=False)\n",
            "  )\n",
            "  (conv2): Sequential(\n",
            "    (0): Conv2d(64, 128, kernel_size=(4, 4), stride=(2, 2), padding=(1, 1), bias=False)\n",
            "    (1): BatchNorm2d(128, eps=1e-05, momentum=0.1, affine=True, track_running_stats=True)\n",
            "  )\n",
            "  (conv3): Sequential(\n",
            "    (0): Conv2d(128, 256, kernel_size=(4, 4), stride=(2, 2), padding=(1, 1), bias=False)\n",
            "    (1): BatchNorm2d(256, eps=1e-05, momentum=0.1, affine=True, track_running_stats=True)\n",
            "  )\n",
            "  (fc): Sequential(\n",
            "    (0): Conv2d(256, 1, kernel_size=(4, 4), stride=(1, 1), bias=False)\n",
            "  )\n",
            ")\n",
            "---------------------------------------\n",
            "Models moved to GPU.\n"
          ],
          "name": "stdout"
        },
        {
          "output_type": "error",
          "ename": "RuntimeError",
          "evalue": "ignored",
          "traceback": [
            "\u001b[0;31m---------------------------------------------------------------------------\u001b[0m",
            "\u001b[0;31mRuntimeError\u001b[0m                              Traceback (most recent call last)",
            "\u001b[0;32m<ipython-input-138-bc6548ed02fc>\u001b[0m in \u001b[0;36m<module>\u001b[0;34m()\u001b[0m\n\u001b[0;32m----> 1\u001b[0;31m \u001b[0mtraining_loop\u001b[0m\u001b[0;34m(\u001b[0m\u001b[0mM_train_loader\u001b[0m\u001b[0;34m,\u001b[0m \u001b[0mU_train_loader\u001b[0m\u001b[0;34m,\u001b[0m \u001b[0mM_test_loader\u001b[0m\u001b[0;34m,\u001b[0m \u001b[0mU_test_loader\u001b[0m\u001b[0;34m,\u001b[0m \u001b[0msample_every\u001b[0m\u001b[0;34m=\u001b[0m\u001b[0;36m1000\u001b[0m\u001b[0;34m,\u001b[0m  \u001b[0mlr\u001b[0m\u001b[0;34m=\u001b[0m\u001b[0;36m0.0002\u001b[0m\u001b[0;34m,\u001b[0m \u001b[0mtrain_iters\u001b[0m\u001b[0;34m=\u001b[0m\u001b[0;36m5000\u001b[0m\u001b[0;34m,\u001b[0m \u001b[0mlog_step\u001b[0m \u001b[0;34m=\u001b[0m \u001b[0;36m100\u001b[0m\u001b[0;34m,\u001b[0m  \u001b[0muse_cycle_consistency_loss\u001b[0m\u001b[0;34m=\u001b[0m\u001b[0;32mTrue\u001b[0m\u001b[0;34m)\u001b[0m\u001b[0;34m\u001b[0m\u001b[0;34m\u001b[0m\u001b[0m\n\u001b[0m",
            "\u001b[0;32m<ipython-input-137-7287375b9549>\u001b[0m in \u001b[0;36mtraining_loop\u001b[0;34m(M_train_loader, U_train_loader, M_test_loader, U_test_loader, sample_every, lr, train_iters, log_step, batch_size, use_cycle_consistency_loss)\u001b[0m\n\u001b[1;32m     45\u001b[0m \u001b[0;34m\u001b[0m\u001b[0m\n\u001b[1;32m     46\u001b[0m       \u001b[0;31m# Compute the discriminator losses on real images\u001b[0m\u001b[0;34m\u001b[0m\u001b[0;34m\u001b[0m\u001b[0;34m\u001b[0m\u001b[0m\n\u001b[0;32m---> 47\u001b[0;31m       \u001b[0mout_M\u001b[0m \u001b[0;34m=\u001b[0m \u001b[0mD_M\u001b[0m\u001b[0;34m(\u001b[0m\u001b[0mimages_M\u001b[0m\u001b[0;34m)\u001b[0m \u001b[0;31m# discriminator mnist true\u001b[0m\u001b[0;34m\u001b[0m\u001b[0;34m\u001b[0m\u001b[0m\n\u001b[0m\u001b[1;32m     48\u001b[0m       \u001b[0mD_M_loss\u001b[0m \u001b[0;34m=\u001b[0m \u001b[0mtorch\u001b[0m\u001b[0;34m.\u001b[0m\u001b[0mmean\u001b[0m\u001b[0;34m(\u001b[0m\u001b[0;34m(\u001b[0m\u001b[0mout_M\u001b[0m\u001b[0;34m-\u001b[0m\u001b[0;36m1\u001b[0m\u001b[0;34m)\u001b[0m\u001b[0;34m**\u001b[0m\u001b[0;36m2\u001b[0m\u001b[0;34m)\u001b[0m\u001b[0;34m\u001b[0m\u001b[0;34m\u001b[0m\u001b[0m\n\u001b[1;32m     49\u001b[0m       \u001b[0mout_U\u001b[0m \u001b[0;34m=\u001b[0m \u001b[0mD_U\u001b[0m\u001b[0;34m(\u001b[0m\u001b[0mimages_U\u001b[0m\u001b[0;34m)\u001b[0m\u001b[0;34m\u001b[0m\u001b[0;34m\u001b[0m\u001b[0m\n",
            "\u001b[0;32m/usr/local/lib/python3.6/dist-packages/torch/nn/modules/module.py\u001b[0m in \u001b[0;36m__call__\u001b[0;34m(self, *input, **kwargs)\u001b[0m\n\u001b[1;32m    530\u001b[0m             \u001b[0mresult\u001b[0m \u001b[0;34m=\u001b[0m \u001b[0mself\u001b[0m\u001b[0;34m.\u001b[0m\u001b[0m_slow_forward\u001b[0m\u001b[0;34m(\u001b[0m\u001b[0;34m*\u001b[0m\u001b[0minput\u001b[0m\u001b[0;34m,\u001b[0m \u001b[0;34m**\u001b[0m\u001b[0mkwargs\u001b[0m\u001b[0;34m)\u001b[0m\u001b[0;34m\u001b[0m\u001b[0;34m\u001b[0m\u001b[0m\n\u001b[1;32m    531\u001b[0m         \u001b[0;32melse\u001b[0m\u001b[0;34m:\u001b[0m\u001b[0;34m\u001b[0m\u001b[0;34m\u001b[0m\u001b[0m\n\u001b[0;32m--> 532\u001b[0;31m             \u001b[0mresult\u001b[0m \u001b[0;34m=\u001b[0m \u001b[0mself\u001b[0m\u001b[0;34m.\u001b[0m\u001b[0mforward\u001b[0m\u001b[0;34m(\u001b[0m\u001b[0;34m*\u001b[0m\u001b[0minput\u001b[0m\u001b[0;34m,\u001b[0m \u001b[0;34m**\u001b[0m\u001b[0mkwargs\u001b[0m\u001b[0;34m)\u001b[0m\u001b[0;34m\u001b[0m\u001b[0;34m\u001b[0m\u001b[0m\n\u001b[0m\u001b[1;32m    533\u001b[0m         \u001b[0;32mfor\u001b[0m \u001b[0mhook\u001b[0m \u001b[0;32min\u001b[0m \u001b[0mself\u001b[0m\u001b[0;34m.\u001b[0m\u001b[0m_forward_hooks\u001b[0m\u001b[0;34m.\u001b[0m\u001b[0mvalues\u001b[0m\u001b[0;34m(\u001b[0m\u001b[0;34m)\u001b[0m\u001b[0;34m:\u001b[0m\u001b[0;34m\u001b[0m\u001b[0;34m\u001b[0m\u001b[0m\n\u001b[1;32m    534\u001b[0m             \u001b[0mhook_result\u001b[0m \u001b[0;34m=\u001b[0m \u001b[0mhook\u001b[0m\u001b[0;34m(\u001b[0m\u001b[0mself\u001b[0m\u001b[0;34m,\u001b[0m \u001b[0minput\u001b[0m\u001b[0;34m,\u001b[0m \u001b[0mresult\u001b[0m\u001b[0;34m)\u001b[0m\u001b[0;34m\u001b[0m\u001b[0;34m\u001b[0m\u001b[0m\n",
            "\u001b[0;32m<ipython-input-128-a985e4bbca1b>\u001b[0m in \u001b[0;36mforward\u001b[0;34m(self, x)\u001b[0m\n\u001b[1;32m     13\u001b[0m         \u001b[0mout\u001b[0m \u001b[0;34m=\u001b[0m \u001b[0mF\u001b[0m\u001b[0;34m.\u001b[0m\u001b[0mleaky_relu\u001b[0m\u001b[0;34m(\u001b[0m\u001b[0mself\u001b[0m\u001b[0;34m.\u001b[0m\u001b[0mconv2\u001b[0m\u001b[0;34m(\u001b[0m\u001b[0mout\u001b[0m\u001b[0;34m)\u001b[0m\u001b[0;34m,\u001b[0m \u001b[0;36m0.05\u001b[0m\u001b[0;34m)\u001b[0m  \u001b[0;31m# (?, 128, 8, 8)\u001b[0m\u001b[0;34m\u001b[0m\u001b[0;34m\u001b[0m\u001b[0m\n\u001b[1;32m     14\u001b[0m         \u001b[0mout\u001b[0m \u001b[0;34m=\u001b[0m \u001b[0mF\u001b[0m\u001b[0;34m.\u001b[0m\u001b[0mleaky_relu\u001b[0m\u001b[0;34m(\u001b[0m\u001b[0mself\u001b[0m\u001b[0;34m.\u001b[0m\u001b[0mconv3\u001b[0m\u001b[0;34m(\u001b[0m\u001b[0mout\u001b[0m\u001b[0;34m)\u001b[0m\u001b[0;34m,\u001b[0m \u001b[0;36m0.05\u001b[0m\u001b[0;34m)\u001b[0m  \u001b[0;31m# (?, 256, 4, 4)\u001b[0m\u001b[0;34m\u001b[0m\u001b[0;34m\u001b[0m\u001b[0m\n\u001b[0;32m---> 15\u001b[0;31m         \u001b[0mout\u001b[0m \u001b[0;34m=\u001b[0m \u001b[0mself\u001b[0m\u001b[0;34m.\u001b[0m\u001b[0mfc\u001b[0m\u001b[0;34m(\u001b[0m\u001b[0mout\u001b[0m\u001b[0;34m)\u001b[0m\u001b[0;34m.\u001b[0m\u001b[0msqueeze\u001b[0m\u001b[0;34m(\u001b[0m\u001b[0;34m)\u001b[0m\u001b[0;34m\u001b[0m\u001b[0;34m\u001b[0m\u001b[0m\n\u001b[0m\u001b[1;32m     16\u001b[0m         \u001b[0;32mreturn\u001b[0m \u001b[0mout\u001b[0m\u001b[0;34m\u001b[0m\u001b[0;34m\u001b[0m\u001b[0m\n\u001b[1;32m     17\u001b[0m \u001b[0;34m\u001b[0m\u001b[0m\n",
            "\u001b[0;32m/usr/local/lib/python3.6/dist-packages/torch/nn/modules/module.py\u001b[0m in \u001b[0;36m__call__\u001b[0;34m(self, *input, **kwargs)\u001b[0m\n\u001b[1;32m    530\u001b[0m             \u001b[0mresult\u001b[0m \u001b[0;34m=\u001b[0m \u001b[0mself\u001b[0m\u001b[0;34m.\u001b[0m\u001b[0m_slow_forward\u001b[0m\u001b[0;34m(\u001b[0m\u001b[0;34m*\u001b[0m\u001b[0minput\u001b[0m\u001b[0;34m,\u001b[0m \u001b[0;34m**\u001b[0m\u001b[0mkwargs\u001b[0m\u001b[0;34m)\u001b[0m\u001b[0;34m\u001b[0m\u001b[0;34m\u001b[0m\u001b[0m\n\u001b[1;32m    531\u001b[0m         \u001b[0;32melse\u001b[0m\u001b[0;34m:\u001b[0m\u001b[0;34m\u001b[0m\u001b[0;34m\u001b[0m\u001b[0m\n\u001b[0;32m--> 532\u001b[0;31m             \u001b[0mresult\u001b[0m \u001b[0;34m=\u001b[0m \u001b[0mself\u001b[0m\u001b[0;34m.\u001b[0m\u001b[0mforward\u001b[0m\u001b[0;34m(\u001b[0m\u001b[0;34m*\u001b[0m\u001b[0minput\u001b[0m\u001b[0;34m,\u001b[0m \u001b[0;34m**\u001b[0m\u001b[0mkwargs\u001b[0m\u001b[0;34m)\u001b[0m\u001b[0;34m\u001b[0m\u001b[0;34m\u001b[0m\u001b[0m\n\u001b[0m\u001b[1;32m    533\u001b[0m         \u001b[0;32mfor\u001b[0m \u001b[0mhook\u001b[0m \u001b[0;32min\u001b[0m \u001b[0mself\u001b[0m\u001b[0;34m.\u001b[0m\u001b[0m_forward_hooks\u001b[0m\u001b[0;34m.\u001b[0m\u001b[0mvalues\u001b[0m\u001b[0;34m(\u001b[0m\u001b[0;34m)\u001b[0m\u001b[0;34m:\u001b[0m\u001b[0;34m\u001b[0m\u001b[0;34m\u001b[0m\u001b[0m\n\u001b[1;32m    534\u001b[0m             \u001b[0mhook_result\u001b[0m \u001b[0;34m=\u001b[0m \u001b[0mhook\u001b[0m\u001b[0;34m(\u001b[0m\u001b[0mself\u001b[0m\u001b[0;34m,\u001b[0m \u001b[0minput\u001b[0m\u001b[0;34m,\u001b[0m \u001b[0mresult\u001b[0m\u001b[0;34m)\u001b[0m\u001b[0;34m\u001b[0m\u001b[0;34m\u001b[0m\u001b[0m\n",
            "\u001b[0;32m/usr/local/lib/python3.6/dist-packages/torch/nn/modules/container.py\u001b[0m in \u001b[0;36mforward\u001b[0;34m(self, input)\u001b[0m\n\u001b[1;32m     98\u001b[0m     \u001b[0;32mdef\u001b[0m \u001b[0mforward\u001b[0m\u001b[0;34m(\u001b[0m\u001b[0mself\u001b[0m\u001b[0;34m,\u001b[0m \u001b[0minput\u001b[0m\u001b[0;34m)\u001b[0m\u001b[0;34m:\u001b[0m\u001b[0;34m\u001b[0m\u001b[0;34m\u001b[0m\u001b[0m\n\u001b[1;32m     99\u001b[0m         \u001b[0;32mfor\u001b[0m \u001b[0mmodule\u001b[0m \u001b[0;32min\u001b[0m \u001b[0mself\u001b[0m\u001b[0;34m:\u001b[0m\u001b[0;34m\u001b[0m\u001b[0;34m\u001b[0m\u001b[0m\n\u001b[0;32m--> 100\u001b[0;31m             \u001b[0minput\u001b[0m \u001b[0;34m=\u001b[0m \u001b[0mmodule\u001b[0m\u001b[0;34m(\u001b[0m\u001b[0minput\u001b[0m\u001b[0;34m)\u001b[0m\u001b[0;34m\u001b[0m\u001b[0;34m\u001b[0m\u001b[0m\n\u001b[0m\u001b[1;32m    101\u001b[0m         \u001b[0;32mreturn\u001b[0m \u001b[0minput\u001b[0m\u001b[0;34m\u001b[0m\u001b[0;34m\u001b[0m\u001b[0m\n\u001b[1;32m    102\u001b[0m \u001b[0;34m\u001b[0m\u001b[0m\n",
            "\u001b[0;32m/usr/local/lib/python3.6/dist-packages/torch/nn/modules/module.py\u001b[0m in \u001b[0;36m__call__\u001b[0;34m(self, *input, **kwargs)\u001b[0m\n\u001b[1;32m    530\u001b[0m             \u001b[0mresult\u001b[0m \u001b[0;34m=\u001b[0m \u001b[0mself\u001b[0m\u001b[0;34m.\u001b[0m\u001b[0m_slow_forward\u001b[0m\u001b[0;34m(\u001b[0m\u001b[0;34m*\u001b[0m\u001b[0minput\u001b[0m\u001b[0;34m,\u001b[0m \u001b[0;34m**\u001b[0m\u001b[0mkwargs\u001b[0m\u001b[0;34m)\u001b[0m\u001b[0;34m\u001b[0m\u001b[0;34m\u001b[0m\u001b[0m\n\u001b[1;32m    531\u001b[0m         \u001b[0;32melse\u001b[0m\u001b[0;34m:\u001b[0m\u001b[0;34m\u001b[0m\u001b[0;34m\u001b[0m\u001b[0m\n\u001b[0;32m--> 532\u001b[0;31m             \u001b[0mresult\u001b[0m \u001b[0;34m=\u001b[0m \u001b[0mself\u001b[0m\u001b[0;34m.\u001b[0m\u001b[0mforward\u001b[0m\u001b[0;34m(\u001b[0m\u001b[0;34m*\u001b[0m\u001b[0minput\u001b[0m\u001b[0;34m,\u001b[0m \u001b[0;34m**\u001b[0m\u001b[0mkwargs\u001b[0m\u001b[0;34m)\u001b[0m\u001b[0;34m\u001b[0m\u001b[0;34m\u001b[0m\u001b[0m\n\u001b[0m\u001b[1;32m    533\u001b[0m         \u001b[0;32mfor\u001b[0m \u001b[0mhook\u001b[0m \u001b[0;32min\u001b[0m \u001b[0mself\u001b[0m\u001b[0;34m.\u001b[0m\u001b[0m_forward_hooks\u001b[0m\u001b[0;34m.\u001b[0m\u001b[0mvalues\u001b[0m\u001b[0;34m(\u001b[0m\u001b[0;34m)\u001b[0m\u001b[0;34m:\u001b[0m\u001b[0;34m\u001b[0m\u001b[0;34m\u001b[0m\u001b[0m\n\u001b[1;32m    534\u001b[0m             \u001b[0mhook_result\u001b[0m \u001b[0;34m=\u001b[0m \u001b[0mhook\u001b[0m\u001b[0;34m(\u001b[0m\u001b[0mself\u001b[0m\u001b[0;34m,\u001b[0m \u001b[0minput\u001b[0m\u001b[0;34m,\u001b[0m \u001b[0mresult\u001b[0m\u001b[0;34m)\u001b[0m\u001b[0;34m\u001b[0m\u001b[0;34m\u001b[0m\u001b[0m\n",
            "\u001b[0;32m/usr/local/lib/python3.6/dist-packages/torch/nn/modules/conv.py\u001b[0m in \u001b[0;36mforward\u001b[0;34m(self, input)\u001b[0m\n\u001b[1;32m    343\u001b[0m \u001b[0;34m\u001b[0m\u001b[0m\n\u001b[1;32m    344\u001b[0m     \u001b[0;32mdef\u001b[0m \u001b[0mforward\u001b[0m\u001b[0;34m(\u001b[0m\u001b[0mself\u001b[0m\u001b[0;34m,\u001b[0m \u001b[0minput\u001b[0m\u001b[0;34m)\u001b[0m\u001b[0;34m:\u001b[0m\u001b[0;34m\u001b[0m\u001b[0;34m\u001b[0m\u001b[0m\n\u001b[0;32m--> 345\u001b[0;31m         \u001b[0;32mreturn\u001b[0m \u001b[0mself\u001b[0m\u001b[0;34m.\u001b[0m\u001b[0mconv2d_forward\u001b[0m\u001b[0;34m(\u001b[0m\u001b[0minput\u001b[0m\u001b[0;34m,\u001b[0m \u001b[0mself\u001b[0m\u001b[0;34m.\u001b[0m\u001b[0mweight\u001b[0m\u001b[0;34m)\u001b[0m\u001b[0;34m\u001b[0m\u001b[0;34m\u001b[0m\u001b[0m\n\u001b[0m\u001b[1;32m    346\u001b[0m \u001b[0;34m\u001b[0m\u001b[0m\n\u001b[1;32m    347\u001b[0m \u001b[0;32mclass\u001b[0m \u001b[0mConv3d\u001b[0m\u001b[0;34m(\u001b[0m\u001b[0m_ConvNd\u001b[0m\u001b[0;34m)\u001b[0m\u001b[0;34m:\u001b[0m\u001b[0;34m\u001b[0m\u001b[0;34m\u001b[0m\u001b[0m\n",
            "\u001b[0;32m/usr/local/lib/python3.6/dist-packages/torch/nn/modules/conv.py\u001b[0m in \u001b[0;36mconv2d_forward\u001b[0;34m(self, input, weight)\u001b[0m\n\u001b[1;32m    340\u001b[0m                             _pair(0), self.dilation, self.groups)\n\u001b[1;32m    341\u001b[0m         return F.conv2d(input, weight, self.bias, self.stride,\n\u001b[0;32m--> 342\u001b[0;31m                         self.padding, self.dilation, self.groups)\n\u001b[0m\u001b[1;32m    343\u001b[0m \u001b[0;34m\u001b[0m\u001b[0m\n\u001b[1;32m    344\u001b[0m     \u001b[0;32mdef\u001b[0m \u001b[0mforward\u001b[0m\u001b[0;34m(\u001b[0m\u001b[0mself\u001b[0m\u001b[0;34m,\u001b[0m \u001b[0minput\u001b[0m\u001b[0;34m)\u001b[0m\u001b[0;34m:\u001b[0m\u001b[0;34m\u001b[0m\u001b[0;34m\u001b[0m\u001b[0m\n",
            "\u001b[0;31mRuntimeError\u001b[0m: Calculated padded input size per channel: (2 x 2). Kernel size: (4 x 4). Kernel size can't be greater than actual input size"
          ]
        }
      ]
    },
    {
      "cell_type": "code",
      "metadata": {
        "id": "HGjWBRrA74G6",
        "colab_type": "code",
        "colab": {}
      },
      "source": [
        ""
      ],
      "execution_count": 0,
      "outputs": []
    }
  ]
}