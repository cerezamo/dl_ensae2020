{
  "nbformat": 4,
  "nbformat_minor": 0,
  "metadata": {
    "colab": {
      "name": "TEST_USPS_MNIST.ipynb",
      "provenance": [],
      "toc_visible": true,
      "authorship_tag": "ABX9TyOvfgIARhVnHy1LP7QxmPmv",
      "include_colab_link": true
    },
    "kernelspec": {
      "name": "python3",
      "display_name": "Python 3"
    },
    "accelerator": "GPU",
    "widgets": {
      "application/vnd.jupyter.widget-state+json": {
        "fd3107ca585646139750c2c7dfddc0b6": {
          "model_module": "@jupyter-widgets/controls",
          "model_name": "HBoxModel",
          "state": {
            "_view_name": "HBoxView",
            "_dom_classes": [],
            "_model_name": "HBoxModel",
            "_view_module": "@jupyter-widgets/controls",
            "_model_module_version": "1.5.0",
            "_view_count": null,
            "_view_module_version": "1.5.0",
            "box_style": "",
            "layout": "IPY_MODEL_678a9d0676134925be75f951eb0d4f57",
            "_model_module": "@jupyter-widgets/controls",
            "children": [
              "IPY_MODEL_51f41c8164ce44369a6ebb7eb4464ce3",
              "IPY_MODEL_99d58026fd664c4093c5012d7179c3ed"
            ]
          }
        },
        "678a9d0676134925be75f951eb0d4f57": {
          "model_module": "@jupyter-widgets/base",
          "model_name": "LayoutModel",
          "state": {
            "_view_name": "LayoutView",
            "grid_template_rows": null,
            "right": null,
            "justify_content": null,
            "_view_module": "@jupyter-widgets/base",
            "overflow": null,
            "_model_module_version": "1.2.0",
            "_view_count": null,
            "flex_flow": null,
            "width": null,
            "min_width": null,
            "border": null,
            "align_items": null,
            "bottom": null,
            "_model_module": "@jupyter-widgets/base",
            "top": null,
            "grid_column": null,
            "overflow_y": null,
            "overflow_x": null,
            "grid_auto_flow": null,
            "grid_area": null,
            "grid_template_columns": null,
            "flex": null,
            "_model_name": "LayoutModel",
            "justify_items": null,
            "grid_row": null,
            "max_height": null,
            "align_content": null,
            "visibility": null,
            "align_self": null,
            "height": null,
            "min_height": null,
            "padding": null,
            "grid_auto_rows": null,
            "grid_gap": null,
            "max_width": null,
            "order": null,
            "_view_module_version": "1.2.0",
            "grid_template_areas": null,
            "object_position": null,
            "object_fit": null,
            "grid_auto_columns": null,
            "margin": null,
            "display": null,
            "left": null
          }
        },
        "51f41c8164ce44369a6ebb7eb4464ce3": {
          "model_module": "@jupyter-widgets/controls",
          "model_name": "IntProgressModel",
          "state": {
            "_view_name": "ProgressView",
            "style": "IPY_MODEL_ad1fe884dbda4c53bbb464a09510bba9",
            "_dom_classes": [],
            "description": "",
            "_model_name": "IntProgressModel",
            "bar_style": "info",
            "max": 1,
            "_view_module": "@jupyter-widgets/controls",
            "_model_module_version": "1.5.0",
            "value": 1,
            "_view_count": null,
            "_view_module_version": "1.5.0",
            "orientation": "horizontal",
            "min": 0,
            "description_tooltip": null,
            "_model_module": "@jupyter-widgets/controls",
            "layout": "IPY_MODEL_b0753ecbddf14a6da3c2023332c34637"
          }
        },
        "99d58026fd664c4093c5012d7179c3ed": {
          "model_module": "@jupyter-widgets/controls",
          "model_name": "HTMLModel",
          "state": {
            "_view_name": "HTMLView",
            "style": "IPY_MODEL_e623ca3a00364f60bfcea8e6872e89fc",
            "_dom_classes": [],
            "description": "",
            "_model_name": "HTMLModel",
            "placeholder": "​",
            "_view_module": "@jupyter-widgets/controls",
            "_model_module_version": "1.5.0",
            "value": " 9920512/? [00:20&lt;00:00, 710456.58it/s]",
            "_view_count": null,
            "_view_module_version": "1.5.0",
            "description_tooltip": null,
            "_model_module": "@jupyter-widgets/controls",
            "layout": "IPY_MODEL_a92a58a7381c45dcb8490be856ffcb6e"
          }
        },
        "ad1fe884dbda4c53bbb464a09510bba9": {
          "model_module": "@jupyter-widgets/controls",
          "model_name": "ProgressStyleModel",
          "state": {
            "_view_name": "StyleView",
            "_model_name": "ProgressStyleModel",
            "description_width": "initial",
            "_view_module": "@jupyter-widgets/base",
            "_model_module_version": "1.5.0",
            "_view_count": null,
            "_view_module_version": "1.2.0",
            "bar_color": null,
            "_model_module": "@jupyter-widgets/controls"
          }
        },
        "b0753ecbddf14a6da3c2023332c34637": {
          "model_module": "@jupyter-widgets/base",
          "model_name": "LayoutModel",
          "state": {
            "_view_name": "LayoutView",
            "grid_template_rows": null,
            "right": null,
            "justify_content": null,
            "_view_module": "@jupyter-widgets/base",
            "overflow": null,
            "_model_module_version": "1.2.0",
            "_view_count": null,
            "flex_flow": null,
            "width": null,
            "min_width": null,
            "border": null,
            "align_items": null,
            "bottom": null,
            "_model_module": "@jupyter-widgets/base",
            "top": null,
            "grid_column": null,
            "overflow_y": null,
            "overflow_x": null,
            "grid_auto_flow": null,
            "grid_area": null,
            "grid_template_columns": null,
            "flex": null,
            "_model_name": "LayoutModel",
            "justify_items": null,
            "grid_row": null,
            "max_height": null,
            "align_content": null,
            "visibility": null,
            "align_self": null,
            "height": null,
            "min_height": null,
            "padding": null,
            "grid_auto_rows": null,
            "grid_gap": null,
            "max_width": null,
            "order": null,
            "_view_module_version": "1.2.0",
            "grid_template_areas": null,
            "object_position": null,
            "object_fit": null,
            "grid_auto_columns": null,
            "margin": null,
            "display": null,
            "left": null
          }
        },
        "e623ca3a00364f60bfcea8e6872e89fc": {
          "model_module": "@jupyter-widgets/controls",
          "model_name": "DescriptionStyleModel",
          "state": {
            "_view_name": "StyleView",
            "_model_name": "DescriptionStyleModel",
            "description_width": "",
            "_view_module": "@jupyter-widgets/base",
            "_model_module_version": "1.5.0",
            "_view_count": null,
            "_view_module_version": "1.2.0",
            "_model_module": "@jupyter-widgets/controls"
          }
        },
        "a92a58a7381c45dcb8490be856ffcb6e": {
          "model_module": "@jupyter-widgets/base",
          "model_name": "LayoutModel",
          "state": {
            "_view_name": "LayoutView",
            "grid_template_rows": null,
            "right": null,
            "justify_content": null,
            "_view_module": "@jupyter-widgets/base",
            "overflow": null,
            "_model_module_version": "1.2.0",
            "_view_count": null,
            "flex_flow": null,
            "width": null,
            "min_width": null,
            "border": null,
            "align_items": null,
            "bottom": null,
            "_model_module": "@jupyter-widgets/base",
            "top": null,
            "grid_column": null,
            "overflow_y": null,
            "overflow_x": null,
            "grid_auto_flow": null,
            "grid_area": null,
            "grid_template_columns": null,
            "flex": null,
            "_model_name": "LayoutModel",
            "justify_items": null,
            "grid_row": null,
            "max_height": null,
            "align_content": null,
            "visibility": null,
            "align_self": null,
            "height": null,
            "min_height": null,
            "padding": null,
            "grid_auto_rows": null,
            "grid_gap": null,
            "max_width": null,
            "order": null,
            "_view_module_version": "1.2.0",
            "grid_template_areas": null,
            "object_position": null,
            "object_fit": null,
            "grid_auto_columns": null,
            "margin": null,
            "display": null,
            "left": null
          }
        },
        "0effea6fee4d4224a805f9f8e58a1f3d": {
          "model_module": "@jupyter-widgets/controls",
          "model_name": "HBoxModel",
          "state": {
            "_view_name": "HBoxView",
            "_dom_classes": [],
            "_model_name": "HBoxModel",
            "_view_module": "@jupyter-widgets/controls",
            "_model_module_version": "1.5.0",
            "_view_count": null,
            "_view_module_version": "1.5.0",
            "box_style": "",
            "layout": "IPY_MODEL_57a3db3909f74eb8834da279690466df",
            "_model_module": "@jupyter-widgets/controls",
            "children": [
              "IPY_MODEL_43d5dce007834da58e77187f36b7f3dd",
              "IPY_MODEL_0474cdfe1f6843918227c320f0ddd0ac"
            ]
          }
        },
        "57a3db3909f74eb8834da279690466df": {
          "model_module": "@jupyter-widgets/base",
          "model_name": "LayoutModel",
          "state": {
            "_view_name": "LayoutView",
            "grid_template_rows": null,
            "right": null,
            "justify_content": null,
            "_view_module": "@jupyter-widgets/base",
            "overflow": null,
            "_model_module_version": "1.2.0",
            "_view_count": null,
            "flex_flow": null,
            "width": null,
            "min_width": null,
            "border": null,
            "align_items": null,
            "bottom": null,
            "_model_module": "@jupyter-widgets/base",
            "top": null,
            "grid_column": null,
            "overflow_y": null,
            "overflow_x": null,
            "grid_auto_flow": null,
            "grid_area": null,
            "grid_template_columns": null,
            "flex": null,
            "_model_name": "LayoutModel",
            "justify_items": null,
            "grid_row": null,
            "max_height": null,
            "align_content": null,
            "visibility": null,
            "align_self": null,
            "height": null,
            "min_height": null,
            "padding": null,
            "grid_auto_rows": null,
            "grid_gap": null,
            "max_width": null,
            "order": null,
            "_view_module_version": "1.2.0",
            "grid_template_areas": null,
            "object_position": null,
            "object_fit": null,
            "grid_auto_columns": null,
            "margin": null,
            "display": null,
            "left": null
          }
        },
        "43d5dce007834da58e77187f36b7f3dd": {
          "model_module": "@jupyter-widgets/controls",
          "model_name": "IntProgressModel",
          "state": {
            "_view_name": "ProgressView",
            "style": "IPY_MODEL_8b94a0e3bcda4520ae81694a6d21ff50",
            "_dom_classes": [],
            "description": "",
            "_model_name": "IntProgressModel",
            "bar_style": "success",
            "max": 1,
            "_view_module": "@jupyter-widgets/controls",
            "_model_module_version": "1.5.0",
            "value": 1,
            "_view_count": null,
            "_view_module_version": "1.5.0",
            "orientation": "horizontal",
            "min": 0,
            "description_tooltip": null,
            "_model_module": "@jupyter-widgets/controls",
            "layout": "IPY_MODEL_93d542b9593e49c78d7e0062897fd370"
          }
        },
        "0474cdfe1f6843918227c320f0ddd0ac": {
          "model_module": "@jupyter-widgets/controls",
          "model_name": "HTMLModel",
          "state": {
            "_view_name": "HTMLView",
            "style": "IPY_MODEL_8323317c4c314ccc817b834fa0107179",
            "_dom_classes": [],
            "description": "",
            "_model_name": "HTMLModel",
            "placeholder": "​",
            "_view_module": "@jupyter-widgets/controls",
            "_model_module_version": "1.5.0",
            "value": " 32768/? [00:01&lt;00:00, 27589.87it/s]",
            "_view_count": null,
            "_view_module_version": "1.5.0",
            "description_tooltip": null,
            "_model_module": "@jupyter-widgets/controls",
            "layout": "IPY_MODEL_a970587cff344da58f73553a7b2f5dc2"
          }
        },
        "8b94a0e3bcda4520ae81694a6d21ff50": {
          "model_module": "@jupyter-widgets/controls",
          "model_name": "ProgressStyleModel",
          "state": {
            "_view_name": "StyleView",
            "_model_name": "ProgressStyleModel",
            "description_width": "initial",
            "_view_module": "@jupyter-widgets/base",
            "_model_module_version": "1.5.0",
            "_view_count": null,
            "_view_module_version": "1.2.0",
            "bar_color": null,
            "_model_module": "@jupyter-widgets/controls"
          }
        },
        "93d542b9593e49c78d7e0062897fd370": {
          "model_module": "@jupyter-widgets/base",
          "model_name": "LayoutModel",
          "state": {
            "_view_name": "LayoutView",
            "grid_template_rows": null,
            "right": null,
            "justify_content": null,
            "_view_module": "@jupyter-widgets/base",
            "overflow": null,
            "_model_module_version": "1.2.0",
            "_view_count": null,
            "flex_flow": null,
            "width": null,
            "min_width": null,
            "border": null,
            "align_items": null,
            "bottom": null,
            "_model_module": "@jupyter-widgets/base",
            "top": null,
            "grid_column": null,
            "overflow_y": null,
            "overflow_x": null,
            "grid_auto_flow": null,
            "grid_area": null,
            "grid_template_columns": null,
            "flex": null,
            "_model_name": "LayoutModel",
            "justify_items": null,
            "grid_row": null,
            "max_height": null,
            "align_content": null,
            "visibility": null,
            "align_self": null,
            "height": null,
            "min_height": null,
            "padding": null,
            "grid_auto_rows": null,
            "grid_gap": null,
            "max_width": null,
            "order": null,
            "_view_module_version": "1.2.0",
            "grid_template_areas": null,
            "object_position": null,
            "object_fit": null,
            "grid_auto_columns": null,
            "margin": null,
            "display": null,
            "left": null
          }
        },
        "8323317c4c314ccc817b834fa0107179": {
          "model_module": "@jupyter-widgets/controls",
          "model_name": "DescriptionStyleModel",
          "state": {
            "_view_name": "StyleView",
            "_model_name": "DescriptionStyleModel",
            "description_width": "",
            "_view_module": "@jupyter-widgets/base",
            "_model_module_version": "1.5.0",
            "_view_count": null,
            "_view_module_version": "1.2.0",
            "_model_module": "@jupyter-widgets/controls"
          }
        },
        "a970587cff344da58f73553a7b2f5dc2": {
          "model_module": "@jupyter-widgets/base",
          "model_name": "LayoutModel",
          "state": {
            "_view_name": "LayoutView",
            "grid_template_rows": null,
            "right": null,
            "justify_content": null,
            "_view_module": "@jupyter-widgets/base",
            "overflow": null,
            "_model_module_version": "1.2.0",
            "_view_count": null,
            "flex_flow": null,
            "width": null,
            "min_width": null,
            "border": null,
            "align_items": null,
            "bottom": null,
            "_model_module": "@jupyter-widgets/base",
            "top": null,
            "grid_column": null,
            "overflow_y": null,
            "overflow_x": null,
            "grid_auto_flow": null,
            "grid_area": null,
            "grid_template_columns": null,
            "flex": null,
            "_model_name": "LayoutModel",
            "justify_items": null,
            "grid_row": null,
            "max_height": null,
            "align_content": null,
            "visibility": null,
            "align_self": null,
            "height": null,
            "min_height": null,
            "padding": null,
            "grid_auto_rows": null,
            "grid_gap": null,
            "max_width": null,
            "order": null,
            "_view_module_version": "1.2.0",
            "grid_template_areas": null,
            "object_position": null,
            "object_fit": null,
            "grid_auto_columns": null,
            "margin": null,
            "display": null,
            "left": null
          }
        },
        "ab6aaae3360d4ee3ad5249088874b342": {
          "model_module": "@jupyter-widgets/controls",
          "model_name": "HBoxModel",
          "state": {
            "_view_name": "HBoxView",
            "_dom_classes": [],
            "_model_name": "HBoxModel",
            "_view_module": "@jupyter-widgets/controls",
            "_model_module_version": "1.5.0",
            "_view_count": null,
            "_view_module_version": "1.5.0",
            "box_style": "",
            "layout": "IPY_MODEL_e2c53aa0bd5b4b1ca3600262d7213d1d",
            "_model_module": "@jupyter-widgets/controls",
            "children": [
              "IPY_MODEL_e02655beae0542ddb157256d4180dce6",
              "IPY_MODEL_77691c2cdc004a509ac5218e0057fde3"
            ]
          }
        },
        "e2c53aa0bd5b4b1ca3600262d7213d1d": {
          "model_module": "@jupyter-widgets/base",
          "model_name": "LayoutModel",
          "state": {
            "_view_name": "LayoutView",
            "grid_template_rows": null,
            "right": null,
            "justify_content": null,
            "_view_module": "@jupyter-widgets/base",
            "overflow": null,
            "_model_module_version": "1.2.0",
            "_view_count": null,
            "flex_flow": null,
            "width": null,
            "min_width": null,
            "border": null,
            "align_items": null,
            "bottom": null,
            "_model_module": "@jupyter-widgets/base",
            "top": null,
            "grid_column": null,
            "overflow_y": null,
            "overflow_x": null,
            "grid_auto_flow": null,
            "grid_area": null,
            "grid_template_columns": null,
            "flex": null,
            "_model_name": "LayoutModel",
            "justify_items": null,
            "grid_row": null,
            "max_height": null,
            "align_content": null,
            "visibility": null,
            "align_self": null,
            "height": null,
            "min_height": null,
            "padding": null,
            "grid_auto_rows": null,
            "grid_gap": null,
            "max_width": null,
            "order": null,
            "_view_module_version": "1.2.0",
            "grid_template_areas": null,
            "object_position": null,
            "object_fit": null,
            "grid_auto_columns": null,
            "margin": null,
            "display": null,
            "left": null
          }
        },
        "e02655beae0542ddb157256d4180dce6": {
          "model_module": "@jupyter-widgets/controls",
          "model_name": "IntProgressModel",
          "state": {
            "_view_name": "ProgressView",
            "style": "IPY_MODEL_dee66dbe37d5406fa9f8bf33b56bc3d7",
            "_dom_classes": [],
            "description": "",
            "_model_name": "IntProgressModel",
            "bar_style": "success",
            "max": 1,
            "_view_module": "@jupyter-widgets/controls",
            "_model_module_version": "1.5.0",
            "value": 1,
            "_view_count": null,
            "_view_module_version": "1.5.0",
            "orientation": "horizontal",
            "min": 0,
            "description_tooltip": null,
            "_model_module": "@jupyter-widgets/controls",
            "layout": "IPY_MODEL_1ca7408da3f54cf5a82639eaa369de64"
          }
        },
        "77691c2cdc004a509ac5218e0057fde3": {
          "model_module": "@jupyter-widgets/controls",
          "model_name": "HTMLModel",
          "state": {
            "_view_name": "HTMLView",
            "style": "IPY_MODEL_1db269a1b84443ccb1ed6ee7ba91cae8",
            "_dom_classes": [],
            "description": "",
            "_model_name": "HTMLModel",
            "placeholder": "​",
            "_view_module": "@jupyter-widgets/controls",
            "_model_module_version": "1.5.0",
            "value": " 1654784/? [00:00&lt;00:00, 1911259.75it/s]",
            "_view_count": null,
            "_view_module_version": "1.5.0",
            "description_tooltip": null,
            "_model_module": "@jupyter-widgets/controls",
            "layout": "IPY_MODEL_3670bc332c674b8aa26c71c7c1c686bb"
          }
        },
        "dee66dbe37d5406fa9f8bf33b56bc3d7": {
          "model_module": "@jupyter-widgets/controls",
          "model_name": "ProgressStyleModel",
          "state": {
            "_view_name": "StyleView",
            "_model_name": "ProgressStyleModel",
            "description_width": "initial",
            "_view_module": "@jupyter-widgets/base",
            "_model_module_version": "1.5.0",
            "_view_count": null,
            "_view_module_version": "1.2.0",
            "bar_color": null,
            "_model_module": "@jupyter-widgets/controls"
          }
        },
        "1ca7408da3f54cf5a82639eaa369de64": {
          "model_module": "@jupyter-widgets/base",
          "model_name": "LayoutModel",
          "state": {
            "_view_name": "LayoutView",
            "grid_template_rows": null,
            "right": null,
            "justify_content": null,
            "_view_module": "@jupyter-widgets/base",
            "overflow": null,
            "_model_module_version": "1.2.0",
            "_view_count": null,
            "flex_flow": null,
            "width": null,
            "min_width": null,
            "border": null,
            "align_items": null,
            "bottom": null,
            "_model_module": "@jupyter-widgets/base",
            "top": null,
            "grid_column": null,
            "overflow_y": null,
            "overflow_x": null,
            "grid_auto_flow": null,
            "grid_area": null,
            "grid_template_columns": null,
            "flex": null,
            "_model_name": "LayoutModel",
            "justify_items": null,
            "grid_row": null,
            "max_height": null,
            "align_content": null,
            "visibility": null,
            "align_self": null,
            "height": null,
            "min_height": null,
            "padding": null,
            "grid_auto_rows": null,
            "grid_gap": null,
            "max_width": null,
            "order": null,
            "_view_module_version": "1.2.0",
            "grid_template_areas": null,
            "object_position": null,
            "object_fit": null,
            "grid_auto_columns": null,
            "margin": null,
            "display": null,
            "left": null
          }
        },
        "1db269a1b84443ccb1ed6ee7ba91cae8": {
          "model_module": "@jupyter-widgets/controls",
          "model_name": "DescriptionStyleModel",
          "state": {
            "_view_name": "StyleView",
            "_model_name": "DescriptionStyleModel",
            "description_width": "",
            "_view_module": "@jupyter-widgets/base",
            "_model_module_version": "1.5.0",
            "_view_count": null,
            "_view_module_version": "1.2.0",
            "_model_module": "@jupyter-widgets/controls"
          }
        },
        "3670bc332c674b8aa26c71c7c1c686bb": {
          "model_module": "@jupyter-widgets/base",
          "model_name": "LayoutModel",
          "state": {
            "_view_name": "LayoutView",
            "grid_template_rows": null,
            "right": null,
            "justify_content": null,
            "_view_module": "@jupyter-widgets/base",
            "overflow": null,
            "_model_module_version": "1.2.0",
            "_view_count": null,
            "flex_flow": null,
            "width": null,
            "min_width": null,
            "border": null,
            "align_items": null,
            "bottom": null,
            "_model_module": "@jupyter-widgets/base",
            "top": null,
            "grid_column": null,
            "overflow_y": null,
            "overflow_x": null,
            "grid_auto_flow": null,
            "grid_area": null,
            "grid_template_columns": null,
            "flex": null,
            "_model_name": "LayoutModel",
            "justify_items": null,
            "grid_row": null,
            "max_height": null,
            "align_content": null,
            "visibility": null,
            "align_self": null,
            "height": null,
            "min_height": null,
            "padding": null,
            "grid_auto_rows": null,
            "grid_gap": null,
            "max_width": null,
            "order": null,
            "_view_module_version": "1.2.0",
            "grid_template_areas": null,
            "object_position": null,
            "object_fit": null,
            "grid_auto_columns": null,
            "margin": null,
            "display": null,
            "left": null
          }
        },
        "0a31bb9440c84cf7820f814c16b0a35b": {
          "model_module": "@jupyter-widgets/controls",
          "model_name": "HBoxModel",
          "state": {
            "_view_name": "HBoxView",
            "_dom_classes": [],
            "_model_name": "HBoxModel",
            "_view_module": "@jupyter-widgets/controls",
            "_model_module_version": "1.5.0",
            "_view_count": null,
            "_view_module_version": "1.5.0",
            "box_style": "",
            "layout": "IPY_MODEL_c0f4132c42c74864883e0ccd08b053e7",
            "_model_module": "@jupyter-widgets/controls",
            "children": [
              "IPY_MODEL_b5cf9ad7e4cc4078928949e2eb5fd386",
              "IPY_MODEL_35d5b99da28349c4be1c7ea3558b335f"
            ]
          }
        },
        "c0f4132c42c74864883e0ccd08b053e7": {
          "model_module": "@jupyter-widgets/base",
          "model_name": "LayoutModel",
          "state": {
            "_view_name": "LayoutView",
            "grid_template_rows": null,
            "right": null,
            "justify_content": null,
            "_view_module": "@jupyter-widgets/base",
            "overflow": null,
            "_model_module_version": "1.2.0",
            "_view_count": null,
            "flex_flow": null,
            "width": null,
            "min_width": null,
            "border": null,
            "align_items": null,
            "bottom": null,
            "_model_module": "@jupyter-widgets/base",
            "top": null,
            "grid_column": null,
            "overflow_y": null,
            "overflow_x": null,
            "grid_auto_flow": null,
            "grid_area": null,
            "grid_template_columns": null,
            "flex": null,
            "_model_name": "LayoutModel",
            "justify_items": null,
            "grid_row": null,
            "max_height": null,
            "align_content": null,
            "visibility": null,
            "align_self": null,
            "height": null,
            "min_height": null,
            "padding": null,
            "grid_auto_rows": null,
            "grid_gap": null,
            "max_width": null,
            "order": null,
            "_view_module_version": "1.2.0",
            "grid_template_areas": null,
            "object_position": null,
            "object_fit": null,
            "grid_auto_columns": null,
            "margin": null,
            "display": null,
            "left": null
          }
        },
        "b5cf9ad7e4cc4078928949e2eb5fd386": {
          "model_module": "@jupyter-widgets/controls",
          "model_name": "IntProgressModel",
          "state": {
            "_view_name": "ProgressView",
            "style": "IPY_MODEL_d466982fb1b740a1aff8f29dd19271ff",
            "_dom_classes": [],
            "description": "  0%",
            "_model_name": "IntProgressModel",
            "bar_style": "info",
            "max": 1,
            "_view_module": "@jupyter-widgets/controls",
            "_model_module_version": "1.5.0",
            "value": 0,
            "_view_count": null,
            "_view_module_version": "1.5.0",
            "orientation": "horizontal",
            "min": 0,
            "description_tooltip": null,
            "_model_module": "@jupyter-widgets/controls",
            "layout": "IPY_MODEL_f44078e7239346edad97ae85efe53265"
          }
        },
        "35d5b99da28349c4be1c7ea3558b335f": {
          "model_module": "@jupyter-widgets/controls",
          "model_name": "HTMLModel",
          "state": {
            "_view_name": "HTMLView",
            "style": "IPY_MODEL_8924ce8e84a0483b87eb53321581d93f",
            "_dom_classes": [],
            "description": "",
            "_model_name": "HTMLModel",
            "placeholder": "​",
            "_view_module": "@jupyter-widgets/controls",
            "_model_module_version": "1.5.0",
            "value": " 0/4542 [00:00&lt;?, ?it/s]",
            "_view_count": null,
            "_view_module_version": "1.5.0",
            "description_tooltip": null,
            "_model_module": "@jupyter-widgets/controls",
            "layout": "IPY_MODEL_12e7d8d0cc1c4d85b2fd93e4b839da07"
          }
        },
        "d466982fb1b740a1aff8f29dd19271ff": {
          "model_module": "@jupyter-widgets/controls",
          "model_name": "ProgressStyleModel",
          "state": {
            "_view_name": "StyleView",
            "_model_name": "ProgressStyleModel",
            "description_width": "initial",
            "_view_module": "@jupyter-widgets/base",
            "_model_module_version": "1.5.0",
            "_view_count": null,
            "_view_module_version": "1.2.0",
            "bar_color": null,
            "_model_module": "@jupyter-widgets/controls"
          }
        },
        "f44078e7239346edad97ae85efe53265": {
          "model_module": "@jupyter-widgets/base",
          "model_name": "LayoutModel",
          "state": {
            "_view_name": "LayoutView",
            "grid_template_rows": null,
            "right": null,
            "justify_content": null,
            "_view_module": "@jupyter-widgets/base",
            "overflow": null,
            "_model_module_version": "1.2.0",
            "_view_count": null,
            "flex_flow": null,
            "width": null,
            "min_width": null,
            "border": null,
            "align_items": null,
            "bottom": null,
            "_model_module": "@jupyter-widgets/base",
            "top": null,
            "grid_column": null,
            "overflow_y": null,
            "overflow_x": null,
            "grid_auto_flow": null,
            "grid_area": null,
            "grid_template_columns": null,
            "flex": null,
            "_model_name": "LayoutModel",
            "justify_items": null,
            "grid_row": null,
            "max_height": null,
            "align_content": null,
            "visibility": null,
            "align_self": null,
            "height": null,
            "min_height": null,
            "padding": null,
            "grid_auto_rows": null,
            "grid_gap": null,
            "max_width": null,
            "order": null,
            "_view_module_version": "1.2.0",
            "grid_template_areas": null,
            "object_position": null,
            "object_fit": null,
            "grid_auto_columns": null,
            "margin": null,
            "display": null,
            "left": null
          }
        },
        "8924ce8e84a0483b87eb53321581d93f": {
          "model_module": "@jupyter-widgets/controls",
          "model_name": "DescriptionStyleModel",
          "state": {
            "_view_name": "StyleView",
            "_model_name": "DescriptionStyleModel",
            "description_width": "",
            "_view_module": "@jupyter-widgets/base",
            "_model_module_version": "1.5.0",
            "_view_count": null,
            "_view_module_version": "1.2.0",
            "_model_module": "@jupyter-widgets/controls"
          }
        },
        "12e7d8d0cc1c4d85b2fd93e4b839da07": {
          "model_module": "@jupyter-widgets/base",
          "model_name": "LayoutModel",
          "state": {
            "_view_name": "LayoutView",
            "grid_template_rows": null,
            "right": null,
            "justify_content": null,
            "_view_module": "@jupyter-widgets/base",
            "overflow": null,
            "_model_module_version": "1.2.0",
            "_view_count": null,
            "flex_flow": null,
            "width": null,
            "min_width": null,
            "border": null,
            "align_items": null,
            "bottom": null,
            "_model_module": "@jupyter-widgets/base",
            "top": null,
            "grid_column": null,
            "overflow_y": null,
            "overflow_x": null,
            "grid_auto_flow": null,
            "grid_area": null,
            "grid_template_columns": null,
            "flex": null,
            "_model_name": "LayoutModel",
            "justify_items": null,
            "grid_row": null,
            "max_height": null,
            "align_content": null,
            "visibility": null,
            "align_self": null,
            "height": null,
            "min_height": null,
            "padding": null,
            "grid_auto_rows": null,
            "grid_gap": null,
            "max_width": null,
            "order": null,
            "_view_module_version": "1.2.0",
            "grid_template_areas": null,
            "object_position": null,
            "object_fit": null,
            "grid_auto_columns": null,
            "margin": null,
            "display": null,
            "left": null
          }
        },
        "680c5383f73d41699578e02bb1705038": {
          "model_module": "@jupyter-widgets/controls",
          "model_name": "HBoxModel",
          "state": {
            "_view_name": "HBoxView",
            "_dom_classes": [],
            "_model_name": "HBoxModel",
            "_view_module": "@jupyter-widgets/controls",
            "_model_module_version": "1.5.0",
            "_view_count": null,
            "_view_module_version": "1.5.0",
            "box_style": "",
            "layout": "IPY_MODEL_09eaaba3a75648deb21f0be683d6dcce",
            "_model_module": "@jupyter-widgets/controls",
            "children": [
              "IPY_MODEL_0270d43bd8a3411586ffcb40d16df7b5",
              "IPY_MODEL_0a86e748981a40c0a76acd073a919300"
            ]
          }
        },
        "09eaaba3a75648deb21f0be683d6dcce": {
          "model_module": "@jupyter-widgets/base",
          "model_name": "LayoutModel",
          "state": {
            "_view_name": "LayoutView",
            "grid_template_rows": null,
            "right": null,
            "justify_content": null,
            "_view_module": "@jupyter-widgets/base",
            "overflow": null,
            "_model_module_version": "1.2.0",
            "_view_count": null,
            "flex_flow": null,
            "width": null,
            "min_width": null,
            "border": null,
            "align_items": null,
            "bottom": null,
            "_model_module": "@jupyter-widgets/base",
            "top": null,
            "grid_column": null,
            "overflow_y": null,
            "overflow_x": null,
            "grid_auto_flow": null,
            "grid_area": null,
            "grid_template_columns": null,
            "flex": null,
            "_model_name": "LayoutModel",
            "justify_items": null,
            "grid_row": null,
            "max_height": null,
            "align_content": null,
            "visibility": null,
            "align_self": null,
            "height": null,
            "min_height": null,
            "padding": null,
            "grid_auto_rows": null,
            "grid_gap": null,
            "max_width": null,
            "order": null,
            "_view_module_version": "1.2.0",
            "grid_template_areas": null,
            "object_position": null,
            "object_fit": null,
            "grid_auto_columns": null,
            "margin": null,
            "display": null,
            "left": null
          }
        },
        "0270d43bd8a3411586ffcb40d16df7b5": {
          "model_module": "@jupyter-widgets/controls",
          "model_name": "IntProgressModel",
          "state": {
            "_view_name": "ProgressView",
            "style": "IPY_MODEL_b78e3214372548a6870f0d73d91b77d5",
            "_dom_classes": [],
            "description": "",
            "_model_name": "IntProgressModel",
            "bar_style": "info",
            "max": 1,
            "_view_module": "@jupyter-widgets/controls",
            "_model_module_version": "1.5.0",
            "value": 1,
            "_view_count": null,
            "_view_module_version": "1.5.0",
            "orientation": "horizontal",
            "min": 0,
            "description_tooltip": null,
            "_model_module": "@jupyter-widgets/controls",
            "layout": "IPY_MODEL_c71aacbd7707453199c5250cef20efc6"
          }
        },
        "0a86e748981a40c0a76acd073a919300": {
          "model_module": "@jupyter-widgets/controls",
          "model_name": "HTMLModel",
          "state": {
            "_view_name": "HTMLView",
            "style": "IPY_MODEL_b6c78f6eda2e4553b5eec9702e8181ca",
            "_dom_classes": [],
            "description": "",
            "_model_name": "HTMLModel",
            "placeholder": "​",
            "_view_module": "@jupyter-widgets/controls",
            "_model_module_version": "1.5.0",
            "value": " 6586368/? [00:36&lt;00:00, 148228.78it/s]",
            "_view_count": null,
            "_view_module_version": "1.5.0",
            "description_tooltip": null,
            "_model_module": "@jupyter-widgets/controls",
            "layout": "IPY_MODEL_69c50717fedb4c87a20ad7fa6495b7f3"
          }
        },
        "b78e3214372548a6870f0d73d91b77d5": {
          "model_module": "@jupyter-widgets/controls",
          "model_name": "ProgressStyleModel",
          "state": {
            "_view_name": "StyleView",
            "_model_name": "ProgressStyleModel",
            "description_width": "initial",
            "_view_module": "@jupyter-widgets/base",
            "_model_module_version": "1.5.0",
            "_view_count": null,
            "_view_module_version": "1.2.0",
            "bar_color": null,
            "_model_module": "@jupyter-widgets/controls"
          }
        },
        "c71aacbd7707453199c5250cef20efc6": {
          "model_module": "@jupyter-widgets/base",
          "model_name": "LayoutModel",
          "state": {
            "_view_name": "LayoutView",
            "grid_template_rows": null,
            "right": null,
            "justify_content": null,
            "_view_module": "@jupyter-widgets/base",
            "overflow": null,
            "_model_module_version": "1.2.0",
            "_view_count": null,
            "flex_flow": null,
            "width": null,
            "min_width": null,
            "border": null,
            "align_items": null,
            "bottom": null,
            "_model_module": "@jupyter-widgets/base",
            "top": null,
            "grid_column": null,
            "overflow_y": null,
            "overflow_x": null,
            "grid_auto_flow": null,
            "grid_area": null,
            "grid_template_columns": null,
            "flex": null,
            "_model_name": "LayoutModel",
            "justify_items": null,
            "grid_row": null,
            "max_height": null,
            "align_content": null,
            "visibility": null,
            "align_self": null,
            "height": null,
            "min_height": null,
            "padding": null,
            "grid_auto_rows": null,
            "grid_gap": null,
            "max_width": null,
            "order": null,
            "_view_module_version": "1.2.0",
            "grid_template_areas": null,
            "object_position": null,
            "object_fit": null,
            "grid_auto_columns": null,
            "margin": null,
            "display": null,
            "left": null
          }
        },
        "b6c78f6eda2e4553b5eec9702e8181ca": {
          "model_module": "@jupyter-widgets/controls",
          "model_name": "DescriptionStyleModel",
          "state": {
            "_view_name": "StyleView",
            "_model_name": "DescriptionStyleModel",
            "description_width": "",
            "_view_module": "@jupyter-widgets/base",
            "_model_module_version": "1.5.0",
            "_view_count": null,
            "_view_module_version": "1.2.0",
            "_model_module": "@jupyter-widgets/controls"
          }
        },
        "69c50717fedb4c87a20ad7fa6495b7f3": {
          "model_module": "@jupyter-widgets/base",
          "model_name": "LayoutModel",
          "state": {
            "_view_name": "LayoutView",
            "grid_template_rows": null,
            "right": null,
            "justify_content": null,
            "_view_module": "@jupyter-widgets/base",
            "overflow": null,
            "_model_module_version": "1.2.0",
            "_view_count": null,
            "flex_flow": null,
            "width": null,
            "min_width": null,
            "border": null,
            "align_items": null,
            "bottom": null,
            "_model_module": "@jupyter-widgets/base",
            "top": null,
            "grid_column": null,
            "overflow_y": null,
            "overflow_x": null,
            "grid_auto_flow": null,
            "grid_area": null,
            "grid_template_columns": null,
            "flex": null,
            "_model_name": "LayoutModel",
            "justify_items": null,
            "grid_row": null,
            "max_height": null,
            "align_content": null,
            "visibility": null,
            "align_self": null,
            "height": null,
            "min_height": null,
            "padding": null,
            "grid_auto_rows": null,
            "grid_gap": null,
            "max_width": null,
            "order": null,
            "_view_module_version": "1.2.0",
            "grid_template_areas": null,
            "object_position": null,
            "object_fit": null,
            "grid_auto_columns": null,
            "margin": null,
            "display": null,
            "left": null
          }
        },
        "3855e2957d0a4184a586c077f95f1d5a": {
          "model_module": "@jupyter-widgets/controls",
          "model_name": "HBoxModel",
          "state": {
            "_view_name": "HBoxView",
            "_dom_classes": [],
            "_model_name": "HBoxModel",
            "_view_module": "@jupyter-widgets/controls",
            "_model_module_version": "1.5.0",
            "_view_count": null,
            "_view_module_version": "1.5.0",
            "box_style": "",
            "layout": "IPY_MODEL_ea96467178e5494f8607292eb6f6440a",
            "_model_module": "@jupyter-widgets/controls",
            "children": [
              "IPY_MODEL_4cab9ef3eabb495192cafd93b97b7ca9",
              "IPY_MODEL_1df59fbb8ec14c5d8ba6cf419c85f8c1"
            ]
          }
        },
        "ea96467178e5494f8607292eb6f6440a": {
          "model_module": "@jupyter-widgets/base",
          "model_name": "LayoutModel",
          "state": {
            "_view_name": "LayoutView",
            "grid_template_rows": null,
            "right": null,
            "justify_content": null,
            "_view_module": "@jupyter-widgets/base",
            "overflow": null,
            "_model_module_version": "1.2.0",
            "_view_count": null,
            "flex_flow": null,
            "width": null,
            "min_width": null,
            "border": null,
            "align_items": null,
            "bottom": null,
            "_model_module": "@jupyter-widgets/base",
            "top": null,
            "grid_column": null,
            "overflow_y": null,
            "overflow_x": null,
            "grid_auto_flow": null,
            "grid_area": null,
            "grid_template_columns": null,
            "flex": null,
            "_model_name": "LayoutModel",
            "justify_items": null,
            "grid_row": null,
            "max_height": null,
            "align_content": null,
            "visibility": null,
            "align_self": null,
            "height": null,
            "min_height": null,
            "padding": null,
            "grid_auto_rows": null,
            "grid_gap": null,
            "max_width": null,
            "order": null,
            "_view_module_version": "1.2.0",
            "grid_template_areas": null,
            "object_position": null,
            "object_fit": null,
            "grid_auto_columns": null,
            "margin": null,
            "display": null,
            "left": null
          }
        },
        "4cab9ef3eabb495192cafd93b97b7ca9": {
          "model_module": "@jupyter-widgets/controls",
          "model_name": "IntProgressModel",
          "state": {
            "_view_name": "ProgressView",
            "style": "IPY_MODEL_77941d3aae684eb3967d755030ca8b13",
            "_dom_classes": [],
            "description": "",
            "_model_name": "IntProgressModel",
            "bar_style": "info",
            "max": 1,
            "_view_module": "@jupyter-widgets/controls",
            "_model_module_version": "1.5.0",
            "value": 1,
            "_view_count": null,
            "_view_module_version": "1.5.0",
            "orientation": "horizontal",
            "min": 0,
            "description_tooltip": null,
            "_model_module": "@jupyter-widgets/controls",
            "layout": "IPY_MODEL_4e9c2a161cdd4514927d136a0138003a"
          }
        },
        "1df59fbb8ec14c5d8ba6cf419c85f8c1": {
          "model_module": "@jupyter-widgets/controls",
          "model_name": "HTMLModel",
          "state": {
            "_view_name": "HTMLView",
            "style": "IPY_MODEL_f4ae0f12891d4d5284383070c80febe6",
            "_dom_classes": [],
            "description": "",
            "_model_name": "HTMLModel",
            "placeholder": "​",
            "_view_module": "@jupyter-widgets/controls",
            "_model_module_version": "1.5.0",
            "value": " 1835008/? [00:23&lt;00:00, 243130.98it/s]",
            "_view_count": null,
            "_view_module_version": "1.5.0",
            "description_tooltip": null,
            "_model_module": "@jupyter-widgets/controls",
            "layout": "IPY_MODEL_8dfdaac9d07d43b1907121644c927797"
          }
        },
        "77941d3aae684eb3967d755030ca8b13": {
          "model_module": "@jupyter-widgets/controls",
          "model_name": "ProgressStyleModel",
          "state": {
            "_view_name": "StyleView",
            "_model_name": "ProgressStyleModel",
            "description_width": "initial",
            "_view_module": "@jupyter-widgets/base",
            "_model_module_version": "1.5.0",
            "_view_count": null,
            "_view_module_version": "1.2.0",
            "bar_color": null,
            "_model_module": "@jupyter-widgets/controls"
          }
        },
        "4e9c2a161cdd4514927d136a0138003a": {
          "model_module": "@jupyter-widgets/base",
          "model_name": "LayoutModel",
          "state": {
            "_view_name": "LayoutView",
            "grid_template_rows": null,
            "right": null,
            "justify_content": null,
            "_view_module": "@jupyter-widgets/base",
            "overflow": null,
            "_model_module_version": "1.2.0",
            "_view_count": null,
            "flex_flow": null,
            "width": null,
            "min_width": null,
            "border": null,
            "align_items": null,
            "bottom": null,
            "_model_module": "@jupyter-widgets/base",
            "top": null,
            "grid_column": null,
            "overflow_y": null,
            "overflow_x": null,
            "grid_auto_flow": null,
            "grid_area": null,
            "grid_template_columns": null,
            "flex": null,
            "_model_name": "LayoutModel",
            "justify_items": null,
            "grid_row": null,
            "max_height": null,
            "align_content": null,
            "visibility": null,
            "align_self": null,
            "height": null,
            "min_height": null,
            "padding": null,
            "grid_auto_rows": null,
            "grid_gap": null,
            "max_width": null,
            "order": null,
            "_view_module_version": "1.2.0",
            "grid_template_areas": null,
            "object_position": null,
            "object_fit": null,
            "grid_auto_columns": null,
            "margin": null,
            "display": null,
            "left": null
          }
        },
        "f4ae0f12891d4d5284383070c80febe6": {
          "model_module": "@jupyter-widgets/controls",
          "model_name": "DescriptionStyleModel",
          "state": {
            "_view_name": "StyleView",
            "_model_name": "DescriptionStyleModel",
            "description_width": "",
            "_view_module": "@jupyter-widgets/base",
            "_model_module_version": "1.5.0",
            "_view_count": null,
            "_view_module_version": "1.2.0",
            "_model_module": "@jupyter-widgets/controls"
          }
        },
        "8dfdaac9d07d43b1907121644c927797": {
          "model_module": "@jupyter-widgets/base",
          "model_name": "LayoutModel",
          "state": {
            "_view_name": "LayoutView",
            "grid_template_rows": null,
            "right": null,
            "justify_content": null,
            "_view_module": "@jupyter-widgets/base",
            "overflow": null,
            "_model_module_version": "1.2.0",
            "_view_count": null,
            "flex_flow": null,
            "width": null,
            "min_width": null,
            "border": null,
            "align_items": null,
            "bottom": null,
            "_model_module": "@jupyter-widgets/base",
            "top": null,
            "grid_column": null,
            "overflow_y": null,
            "overflow_x": null,
            "grid_auto_flow": null,
            "grid_area": null,
            "grid_template_columns": null,
            "flex": null,
            "_model_name": "LayoutModel",
            "justify_items": null,
            "grid_row": null,
            "max_height": null,
            "align_content": null,
            "visibility": null,
            "align_self": null,
            "height": null,
            "min_height": null,
            "padding": null,
            "grid_auto_rows": null,
            "grid_gap": null,
            "max_width": null,
            "order": null,
            "_view_module_version": "1.2.0",
            "grid_template_areas": null,
            "object_position": null,
            "object_fit": null,
            "grid_auto_columns": null,
            "margin": null,
            "display": null,
            "left": null
          }
        }
      }
    }
  },
  "cells": [
    {
      "cell_type": "markdown",
      "metadata": {
        "id": "view-in-github",
        "colab_type": "text"
      },
      "source": [
        "<a href=\"https://colab.research.google.com/github/cerezamo/dl_ensae2020/blob/master/TEST_USPS_MNIST.ipynb\" target=\"_parent\"><img src=\"https://colab.research.google.com/assets/colab-badge.svg\" alt=\"Open In Colab\"/></a>"
      ]
    },
    {
      "cell_type": "markdown",
      "metadata": {
        "id": "d3WozZiVqzTe",
        "colab_type": "text"
      },
      "source": [
        "# Deep Learning - CycleGAN - ENSAE 2020 "
      ]
    },
    {
      "cell_type": "markdown",
      "metadata": {
        "id": "vSTMrsRArdZM",
        "colab_type": "text"
      },
      "source": [
        "## From MNIST to USPS "
      ]
    },
    {
      "cell_type": "markdown",
      "metadata": {
        "id": "l11pGx3YrZ33",
        "colab_type": "text"
      },
      "source": [
        "### Import packages "
      ]
    },
    {
      "cell_type": "code",
      "metadata": {
        "id": "fo2xoAWXbQNk",
        "colab_type": "code",
        "colab": {}
      },
      "source": [
        "import torch\n",
        "import torch.nn as nn\n",
        "from torch.autograd import Variable\n",
        "from torch import optim\n",
        "import torchvision.utils as utils\n",
        "import torch.nn.functional as F\n",
        "import torch.utils as tutils\n",
        "from torchvision import datasets\n",
        "from torchvision import transforms\n",
        "import numpy as np"
      ],
      "execution_count": 0,
      "outputs": []
    },
    {
      "cell_type": "markdown",
      "metadata": {
        "id": "0Nzv4stxsPBE",
        "colab_type": "text"
      },
      "source": [
        "This code is adapted from [yunjey](https://github.com/yunjey/) and the assignment proposed. "
      ]
    },
    {
      "cell_type": "markdown",
      "metadata": {
        "id": "HpkDg-4a3gSD",
        "colab_type": "text"
      },
      "source": [
        "### Dictionnary of parameters we will use"
      ]
    },
    {
      "cell_type": "code",
      "metadata": {
        "id": "wTXJMovK4DjD",
        "colab_type": "code",
        "colab": {}
      },
      "source": [
        ""
      ],
      "execution_count": 0,
      "outputs": []
    },
    {
      "cell_type": "markdown",
      "metadata": {
        "id": "VkJhQlnyd1pf",
        "colab_type": "text"
      },
      "source": [
        "### Download and construct loaders for USPS and Mnist"
      ]
    },
    {
      "cell_type": "code",
      "metadata": {
        "id": "l-iq6gXIr53M",
        "colab_type": "code",
        "colab": {}
      },
      "source": [
        "# We set the batch size to 64\n",
        "# We choose an image size of 20 , moreover, MNIST images are slightly cropped at the center. \n",
        "# Recall that USPS image size is 16 and MNIST image size is 28. \n",
        "batch_size = 64\n",
        "image_size = 32"
      ],
      "execution_count": 0,
      "outputs": []
    },
    {
      "cell_type": "code",
      "metadata": {
        "id": "zMntxDhzaCsX",
        "colab_type": "code",
        "colab": {}
      },
      "source": [
        "def get_loader_mnist(image_size,batch_size):\n",
        "  transform = transforms.Compose([\n",
        "                    transforms.CenterCrop(22),\n",
        "                    transforms.Resize(image_size),\n",
        "                    transforms.ToTensor(),\n",
        "                    transforms.Normalize((0.5,), (0.5,))\n",
        "                    ])\n",
        "  \n",
        "  mnist_train = datasets.MNIST(root='content/',download=True, transform = transform,train=True)\n",
        "  mnist_test = datasets.MNIST(root='content/',download=True, transform = transform,train=False)\n",
        "\n",
        "  train_loader = torch.utils.data.DataLoader(dataset=mnist_train,\n",
        "                                             batch_size=batch_size,\n",
        "                                             shuffle=True)\n",
        "  \n",
        "  test_loader = torch.utils.data.DataLoader(dataset=mnist_test,\n",
        "                                             batch_size=batch_size,\n",
        "                                             shuffle=False)\n",
        "  \n",
        "  return train_loader, test_loader "
      ],
      "execution_count": 0,
      "outputs": []
    },
    {
      "cell_type": "code",
      "metadata": {
        "id": "EBjkiheLeG5B",
        "colab_type": "code",
        "colab": {}
      },
      "source": [
        "def get_loader_usps(image_size,batch_size):\n",
        "  transform = transforms.Compose([\n",
        "                    transforms.Resize(image_size),\n",
        "                    transforms.ToTensor(),\n",
        "                    transforms.Normalize((0.5,), (0.5,))\n",
        "                    ])\n",
        "  \n",
        "  usps_train = datasets.USPS(root='content/',download=True, transform = transform,train=True)\n",
        "  usps_test = datasets.USPS(root='content/',download=True, transform = transform,train=False)\n",
        "\n",
        "  train_loader = torch.utils.data.DataLoader(dataset=usps_train,\n",
        "                                             batch_size=batch_size,\n",
        "                                             shuffle=True)\n",
        "  \n",
        "  test_loader = torch.utils.data.DataLoader(dataset=usps_test,\n",
        "                                             batch_size=batch_size,\n",
        "                                             shuffle=False)\n",
        "  \n",
        "  return train_loader, test_loader "
      ],
      "execution_count": 0,
      "outputs": []
    },
    {
      "cell_type": "code",
      "metadata": {
        "id": "NS9TtewDd0-7",
        "colab_type": "code",
        "colab": {
          "base_uri": "https://localhost:8080/",
          "height": 369,
          "referenced_widgets": [
            "fd3107ca585646139750c2c7dfddc0b6",
            "678a9d0676134925be75f951eb0d4f57",
            "51f41c8164ce44369a6ebb7eb4464ce3",
            "99d58026fd664c4093c5012d7179c3ed",
            "ad1fe884dbda4c53bbb464a09510bba9",
            "b0753ecbddf14a6da3c2023332c34637",
            "e623ca3a00364f60bfcea8e6872e89fc",
            "a92a58a7381c45dcb8490be856ffcb6e",
            "0effea6fee4d4224a805f9f8e58a1f3d",
            "57a3db3909f74eb8834da279690466df",
            "43d5dce007834da58e77187f36b7f3dd",
            "0474cdfe1f6843918227c320f0ddd0ac",
            "8b94a0e3bcda4520ae81694a6d21ff50",
            "93d542b9593e49c78d7e0062897fd370",
            "8323317c4c314ccc817b834fa0107179",
            "a970587cff344da58f73553a7b2f5dc2",
            "ab6aaae3360d4ee3ad5249088874b342",
            "e2c53aa0bd5b4b1ca3600262d7213d1d",
            "e02655beae0542ddb157256d4180dce6",
            "77691c2cdc004a509ac5218e0057fde3",
            "dee66dbe37d5406fa9f8bf33b56bc3d7",
            "1ca7408da3f54cf5a82639eaa369de64",
            "1db269a1b84443ccb1ed6ee7ba91cae8",
            "3670bc332c674b8aa26c71c7c1c686bb",
            "0a31bb9440c84cf7820f814c16b0a35b",
            "c0f4132c42c74864883e0ccd08b053e7",
            "b5cf9ad7e4cc4078928949e2eb5fd386",
            "35d5b99da28349c4be1c7ea3558b335f",
            "d466982fb1b740a1aff8f29dd19271ff",
            "f44078e7239346edad97ae85efe53265",
            "8924ce8e84a0483b87eb53321581d93f",
            "12e7d8d0cc1c4d85b2fd93e4b839da07"
          ]
        },
        "outputId": "8e05942d-2f1d-4760-87f0-d30a2e9d862e"
      },
      "source": [
        "M_train_loader, M_test_loader =get_loader_mnist(image_size,batch_size)"
      ],
      "execution_count": 5,
      "outputs": [
        {
          "output_type": "stream",
          "text": [
            "Downloading http://yann.lecun.com/exdb/mnist/train-images-idx3-ubyte.gz to content/MNIST/raw/train-images-idx3-ubyte.gz\n"
          ],
          "name": "stdout"
        },
        {
          "output_type": "display_data",
          "data": {
            "application/vnd.jupyter.widget-view+json": {
              "model_id": "fd3107ca585646139750c2c7dfddc0b6",
              "version_minor": 0,
              "version_major": 2
            },
            "text/plain": [
              "HBox(children=(IntProgress(value=1, bar_style='info', max=1), HTML(value='')))"
            ]
          },
          "metadata": {
            "tags": []
          }
        },
        {
          "output_type": "stream",
          "text": [
            "Extracting content/MNIST/raw/train-images-idx3-ubyte.gz to content/MNIST/raw\n",
            "Downloading http://yann.lecun.com/exdb/mnist/train-labels-idx1-ubyte.gz to content/MNIST/raw/train-labels-idx1-ubyte.gz\n"
          ],
          "name": "stdout"
        },
        {
          "output_type": "display_data",
          "data": {
            "application/vnd.jupyter.widget-view+json": {
              "model_id": "0effea6fee4d4224a805f9f8e58a1f3d",
              "version_minor": 0,
              "version_major": 2
            },
            "text/plain": [
              "HBox(children=(IntProgress(value=1, bar_style='info', max=1), HTML(value='')))"
            ]
          },
          "metadata": {
            "tags": []
          }
        },
        {
          "output_type": "stream",
          "text": [
            "Extracting content/MNIST/raw/train-labels-idx1-ubyte.gz to content/MNIST/raw\n",
            "Downloading http://yann.lecun.com/exdb/mnist/t10k-images-idx3-ubyte.gz to content/MNIST/raw/t10k-images-idx3-ubyte.gz\n"
          ],
          "name": "stdout"
        },
        {
          "output_type": "display_data",
          "data": {
            "application/vnd.jupyter.widget-view+json": {
              "model_id": "ab6aaae3360d4ee3ad5249088874b342",
              "version_minor": 0,
              "version_major": 2
            },
            "text/plain": [
              "HBox(children=(IntProgress(value=1, bar_style='info', max=1), HTML(value='')))"
            ]
          },
          "metadata": {
            "tags": []
          }
        },
        {
          "output_type": "stream",
          "text": [
            "Extracting content/MNIST/raw/t10k-images-idx3-ubyte.gz to content/MNIST/raw\n",
            "Downloading http://yann.lecun.com/exdb/mnist/t10k-labels-idx1-ubyte.gz to content/MNIST/raw/t10k-labels-idx1-ubyte.gz\n",
            "\n",
            "\n"
          ],
          "name": "stdout"
        },
        {
          "output_type": "display_data",
          "data": {
            "application/vnd.jupyter.widget-view+json": {
              "model_id": "0a31bb9440c84cf7820f814c16b0a35b",
              "version_minor": 0,
              "version_major": 2
            },
            "text/plain": [
              "HBox(children=(IntProgress(value=1, bar_style='info', max=1), HTML(value='')))"
            ]
          },
          "metadata": {
            "tags": []
          }
        },
        {
          "output_type": "stream",
          "text": [
            "Extracting content/MNIST/raw/t10k-labels-idx1-ubyte.gz to content/MNIST/raw\n",
            "Processing...\n",
            "Done!\n"
          ],
          "name": "stdout"
        }
      ]
    },
    {
      "cell_type": "code",
      "metadata": {
        "id": "PWVC0H3Oaijj",
        "colab_type": "code",
        "colab": {
          "base_uri": "https://localhost:8080/",
          "height": 115,
          "referenced_widgets": [
            "680c5383f73d41699578e02bb1705038",
            "09eaaba3a75648deb21f0be683d6dcce",
            "0270d43bd8a3411586ffcb40d16df7b5",
            "0a86e748981a40c0a76acd073a919300",
            "b78e3214372548a6870f0d73d91b77d5",
            "c71aacbd7707453199c5250cef20efc6",
            "b6c78f6eda2e4553b5eec9702e8181ca",
            "69c50717fedb4c87a20ad7fa6495b7f3",
            "3855e2957d0a4184a586c077f95f1d5a",
            "ea96467178e5494f8607292eb6f6440a",
            "4cab9ef3eabb495192cafd93b97b7ca9",
            "1df59fbb8ec14c5d8ba6cf419c85f8c1",
            "77941d3aae684eb3967d755030ca8b13",
            "4e9c2a161cdd4514927d136a0138003a",
            "f4ae0f12891d4d5284383070c80febe6",
            "8dfdaac9d07d43b1907121644c927797"
          ]
        },
        "outputId": "fc762c40-bbfe-4c15-96c6-35f52b398c70"
      },
      "source": [
        "U_train_loader, U_test_loader =get_loader_usps(image_size,batch_size)"
      ],
      "execution_count": 6,
      "outputs": [
        {
          "output_type": "stream",
          "text": [
            "Downloading https://www.csie.ntu.edu.tw/~cjlin/libsvmtools/datasets/multiclass/usps.bz2 to content/usps.bz2\n"
          ],
          "name": "stdout"
        },
        {
          "output_type": "display_data",
          "data": {
            "application/vnd.jupyter.widget-view+json": {
              "model_id": "680c5383f73d41699578e02bb1705038",
              "version_minor": 0,
              "version_major": 2
            },
            "text/plain": [
              "HBox(children=(IntProgress(value=1, bar_style='info', max=1), HTML(value='')))"
            ]
          },
          "metadata": {
            "tags": []
          }
        },
        {
          "output_type": "stream",
          "text": [
            "Downloading https://www.csie.ntu.edu.tw/~cjlin/libsvmtools/datasets/multiclass/usps.t.bz2 to content/usps.t.bz2\n"
          ],
          "name": "stdout"
        },
        {
          "output_type": "display_data",
          "data": {
            "application/vnd.jupyter.widget-view+json": {
              "model_id": "3855e2957d0a4184a586c077f95f1d5a",
              "version_minor": 0,
              "version_major": 2
            },
            "text/plain": [
              "HBox(children=(IntProgress(value=1, bar_style='info', max=1), HTML(value='')))"
            ]
          },
          "metadata": {
            "tags": []
          }
        }
      ]
    },
    {
      "cell_type": "code",
      "metadata": {
        "id": "dc6q_rHdlhUd",
        "colab_type": "code",
        "colab": {}
      },
      "source": [
        "examples_mnist = enumerate(M_train_loader)\n",
        "batch_idx, (example_data_mnist, example_targets_mnist) = next(examples_mnist)\n",
        "\n",
        "examples_usps = enumerate(U_train_loader)\n",
        "batch_idx, (example_data_usps, example_targets_usps) = next(examples_usps)"
      ],
      "execution_count": 0,
      "outputs": []
    },
    {
      "cell_type": "code",
      "metadata": {
        "id": "vUMuqDB5lo9z",
        "colab_type": "code",
        "outputId": "8d29e784-0105-43f3-b926-02c36e19e130",
        "colab": {
          "base_uri": "https://localhost:8080/",
          "height": 34
        }
      },
      "source": [
        "example_data_usps.shape, example_data_mnist.shape # 64 per batch, size 32x32  # 64 per batch, size 32x32 "
      ],
      "execution_count": 8,
      "outputs": [
        {
          "output_type": "execute_result",
          "data": {
            "text/plain": [
              "(torch.Size([64, 1, 32, 32]), torch.Size([64, 1, 32, 32]))"
            ]
          },
          "metadata": {
            "tags": []
          },
          "execution_count": 8
        }
      ]
    },
    {
      "cell_type": "code",
      "metadata": {
        "id": "kO11V_IXE9j2",
        "colab_type": "code",
        "colab": {}
      },
      "source": [
        "list_label = []\n",
        "list_images = []\n",
        "\n",
        "while len(list_label)<10:\n",
        "  for i in range(len(example_targets_mnist)):\n",
        "    if example_targets_mnist[i].item() in list_label:\n",
        "      pass\n",
        "    else:\n",
        "      list_label.append(example_targets_mnist[i].item())\n",
        "      list_images.append(example_data_mnist[i])\n",
        "\n",
        "list_label,list_images = zip(*sorted(zip(list_label,list_images)))"
      ],
      "execution_count": 0,
      "outputs": []
    },
    {
      "cell_type": "code",
      "metadata": {
        "id": "n46JB-OHl4TU",
        "colab_type": "code",
        "outputId": "bbcf6118-4b1f-476f-9532-a34bd6e6c936",
        "colab": {
          "base_uri": "https://localhost:8080/",
          "height": 109
        }
      },
      "source": [
        "import matplotlib.pyplot as plt\n",
        "\n",
        "fig = plt.figure(figsize=(20,12))\n",
        "for i in range(10):\n",
        "  plt.subplot(1,10,i+1)\n",
        "  plt.tight_layout()\n",
        "  plt.imshow(list_images[i][0],cmap='gray', interpolation='none')\n",
        "  plt.title(\"Labels: {}\".format(list_label[i]))\n",
        "  plt.xticks([])\n",
        "  plt.yticks([])"
      ],
      "execution_count": 10,
      "outputs": [
        {
          "output_type": "display_data",
          "data": {
            "image/png": "[encoded data removed]",
            "text/plain": [
              "<Figure size 1440x864 with 10 Axes>"
            ]
          },
          "metadata": {
            "tags": []
          }
        }
      ]
    },
    {
      "cell_type": "code",
      "metadata": {
        "id": "-BV-63YrIWk-",
        "colab_type": "code",
        "colab": {}
      },
      "source": [
        "list_label = []\n",
        "list_images = []\n",
        "\n",
        "while len(list_label)<10:\n",
        "  for i in range(len(example_targets_usps)):\n",
        "    if example_targets_usps[i].item() in list_label:\n",
        "      pass\n",
        "    else:\n",
        "      list_label.append(example_targets_usps[i].item())\n",
        "      list_images.append(example_data_usps[i])\n",
        "\n",
        "list_label,list_images = zip(*sorted(zip(list_label,list_images)))"
      ],
      "execution_count": 0,
      "outputs": []
    },
    {
      "cell_type": "code",
      "metadata": {
        "id": "qn0disVBmcT-",
        "colab_type": "code",
        "outputId": "3c5bfe3c-7b11-4efb-b9eb-9a463071f9ef",
        "colab": {
          "base_uri": "https://localhost:8080/",
          "height": 109
        }
      },
      "source": [
        "import matplotlib.pyplot as plt\n",
        "\n",
        "fig = plt.figure(figsize=(20,12))\n",
        "for i in range(10):\n",
        "  plt.subplot(1,10,i+1)\n",
        "  plt.tight_layout()\n",
        "  plt.imshow(list_images[i][0],cmap='gray', interpolation='none')\n",
        "  plt.title(\"Labels: {}\".format(list_label[i]))\n",
        "  plt.xticks([])\n",
        "  plt.yticks([])"
      ],
      "execution_count": 12,
      "outputs": [
        {
          "output_type": "display_data",
          "data": {
            "image/png": "[encoded data removed]",
            "text/plain": [
              "<Figure size 1440x864 with 10 Axes>"
            ]
          },
          "metadata": {
            "tags": []
          }
        }
      ]
    },
    {
      "cell_type": "code",
      "metadata": {
        "id": "RgPmv5meb_cP",
        "colab_type": "code",
        "outputId": "985cdaf8-8716-4532-b34e-692708bc1160",
        "colab": {
          "base_uri": "https://localhost:8080/",
          "height": 34
        }
      },
      "source": [
        "example_data_mnist.size()"
      ],
      "execution_count": 13,
      "outputs": [
        {
          "output_type": "execute_result",
          "data": {
            "text/plain": [
              "torch.Size([64, 1, 32, 32])"
            ]
          },
          "metadata": {
            "tags": []
          },
          "execution_count": 13
        }
      ]
    },
    {
      "cell_type": "markdown",
      "metadata": {
        "id": "HhDEfGGNDybx",
        "colab_type": "text"
      },
      "source": [
        "The USPS dataset consists of 7,291 training images and 2007 test images each of which is of the original size of 16x16. The MNIST dataset consists of 60 000 training images and 10 000 test images each of which is of the size 28x28. Both contains 10 categories (numbers from 0 to 9) and follow distinct distributions. "
      ]
    },
    {
      "cell_type": "markdown",
      "metadata": {
        "id": "gbl9ZuYKnWzS",
        "colab_type": "text"
      },
      "source": [
        "#### Helper functions"
      ]
    },
    {
      "cell_type": "code",
      "metadata": {
        "id": "uGPVAZ0FtUvx",
        "colab_type": "code",
        "colab": {}
      },
      "source": [
        "import torch.nn as nn"
      ],
      "execution_count": 0,
      "outputs": []
    },
    {
      "cell_type": "code",
      "metadata": {
        "id": "6O_Sr4Eem6cq",
        "colab_type": "code",
        "colab": {}
      },
      "source": [
        "def deconv(c_in, c_out, k_size, stride=2, pad=1, batch_norm=True):\n",
        "    \"\"\"Custom deconvolutional layer \"\"\"\n",
        "    layers = []\n",
        "    layers.append(nn.ConvTranspose2d(c_in, c_out, k_size, stride, pad, bias=False))\n",
        "    if batch_norm:\n",
        "        layers.append(nn.BatchNorm2d(c_out))\n",
        "    return nn.Sequential(*layers)\n",
        "\n",
        "def conv(c_in, c_out, k_size, stride=2, pad=1, batch_norm=True):\n",
        "    \"\"\"Custom convolutional layer\"\"\"\n",
        "    layers = []\n",
        "    layers.append(nn.Conv2d(c_in, c_out, k_size, stride, pad, bias=False))\n",
        "    if batch_norm:\n",
        "        layers.append(nn.BatchNorm2d(c_out))\n",
        "    return nn.Sequential(*layers)\n",
        "\n",
        "# Batch norm True False (last layer)"
      ],
      "execution_count": 0,
      "outputs": []
    },
    {
      "cell_type": "markdown",
      "metadata": {
        "id": "lryI_Qeft8cV",
        "colab_type": "text"
      },
      "source": [
        "Construction of the two discriminators "
      ]
    },
    {
      "cell_type": "code",
      "metadata": {
        "id": "NKaAbO-Nm6fG",
        "colab_type": "code",
        "colab": {}
      },
      "source": [
        "class D_MNIST(nn.Module):\n",
        "    \"\"\"Discriminator for mnist.\"\"\"\n",
        "    def __init__(self, conv_dim=64, use_labels=False):\n",
        "        super(D_MNIST, self).__init__()\n",
        "        self.conv1 = conv(1, conv_dim, 4, batch_norm=False)\n",
        "        self.conv2 = conv(conv_dim, conv_dim*2, 4)\n",
        "        self.conv3 = conv(conv_dim*2, conv_dim*4, 4)\n",
        "        n_out = 11 if use_labels else 1\n",
        "        self.fc = conv(conv_dim*4, n_out, 4, 1, 0, False)\n",
        "\n",
        "    def forward(self, x):\n",
        "        out = F.leaky_relu(self.conv1(x), 0.05)    # (?, 64, 16, 16)\n",
        "        out = F.leaky_relu(self.conv2(out), 0.05)  # (?, 128, 8, 8)\n",
        "        out = F.leaky_relu(self.conv3(out), 0.05)  # (?, 256, 4, 4)\n",
        "        out = self.fc(out).squeeze()\n",
        "        return out\n",
        "\n",
        "class D_USPS(nn.Module):\n",
        "    \"\"\"Discriminator for usps.\"\"\"\n",
        "    def __init__(self, conv_dim=64, use_labels=False):\n",
        "        super(D_USPS, self).__init__()\n",
        "        self.conv1 = conv(1, conv_dim, 4, batch_norm=False) #1\n",
        "        self.conv2 = conv(conv_dim, conv_dim*2, 4)\n",
        "        self.conv3 = conv(conv_dim*2, conv_dim*4, 4)\n",
        "        n_out = 11 if use_labels else 1\n",
        "        self.fc = conv(conv_dim*4, n_out, 4, 1, 0, False)\n",
        "\n",
        "    def forward(self, x):\n",
        "        out = F.leaky_relu(self.conv1(x), 0.05)    # (?, 64, 16, 16)\n",
        "        out = F.leaky_relu(self.conv2(out), 0.05)  # (?, 128, 8, 8)\n",
        "        out = F.leaky_relu(self.conv3(out), 0.05)  # (?, 256, 4, 4)\n",
        "        out = self.fc(out).squeeze()\n",
        "        return out\n"
      ],
      "execution_count": 0,
      "outputs": []
    },
    {
      "cell_type": "markdown",
      "metadata": {
        "id": "3SROYfqxu-m8",
        "colab_type": "text"
      },
      "source": [
        "Creating the two generators "
      ]
    },
    {
      "cell_type": "code",
      "metadata": {
        "id": "WU30ammS0vCP",
        "colab_type": "code",
        "colab": {}
      },
      "source": [
        "class G_MNIST_USPS(nn.Module):\n",
        "    \"\"\"Generator for transfering from mnist to usps\"\"\"\n",
        "    def __init__(self, conv_dim=64):\n",
        "        super(G_MNIST_USPS, self).__init__()\n",
        "        # encoding blocks\n",
        "        self.conv1 = conv(1, conv_dim, 4)\n",
        "        self.conv2 = conv(conv_dim, conv_dim*2, 4)\n",
        "\n",
        "        # residual blocks\n",
        "        self.conv3 = conv(conv_dim*2, conv_dim*2, 3, 1, 1)\n",
        "        self.conv4 = conv(conv_dim*2, conv_dim*2, 3, 1, 1)\n",
        "\n",
        "        # decoding blocks\n",
        "        self.deconv1 = deconv(conv_dim*2, conv_dim, 4)\n",
        "        self.deconv2 = deconv(conv_dim, 1, 4, batch_norm=False)\n",
        "\n",
        "    def forward(self, x):\n",
        "        out = F.leaky_relu(self.conv1(x), 0.05)      # (?, 64, 16, 16)\n",
        "        out = F.leaky_relu(self.conv2(out), 0.05)    # (?, 128, 8, 8)\n",
        "\n",
        "        out = F.leaky_relu(self.conv3(out), 0.05)    # ( \" )\n",
        "        out = F.leaky_relu(self.conv4(out), 0.05)    # ( \" )\n",
        "\n",
        "        out = F.leaky_relu(self.deconv1(out), 0.05)  # (?, 64, 16, 16)\n",
        "        out = torch.tanh(self.deconv2(out))              # (?, 3, 32, 32)\n",
        "        return out\n",
        "\n",
        "class G_USPS_MNIST(nn.Module):\n",
        "    \"\"\"Generator for transfering from usps to mnist\"\"\"\n",
        "    def __init__(self, conv_dim=64):\n",
        "        super(G_USPS_MNIST, self).__init__()\n",
        "        # encoding blocks\n",
        "        self.conv1 = conv(1, conv_dim, 4)\n",
        "        self.conv2 = conv(conv_dim, conv_dim*2, 4)\n",
        "\n",
        "        # residual blocks\n",
        "        self.conv3 = conv(conv_dim*2, conv_dim*2, 3, 1, 1)\n",
        "        self.conv4 = conv(conv_dim*2, conv_dim*2, 3, 1, 1)\n",
        "\n",
        "        # decoding blocks\n",
        "        self.deconv1 = deconv(conv_dim*2, conv_dim, 4)\n",
        "        self.deconv2 = deconv(conv_dim, 1, 4, batch_norm=False)\n",
        "\n",
        "    def forward(self, x):\n",
        "        out = F.leaky_relu(self.conv1(x), 0.05)      # (?, 64, 16, 16)\n",
        "        out = F.leaky_relu(self.conv2(out), 0.05)    # (?, 128, 8, 8)\n",
        "\n",
        "        out = F.leaky_relu(self.conv3(out), 0.05)    # ( \" )\n",
        "        out = F.leaky_relu(self.conv4(out), 0.05)    # ( \" )\n",
        "\n",
        "        out = F.leaky_relu(self.deconv1(out), 0.05)  # (?, 64, 16, 16)\n",
        "        out = torch.tanh(self.deconv2(out))              # (?, 1, 32, 32)\n",
        "        return out\n"
      ],
      "execution_count": 0,
      "outputs": []
    },
    {
      "cell_type": "markdown",
      "metadata": {
        "id": "w_bxYEIkPrMn",
        "colab_type": "text"
      },
      "source": [
        "Building model "
      ]
    },
    {
      "cell_type": "code",
      "metadata": {
        "id": "Pd6SynLQQTHG",
        "colab_type": "code",
        "colab": {}
      },
      "source": [
        "def print_models(G_MtoU, G_UtoM, D_M, D_U):\n",
        "    \"\"\"Prints model information for the generators and discriminators.\n",
        "    \"\"\"\n",
        "    print(\"                 G_MtoU                \")\n",
        "    print(\"---------------------------------------\")\n",
        "    print(G_MtoU)\n",
        "    print(\"---------------------------------------\")\n",
        "\n",
        "    print(\"                 G_UtoM                \")\n",
        "    print(\"---------------------------------------\")\n",
        "    print(G_UtoM)\n",
        "    print(\"---------------------------------------\")\n",
        "\n",
        "    print(\"                  D_M                  \")\n",
        "    print(\"---------------------------------------\")\n",
        "    print(D_M)\n",
        "    print(\"---------------------------------------\")\n",
        "\n",
        "    print(\"                  D_U                  \")\n",
        "    print(\"---------------------------------------\")\n",
        "    print(D_U)\n",
        "    print(\"---------------------------------------\")"
      ],
      "execution_count": 0,
      "outputs": []
    },
    {
      "cell_type": "code",
      "metadata": {
        "id": "BXd4mpXsPqSF",
        "colab_type": "code",
        "colab": {}
      },
      "source": [
        "def create_model():\n",
        "  G_MtoU = G_MNIST_USPS()\n",
        "  G_UtoM = G_USPS_MNIST()\n",
        "  D_M = D_MNIST()\n",
        "  D_U = D_USPS()\n",
        "\n",
        "  print_models(G_MtoU, G_UtoM, D_M, D_U)\n",
        "\n",
        "  if torch.cuda.is_available():\n",
        "      G_MtoU.cuda()\n",
        "      G_UtoM.cuda()\n",
        "      D_M.cuda()\n",
        "      D_U.cuda()\n",
        "      print('Models moved to GPU.')\n",
        "  return G_MtoU,G_UtoM, D_M, D_U"
      ],
      "execution_count": 0,
      "outputs": []
    },
    {
      "cell_type": "code",
      "metadata": {
        "id": "w6qi6MbnPqU2",
        "colab_type": "code",
        "colab": {}
      },
      "source": [
        ""
      ],
      "execution_count": 0,
      "outputs": []
    },
    {
      "cell_type": "code",
      "metadata": {
        "id": "tAe8wnLPPqa8",
        "colab_type": "code",
        "colab": {}
      },
      "source": [
        "def save_samples(iteration, fixed_U, fixed_M, G_UtoM, G_MtoU):\n",
        "    \"\"\"Saves samples from both generators M->U and U->M.\n",
        "    \"\"\"\n",
        "    import os\n",
        "    import imageio\n",
        "    fake_M = G_UtoM(fixed_U)\n",
        "    fake_U = G_MtoU(fixed_M)\n",
        "\n",
        "    M, fake_M = to_data(fixed_M), to_data(fake_M)\n",
        "    U, fake_U = to_data(fixed_U), to_data(fake_U)\n",
        "\n",
        "    merged = merge_images(M, fake_U)\n",
        "    path = os.path.join('/content/', 'sample-{:06d}-M-U.png'.format(iteration))\n",
        "    imageio.imwrite(path, merged)\n",
        "    print('Saved {}'.format(path))\n",
        "\n",
        "    merged = merge_images(U, fake_M)\n",
        "    path = os.path.join('/content/', 'sample-{:06d}-U-M.png'.format(iteration))\n",
        "    imageio.imwrite(path, merged)\n",
        "    print('Saved {}'.format(path))"
      ],
      "execution_count": 0,
      "outputs": []
    },
    {
      "cell_type": "code",
      "metadata": {
        "id": "_heIWaZsPqXw",
        "colab_type": "code",
        "colab": {}
      },
      "source": [
        ""
      ],
      "execution_count": 0,
      "outputs": []
    },
    {
      "cell_type": "code",
      "metadata": {
        "id": "A9Yt42NGm6mS",
        "colab_type": "code",
        "colab": {}
      },
      "source": [
        "def merge_images(sources, targets, k=10):\n",
        "    \"\"\"Creates a grid consisting of pairs of columns, where the first column in\n",
        "    each pair contains images source images and the second column in each pair\n",
        "    contains images generated by the CycleGAN from the corresponding images in\n",
        "    the first column.\n",
        "    \"\"\"\n",
        "    _, _, h, w = sources.shape\n",
        "    row = int(np.sqrt(64))\n",
        "    merged = np.zeros([3, row*h, row*w*2]) # 3\n",
        "    for idx, (s, t) in enumerate(zip(sources, targets)):\n",
        "        i = idx // row\n",
        "        j = idx % row\n",
        "        merged[:, i*h:(i+1)*h, (j*2)*h:(j*2+1)*h] = s\n",
        "        merged[:, i*h:(i+1)*h, (j*2+1)*h:(j*2+2)*h] = t\n",
        "    return merged.transpose(1, 2, 0)"
      ],
      "execution_count": 0,
      "outputs": []
    },
    {
      "cell_type": "markdown",
      "metadata": {
        "id": "F2wljkASOSQB",
        "colab_type": "text"
      },
      "source": [
        "Helper functions "
      ]
    },
    {
      "cell_type": "code",
      "metadata": {
        "id": "oTF243GGm6oy",
        "colab_type": "code",
        "colab": {}
      },
      "source": [
        "def to_var(x):\n",
        "    \"\"\"Converts numpy to variable.\"\"\"\n",
        "    if torch.cuda.is_available():\n",
        "        x = x.cuda()\n",
        "    return Variable(x)\n",
        "\n",
        "\n",
        "def to_data(x):\n",
        "    \"\"\"Converts variable to numpy.\"\"\"\n",
        "    if torch.cuda.is_available():\n",
        "        x = x.cpu()\n",
        "    return x.data.numpy()"
      ],
      "execution_count": 0,
      "outputs": []
    },
    {
      "cell_type": "markdown",
      "metadata": {
        "id": "uVvh5v9LvxXm",
        "colab_type": "text"
      },
      "source": [
        "### Training loop"
      ]
    },
    {
      "cell_type": "code",
      "metadata": {
        "id": "BA21BZb41Iyc",
        "colab_type": "code",
        "outputId": "bf02e7f8-168b-45c9-acae-1f61175955cd",
        "colab": {
          "base_uri": "https://localhost:8080/",
          "height": 34
        }
      },
      "source": [
        "# Check number of parameters in the generator\n",
        "pytorch_total_params = sum(p.numel() for p in G_MNIST_USPS().parameters())\n",
        "pytorch_total_params"
      ],
      "execution_count": 23,
      "outputs": [
        {
          "output_type": "execute_result",
          "data": {
            "text/plain": [
              "560128"
            ]
          },
          "metadata": {
            "tags": []
          },
          "execution_count": 23
        }
      ]
    },
    {
      "cell_type": "code",
      "metadata": {
        "id": "6CJ0Ms4dRKdF",
        "colab_type": "code",
        "colab": {}
      },
      "source": [
        "def training_loop(M_train_loader, U_train_loader, M_test_loader, U_test_loader, sample_every=1000,  lr=0.0002, train_iters=20000, log_step = 10, batch_size=64, use_cycle_consistency_loss=True):\n",
        "  # Create generators and discriminators\n",
        "  G_MtoU, G_UtoM, D_M, D_U = create_model()\n",
        "\n",
        "  g_params = list(G_MtoU.parameters()) + list(G_UtoM.parameters())  # Get generator parameters\n",
        "  d_params = list(D_M.parameters()) + list(D_U.parameters())  # Get discriminator parameters\n",
        "\n",
        "  # Create optimizers for the generators and discriminators\n",
        "  g_optimizer = optim.Adam(g_params, lr)\n",
        "  d_optimizer = optim.Adam(d_params, lr)\n",
        "\n",
        "  iter_M = iter(M_train_loader)\n",
        "  iter_U = iter(U_train_loader)\n",
        "\n",
        "  test_iter_M = iter(M_test_loader)\n",
        "  test_iter_U = iter(U_test_loader)\n",
        "\n",
        "  # Get some fixed data from domains X and Y for sampling. These are images that are held\n",
        "  # constant throughout training, that allow us to inspect the model's performance.\n",
        "  fixed_M = to_var(test_iter_M.next()[0])\n",
        "  fixed_U = to_var(test_iter_U.next()[0])\n",
        "\n",
        "  iter_per_epoch = min(len(iter_M), len(iter_U))\n",
        "\n",
        "  for iteration in range(1, train_iters+1):\n",
        "\n",
        "      # Reset data_iter for each epoch\n",
        "      if iteration % iter_per_epoch == 0:\n",
        "          iter_M = iter(M_train_loader)\n",
        "          iter_U = iter(U_train_loader)\n",
        "\n",
        "      images_M, labels_M = iter_M.next()\n",
        "      images_M, labels_M = to_var(images_M), to_var(labels_M).long().squeeze()\n",
        "\n",
        "      images_U, labels_U = iter_U.next()\n",
        "      images_U, labels_U = to_var(images_U), to_var(labels_U).long().squeeze()\n",
        "\n",
        "     # num_classes = 10\n",
        "\n",
        "      #if use_labels:\n",
        "      #  M_fake_labels = to_var(\n",
        "       #     torch.Tensor([num_classes]*images_U.size(0)).long())\n",
        "        #svhn_fake_labels = to_var(\n",
        "         #   torch.Tensor([num_classes]*images_M.size(0)).long())\n",
        "\n",
        "\n",
        "      # ============================================\n",
        "      #            TRAIN THE DISCRIMINATORS\n",
        "      # ============================================\n",
        "\n",
        "      # Train with real images\n",
        "      d_optimizer.zero_grad()\n",
        "\n",
        "      # Compute the discriminator losses on real images\n",
        "      out_M = D_M(images_M) # discriminator mnist true\n",
        "      D_M_loss = torch.mean((out_M-1)**2) \n",
        "\n",
        "\n",
        "      out_U = D_U(images_U)\n",
        "      D_U_loss = torch.mean((out_U-1)**2)\n",
        "\n",
        "      d_real_loss = D_M_loss + D_U_loss\n",
        "      d_real_loss.backward()\n",
        "      d_optimizer.step()\n",
        "\n",
        "      # Train with fake images\n",
        "      d_optimizer.zero_grad()\n",
        "\n",
        "      # Generate fake images that look like domain MNIST based on real images in domain USPS\n",
        "      fake_M = G_UtoM(images_U)\n",
        "\n",
        "      # Compute the loss for D_M\n",
        "      out_M = D_M(fake_M)\n",
        "      D_M_loss = torch.mean(out_M**2) \n",
        "\n",
        "      # 4. Generate fake images that look like domain U based on real images in domain M\n",
        "      fake_U = G_MtoU(images_M)\n",
        "\n",
        "      # 5. Compute the loss for D_U\n",
        "      out_U = D_U(fake_U)\n",
        "      D_U_loss = torch.mean((out_U)**2) \n",
        "\n",
        "      d_fake_loss = D_M_loss + D_U_loss\n",
        "      d_fake_loss.backward()\n",
        "      d_optimizer.step()\n",
        "\n",
        "\n",
        "\n",
        "      # =========================================\n",
        "      #            TRAIN THE GENERATORS\n",
        "      # =========================================\n",
        "\n",
        "      ## U--M-->U \n",
        "\n",
        "      g_optimizer.zero_grad()\n",
        "\n",
        "      # 1. Generate fake images that look like domain M based on real images in domain U\n",
        "      fake_M = G_UtoM(images_U)\n",
        "      out = D_M(fake_M)\n",
        "\n",
        "      # 2. Compute the generator loss based on domain M\n",
        "\n",
        "      g_loss = torch.mean((out-1)**2)\n",
        "\n",
        "      if use_cycle_consistency_loss:\n",
        "          reconstructed_U = G_MtoU(fake_M)\n",
        "          # 3. Compute the cycle consistency loss (the reconstruction loss)\n",
        "          cycle_consistency_loss = torch.mean((images_U - reconstructed_U)**2)\n",
        "          g_loss += cycle_consistency_loss\n",
        "\n",
        "      g_loss.backward()\n",
        "      g_optimizer.step()\n",
        "\n",
        "      ## M--U-->M \n",
        "\n",
        "      g_optimizer.zero_grad()\n",
        "\n",
        "      # 1. Generate fake images that look like domain U based on real images in domain M\n",
        "      fake_U = G_MtoU(images_M)\n",
        "      out = D_U(fake_U)\n",
        "\n",
        "      # 2. Compute the generator loss based on domain U\n",
        "      g_loss = torch.mean((out-1)**2)\n",
        "\n",
        "      if use_cycle_consistency_loss:\n",
        "          reconstructed_M = G_UtoM(fake_U)\n",
        "          # 3. Compute the cycle consistency loss (the reconstruction loss)\n",
        "          cycle_consistency_loss = torch.mean((images_M - reconstructed_M)**2)\n",
        "          g_loss += cycle_consistency_loss\n",
        "\n",
        "      g_loss.backward()\n",
        "      g_optimizer.step()\n",
        "\n",
        "\n",
        "      # Print the log info\n",
        "      if iteration % log_step == 0:\n",
        "          print('Iteration [{:5d}/{:5d}] | d_real_loss: {:6.4f} | d_U_loss: {:6.4f} | d_M_loss: {:6.4f} | '\n",
        "                'd_fake_loss: {:6.4f} | g_loss: {:6.4f}'.format(\n",
        "                  iteration, train_iters, d_real_loss.item(), D_U_loss.item(),\n",
        "                  D_M_loss.item(), d_fake_loss.item(), g_loss.item()))\n",
        "\n",
        "\n",
        "      # Save the generated samples\n",
        "      if iteration % sample_every == 0:\n",
        "          save_samples(iteration, fixed_U, fixed_M, G_UtoM, G_MtoU)"
      ],
      "execution_count": 0,
      "outputs": []
    },
    {
      "cell_type": "code",
      "metadata": {
        "id": "fpMhowQMRKgq",
        "colab_type": "code",
        "outputId": "91960ee9-dbd4-47da-8c3a-794642cb2d6d",
        "colab": {
          "base_uri": "https://localhost:8080/",
          "height": 1000
        }
      },
      "source": [
        "training_loop(M_train_loader, U_train_loader, M_test_loader, U_test_loader, sample_every=1000,  lr=0.0002, train_iters=5000, log_step = 100,  use_cycle_consistency_loss=True)"
      ],
      "execution_count": 25,
      "outputs": [
        {
          "output_type": "stream",
          "text": [
            "                 G_MtoU                \n",
            "---------------------------------------\n",
            "G_MNIST_USPS(\n",
            "  (conv1): Sequential(\n",
            "    (0): Conv2d(1, 64, kernel_size=(4, 4), stride=(2, 2), padding=(1, 1), bias=False)\n",
            "    (1): BatchNorm2d(64, eps=1e-05, momentum=0.1, affine=True, track_running_stats=True)\n",
            "  )\n",
            "  (conv2): Sequential(\n",
            "    (0): Conv2d(64, 128, kernel_size=(4, 4), stride=(2, 2), padding=(1, 1), bias=False)\n",
            "    (1): BatchNorm2d(128, eps=1e-05, momentum=0.1, affine=True, track_running_stats=True)\n",
            "  )\n",
            "  (conv3): Sequential(\n",
            "    (0): Conv2d(128, 128, kernel_size=(3, 3), stride=(1, 1), padding=(1, 1), bias=False)\n",
            "    (1): BatchNorm2d(128, eps=1e-05, momentum=0.1, affine=True, track_running_stats=True)\n",
            "  )\n",
            "  (conv4): Sequential(\n",
            "    (0): Conv2d(128, 128, kernel_size=(3, 3), stride=(1, 1), padding=(1, 1), bias=False)\n",
            "    (1): BatchNorm2d(128, eps=1e-05, momentum=0.1, affine=True, track_running_stats=True)\n",
            "  )\n",
            "  (deconv1): Sequential(\n",
            "    (0): ConvTranspose2d(128, 64, kernel_size=(4, 4), stride=(2, 2), padding=(1, 1), bias=False)\n",
            "    (1): BatchNorm2d(64, eps=1e-05, momentum=0.1, affine=True, track_running_stats=True)\n",
            "  )\n",
            "  (deconv2): Sequential(\n",
            "    (0): ConvTranspose2d(64, 1, kernel_size=(4, 4), stride=(2, 2), padding=(1, 1), bias=False)\n",
            "  )\n",
            ")\n",
            "---------------------------------------\n",
            "                 G_UtoM                \n",
            "---------------------------------------\n",
            "G_USPS_MNIST(\n",
            "  (conv1): Sequential(\n",
            "    (0): Conv2d(1, 64, kernel_size=(4, 4), stride=(2, 2), padding=(1, 1), bias=False)\n",
            "    (1): BatchNorm2d(64, eps=1e-05, momentum=0.1, affine=True, track_running_stats=True)\n",
            "  )\n",
            "  (conv2): Sequential(\n",
            "    (0): Conv2d(64, 128, kernel_size=(4, 4), stride=(2, 2), padding=(1, 1), bias=False)\n",
            "    (1): BatchNorm2d(128, eps=1e-05, momentum=0.1, affine=True, track_running_stats=True)\n",
            "  )\n",
            "  (conv3): Sequential(\n",
            "    (0): Conv2d(128, 128, kernel_size=(3, 3), stride=(1, 1), padding=(1, 1), bias=False)\n",
            "    (1): BatchNorm2d(128, eps=1e-05, momentum=0.1, affine=True, track_running_stats=True)\n",
            "  )\n",
            "  (conv4): Sequential(\n",
            "    (0): Conv2d(128, 128, kernel_size=(3, 3), stride=(1, 1), padding=(1, 1), bias=False)\n",
            "    (1): BatchNorm2d(128, eps=1e-05, momentum=0.1, affine=True, track_running_stats=True)\n",
            "  )\n",
            "  (deconv1): Sequential(\n",
            "    (0): ConvTranspose2d(128, 64, kernel_size=(4, 4), stride=(2, 2), padding=(1, 1), bias=False)\n",
            "    (1): BatchNorm2d(64, eps=1e-05, momentum=0.1, affine=True, track_running_stats=True)\n",
            "  )\n",
            "  (deconv2): Sequential(\n",
            "    (0): ConvTranspose2d(64, 1, kernel_size=(4, 4), stride=(2, 2), padding=(1, 1), bias=False)\n",
            "  )\n",
            ")\n",
            "---------------------------------------\n",
            "                  D_M                  \n",
            "---------------------------------------\n",
            "D_MNIST(\n",
            "  (conv1): Sequential(\n",
            "    (0): Conv2d(1, 64, kernel_size=(4, 4), stride=(2, 2), padding=(1, 1), bias=False)\n",
            "  )\n",
            "  (conv2): Sequential(\n",
            "    (0): Conv2d(64, 128, kernel_size=(4, 4), stride=(2, 2), padding=(1, 1), bias=False)\n",
            "    (1): BatchNorm2d(128, eps=1e-05, momentum=0.1, affine=True, track_running_stats=True)\n",
            "  )\n",
            "  (conv3): Sequential(\n",
            "    (0): Conv2d(128, 256, kernel_size=(4, 4), stride=(2, 2), padding=(1, 1), bias=False)\n",
            "    (1): BatchNorm2d(256, eps=1e-05, momentum=0.1, affine=True, track_running_stats=True)\n",
            "  )\n",
            "  (fc): Sequential(\n",
            "    (0): Conv2d(256, 1, kernel_size=(4, 4), stride=(1, 1), bias=False)\n",
            "  )\n",
            ")\n",
            "---------------------------------------\n",
            "                  D_U                  \n",
            "---------------------------------------\n",
            "D_USPS(\n",
            "  (conv1): Sequential(\n",
            "    (0): Conv2d(1, 64, kernel_size=(4, 4), stride=(2, 2), padding=(1, 1), bias=False)\n",
            "  )\n",
            "  (conv2): Sequential(\n",
            "    (0): Conv2d(64, 128, kernel_size=(4, 4), stride=(2, 2), padding=(1, 1), bias=False)\n",
            "    (1): BatchNorm2d(128, eps=1e-05, momentum=0.1, affine=True, track_running_stats=True)\n",
            "  )\n",
            "  (conv3): Sequential(\n",
            "    (0): Conv2d(128, 256, kernel_size=(4, 4), stride=(2, 2), padding=(1, 1), bias=False)\n",
            "    (1): BatchNorm2d(256, eps=1e-05, momentum=0.1, affine=True, track_running_stats=True)\n",
            "  )\n",
            "  (fc): Sequential(\n",
            "    (0): Conv2d(256, 1, kernel_size=(4, 4), stride=(1, 1), bias=False)\n",
            "  )\n",
            ")\n",
            "---------------------------------------\n",
            "Models moved to GPU.\n",
            "Iteration [  100/ 5000] | d_real_loss: 0.0789 | d_U_loss: 0.0626 | d_M_loss: 0.0408 | d_fake_loss: 0.1035 | g_loss: 1.3836\n",
            "Iteration [  200/ 5000] | d_real_loss: 0.0785 | d_U_loss: 0.1159 | d_M_loss: 0.0371 | d_fake_loss: 0.1529 | g_loss: 1.2737\n",
            "Iteration [  300/ 5000] | d_real_loss: 0.1005 | d_U_loss: 0.0122 | d_M_loss: 0.0345 | d_fake_loss: 0.0466 | g_loss: 1.3776\n",
            "Iteration [  400/ 5000] | d_real_loss: 0.2612 | d_U_loss: 0.1244 | d_M_loss: 0.1014 | d_fake_loss: 0.2258 | g_loss: 1.0715\n",
            "Iteration [  500/ 5000] | d_real_loss: 0.2316 | d_U_loss: 0.0994 | d_M_loss: 0.2643 | d_fake_loss: 0.3637 | g_loss: 0.9172\n",
            "Iteration [  600/ 5000] | d_real_loss: 0.2191 | d_U_loss: 0.0898 | d_M_loss: 0.0563 | d_fake_loss: 0.1461 | g_loss: 0.9075\n",
            "Iteration [  700/ 5000] | d_real_loss: 0.2385 | d_U_loss: 0.0371 | d_M_loss: 0.1401 | d_fake_loss: 0.1772 | g_loss: 1.1174\n",
            "Iteration [  800/ 5000] | d_real_loss: 0.1398 | d_U_loss: 0.0862 | d_M_loss: 0.0300 | d_fake_loss: 0.1162 | g_loss: 0.7014\n",
            "Iteration [  900/ 5000] | d_real_loss: 0.1837 | d_U_loss: 0.0408 | d_M_loss: 0.0395 | d_fake_loss: 0.0803 | g_loss: 0.7991\n"
          ],
          "name": "stdout"
        },
        {
          "output_type": "stream",
          "text": [
            "WARNING:root:Lossy conversion from float64 to uint8. Range [-1.0, 1.0]. Convert image to uint8 prior to saving to suppress this warning.\n",
            "WARNING:root:Lossy conversion from float64 to uint8. Range [-1.0, 0.9992398023605347]. Convert image to uint8 prior to saving to suppress this warning.\n"
          ],
          "name": "stderr"
        },
        {
          "output_type": "stream",
          "text": [
            "Iteration [ 1000/ 5000] | d_real_loss: 0.1819 | d_U_loss: 0.1188 | d_M_loss: 0.0385 | d_fake_loss: 0.1573 | g_loss: 0.8341\n",
            "Saved /content/sample-001000-M-U.png\n",
            "Saved /content/sample-001000-U-M.png\n",
            "Iteration [ 1100/ 5000] | d_real_loss: 0.1697 | d_U_loss: 0.1439 | d_M_loss: 0.0764 | d_fake_loss: 0.2203 | g_loss: 0.8652\n",
            "Iteration [ 1200/ 5000] | d_real_loss: 0.2233 | d_U_loss: 0.1023 | d_M_loss: 0.0485 | d_fake_loss: 0.1508 | g_loss: 0.8846\n",
            "Iteration [ 1300/ 5000] | d_real_loss: 0.2301 | d_U_loss: 0.0394 | d_M_loss: 0.0942 | d_fake_loss: 0.1336 | g_loss: 0.9144\n",
            "Iteration [ 1400/ 5000] | d_real_loss: 0.2591 | d_U_loss: 0.2016 | d_M_loss: 0.0564 | d_fake_loss: 0.2579 | g_loss: 0.7021\n",
            "Iteration [ 1500/ 5000] | d_real_loss: 0.3965 | d_U_loss: 0.0612 | d_M_loss: 0.2481 | d_fake_loss: 0.3093 | g_loss: 0.9820\n",
            "Iteration [ 1600/ 5000] | d_real_loss: 0.4450 | d_U_loss: 0.1799 | d_M_loss: 0.0755 | d_fake_loss: 0.2554 | g_loss: 0.6738\n",
            "Iteration [ 1700/ 5000] | d_real_loss: 0.3374 | d_U_loss: 0.1141 | d_M_loss: 0.1743 | d_fake_loss: 0.2883 | g_loss: 0.8105\n",
            "Iteration [ 1800/ 5000] | d_real_loss: 0.1012 | d_U_loss: 0.0571 | d_M_loss: 0.0715 | d_fake_loss: 0.1286 | g_loss: 1.1627\n",
            "Iteration [ 1900/ 5000] | d_real_loss: 0.2600 | d_U_loss: 0.0841 | d_M_loss: 0.0929 | d_fake_loss: 0.1770 | g_loss: 0.8007\n"
          ],
          "name": "stdout"
        },
        {
          "output_type": "stream",
          "text": [
            "WARNING:root:Lossy conversion from float64 to uint8. Range [-1.0, 1.0]. Convert image to uint8 prior to saving to suppress this warning.\n",
            "WARNING:root:Lossy conversion from float64 to uint8. Range [-1.0, 0.9968724250793457]. Convert image to uint8 prior to saving to suppress this warning.\n"
          ],
          "name": "stderr"
        },
        {
          "output_type": "stream",
          "text": [
            "Iteration [ 2000/ 5000] | d_real_loss: 0.2101 | d_U_loss: 0.1176 | d_M_loss: 0.0370 | d_fake_loss: 0.1546 | g_loss: 0.8667\n",
            "Saved /content/sample-002000-M-U.png\n",
            "Saved /content/sample-002000-U-M.png\n",
            "Iteration [ 2100/ 5000] | d_real_loss: 0.1213 | d_U_loss: 0.1059 | d_M_loss: 0.0938 | d_fake_loss: 0.1997 | g_loss: 0.9195\n",
            "Iteration [ 2200/ 5000] | d_real_loss: 0.1158 | d_U_loss: 0.3241 | d_M_loss: 0.2185 | d_fake_loss: 0.5425 | g_loss: 0.5638\n",
            "Iteration [ 2300/ 5000] | d_real_loss: 0.1183 | d_U_loss: 0.1112 | d_M_loss: 0.1068 | d_fake_loss: 0.2180 | g_loss: 0.7366\n",
            "Iteration [ 2400/ 5000] | d_real_loss: 0.2490 | d_U_loss: 0.0797 | d_M_loss: 0.0337 | d_fake_loss: 0.1134 | g_loss: 0.8973\n",
            "Iteration [ 2500/ 5000] | d_real_loss: 0.1553 | d_U_loss: 0.0958 | d_M_loss: 0.0557 | d_fake_loss: 0.1516 | g_loss: 0.8739\n",
            "Iteration [ 2600/ 5000] | d_real_loss: 0.1409 | d_U_loss: 0.0350 | d_M_loss: 0.0313 | d_fake_loss: 0.0663 | g_loss: 1.0785\n",
            "Iteration [ 2700/ 5000] | d_real_loss: 0.1730 | d_U_loss: 0.2335 | d_M_loss: 0.0604 | d_fake_loss: 0.2939 | g_loss: 0.7184\n",
            "Iteration [ 2800/ 5000] | d_real_loss: 0.1196 | d_U_loss: 0.0257 | d_M_loss: 0.0449 | d_fake_loss: 0.0707 | g_loss: 1.0908\n",
            "Iteration [ 2900/ 5000] | d_real_loss: 0.2654 | d_U_loss: 0.1802 | d_M_loss: 0.0871 | d_fake_loss: 0.2672 | g_loss: 0.6876\n"
          ],
          "name": "stdout"
        },
        {
          "output_type": "stream",
          "text": [
            "WARNING:root:Lossy conversion from float64 to uint8. Range [-1.0, 1.0]. Convert image to uint8 prior to saving to suppress this warning.\n",
            "WARNING:root:Lossy conversion from float64 to uint8. Range [-1.0, 0.9976438283920288]. Convert image to uint8 prior to saving to suppress this warning.\n"
          ],
          "name": "stderr"
        },
        {
          "output_type": "stream",
          "text": [
            "Iteration [ 3000/ 5000] | d_real_loss: 0.0795 | d_U_loss: 0.0627 | d_M_loss: 0.0625 | d_fake_loss: 0.1252 | g_loss: 1.2851\n",
            "Saved /content/sample-003000-M-U.png\n",
            "Saved /content/sample-003000-U-M.png\n",
            "Iteration [ 3100/ 5000] | d_real_loss: 0.1043 | d_U_loss: 0.0774 | d_M_loss: 0.0295 | d_fake_loss: 0.1069 | g_loss: 1.1906\n",
            "Iteration [ 3200/ 5000] | d_real_loss: 0.0737 | d_U_loss: 0.0380 | d_M_loss: 0.0394 | d_fake_loss: 0.0774 | g_loss: 1.0726\n",
            "Iteration [ 3300/ 5000] | d_real_loss: 0.1450 | d_U_loss: 0.1585 | d_M_loss: 0.0407 | d_fake_loss: 0.1992 | g_loss: 0.6389\n",
            "Iteration [ 3400/ 5000] | d_real_loss: 0.0690 | d_U_loss: 0.1048 | d_M_loss: 0.0451 | d_fake_loss: 0.1500 | g_loss: 0.8233\n",
            "Iteration [ 3500/ 5000] | d_real_loss: 0.0545 | d_U_loss: 0.0718 | d_M_loss: 0.0394 | d_fake_loss: 0.1112 | g_loss: 0.9507\n",
            "Iteration [ 3600/ 5000] | d_real_loss: 0.1191 | d_U_loss: 0.1623 | d_M_loss: 0.0253 | d_fake_loss: 0.1875 | g_loss: 0.6574\n",
            "Iteration [ 3700/ 5000] | d_real_loss: 0.0839 | d_U_loss: 0.0587 | d_M_loss: 0.0521 | d_fake_loss: 0.1108 | g_loss: 0.9404\n",
            "Iteration [ 3800/ 5000] | d_real_loss: 0.0704 | d_U_loss: 0.0576 | d_M_loss: 0.0296 | d_fake_loss: 0.0872 | g_loss: 0.9464\n",
            "Iteration [ 3900/ 5000] | d_real_loss: 0.1037 | d_U_loss: 0.0449 | d_M_loss: 0.0134 | d_fake_loss: 0.0583 | g_loss: 1.3744\n"
          ],
          "name": "stdout"
        },
        {
          "output_type": "stream",
          "text": [
            "WARNING:root:Lossy conversion from float64 to uint8. Range [-1.0, 1.0]. Convert image to uint8 prior to saving to suppress this warning.\n",
            "WARNING:root:Lossy conversion from float64 to uint8. Range [-1.0, 0.9976925849914551]. Convert image to uint8 prior to saving to suppress this warning.\n"
          ],
          "name": "stderr"
        },
        {
          "output_type": "stream",
          "text": [
            "Iteration [ 4000/ 5000] | d_real_loss: 0.0533 | d_U_loss: 0.1762 | d_M_loss: 0.0386 | d_fake_loss: 0.2149 | g_loss: 0.9301\n",
            "Saved /content/sample-004000-M-U.png\n",
            "Saved /content/sample-004000-U-M.png\n",
            "Iteration [ 4100/ 5000] | d_real_loss: 0.1299 | d_U_loss: 0.0856 | d_M_loss: 0.0463 | d_fake_loss: 0.1320 | g_loss: 0.7879\n",
            "Iteration [ 4200/ 5000] | d_real_loss: 0.0759 | d_U_loss: 0.1412 | d_M_loss: 0.0391 | d_fake_loss: 0.1804 | g_loss: 0.7859\n",
            "Iteration [ 4300/ 5000] | d_real_loss: 0.1797 | d_U_loss: 0.0735 | d_M_loss: 0.0284 | d_fake_loss: 0.1019 | g_loss: 0.9486\n",
            "Iteration [ 4400/ 5000] | d_real_loss: 0.1951 | d_U_loss: 0.0667 | d_M_loss: 0.0750 | d_fake_loss: 0.1417 | g_loss: 1.0619\n",
            "Iteration [ 4500/ 5000] | d_real_loss: 0.1542 | d_U_loss: 0.1047 | d_M_loss: 0.0236 | d_fake_loss: 0.1282 | g_loss: 0.7092\n",
            "Iteration [ 4600/ 5000] | d_real_loss: 0.1142 | d_U_loss: 0.0392 | d_M_loss: 0.0157 | d_fake_loss: 0.0549 | g_loss: 1.1241\n",
            "Iteration [ 4700/ 5000] | d_real_loss: 0.0481 | d_U_loss: 0.1431 | d_M_loss: 0.0212 | d_fake_loss: 0.1644 | g_loss: 1.0204\n",
            "Iteration [ 4800/ 5000] | d_real_loss: 0.1594 | d_U_loss: 0.0426 | d_M_loss: 0.0221 | d_fake_loss: 0.0647 | g_loss: 1.1374\n",
            "Iteration [ 4900/ 5000] | d_real_loss: 0.0599 | d_U_loss: 0.1425 | d_M_loss: 0.0308 | d_fake_loss: 0.1733 | g_loss: 0.8936\n"
          ],
          "name": "stdout"
        },
        {
          "output_type": "stream",
          "text": [
            "WARNING:root:Lossy conversion from float64 to uint8. Range [-1.0, 1.0]. Convert image to uint8 prior to saving to suppress this warning.\n",
            "WARNING:root:Lossy conversion from float64 to uint8. Range [-1.0, 0.993196964263916]. Convert image to uint8 prior to saving to suppress this warning.\n"
          ],
          "name": "stderr"
        },
        {
          "output_type": "stream",
          "text": [
            "Iteration [ 5000/ 5000] | d_real_loss: 0.1951 | d_U_loss: 0.0883 | d_M_loss: 0.0218 | d_fake_loss: 0.1101 | g_loss: 0.9163\n",
            "Saved /content/sample-005000-M-U.png\n",
            "Saved /content/sample-005000-U-M.png\n"
          ],
          "name": "stdout"
        }
      ]
    },
    {
      "cell_type": "code",
      "metadata": {
        "id": "HGjWBRrA74G6",
        "colab_type": "code",
        "colab": {
          "base_uri": "https://localhost:8080/",
          "height": 273
        },
        "outputId": "3780f20e-fd82-4214-cc4c-c967bed2f0ec"
      },
      "source": [
        "from PIL import Image\n",
        "image = Image.open('/content/sample-005000-U-M.png')\n",
        "image"
      ],
      "execution_count": 33,
      "outputs": [
        {
          "output_type": "execute_result",
          "data": {
            "image/png": "[encoded data removed]",
            "text/plain": [
              "<PIL.PngImagePlugin.PngImageFile image mode=RGB size=512x256 at 0x7F25A2A6AC88>"
            ]
          },
          "metadata": {
            "tags": []
          },
          "execution_count": 33
        }
      ]
    },
    {
      "cell_type": "code",
      "metadata": {
        "id": "Fd0elE7Ecuhv",
        "colab_type": "code",
        "colab": {
          "base_uri": "https://localhost:8080/",
          "height": 273
        },
        "outputId": "2ae9ce01-ff3a-48a9-a8ed-42c4150be434"
      },
      "source": [
        "from PIL import Image\n",
        "image = Image.open('/content/sample-005000-M-U.png')\n",
        "image"
      ],
      "execution_count": 34,
      "outputs": [
        {
          "output_type": "execute_result",
          "data": {
            "image/png": "[encoded data removed]",
            "text/plain": [
              "<PIL.PngImagePlugin.PngImageFile image mode=RGB size=512x256 at 0x7F25A2A6ADD8>"
            ]
          },
          "metadata": {
            "tags": []
          },
          "execution_count": 34
        }
      ]
    },
    {
      "cell_type": "code",
      "metadata": {
        "id": "id1tpHyidAdr",
        "colab_type": "code",
        "colab": {}
      },
      "source": [
        ""
      ],
      "execution_count": 0,
      "outputs": []
    }
  ]
}