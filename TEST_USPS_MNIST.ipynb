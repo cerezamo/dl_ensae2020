{
  "nbformat": 4,
  "nbformat_minor": 0,
  "metadata": {
    "colab": {
      "name": "TEST_USPS_MNIST.ipynb",
      "provenance": [],
      "authorship_tag": "ABX9TyPRWuGlexQ/5HslhRGYbk2b",
      "include_colab_link": true
    },
    "kernelspec": {
      "name": "python3",
      "display_name": "Python 3"
    },
    "accelerator": "GPU"
  },
  "cells": [
    {
      "cell_type": "markdown",
      "metadata": {
        "id": "view-in-github",
        "colab_type": "text"
      },
      "source": [
        "<a href=\"https://colab.research.google.com/github/cerezamo/dl_ensae2020/blob/master/TEST_USPS_MNIST.ipynb\" target=\"_parent\"><img src=\"https://colab.research.google.com/assets/colab-badge.svg\" alt=\"Open In Colab\"/></a>"
      ]
    },
    {
      "cell_type": "markdown",
      "metadata": {
        "id": "d3WozZiVqzTe",
        "colab_type": "text"
      },
      "source": [
        "# Deep Learning - CycleGAN - ENSAE 2020 "
      ]
    },
    {
      "cell_type": "markdown",
      "metadata": {
        "id": "vSTMrsRArdZM",
        "colab_type": "text"
      },
      "source": [
        "## From MNIST to USPS "
      ]
    },
    {
      "cell_type": "markdown",
      "metadata": {
        "id": "l11pGx3YrZ33",
        "colab_type": "text"
      },
      "source": [
        "### Import packages "
      ]
    },
    {
      "cell_type": "code",
      "metadata": {
        "id": "fo2xoAWXbQNk",
        "colab_type": "code",
        "colab": {}
      },
      "source": [
        "import torch\n",
        "import torch.nn as nn\n",
        "from torch.autograd import Variab²  le\n",
        "from torch import optim\n",
        "import torchvision.utils as utils\n",
        "import torch.nn.functional as F\n",
        "import torch.utils as tutils\n",
        "from torchvision import datasets\n",
        "from torchvision import transforms\n",
        "import numpy as np"
      ],
      "execution_count": 0,
      "outputs": []
    },
    {
      "cell_type": "markdown",
      "metadata": {
        "id": "0Nzv4stxsPBE",
        "colab_type": "text"
      },
      "source": [
        "This code is adapted from [yunjey](https://github.com/yunjey/) and the assignment proposed. "
      ]
    },
    {
      "cell_type": "markdown",
      "metadata": {
        "id": "HpkDg-4a3gSD",
        "colab_type": "text"
      },
      "source": [
        "### Dictionnary of parameters we will use"
      ]
    },
    {
      "cell_type": "code",
      "metadata": {
        "id": "wTXJMovK4DjD",
        "colab_type": "code",
        "colab": {}
      },
      "source": [
        ""
      ],
      "execution_count": 0,
      "outputs": []
    },
    {
      "cell_type": "markdown",
      "metadata": {
        "id": "VkJhQlnyd1pf",
        "colab_type": "text"
      },
      "source": [
        "### Download and construct loaders for USPS and Mnist"
      ]
    },
    {
      "cell_type": "code",
      "metadata": {
        "id": "l-iq6gXIr53M",
        "colab_type": "code",
        "colab": {}
      },
      "source": [
        "# We set the batch size to 64\n",
        "# We choose an image size of 20 , moreover, MNIST images are slightly cropped at the center. \n",
        "# Recall that USPS image size is 16 and MNIST image size is 28. \n",
        "batch_size = 64\n",
        "image_size = 32"
      ],
      "execution_count": 0,
      "outputs": []
    },
    {
      "cell_type": "code",
      "metadata": {
        "id": "zMntxDhzaCsX",
        "colab_type": "code",
        "colab": {}
      },
      "source": [
        "def get_loader_mnist(image_size,batch_size):\n",
        "  transform = transforms.Compose([\n",
        "                    transforms.CenterCrop(22),\n",
        "                    transforms.Resize(image_size),\n",
        "                    transforms.ToTensor(),\n",
        "                    transforms.Normalize((0.5,), (0.5,))\n",
        "                    ])\n",
        "  \n",
        "  mnist_train = datasets.MNIST(root='content/',download=True, transform = transform,train=True)\n",
        "  mnist_test = datasets.MNIST(root='content/',download=True, transform = transform,train=False)\n",
        "\n",
        "  train_loader = torch.utils.data.DataLoader(dataset=mnist_train,\n",
        "                                             batch_size=batch_size,\n",
        "                                             shuffle=True)\n",
        "  \n",
        "  test_loader = torch.utils.data.DataLoader(dataset=mnist_test,\n",
        "                                             batch_size=batch_size,\n",
        "                                             shuffle=False)\n",
        "  \n",
        "  return train_loader, test_loader "
      ],
      "execution_count": 0,
      "outputs": []
    },
    {
      "cell_type": "code",
      "metadata": {
        "id": "EBjkiheLeG5B",
        "colab_type": "code",
        "colab": {}
      },
      "source": [
        "def get_loader_usps(image_size,batch_size):\n",
        "  transform = transforms.Compose([\n",
        "                    transforms.Resize(image_size),\n",
        "                    transforms.ToTensor(),\n",
        "                    transforms.Normalize((0.5,), (0.5,))\n",
        "                    ])\n",
        "  \n",
        "  usps_train = datasets.USPS(root='content/',download=True, transform = transform,train=True)\n",
        "  usps_test = datasets.USPS(root='content/',download=True, transform = transform,train=False)\n",
        "\n",
        "  train_loader = torch.utils.data.DataLoader(dataset=usps_train,\n",
        "                                             batch_size=batch_size,\n",
        "                                             shuffle=True)\n",
        "  \n",
        "  test_loader = torch.utils.data.DataLoader(dataset=usps_test,\n",
        "                                             batch_size=batch_size,\n",
        "                                             shuffle=False)\n",
        "  \n",
        "  return train_loader, test_loader "
      ],
      "execution_count": 0,
      "outputs": []
    },
    {
      "cell_type": "code",
      "metadata": {
        "id": "NS9TtewDd0-7",
        "colab_type": "code",
        "colab": {}
      },
      "source": [
        "M_train_loader, M_test_loader =get_loader_mnist(image_size,batch_size)"
      ],
      "execution_count": 0,
      "outputs": []
    },
    {
      "cell_type": "code",
      "metadata": {
        "id": "PWVC0H3Oaijj",
        "colab_type": "code",
        "colab": {}
      },
      "source": [
        "U_train_loader, U_test_loader =get_loader_usps(image_size,batch_size)"
      ],
      "execution_count": 0,
      "outputs": []
    },
    {
      "cell_type": "code",
      "metadata": {
        "id": "dc6q_rHdlhUd",
        "colab_type": "code",
        "colab": {}
      },
      "source": [
        "examples_mnist = enumerate(M_train_loader)\n",
        "batch_idx, (example_data_mnist, example_targets_mnist) = next(examples_mnist)\n",
        "\n",
        "examples_usps = enumerate(U_train_loader)\n",
        "batch_idx, (example_data_usps, example_targets_usps) = next(examples_usps)"
      ],
      "execution_count": 0,
      "outputs": []
    },
    {
      "cell_type": "code",
      "metadata": {
        "id": "vUMuqDB5lo9z",
        "colab_type": "code",
        "outputId": "9b20e51a-cf35-4786-9159-d9ce5421b1a2",
        "colab": {
          "base_uri": "https://localhost:8080/",
          "height": 34
        }
      },
      "source": [
        "example_data_usps.shape, example_data_mnist.shape # 64 per batch, size 32x32  # 64 per batch, size 32x32 "
      ],
      "execution_count": 0,
      "outputs": [
        {
          "output_type": "execute_result",
          "data": {
            "text/plain": [
              "(torch.Size([64, 1, 32, 32]), torch.Size([64, 1, 32, 32]))"
            ]
          },
          "metadata": {
            "tags": []
          },
          "execution_count": 205
        }
      ]
    },
    {
      "cell_type": "code",
      "metadata": {
        "id": "kO11V_IXE9j2",
        "colab_type": "code",
        "colab": {}
      },
      "source": [
        "list_label = []\n",
        "list_images = []\n",
        "\n",
        "while len(list_label)<10:\n",
        "  for i in range(len(example_targets_mnist)):\n",
        "    if example_targets_mnist[i].item() in list_label:\n",
        "      pass\n",
        "    else:\n",
        "      list_label.append(example_targets_mnist[i].item())\n",
        "      list_images.append(example_data_mnist[i])\n",
        "\n",
        "list_label,list_images = zip(*sorted(zip(list_label,list_images)))"
      ],
      "execution_count": 0,
      "outputs": []
    },
    {
      "cell_type": "code",
      "metadata": {
        "id": "n46JB-OHl4TU",
        "colab_type": "code",
        "outputId": "9911592b-ee91-4c01-c9eb-f8f33281e2db",
        "colab": {
          "base_uri": "https://localhost:8080/",
          "height": 109
        }
      },
      "source": [
        "import matplotlib.pyplot as plt\n",
        "\n",
        "fig = plt.figure(figsize=(20,12))\n",
        "for i in range(10):\n",
        "  plt.subplot(1,10,i+1)\n",
        "  plt.tight_layout()\n",
        "  plt.imshow(list_images[i][0],cmap='gray', interpolation='none')\n",
        "  plt.title(\"Labels: {}\".format(list_label[i]))\n",
        "  plt.xticks([])\n",
        "  plt.yticks([])"
      ],
      "execution_count": 0,
      "outputs": [
        {
          "output_type": "display_data",
          "data": {
            "image/png": "[encoded data removed]",
            "text/plain": [
              "<Figure size 1440x864 with 10 Axes>"
            ]
          },
          "metadata": {
            "tags": []
          }
        }
      ]
    },
    {
      "cell_type": "code",
      "metadata": {
        "id": "-BV-63YrIWk-",
        "colab_type": "code",
        "colab": {}
      },
      "source": [
        "list_label = []\n",
        "list_images = []\n",
        "\n",
        "while len(list_label)<10:\n",
        "  for i in range(len(example_targets_usps)):\n",
        "    if example_targets_usps[i].item() in list_label:\n",
        "      pass\n",
        "    else:\n",
        "      list_label.append(example_targets_usps[i].item())\n",
        "      list_images.append(example_data_usps[i])\n",
        "\n",
        "list_label,list_images = zip(*sorted(zip(list_label,list_images)))"
      ],
      "execution_count": 0,
      "outputs": []
    },
    {
      "cell_type": "code",
      "metadata": {
        "id": "qn0disVBmcT-",
        "colab_type": "code",
        "outputId": "37c75851-9f28-4673-c748-e9ea1c8d1f26",
        "colab": {
          "base_uri": "https://localhost:8080/",
          "height": 109
        }
      },
      "source": [
        "import matplotlib.pyplot as plt\n",
        "\n",
        "fig = plt.figure(figsize=(20,12))\n",
        "for i in range(10):\n",
        "  plt.subplot(1,10,i+1)\n",
        "  plt.tight_layout()\n",
        "  plt.imshow(list_images[i][0],cmap='gray', interpolation='none')\n",
        "  plt.title(\"Labels: {}\".format(list_label[i]))\n",
        "  plt.xticks([])\n",
        "  plt.yticks([])"
      ],
      "execution_count": 0,
      "outputs": [
        {
          "output_type": "display_data",
          "data": {
            "image/png": "[encoded data removed]",
            "text/plain": [
              "<Figure size 1440x864 with 10 Axes>"
            ]
          },
          "metadata": {
            "tags": []
          }
        }
      ]
    },
    {
      "cell_type": "code",
      "metadata": {
        "id": "RgPmv5meb_cP",
        "colab_type": "code",
        "outputId": "46c8530b-dd9c-4022-ba73-4040bed6fbaf",
        "colab": {
          "base_uri": "https://localhost:8080/",
          "height": 34
        }
      },
      "source": [
        "example_data_mnist.size()"
      ],
      "execution_count": 0,
      "outputs": [
        {
          "output_type": "execute_result",
          "data": {
            "text/plain": [
              "torch.Size([64, 1, 32, 32])"
            ]
          },
          "metadata": {
            "tags": []
          },
          "execution_count": 210
        }
      ]
    },
    {
      "cell_type": "markdown",
      "metadata": {
        "id": "HhDEfGGNDybx",
        "colab_type": "text"
      },
      "source": [
        "The USPS dataset consists of 7,291 training images and 2007 test images each of which is of the original size of 16x16. The MNIST dataset consists of 60 000 training images and 10 000 test images each of which is of the size 28x28. Both contains 10 categories (numbers from 0 to 9) and follow distinct distributions. "
      ]
    },
    {
      "cell_type": "markdown",
      "metadata": {
        "id": "gbl9ZuYKnWzS",
        "colab_type": "text"
      },
      "source": [
        "#### Helper functions"
      ]
    },
    {
      "cell_type": "code",
      "metadata": {
        "id": "uGPVAZ0FtUvx",
        "colab_type": "code",
        "colab": {}
      },
      "source": [
        "import torch.nn as nn"
      ],
      "execution_count": 0,
      "outputs": []
    },
    {
      "cell_type": "code",
      "metadata": {
        "id": "6O_Sr4Eem6cq",
        "colab_type": "code",
        "colab": {}
      },
      "source": [
        "def deconv(c_in, c_out, k_size, stride=2, pad=1, batch_norm=True):\n",
        "    \"\"\"Custom deconvolutional layer \"\"\"\n",
        "    layers = []\n",
        "    layers.append(nn.ConvTranspose2d(c_in, c_out, k_size, stride, pad, bias=False))\n",
        "    if batch_norm:\n",
        "        layers.append(nn.BatchNorm2d(c_out))\n",
        "    return nn.Sequential(*layers)\n",
        "\n",
        "def conv(c_in, c_out, k_size, stride=2, pad=1, batch_norm=True):\n",
        "    \"\"\"Custom convolutional layer\"\"\"\n",
        "    layers = []\n",
        "    layers.append(nn.Conv2d(c_in, c_out, k_size, stride, pad, bias=False))\n",
        "    if batch_norm:\n",
        "        layers.append(nn.BatchNorm2d(c_out))\n",
        "    return nn.Sequential(*layers)\n",
        "\n",
        "# Batch norm True False (last layer)"
      ],
      "execution_count": 0,
      "outputs": []
    },
    {
      "cell_type": "markdown",
      "metadata": {
        "id": "lryI_Qeft8cV",
        "colab_type": "text"
      },
      "source": [
        "Construction of the two discriminators "
      ]
    },
    {
      "cell_type": "code",
      "metadata": {
        "id": "NKaAbO-Nm6fG",
        "colab_type": "code",
        "colab": {}
      },
      "source": [
        "class D_MNIST(nn.Module):\n",
        "    \"\"\"Discriminator for mnist.\"\"\"\n",
        "    def __init__(self, conv_dim=64, use_labels=False):\n",
        "        super(D_MNIST, self).__init__()\n",
        "        self.conv1 = conv(1, conv_dim, 4, batch_norm=False)\n",
        "        self.conv2 = conv(conv_dim, conv_dim*2, 4)\n",
        "        self.conv3 = conv(conv_dim*2, conv_dim*4, 4)\n",
        "        n_out = 11 if use_labels else 1\n",
        "        self.fc = conv(conv_dim*4, n_out, 4, 1, 0, False)\n",
        "\n",
        "    def forward(self, x):\n",
        "        out = F.leaky_relu(self.conv1(x), 0.05)    # (?, 64, 16, 16)\n",
        "        out = F.leaky_relu(self.conv2(out), 0.05)  # (?, 128, 8, 8)\n",
        "        out = F.leaky_relu(self.conv3(out), 0.05)  # (?, 256, 4, 4)\n",
        "        out = self.fc(out).squeeze()\n",
        "        return out\n",
        "\n",
        "class D_USPS(nn.Module):\n",
        "    \"\"\"Discriminator for usps.\"\"\"\n",
        "    def __init__(self, conv_dim=64, use_labels=False):\n",
        "        super(D_USPS, self).__init__()\n",
        "        self.conv1 = conv(1, conv_dim, 4, batch_norm=False) #1\n",
        "        self.conv2 = conv(conv_dim, conv_dim*2, 4)\n",
        "        self.conv3 = conv(conv_dim*2, conv_dim*4, 4)\n",
        "        n_out = 11 if use_labels else 1\n",
        "        self.fc = conv(conv_dim*4, n_out, 4, 1, 0, False)\n",
        "\n",
        "    def forward(self, x):\n",
        "        out = F.leaky_relu(self.conv1(x), 0.05)    # (?, 64, 16, 16)\n",
        "        out = F.leaky_relu(self.conv2(out), 0.05)  # (?, 128, 8, 8)\n",
        "        out = F.leaky_relu(self.conv3(out), 0.05)  # (?, 256, 4, 4)\n",
        "        out = self.fc(out).squeeze()\n",
        "        return out\n"
      ],
      "execution_count": 0,
      "outputs": []
    },
    {
      "cell_type": "markdown",
      "metadata": {
        "id": "3SROYfqxu-m8",
        "colab_type": "text"
      },
      "source": [
        "Creating the two generators "
      ]
    },
    {
      "cell_type": "code",
      "metadata": {
        "id": "WU30ammS0vCP",
        "colab_type": "code",
        "colab": {}
      },
      "source": [
        "class G_MNIST_USPS(nn.Module):\n",
        "    \"\"\"Generator for transfering from mnist to usps\"\"\"\n",
        "    def __init__(self, conv_dim=64):\n",
        "        super(G_MNIST_USPS, self).__init__()\n",
        "        # encoding blocks\n",
        "        self.conv1 = conv(1, conv_dim, 4)\n",
        "        self.conv2 = conv(conv_dim, conv_dim*2, 4)\n",
        "\n",
        "        # residual blocks\n",
        "        self.conv3 = conv(conv_dim*2, conv_dim*2, 3, 1, 1)\n",
        "        self.conv4 = conv(conv_dim*2, conv_dim*2, 3, 1, 1)\n",
        "\n",
        "        # decoding blocks\n",
        "        self.deconv1 = deconv(conv_dim*2, conv_dim, 4)\n",
        "        self.deconv2 = deconv(conv_dim, 1, 4, batch_norm=False)\n",
        "\n",
        "    def forward(self, x):\n",
        "        out = F.leaky_relu(self.conv1(x), 0.05)      # (?, 64, 16, 16)\n",
        "        out = F.leaky_relu(self.conv2(out), 0.05)    # (?, 128, 8, 8)\n",
        "\n",
        "        out = F.leaky_relu(self.conv3(out), 0.05)    # ( \" )\n",
        "        out = F.leaky_relu(self.conv4(out), 0.05)    # ( \" )\n",
        "\n",
        "        out = F.leaky_relu(self.deconv1(out), 0.05)  # (?, 64, 16, 16)\n",
        "        out = torch.tanh(self.deconv2(out))              # (?, 3, 32, 32)\n",
        "        return out\n",
        "\n",
        "class G_USPS_MNIST(nn.Module):\n",
        "    \"\"\"Generator for transfering from usps to mnist\"\"\"\n",
        "    def __init__(self, conv_dim=64):\n",
        "        super(G_USPS_MNIST, self).__init__()\n",
        "        # encoding blocks\n",
        "        self.conv1 = conv(1, conv_dim, 4)\n",
        "        self.conv2 = conv(conv_dim, conv_dim*2, 4)\n",
        "\n",
        "        # residual blocks\n",
        "        self.conv3 = conv(conv_dim*2, conv_dim*2, 3, 1, 1)\n",
        "        self.conv4 = conv(conv_dim*2, conv_dim*2, 3, 1, 1)\n",
        "\n",
        "        # decoding blocks\n",
        "        self.deconv1 = deconv(conv_dim*2, conv_dim, 4)\n",
        "        self.deconv2 = deconv(conv_dim, 1, 4, batch_norm=False)\n",
        "\n",
        "    def forward(self, x):\n",
        "        out = F.leaky_relu(self.conv1(x), 0.05)      # (?, 64, 16, 16)\n",
        "        out = F.leaky_relu(self.conv2(out), 0.05)    # (?, 128, 8, 8)\n",
        "\n",
        "        out = F.leaky_relu(self.conv3(out), 0.05)    # ( \" )\n",
        "        out = F.leaky_relu(self.conv4(out), 0.05)    # ( \" )\n",
        "\n",
        "        out = F.leaky_relu(self.deconv1(out), 0.05)  # (?, 64, 16, 16)\n",
        "        out = torch.tanh(self.deconv2(out))              # (?, 1, 32, 32)\n",
        "        return out\n"
      ],
      "execution_count": 0,
      "outputs": []
    },
    {
      "cell_type": "markdown",
      "metadata": {
        "id": "w_bxYEIkPrMn",
        "colab_type": "text"
      },
      "source": [
        "Building model "
      ]
    },
    {
      "cell_type": "code",
      "metadata": {
        "id": "Pd6SynLQQTHG",
        "colab_type": "code",
        "colab": {}
      },
      "source": [
        "def print_models(G_MtoU, G_UtoM, D_M, D_U):\n",
        "    \"\"\"Prints model information for the generators and discriminators.\n",
        "    \"\"\"\n",
        "    print(\"                 G_MtoU                \")\n",
        "    print(\"---------------------------------------\")\n",
        "    print(G_MtoU)\n",
        "    print(\"---------------------------------------\")\n",
        "\n",
        "    print(\"                 G_UtoM                \")\n",
        "    print(\"---------------------------------------\")\n",
        "    print(G_UtoM)\n",
        "    print(\"---------------------------------------\")\n",
        "\n",
        "    print(\"                  D_M                  \")\n",
        "    print(\"---------------------------------------\")\n",
        "    print(D_M)\n",
        "    print(\"---------------------------------------\")\n",
        "\n",
        "    print(\"                  D_U                  \")\n",
        "    print(\"---------------------------------------\")\n",
        "    print(D_U)\n",
        "    print(\"---------------------------------------\")"
      ],
      "execution_count": 0,
      "outputs": []
    },
    {
      "cell_type": "code",
      "metadata": {
        "id": "BXd4mpXsPqSF",
        "colab_type": "code",
        "colab": {}
      },
      "source": [
        "def create_model():\n",
        "  G_MtoU = G_MNIST_USPS()\n",
        "  G_UtoM = G_USPS_MNIST()\n",
        "  D_M = D_MNIST()\n",
        "  D_U = D_USPS()\n",
        "\n",
        "  print_models(G_MtoU, G_UtoM, D_M, D_U)\n",
        "\n",
        "  if torch.cuda.is_available():\n",
        "      G_MtoU.cuda()\n",
        "      G_UtoM.cuda()\n",
        "      D_M.cuda()\n",
        "      D_U.cuda()\n",
        "      print('Models moved to GPU.')\n",
        "  return G_MtoU,G_UtoM, D_M, D_U"
      ],
      "execution_count": 0,
      "outputs": []
    },
    {
      "cell_type": "code",
      "metadata": {
        "id": "w6qi6MbnPqU2",
        "colab_type": "code",
        "colab": {}
      },
      "source": [
        ""
      ],
      "execution_count": 0,
      "outputs": []
    },
    {
      "cell_type": "code",
      "metadata": {
        "id": "tAe8wnLPPqa8",
        "colab_type": "code",
        "colab": {}
      },
      "source": [
        "def save_samples(iteration, fixed_U, fixed_M, G_UtoM, G_MtoU):\n",
        "    \"\"\"Saves samples from both generators M->U and U->M.\n",
        "    \"\"\"\n",
        "    import os\n",
        "    import imageio\n",
        "    fake_M = G_UtoM(fixed_U)\n",
        "    fake_U = G_MtoU(fixed_M)\n",
        "\n",
        "    M, fake_M = to_data(fixed_M), to_data(fake_M)\n",
        "    U, fake_U = to_data(fixed_U), to_data(fake_U)\n",
        "\n",
        "    merged = merge_images(M, fake_U)\n",
        "    path = os.path.join('/content/', 'sample-{:06d}-M-U.png'.format(iteration))\n",
        "    imageio.imwrite(path, merged)\n",
        "    print('Saved {}'.format(path))\n",
        "\n",
        "    merged = merge_images(U, fake_M)\n",
        "    path = os.path.join('/content/', 'sample-{:06d}-U-M.png'.format(iteration))\n",
        "    imageio.imwrite(path, merged)\n",
        "    print('Saved {}'.format(path))"
      ],
      "execution_count": 0,
      "outputs": []
    },
    {
      "cell_type": "code",
      "metadata": {
        "id": "_heIWaZsPqXw",
        "colab_type": "code",
        "colab": {}
      },
      "source": [
        ""
      ],
      "execution_count": 0,
      "outputs": []
    },
    {
      "cell_type": "code",
      "metadata": {
        "id": "A9Yt42NGm6mS",
        "colab_type": "code",
        "colab": {}
      },
      "source": [
        "def merge_images(sources, targets, k=10):\n",
        "    \"\"\"Creates a grid consisting of pairs of columns, where the first column in\n",
        "    each pair contains images source images and the second column in each pair\n",
        "    contains images generated by the CycleGAN from the corresponding images in\n",
        "    the first column.\n",
        "    \"\"\"\n",
        "    _, _, h, w = sources.shape\n",
        "    row = int(np.sqrt(64))\n",
        "    merged = np.zeros([3, row*h, row*w*2]) # 3\n",
        "    for idx, (s, t) in enumerate(zip(sources, targets)):\n",
        "        i = idx // row\n",
        "        j = idx % row\n",
        "        merged[:, i*h:(i+1)*h, (j*2)*h:(j*2+1)*h] = s\n",
        "        merged[:, i*h:(i+1)*h, (j*2+1)*h:(j*2+2)*h] = t\n",
        "    return merged.transpose(1, 2, 0)"
      ],
      "execution_count": 0,
      "outputs": []
    },
    {
      "cell_type": "markdown",
      "metadata": {
        "id": "F2wljkASOSQB",
        "colab_type": "text"
      },
      "source": [
        "Helper functions "
      ]
    },
    {
      "cell_type": "code",
      "metadata": {
        "id": "oTF243GGm6oy",
        "colab_type": "code",
        "colab": {}
      },
      "source": [
        "def to_var(x):\n",
        "    \"\"\"Converts numpy to variable.\"\"\"\n",
        "    if torch.cuda.is_available():\n",
        "        x = x.cuda()\n",
        "    return Variable(x)\n",
        "\n",
        "\n",
        "def to_data(x):\n",
        "    \"\"\"Converts variable to numpy.\"\"\"\n",
        "    if torch.cuda.is_available():\n",
        "        x = x.cpu()\n",
        "    return x.data.numpy()"
      ],
      "execution_count": 0,
      "outputs": []
    },
    {
      "cell_type": "markdown",
      "metadata": {
        "id": "uVvh5v9LvxXm",
        "colab_type": "text"
      },
      "source": [
        "### Training loop"
      ]
    },
    {
      "cell_type": "code",
      "metadata": {
        "id": "BA21BZb41Iyc",
        "colab_type": "code",
        "outputId": "83286140-8305-4b23-c21e-8dd404b3b5d3",
        "colab": {
          "base_uri": "https://localhost:8080/",
          "height": 34
        }
      },
      "source": [
        "# Check number of parameters in the generator\n",
        "pytorch_total_params = sum(p.numel() for p in G_MNIST_USPS().parameters())\n",
        "pytorch_total_params"
      ],
      "execution_count": 0,
      "outputs": [
        {
          "output_type": "execute_result",
          "data": {
            "text/plain": [
              "560128"
            ]
          },
          "metadata": {
            "tags": []
          },
          "execution_count": 233
        }
      ]
    },
    {
      "cell_type": "code",
      "metadata": {
        "id": "6CJ0Ms4dRKdF",
        "colab_type": "code",
        "colab": {}
      },
      "source": [
        "def training_loop(M_train_loader, U_train_loader, M_test_loader, U_test_loader, sample_every=1000,  lr=0.0002, train_iters=20000, log_step = 10, batch_size=64, use_cycle_consistency_loss=True):\n",
        "  # Create generators and discriminators\n",
        "  G_MtoU, G_UtoM, D_M, D_U = create_model()\n",
        "\n",
        "  g_params = list(G_MtoU.parameters()) + list(G_UtoM.parameters())  # Get generator parameters\n",
        "  d_params = list(D_M.parameters()) + list(D_U.parameters())  # Get discriminator parameters\n",
        "\n",
        "  # Create optimizers for the generators and discriminators\n",
        "  g_optimizer = optim.Adam(g_params, lr)\n",
        "  d_optimizer = optim.Adam(d_params, lr)\n",
        "\n",
        "  iter_M = iter(M_train_loader)\n",
        "  iter_U = iter(U_train_loader)\n",
        "\n",
        "  test_iter_M = iter(M_test_loader)\n",
        "  test_iter_U = iter(U_test_loader)\n",
        "\n",
        "  # Get some fixed data from domains X and Y for sampling. These are images that are held\n",
        "  # constant throughout training, that allow us to inspect the model's performance.\n",
        "  fixed_M = to_var(test_iter_M.next()[0])\n",
        "  fixed_U = to_var(test_iter_U.next()[0])\n",
        "\n",
        "  iter_per_epoch = min(len(iter_M), len(iter_U))\n",
        "\n",
        "  for iteration in range(1, train_iters+1):\n",
        "\n",
        "      # Reset data_iter for each epoch\n",
        "      if iteration % iter_per_epoch == 0:\n",
        "          iter_M = iter(M_train_loader)\n",
        "          iter_U = iter(U_train_loader)\n",
        "\n",
        "      images_M, labels_M = iter_M.next()\n",
        "      images_M, labels_M = to_var(images_M), to_var(labels_M).long().squeeze()\n",
        "\n",
        "      images_U, labels_U = iter_U.next()\n",
        "      images_U, labels_U = to_var(images_U), to_var(labels_U).long().squeeze()\n",
        "\n",
        "     # num_classes = 10\n",
        "\n",
        "      #if use_labels:\n",
        "      #  M_fake_labels = to_var(\n",
        "       #     torch.Tensor([num_classes]*images_U.size(0)).long())\n",
        "        #svhn_fake_labels = to_var(\n",
        "         #   torch.Tensor([num_classes]*images_M.size(0)).long())\n",
        "\n",
        "\n",
        "      # ============================================\n",
        "      #            TRAIN THE DISCRIMINATORS\n",
        "      # ============================================\n",
        "\n",
        "      # Train with real images\n",
        "      d_optimizer.zero_grad()\n",
        "\n",
        "      # Compute the discriminator losses on real images\n",
        "      out_M = D_M(images_M) # discriminator mnist true\n",
        "      D_M_loss = torch.mean((out_M-1)**2) \n",
        "\n",
        "\n",
        "      out_U = D_U(images_U)\n",
        "      D_U_loss = torch.mean((out_U-1)**2)\n",
        "\n",
        "      d_real_loss = D_M_loss + D_U_loss\n",
        "      d_real_loss.backward()\n",
        "      d_optimizer.step()\n",
        "\n",
        "      # Train with fake images\n",
        "      d_optimizer.zero_grad()\n",
        "\n",
        "      # Generate fake images that look like domain MNIST based on real images in domain USPS\n",
        "      fake_M = G_UtoM(images_U)\n",
        "\n",
        "      # Compute the loss for D_M\n",
        "      out_M = D_M(fake_M)\n",
        "      D_M_loss = torch.mean(out_M**2) \n",
        "\n",
        "      # 4. Generate fake images that look like domain U based on real images in domain M\n",
        "      fake_U = G_MtoU(images_M)\n",
        "\n",
        "      # 5. Compute the loss for D_U\n",
        "      out_U = D_U(fake_U)\n",
        "      D_U_loss = torch.mean((out_U)**2) \n",
        "\n",
        "      d_fake_loss = D_M_loss + D_U_loss\n",
        "      d_fake_loss.backward()\n",
        "      d_optimizer.step()\n",
        "\n",
        "\n",
        "\n",
        "      # =========================================\n",
        "      #            TRAIN THE GENERATORS\n",
        "      # =========================================\n",
        "\n",
        "      ## U--M-->U \n",
        "\n",
        "      g_optimizer.zero_grad()\n",
        "\n",
        "      # 1. Generate fake images that look like domain M based on real images in domain U\n",
        "      fake_M = G_UtoM(images_U)\n",
        "      out = D_M(fake_M)\n",
        "\n",
        "      # 2. Compute the generator loss based on domain M\n",
        "\n",
        "      g_loss = torch.mean((out-1)**2)\n",
        "\n",
        "      if use_cycle_consistency_loss:\n",
        "          reconstructed_U = G_MtoU(fake_M)\n",
        "          # 3. Compute the cycle consistency loss (the reconstruction loss)\n",
        "          cycle_consistency_loss = torch.mean((images_U - reconstructed_U)**2)\n",
        "          g_loss += cycle_consistency_loss\n",
        "\n",
        "      g_loss.backward()\n",
        "      g_optimizer.step()\n",
        "\n",
        "      ## M--U-->M \n",
        "\n",
        "      g_optimizer.zero_grad()\n",
        "\n",
        "      # 1. Generate fake images that look like domain U based on real images in domain M\n",
        "      fake_U = G_MtoU(images_M)\n",
        "      out = D_U(fake_U)\n",
        "\n",
        "      # 2. Compute the generator loss based on domain U\n",
        "      g_loss = torch.mean((out-1)**2)\n",
        "\n",
        "      if use_cycle_consistency_loss:\n",
        "          reconstructed_M = G_UtoM(fake_U)\n",
        "          # 3. Compute the cycle consistency loss (the reconstruction loss)\n",
        "          cycle_consistency_loss = torch.mean((images_M - reconstructed_M)**2)\n",
        "          g_loss += cycle_consistency_loss\n",
        "\n",
        "      g_loss.backward()\n",
        "      g_optimizer.step()\n",
        "\n",
        "\n",
        "      # Print the log info\n",
        "      if iteration % log_step == 0:\n",
        "          print('Iteration [{:5d}/{:5d}] | d_real_loss: {:6.4f} | d_U_loss: {:6.4f} | d_M_loss: {:6.4f} | '\n",
        "                'd_fake_loss: {:6.4f} | g_loss: {:6.4f}'.format(\n",
        "                  iteration, train_iters, d_real_loss.item(), D_U_loss.item(),\n",
        "                  D_M_loss.item(), d_fake_loss.item(), g_loss.item()))\n",
        "\n",
        "\n",
        "      # Save the generated samples\n",
        "      if iteration % sample_every == 0:\n",
        "          save_samples(iteration, fixed_U, fixed_M, G_UtoM, G_MtoU)"
      ],
      "execution_count": 0,
      "outputs": []
    },
    {
      "cell_type": "code",
      "metadata": {
        "id": "fpMhowQMRKgq",
        "colab_type": "code",
        "outputId": "1416e912-9ebd-4baf-bd98-b2ba88452046",
        "colab": {
          "base_uri": "https://localhost:8080/",
          "height": 1000
        }
      },
      "source": [
        "training_loop(M_train_loader, U_train_loader, M_test_loader, U_test_loader, sample_every=1000,  lr=0.0002, train_iters=5000, log_step = 100,  use_cycle_consistency_loss=True)"
      ],
      "execution_count": 0,
      "outputs": [
        {
          "output_type": "stream",
          "text": [
            "                 G_MtoU                \n",
            "---------------------------------------\n",
            "G_MNIST_USPS(\n",
            "  (conv1): Sequential(\n",
            "    (0): Conv2d(1, 64, kernel_size=(4, 4), stride=(2, 2), padding=(1, 1), bias=False)\n",
            "    (1): BatchNorm2d(64, eps=1e-05, momentum=0.1, affine=True, track_running_stats=True)\n",
            "  )\n",
            "  (conv2): Sequential(\n",
            "    (0): Conv2d(64, 128, kernel_size=(4, 4), stride=(2, 2), padding=(1, 1), bias=False)\n",
            "    (1): BatchNorm2d(128, eps=1e-05, momentum=0.1, affine=True, track_running_stats=True)\n",
            "  )\n",
            "  (conv3): Sequential(\n",
            "    (0): Conv2d(128, 128, kernel_size=(3, 3), stride=(1, 1), padding=(1, 1), bias=False)\n",
            "    (1): BatchNorm2d(128, eps=1e-05, momentum=0.1, affine=True, track_running_stats=True)\n",
            "  )\n",
            "  (conv4): Sequential(\n",
            "    (0): Conv2d(128, 128, kernel_size=(3, 3), stride=(1, 1), padding=(1, 1), bias=False)\n",
            "    (1): BatchNorm2d(128, eps=1e-05, momentum=0.1, affine=True, track_running_stats=True)\n",
            "  )\n",
            "  (deconv1): Sequential(\n",
            "    (0): ConvTranspose2d(128, 64, kernel_size=(4, 4), stride=(2, 2), padding=(1, 1), bias=False)\n",
            "    (1): BatchNorm2d(64, eps=1e-05, momentum=0.1, affine=True, track_running_stats=True)\n",
            "  )\n",
            "  (deconv2): Sequential(\n",
            "    (0): ConvTranspose2d(64, 1, kernel_size=(4, 4), stride=(2, 2), padding=(1, 1), bias=False)\n",
            "  )\n",
            ")\n",
            "---------------------------------------\n",
            "                 G_UtoM                \n",
            "---------------------------------------\n",
            "G_USPS_MNIST(\n",
            "  (conv1): Sequential(\n",
            "    (0): Conv2d(1, 64, kernel_size=(4, 4), stride=(2, 2), padding=(1, 1), bias=False)\n",
            "    (1): BatchNorm2d(64, eps=1e-05, momentum=0.1, affine=True, track_running_stats=True)\n",
            "  )\n",
            "  (conv2): Sequential(\n",
            "    (0): Conv2d(64, 128, kernel_size=(4, 4), stride=(2, 2), padding=(1, 1), bias=False)\n",
            "    (1): BatchNorm2d(128, eps=1e-05, momentum=0.1, affine=True, track_running_stats=True)\n",
            "  )\n",
            "  (conv3): Sequential(\n",
            "    (0): Conv2d(128, 128, kernel_size=(3, 3), stride=(1, 1), padding=(1, 1), bias=False)\n",
            "    (1): BatchNorm2d(128, eps=1e-05, momentum=0.1, affine=True, track_running_stats=True)\n",
            "  )\n",
            "  (conv4): Sequential(\n",
            "    (0): Conv2d(128, 128, kernel_size=(3, 3), stride=(1, 1), padding=(1, 1), bias=False)\n",
            "    (1): BatchNorm2d(128, eps=1e-05, momentum=0.1, affine=True, track_running_stats=True)\n",
            "  )\n",
            "  (deconv1): Sequential(\n",
            "    (0): ConvTranspose2d(128, 64, kernel_size=(4, 4), stride=(2, 2), padding=(1, 1), bias=False)\n",
            "    (1): BatchNorm2d(64, eps=1e-05, momentum=0.1, affine=True, track_running_stats=True)\n",
            "  )\n",
            "  (deconv2): Sequential(\n",
            "    (0): ConvTranspose2d(64, 1, kernel_size=(4, 4), stride=(2, 2), padding=(1, 1), bias=False)\n",
            "  )\n",
            ")\n",
            "---------------------------------------\n",
            "                  D_M                  \n",
            "---------------------------------------\n",
            "D_MNIST(\n",
            "  (conv1): Sequential(\n",
            "    (0): Conv2d(1, 64, kernel_size=(4, 4), stride=(2, 2), padding=(1, 1), bias=False)\n",
            "  )\n",
            "  (conv2): Sequential(\n",
            "    (0): Conv2d(64, 128, kernel_size=(4, 4), stride=(2, 2), padding=(1, 1), bias=False)\n",
            "    (1): BatchNorm2d(128, eps=1e-05, momentum=0.1, affine=True, track_running_stats=True)\n",
            "  )\n",
            "  (conv3): Sequential(\n",
            "    (0): Conv2d(128, 256, kernel_size=(4, 4), stride=(2, 2), padding=(1, 1), bias=False)\n",
            "    (1): BatchNorm2d(256, eps=1e-05, momentum=0.1, affine=True, track_running_stats=True)\n",
            "  )\n",
            "  (fc): Sequential(\n",
            "    (0): Conv2d(256, 1, kernel_size=(4, 4), stride=(1, 1), bias=False)\n",
            "  )\n",
            ")\n",
            "---------------------------------------\n",
            "                  D_U                  \n",
            "---------------------------------------\n",
            "D_USPS(\n",
            "  (conv1): Sequential(\n",
            "    (0): Conv2d(1, 64, kernel_size=(4, 4), stride=(2, 2), padding=(1, 1), bias=False)\n",
            "  )\n",
            "  (conv2): Sequential(\n",
            "    (0): Conv2d(64, 128, kernel_size=(4, 4), stride=(2, 2), padding=(1, 1), bias=False)\n",
            "    (1): BatchNorm2d(128, eps=1e-05, momentum=0.1, affine=True, track_running_stats=True)\n",
            "  )\n",
            "  (conv3): Sequential(\n",
            "    (0): Conv2d(128, 256, kernel_size=(4, 4), stride=(2, 2), padding=(1, 1), bias=False)\n",
            "    (1): BatchNorm2d(256, eps=1e-05, momentum=0.1, affine=True, track_running_stats=True)\n",
            "  )\n",
            "  (fc): Sequential(\n",
            "    (0): Conv2d(256, 1, kernel_size=(4, 4), stride=(1, 1), bias=False)\n",
            "  )\n",
            ")\n",
            "---------------------------------------\n",
            "Models moved to GPU.\n",
            "Iteration [  100/ 5000] | d_real_loss: 0.2054 | d_U_loss: 0.0986 | d_M_loss: 0.0550 | d_fake_loss: 0.1536 | g_loss: 1.4683\n",
            "Iteration [  200/ 5000] | d_real_loss: 0.2345 | d_U_loss: 0.0390 | d_M_loss: 0.0577 | d_fake_loss: 0.0967 | g_loss: 1.1070\n",
            "Iteration [  300/ 5000] | d_real_loss: 0.2071 | d_U_loss: 0.0782 | d_M_loss: 0.2273 | d_fake_loss: 0.3056 | g_loss: 1.1362\n",
            "Iteration [  400/ 5000] | d_real_loss: 0.2143 | d_U_loss: 0.1584 | d_M_loss: 0.1121 | d_fake_loss: 0.2705 | g_loss: 0.8271\n",
            "Iteration [  500/ 5000] | d_real_loss: 0.2923 | d_U_loss: 0.0741 | d_M_loss: 0.1035 | d_fake_loss: 0.1775 | g_loss: 1.1012\n",
            "Iteration [  600/ 5000] | d_real_loss: 0.1726 | d_U_loss: 0.1817 | d_M_loss: 0.0681 | d_fake_loss: 0.2498 | g_loss: 0.7377\n",
            "Iteration [  700/ 5000] | d_real_loss: 0.4711 | d_U_loss: 0.3096 | d_M_loss: 0.0510 | d_fake_loss: 0.3606 | g_loss: 0.5095\n"
          ],
          "name": "stdout"
        }
      ]
    },
    {
      "cell_type": "code",
      "metadata": {
        "id": "HGjWBRrA74G6",
        "colab_type": "code",
        "colab": {}
      },
      "source": [
        ""
      ],
      "execution_count": 0,
      "outputs": []
    }
  ]
}