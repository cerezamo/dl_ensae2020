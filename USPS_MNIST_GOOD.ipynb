{
  "nbformat": 4,
  "nbformat_minor": 0,
  "metadata": {
    "colab": {
      "name": "TEST_USPS_MNIST.ipynb",
      "provenance": [],
      "toc_visible": true,
      "include_colab_link": true
    },
    "kernelspec": {
      "name": "python3",
      "display_name": "Python 3"
    },
    "accelerator": "GPU",
    "widgets": {
      "application/vnd.jupyter.widget-state+json": {
        "10ad7e85604e45828b53951cec9de8aa": {
          "model_module": "@jupyter-widgets/controls",
          "model_name": "HBoxModel",
          "state": {
            "_view_name": "HBoxView",
            "_dom_classes": [],
            "_model_name": "HBoxModel",
            "_view_module": "@jupyter-widgets/controls",
            "_model_module_version": "1.5.0",
            "_view_count": null,
            "_view_module_version": "1.5.0",
            "box_style": "",
            "layout": "IPY_MODEL_316149af3f9a4130941a9bf347b15b16",
            "_model_module": "@jupyter-widgets/controls",
            "children": [
              "IPY_MODEL_e94836c15c5642b1b8916e5ab4502f1b",
              "IPY_MODEL_a7093e2a24da4bf0ba3d3f3c091ce46d"
            ]
          }
        },
        "316149af3f9a4130941a9bf347b15b16": {
          "model_module": "@jupyter-widgets/base",
          "model_name": "LayoutModel",
          "state": {
            "_view_name": "LayoutView",
            "grid_template_rows": null,
            "right": null,
            "justify_content": null,
            "_view_module": "@jupyter-widgets/base",
            "overflow": null,
            "_model_module_version": "1.2.0",
            "_view_count": null,
            "flex_flow": null,
            "width": null,
            "min_width": null,
            "border": null,
            "align_items": null,
            "bottom": null,
            "_model_module": "@jupyter-widgets/base",
            "top": null,
            "grid_column": null,
            "overflow_y": null,
            "overflow_x": null,
            "grid_auto_flow": null,
            "grid_area": null,
            "grid_template_columns": null,
            "flex": null,
            "_model_name": "LayoutModel",
            "justify_items": null,
            "grid_row": null,
            "max_height": null,
            "align_content": null,
            "visibility": null,
            "align_self": null,
            "height": null,
            "min_height": null,
            "padding": null,
            "grid_auto_rows": null,
            "grid_gap": null,
            "max_width": null,
            "order": null,
            "_view_module_version": "1.2.0",
            "grid_template_areas": null,
            "object_position": null,
            "object_fit": null,
            "grid_auto_columns": null,
            "margin": null,
            "display": null,
            "left": null
          }
        },
        "e94836c15c5642b1b8916e5ab4502f1b": {
          "model_module": "@jupyter-widgets/controls",
          "model_name": "FloatProgressModel",
          "state": {
            "_view_name": "ProgressView",
            "style": "IPY_MODEL_a4cda5d6f8a2489cb85624c38d97ccdb",
            "_dom_classes": [],
            "description": "",
            "_model_name": "FloatProgressModel",
            "bar_style": "info",
            "max": 1,
            "_view_module": "@jupyter-widgets/controls",
            "_model_module_version": "1.5.0",
            "value": 1,
            "_view_count": null,
            "_view_module_version": "1.5.0",
            "orientation": "horizontal",
            "min": 0,
            "description_tooltip": null,
            "_model_module": "@jupyter-widgets/controls",
            "layout": "IPY_MODEL_221a2d282b23457d9408661acc9d1572"
          }
        },
        "a7093e2a24da4bf0ba3d3f3c091ce46d": {
          "model_module": "@jupyter-widgets/controls",
          "model_name": "HTMLModel",
          "state": {
            "_view_name": "HTMLView",
            "style": "IPY_MODEL_c0f4ffc99c58403a933852fddb9e45ab",
            "_dom_classes": [],
            "description": "",
            "_model_name": "HTMLModel",
            "placeholder": "​",
            "_view_module": "@jupyter-widgets/controls",
            "_model_module_version": "1.5.0",
            "value": " 9920512/? [00:20&lt;00:00, 1458050.42it/s]",
            "_view_count": null,
            "_view_module_version": "1.5.0",
            "description_tooltip": null,
            "_model_module": "@jupyter-widgets/controls",
            "layout": "IPY_MODEL_c3871233637d4621a3c0e21f00f74abc"
          }
        },
        "a4cda5d6f8a2489cb85624c38d97ccdb": {
          "model_module": "@jupyter-widgets/controls",
          "model_name": "ProgressStyleModel",
          "state": {
            "_view_name": "StyleView",
            "_model_name": "ProgressStyleModel",
            "description_width": "initial",
            "_view_module": "@jupyter-widgets/base",
            "_model_module_version": "1.5.0",
            "_view_count": null,
            "_view_module_version": "1.2.0",
            "bar_color": null,
            "_model_module": "@jupyter-widgets/controls"
          }
        },
        "221a2d282b23457d9408661acc9d1572": {
          "model_module": "@jupyter-widgets/base",
          "model_name": "LayoutModel",
          "state": {
            "_view_name": "LayoutView",
            "grid_template_rows": null,
            "right": null,
            "justify_content": null,
            "_view_module": "@jupyter-widgets/base",
            "overflow": null,
            "_model_module_version": "1.2.0",
            "_view_count": null,
            "flex_flow": null,
            "width": null,
            "min_width": null,
            "border": null,
            "align_items": null,
            "bottom": null,
            "_model_module": "@jupyter-widgets/base",
            "top": null,
            "grid_column": null,
            "overflow_y": null,
            "overflow_x": null,
            "grid_auto_flow": null,
            "grid_area": null,
            "grid_template_columns": null,
            "flex": null,
            "_model_name": "LayoutModel",
            "justify_items": null,
            "grid_row": null,
            "max_height": null,
            "align_content": null,
            "visibility": null,
            "align_self": null,
            "height": null,
            "min_height": null,
            "padding": null,
            "grid_auto_rows": null,
            "grid_gap": null,
            "max_width": null,
            "order": null,
            "_view_module_version": "1.2.0",
            "grid_template_areas": null,
            "object_position": null,
            "object_fit": null,
            "grid_auto_columns": null,
            "margin": null,
            "display": null,
            "left": null
          }
        },
        "c0f4ffc99c58403a933852fddb9e45ab": {
          "model_module": "@jupyter-widgets/controls",
          "model_name": "DescriptionStyleModel",
          "state": {
            "_view_name": "StyleView",
            "_model_name": "DescriptionStyleModel",
            "description_width": "",
            "_view_module": "@jupyter-widgets/base",
            "_model_module_version": "1.5.0",
            "_view_count": null,
            "_view_module_version": "1.2.0",
            "_model_module": "@jupyter-widgets/controls"
          }
        },
        "c3871233637d4621a3c0e21f00f74abc": {
          "model_module": "@jupyter-widgets/base",
          "model_name": "LayoutModel",
          "state": {
            "_view_name": "LayoutView",
            "grid_template_rows": null,
            "right": null,
            "justify_content": null,
            "_view_module": "@jupyter-widgets/base",
            "overflow": null,
            "_model_module_version": "1.2.0",
            "_view_count": null,
            "flex_flow": null,
            "width": null,
            "min_width": null,
            "border": null,
            "align_items": null,
            "bottom": null,
            "_model_module": "@jupyter-widgets/base",
            "top": null,
            "grid_column": null,
            "overflow_y": null,
            "overflow_x": null,
            "grid_auto_flow": null,
            "grid_area": null,
            "grid_template_columns": null,
            "flex": null,
            "_model_name": "LayoutModel",
            "justify_items": null,
            "grid_row": null,
            "max_height": null,
            "align_content": null,
            "visibility": null,
            "align_self": null,
            "height": null,
            "min_height": null,
            "padding": null,
            "grid_auto_rows": null,
            "grid_gap": null,
            "max_width": null,
            "order": null,
            "_view_module_version": "1.2.0",
            "grid_template_areas": null,
            "object_position": null,
            "object_fit": null,
            "grid_auto_columns": null,
            "margin": null,
            "display": null,
            "left": null
          }
        },
        "69899fb42e8f4da983c91e46041048bc": {
          "model_module": "@jupyter-widgets/controls",
          "model_name": "HBoxModel",
          "state": {
            "_view_name": "HBoxView",
            "_dom_classes": [],
            "_model_name": "HBoxModel",
            "_view_module": "@jupyter-widgets/controls",
            "_model_module_version": "1.5.0",
            "_view_count": null,
            "_view_module_version": "1.5.0",
            "box_style": "",
            "layout": "IPY_MODEL_5f957f4fe24249c28b993010d91b82a4",
            "_model_module": "@jupyter-widgets/controls",
            "children": [
              "IPY_MODEL_9c999f77d2be434181576320bbae42f6",
              "IPY_MODEL_d97853b93c09467db78ee838f2209610"
            ]
          }
        },
        "5f957f4fe24249c28b993010d91b82a4": {
          "model_module": "@jupyter-widgets/base",
          "model_name": "LayoutModel",
          "state": {
            "_view_name": "LayoutView",
            "grid_template_rows": null,
            "right": null,
            "justify_content": null,
            "_view_module": "@jupyter-widgets/base",
            "overflow": null,
            "_model_module_version": "1.2.0",
            "_view_count": null,
            "flex_flow": null,
            "width": null,
            "min_width": null,
            "border": null,
            "align_items": null,
            "bottom": null,
            "_model_module": "@jupyter-widgets/base",
            "top": null,
            "grid_column": null,
            "overflow_y": null,
            "overflow_x": null,
            "grid_auto_flow": null,
            "grid_area": null,
            "grid_template_columns": null,
            "flex": null,
            "_model_name": "LayoutModel",
            "justify_items": null,
            "grid_row": null,
            "max_height": null,
            "align_content": null,
            "visibility": null,
            "align_self": null,
            "height": null,
            "min_height": null,
            "padding": null,
            "grid_auto_rows": null,
            "grid_gap": null,
            "max_width": null,
            "order": null,
            "_view_module_version": "1.2.0",
            "grid_template_areas": null,
            "object_position": null,
            "object_fit": null,
            "grid_auto_columns": null,
            "margin": null,
            "display": null,
            "left": null
          }
        },
        "9c999f77d2be434181576320bbae42f6": {
          "model_module": "@jupyter-widgets/controls",
          "model_name": "FloatProgressModel",
          "state": {
            "_view_name": "ProgressView",
            "style": "IPY_MODEL_429d91ada1a74a07ab2be9d1bc1ee6a0",
            "_dom_classes": [],
            "description": "",
            "_model_name": "FloatProgressModel",
            "bar_style": "success",
            "max": 1,
            "_view_module": "@jupyter-widgets/controls",
            "_model_module_version": "1.5.0",
            "value": 1,
            "_view_count": null,
            "_view_module_version": "1.5.0",
            "orientation": "horizontal",
            "min": 0,
            "description_tooltip": null,
            "_model_module": "@jupyter-widgets/controls",
            "layout": "IPY_MODEL_2e8604ddafdc46d8b2189c912e723384"
          }
        },
        "d97853b93c09467db78ee838f2209610": {
          "model_module": "@jupyter-widgets/controls",
          "model_name": "HTMLModel",
          "state": {
            "_view_name": "HTMLView",
            "style": "IPY_MODEL_462a78e42f984124bedda86d210590dc",
            "_dom_classes": [],
            "description": "",
            "_model_name": "HTMLModel",
            "placeholder": "​",
            "_view_module": "@jupyter-widgets/controls",
            "_model_module_version": "1.5.0",
            "value": " 32768/? [00:00&lt;00:00, 33990.89it/s]",
            "_view_count": null,
            "_view_module_version": "1.5.0",
            "description_tooltip": null,
            "_model_module": "@jupyter-widgets/controls",
            "layout": "IPY_MODEL_cd2bb6fca37e4db89d63d47be3295ce8"
          }
        },
        "429d91ada1a74a07ab2be9d1bc1ee6a0": {
          "model_module": "@jupyter-widgets/controls",
          "model_name": "ProgressStyleModel",
          "state": {
            "_view_name": "StyleView",
            "_model_name": "ProgressStyleModel",
            "description_width": "initial",
            "_view_module": "@jupyter-widgets/base",
            "_model_module_version": "1.5.0",
            "_view_count": null,
            "_view_module_version": "1.2.0",
            "bar_color": null,
            "_model_module": "@jupyter-widgets/controls"
          }
        },
        "2e8604ddafdc46d8b2189c912e723384": {
          "model_module": "@jupyter-widgets/base",
          "model_name": "LayoutModel",
          "state": {
            "_view_name": "LayoutView",
            "grid_template_rows": null,
            "right": null,
            "justify_content": null,
            "_view_module": "@jupyter-widgets/base",
            "overflow": null,
            "_model_module_version": "1.2.0",
            "_view_count": null,
            "flex_flow": null,
            "width": null,
            "min_width": null,
            "border": null,
            "align_items": null,
            "bottom": null,
            "_model_module": "@jupyter-widgets/base",
            "top": null,
            "grid_column": null,
            "overflow_y": null,
            "overflow_x": null,
            "grid_auto_flow": null,
            "grid_area": null,
            "grid_template_columns": null,
            "flex": null,
            "_model_name": "LayoutModel",
            "justify_items": null,
            "grid_row": null,
            "max_height": null,
            "align_content": null,
            "visibility": null,
            "align_self": null,
            "height": null,
            "min_height": null,
            "padding": null,
            "grid_auto_rows": null,
            "grid_gap": null,
            "max_width": null,
            "order": null,
            "_view_module_version": "1.2.0",
            "grid_template_areas": null,
            "object_position": null,
            "object_fit": null,
            "grid_auto_columns": null,
            "margin": null,
            "display": null,
            "left": null
          }
        },
        "462a78e42f984124bedda86d210590dc": {
          "model_module": "@jupyter-widgets/controls",
          "model_name": "DescriptionStyleModel",
          "state": {
            "_view_name": "StyleView",
            "_model_name": "DescriptionStyleModel",
            "description_width": "",
            "_view_module": "@jupyter-widgets/base",
            "_model_module_version": "1.5.0",
            "_view_count": null,
            "_view_module_version": "1.2.0",
            "_model_module": "@jupyter-widgets/controls"
          }
        },
        "cd2bb6fca37e4db89d63d47be3295ce8": {
          "model_module": "@jupyter-widgets/base",
          "model_name": "LayoutModel",
          "state": {
            "_view_name": "LayoutView",
            "grid_template_rows": null,
            "right": null,
            "justify_content": null,
            "_view_module": "@jupyter-widgets/base",
            "overflow": null,
            "_model_module_version": "1.2.0",
            "_view_count": null,
            "flex_flow": null,
            "width": null,
            "min_width": null,
            "border": null,
            "align_items": null,
            "bottom": null,
            "_model_module": "@jupyter-widgets/base",
            "top": null,
            "grid_column": null,
            "overflow_y": null,
            "overflow_x": null,
            "grid_auto_flow": null,
            "grid_area": null,
            "grid_template_columns": null,
            "flex": null,
            "_model_name": "LayoutModel",
            "justify_items": null,
            "grid_row": null,
            "max_height": null,
            "align_content": null,
            "visibility": null,
            "align_self": null,
            "height": null,
            "min_height": null,
            "padding": null,
            "grid_auto_rows": null,
            "grid_gap": null,
            "max_width": null,
            "order": null,
            "_view_module_version": "1.2.0",
            "grid_template_areas": null,
            "object_position": null,
            "object_fit": null,
            "grid_auto_columns": null,
            "margin": null,
            "display": null,
            "left": null
          }
        },
        "2d0ab07c99914bd69a54ac04383d344d": {
          "model_module": "@jupyter-widgets/controls",
          "model_name": "HBoxModel",
          "state": {
            "_view_name": "HBoxView",
            "_dom_classes": [],
            "_model_name": "HBoxModel",
            "_view_module": "@jupyter-widgets/controls",
            "_model_module_version": "1.5.0",
            "_view_count": null,
            "_view_module_version": "1.5.0",
            "box_style": "",
            "layout": "IPY_MODEL_b149d49d00ef47ca8b7665127dabe506",
            "_model_module": "@jupyter-widgets/controls",
            "children": [
              "IPY_MODEL_d07278b4ff784368a9e8a307682e7451",
              "IPY_MODEL_302652842fc14482baea761ba46655df"
            ]
          }
        },
        "b149d49d00ef47ca8b7665127dabe506": {
          "model_module": "@jupyter-widgets/base",
          "model_name": "LayoutModel",
          "state": {
            "_view_name": "LayoutView",
            "grid_template_rows": null,
            "right": null,
            "justify_content": null,
            "_view_module": "@jupyter-widgets/base",
            "overflow": null,
            "_model_module_version": "1.2.0",
            "_view_count": null,
            "flex_flow": null,
            "width": null,
            "min_width": null,
            "border": null,
            "align_items": null,
            "bottom": null,
            "_model_module": "@jupyter-widgets/base",
            "top": null,
            "grid_column": null,
            "overflow_y": null,
            "overflow_x": null,
            "grid_auto_flow": null,
            "grid_area": null,
            "grid_template_columns": null,
            "flex": null,
            "_model_name": "LayoutModel",
            "justify_items": null,
            "grid_row": null,
            "max_height": null,
            "align_content": null,
            "visibility": null,
            "align_self": null,
            "height": null,
            "min_height": null,
            "padding": null,
            "grid_auto_rows": null,
            "grid_gap": null,
            "max_width": null,
            "order": null,
            "_view_module_version": "1.2.0",
            "grid_template_areas": null,
            "object_position": null,
            "object_fit": null,
            "grid_auto_columns": null,
            "margin": null,
            "display": null,
            "left": null
          }
        },
        "d07278b4ff784368a9e8a307682e7451": {
          "model_module": "@jupyter-widgets/controls",
          "model_name": "FloatProgressModel",
          "state": {
            "_view_name": "ProgressView",
            "style": "IPY_MODEL_eb03263a31f04642a0896a5e06457db1",
            "_dom_classes": [],
            "description": "",
            "_model_name": "FloatProgressModel",
            "bar_style": "success",
            "max": 1,
            "_view_module": "@jupyter-widgets/controls",
            "_model_module_version": "1.5.0",
            "value": 1,
            "_view_count": null,
            "_view_module_version": "1.5.0",
            "orientation": "horizontal",
            "min": 0,
            "description_tooltip": null,
            "_model_module": "@jupyter-widgets/controls",
            "layout": "IPY_MODEL_813f2d92354741d681c4a5e4e75c9aba"
          }
        },
        "302652842fc14482baea761ba46655df": {
          "model_module": "@jupyter-widgets/controls",
          "model_name": "HTMLModel",
          "state": {
            "_view_name": "HTMLView",
            "style": "IPY_MODEL_7c3bf9f924684f2b8514abdb5d24473f",
            "_dom_classes": [],
            "description": "",
            "_model_name": "HTMLModel",
            "placeholder": "​",
            "_view_module": "@jupyter-widgets/controls",
            "_model_module_version": "1.5.0",
            "value": " 1654784/? [00:00&lt;00:00, 2318972.06it/s]",
            "_view_count": null,
            "_view_module_version": "1.5.0",
            "description_tooltip": null,
            "_model_module": "@jupyter-widgets/controls",
            "layout": "IPY_MODEL_69bcb69c771a47b4a8fab5ea4ed1cc60"
          }
        },
        "eb03263a31f04642a0896a5e06457db1": {
          "model_module": "@jupyter-widgets/controls",
          "model_name": "ProgressStyleModel",
          "state": {
            "_view_name": "StyleView",
            "_model_name": "ProgressStyleModel",
            "description_width": "initial",
            "_view_module": "@jupyter-widgets/base",
            "_model_module_version": "1.5.0",
            "_view_count": null,
            "_view_module_version": "1.2.0",
            "bar_color": null,
            "_model_module": "@jupyter-widgets/controls"
          }
        },
        "813f2d92354741d681c4a5e4e75c9aba": {
          "model_module": "@jupyter-widgets/base",
          "model_name": "LayoutModel",
          "state": {
            "_view_name": "LayoutView",
            "grid_template_rows": null,
            "right": null,
            "justify_content": null,
            "_view_module": "@jupyter-widgets/base",
            "overflow": null,
            "_model_module_version": "1.2.0",
            "_view_count": null,
            "flex_flow": null,
            "width": null,
            "min_width": null,
            "border": null,
            "align_items": null,
            "bottom": null,
            "_model_module": "@jupyter-widgets/base",
            "top": null,
            "grid_column": null,
            "overflow_y": null,
            "overflow_x": null,
            "grid_auto_flow": null,
            "grid_area": null,
            "grid_template_columns": null,
            "flex": null,
            "_model_name": "LayoutModel",
            "justify_items": null,
            "grid_row": null,
            "max_height": null,
            "align_content": null,
            "visibility": null,
            "align_self": null,
            "height": null,
            "min_height": null,
            "padding": null,
            "grid_auto_rows": null,
            "grid_gap": null,
            "max_width": null,
            "order": null,
            "_view_module_version": "1.2.0",
            "grid_template_areas": null,
            "object_position": null,
            "object_fit": null,
            "grid_auto_columns": null,
            "margin": null,
            "display": null,
            "left": null
          }
        },
        "7c3bf9f924684f2b8514abdb5d24473f": {
          "model_module": "@jupyter-widgets/controls",
          "model_name": "DescriptionStyleModel",
          "state": {
            "_view_name": "StyleView",
            "_model_name": "DescriptionStyleModel",
            "description_width": "",
            "_view_module": "@jupyter-widgets/base",
            "_model_module_version": "1.5.0",
            "_view_count": null,
            "_view_module_version": "1.2.0",
            "_model_module": "@jupyter-widgets/controls"
          }
        },
        "69bcb69c771a47b4a8fab5ea4ed1cc60": {
          "model_module": "@jupyter-widgets/base",
          "model_name": "LayoutModel",
          "state": {
            "_view_name": "LayoutView",
            "grid_template_rows": null,
            "right": null,
            "justify_content": null,
            "_view_module": "@jupyter-widgets/base",
            "overflow": null,
            "_model_module_version": "1.2.0",
            "_view_count": null,
            "flex_flow": null,
            "width": null,
            "min_width": null,
            "border": null,
            "align_items": null,
            "bottom": null,
            "_model_module": "@jupyter-widgets/base",
            "top": null,
            "grid_column": null,
            "overflow_y": null,
            "overflow_x": null,
            "grid_auto_flow": null,
            "grid_area": null,
            "grid_template_columns": null,
            "flex": null,
            "_model_name": "LayoutModel",
            "justify_items": null,
            "grid_row": null,
            "max_height": null,
            "align_content": null,
            "visibility": null,
            "align_self": null,
            "height": null,
            "min_height": null,
            "padding": null,
            "grid_auto_rows": null,
            "grid_gap": null,
            "max_width": null,
            "order": null,
            "_view_module_version": "1.2.0",
            "grid_template_areas": null,
            "object_position": null,
            "object_fit": null,
            "grid_auto_columns": null,
            "margin": null,
            "display": null,
            "left": null
          }
        },
        "cab711bc3b884d7ca8c3bafe88733a7d": {
          "model_module": "@jupyter-widgets/controls",
          "model_name": "HBoxModel",
          "state": {
            "_view_name": "HBoxView",
            "_dom_classes": [],
            "_model_name": "HBoxModel",
            "_view_module": "@jupyter-widgets/controls",
            "_model_module_version": "1.5.0",
            "_view_count": null,
            "_view_module_version": "1.5.0",
            "box_style": "",
            "layout": "IPY_MODEL_ea4f9df882ab4183bb25b03e049bd5db",
            "_model_module": "@jupyter-widgets/controls",
            "children": [
              "IPY_MODEL_d9cce682d52e47939755665c130b4daa",
              "IPY_MODEL_dc44ceaa13f84c30985b13531752aa5b"
            ]
          }
        },
        "ea4f9df882ab4183bb25b03e049bd5db": {
          "model_module": "@jupyter-widgets/base",
          "model_name": "LayoutModel",
          "state": {
            "_view_name": "LayoutView",
            "grid_template_rows": null,
            "right": null,
            "justify_content": null,
            "_view_module": "@jupyter-widgets/base",
            "overflow": null,
            "_model_module_version": "1.2.0",
            "_view_count": null,
            "flex_flow": null,
            "width": null,
            "min_width": null,
            "border": null,
            "align_items": null,
            "bottom": null,
            "_model_module": "@jupyter-widgets/base",
            "top": null,
            "grid_column": null,
            "overflow_y": null,
            "overflow_x": null,
            "grid_auto_flow": null,
            "grid_area": null,
            "grid_template_columns": null,
            "flex": null,
            "_model_name": "LayoutModel",
            "justify_items": null,
            "grid_row": null,
            "max_height": null,
            "align_content": null,
            "visibility": null,
            "align_self": null,
            "height": null,
            "min_height": null,
            "padding": null,
            "grid_auto_rows": null,
            "grid_gap": null,
            "max_width": null,
            "order": null,
            "_view_module_version": "1.2.0",
            "grid_template_areas": null,
            "object_position": null,
            "object_fit": null,
            "grid_auto_columns": null,
            "margin": null,
            "display": null,
            "left": null
          }
        },
        "d9cce682d52e47939755665c130b4daa": {
          "model_module": "@jupyter-widgets/controls",
          "model_name": "FloatProgressModel",
          "state": {
            "_view_name": "ProgressView",
            "style": "IPY_MODEL_f817f9cef22a45b182c9168f8c73a7de",
            "_dom_classes": [],
            "description": "  0%",
            "_model_name": "FloatProgressModel",
            "bar_style": "info",
            "max": 1,
            "_view_module": "@jupyter-widgets/controls",
            "_model_module_version": "1.5.0",
            "value": 0,
            "_view_count": null,
            "_view_module_version": "1.5.0",
            "orientation": "horizontal",
            "min": 0,
            "description_tooltip": null,
            "_model_module": "@jupyter-widgets/controls",
            "layout": "IPY_MODEL_b36e140d99b746648f32c5a335d62013"
          }
        },
        "dc44ceaa13f84c30985b13531752aa5b": {
          "model_module": "@jupyter-widgets/controls",
          "model_name": "HTMLModel",
          "state": {
            "_view_name": "HTMLView",
            "style": "IPY_MODEL_2d64e5158dca4d2bbc6bc92307aac32f",
            "_dom_classes": [],
            "description": "",
            "_model_name": "HTMLModel",
            "placeholder": "​",
            "_view_module": "@jupyter-widgets/controls",
            "_model_module_version": "1.5.0",
            "value": " 0/4542 [00:00&lt;?, ?it/s]",
            "_view_count": null,
            "_view_module_version": "1.5.0",
            "description_tooltip": null,
            "_model_module": "@jupyter-widgets/controls",
            "layout": "IPY_MODEL_fe4425e294214c93a3696e883f84a921"
          }
        },
        "f817f9cef22a45b182c9168f8c73a7de": {
          "model_module": "@jupyter-widgets/controls",
          "model_name": "ProgressStyleModel",
          "state": {
            "_view_name": "StyleView",
            "_model_name": "ProgressStyleModel",
            "description_width": "initial",
            "_view_module": "@jupyter-widgets/base",
            "_model_module_version": "1.5.0",
            "_view_count": null,
            "_view_module_version": "1.2.0",
            "bar_color": null,
            "_model_module": "@jupyter-widgets/controls"
          }
        },
        "b36e140d99b746648f32c5a335d62013": {
          "model_module": "@jupyter-widgets/base",
          "model_name": "LayoutModel",
          "state": {
            "_view_name": "LayoutView",
            "grid_template_rows": null,
            "right": null,
            "justify_content": null,
            "_view_module": "@jupyter-widgets/base",
            "overflow": null,
            "_model_module_version": "1.2.0",
            "_view_count": null,
            "flex_flow": null,
            "width": null,
            "min_width": null,
            "border": null,
            "align_items": null,
            "bottom": null,
            "_model_module": "@jupyter-widgets/base",
            "top": null,
            "grid_column": null,
            "overflow_y": null,
            "overflow_x": null,
            "grid_auto_flow": null,
            "grid_area": null,
            "grid_template_columns": null,
            "flex": null,
            "_model_name": "LayoutModel",
            "justify_items": null,
            "grid_row": null,
            "max_height": null,
            "align_content": null,
            "visibility": null,
            "align_self": null,
            "height": null,
            "min_height": null,
            "padding": null,
            "grid_auto_rows": null,
            "grid_gap": null,
            "max_width": null,
            "order": null,
            "_view_module_version": "1.2.0",
            "grid_template_areas": null,
            "object_position": null,
            "object_fit": null,
            "grid_auto_columns": null,
            "margin": null,
            "display": null,
            "left": null
          }
        },
        "2d64e5158dca4d2bbc6bc92307aac32f": {
          "model_module": "@jupyter-widgets/controls",
          "model_name": "DescriptionStyleModel",
          "state": {
            "_view_name": "StyleView",
            "_model_name": "DescriptionStyleModel",
            "description_width": "",
            "_view_module": "@jupyter-widgets/base",
            "_model_module_version": "1.5.0",
            "_view_count": null,
            "_view_module_version": "1.2.0",
            "_model_module": "@jupyter-widgets/controls"
          }
        },
        "fe4425e294214c93a3696e883f84a921": {
          "model_module": "@jupyter-widgets/base",
          "model_name": "LayoutModel",
          "state": {
            "_view_name": "LayoutView",
            "grid_template_rows": null,
            "right": null,
            "justify_content": null,
            "_view_module": "@jupyter-widgets/base",
            "overflow": null,
            "_model_module_version": "1.2.0",
            "_view_count": null,
            "flex_flow": null,
            "width": null,
            "min_width": null,
            "border": null,
            "align_items": null,
            "bottom": null,
            "_model_module": "@jupyter-widgets/base",
            "top": null,
            "grid_column": null,
            "overflow_y": null,
            "overflow_x": null,
            "grid_auto_flow": null,
            "grid_area": null,
            "grid_template_columns": null,
            "flex": null,
            "_model_name": "LayoutModel",
            "justify_items": null,
            "grid_row": null,
            "max_height": null,
            "align_content": null,
            "visibility": null,
            "align_self": null,
            "height": null,
            "min_height": null,
            "padding": null,
            "grid_auto_rows": null,
            "grid_gap": null,
            "max_width": null,
            "order": null,
            "_view_module_version": "1.2.0",
            "grid_template_areas": null,
            "object_position": null,
            "object_fit": null,
            "grid_auto_columns": null,
            "margin": null,
            "display": null,
            "left": null
          }
        },
        "ad3d24c5a2574a3db4b5d5439cfc0b0f": {
          "model_module": "@jupyter-widgets/controls",
          "model_name": "HBoxModel",
          "state": {
            "_view_name": "HBoxView",
            "_dom_classes": [],
            "_model_name": "HBoxModel",
            "_view_module": "@jupyter-widgets/controls",
            "_model_module_version": "1.5.0",
            "_view_count": null,
            "_view_module_version": "1.5.0",
            "box_style": "",
            "layout": "IPY_MODEL_22aac8069b07433284eebcb15af922cc",
            "_model_module": "@jupyter-widgets/controls",
            "children": [
              "IPY_MODEL_ae9f9b07db744c9e8d3f3e74fd8032b5",
              "IPY_MODEL_5550f041e3c547fcb1903b6ba42a8015"
            ]
          }
        },
        "22aac8069b07433284eebcb15af922cc": {
          "model_module": "@jupyter-widgets/base",
          "model_name": "LayoutModel",
          "state": {
            "_view_name": "LayoutView",
            "grid_template_rows": null,
            "right": null,
            "justify_content": null,
            "_view_module": "@jupyter-widgets/base",
            "overflow": null,
            "_model_module_version": "1.2.0",
            "_view_count": null,
            "flex_flow": null,
            "width": null,
            "min_width": null,
            "border": null,
            "align_items": null,
            "bottom": null,
            "_model_module": "@jupyter-widgets/base",
            "top": null,
            "grid_column": null,
            "overflow_y": null,
            "overflow_x": null,
            "grid_auto_flow": null,
            "grid_area": null,
            "grid_template_columns": null,
            "flex": null,
            "_model_name": "LayoutModel",
            "justify_items": null,
            "grid_row": null,
            "max_height": null,
            "align_content": null,
            "visibility": null,
            "align_self": null,
            "height": null,
            "min_height": null,
            "padding": null,
            "grid_auto_rows": null,
            "grid_gap": null,
            "max_width": null,
            "order": null,
            "_view_module_version": "1.2.0",
            "grid_template_areas": null,
            "object_position": null,
            "object_fit": null,
            "grid_auto_columns": null,
            "margin": null,
            "display": null,
            "left": null
          }
        },
        "ae9f9b07db744c9e8d3f3e74fd8032b5": {
          "model_module": "@jupyter-widgets/controls",
          "model_name": "FloatProgressModel",
          "state": {
            "_view_name": "ProgressView",
            "style": "IPY_MODEL_f1b8a4ac86fd493b8ae3adcbee9245b5",
            "_dom_classes": [],
            "description": "",
            "_model_name": "FloatProgressModel",
            "bar_style": "info",
            "max": 1,
            "_view_module": "@jupyter-widgets/controls",
            "_model_module_version": "1.5.0",
            "value": 1,
            "_view_count": null,
            "_view_module_version": "1.5.0",
            "orientation": "horizontal",
            "min": 0,
            "description_tooltip": null,
            "_model_module": "@jupyter-widgets/controls",
            "layout": "IPY_MODEL_a255f5e5c9a24f01802ca233ffffb9ad"
          }
        },
        "5550f041e3c547fcb1903b6ba42a8015": {
          "model_module": "@jupyter-widgets/controls",
          "model_name": "HTMLModel",
          "state": {
            "_view_name": "HTMLView",
            "style": "IPY_MODEL_66b99293bd5847899c6298a72d38768a",
            "_dom_classes": [],
            "description": "",
            "_model_name": "HTMLModel",
            "placeholder": "​",
            "_view_module": "@jupyter-widgets/controls",
            "_model_module_version": "1.5.0",
            "value": " 6586368/? [00:21&lt;00:00, 1128479.33it/s]",
            "_view_count": null,
            "_view_module_version": "1.5.0",
            "description_tooltip": null,
            "_model_module": "@jupyter-widgets/controls",
            "layout": "IPY_MODEL_306d6318d4dd46c99ea440939e1dbe63"
          }
        },
        "f1b8a4ac86fd493b8ae3adcbee9245b5": {
          "model_module": "@jupyter-widgets/controls",
          "model_name": "ProgressStyleModel",
          "state": {
            "_view_name": "StyleView",
            "_model_name": "ProgressStyleModel",
            "description_width": "initial",
            "_view_module": "@jupyter-widgets/base",
            "_model_module_version": "1.5.0",
            "_view_count": null,
            "_view_module_version": "1.2.0",
            "bar_color": null,
            "_model_module": "@jupyter-widgets/controls"
          }
        },
        "a255f5e5c9a24f01802ca233ffffb9ad": {
          "model_module": "@jupyter-widgets/base",
          "model_name": "LayoutModel",
          "state": {
            "_view_name": "LayoutView",
            "grid_template_rows": null,
            "right": null,
            "justify_content": null,
            "_view_module": "@jupyter-widgets/base",
            "overflow": null,
            "_model_module_version": "1.2.0",
            "_view_count": null,
            "flex_flow": null,
            "width": null,
            "min_width": null,
            "border": null,
            "align_items": null,
            "bottom": null,
            "_model_module": "@jupyter-widgets/base",
            "top": null,
            "grid_column": null,
            "overflow_y": null,
            "overflow_x": null,
            "grid_auto_flow": null,
            "grid_area": null,
            "grid_template_columns": null,
            "flex": null,
            "_model_name": "LayoutModel",
            "justify_items": null,
            "grid_row": null,
            "max_height": null,
            "align_content": null,
            "visibility": null,
            "align_self": null,
            "height": null,
            "min_height": null,
            "padding": null,
            "grid_auto_rows": null,
            "grid_gap": null,
            "max_width": null,
            "order": null,
            "_view_module_version": "1.2.0",
            "grid_template_areas": null,
            "object_position": null,
            "object_fit": null,
            "grid_auto_columns": null,
            "margin": null,
            "display": null,
            "left": null
          }
        },
        "66b99293bd5847899c6298a72d38768a": {
          "model_module": "@jupyter-widgets/controls",
          "model_name": "DescriptionStyleModel",
          "state": {
            "_view_name": "StyleView",
            "_model_name": "DescriptionStyleModel",
            "description_width": "",
            "_view_module": "@jupyter-widgets/base",
            "_model_module_version": "1.5.0",
            "_view_count": null,
            "_view_module_version": "1.2.0",
            "_model_module": "@jupyter-widgets/controls"
          }
        },
        "306d6318d4dd46c99ea440939e1dbe63": {
          "model_module": "@jupyter-widgets/base",
          "model_name": "LayoutModel",
          "state": {
            "_view_name": "LayoutView",
            "grid_template_rows": null,
            "right": null,
            "justify_content": null,
            "_view_module": "@jupyter-widgets/base",
            "overflow": null,
            "_model_module_version": "1.2.0",
            "_view_count": null,
            "flex_flow": null,
            "width": null,
            "min_width": null,
            "border": null,
            "align_items": null,
            "bottom": null,
            "_model_module": "@jupyter-widgets/base",
            "top": null,
            "grid_column": null,
            "overflow_y": null,
            "overflow_x": null,
            "grid_auto_flow": null,
            "grid_area": null,
            "grid_template_columns": null,
            "flex": null,
            "_model_name": "LayoutModel",
            "justify_items": null,
            "grid_row": null,
            "max_height": null,
            "align_content": null,
            "visibility": null,
            "align_self": null,
            "height": null,
            "min_height": null,
            "padding": null,
            "grid_auto_rows": null,
            "grid_gap": null,
            "max_width": null,
            "order": null,
            "_view_module_version": "1.2.0",
            "grid_template_areas": null,
            "object_position": null,
            "object_fit": null,
            "grid_auto_columns": null,
            "margin": null,
            "display": null,
            "left": null
          }
        },
        "8fd6406aaf3442619aff33aa6868f41c": {
          "model_module": "@jupyter-widgets/controls",
          "model_name": "HBoxModel",
          "state": {
            "_view_name": "HBoxView",
            "_dom_classes": [],
            "_model_name": "HBoxModel",
            "_view_module": "@jupyter-widgets/controls",
            "_model_module_version": "1.5.0",
            "_view_count": null,
            "_view_module_version": "1.5.0",
            "box_style": "",
            "layout": "IPY_MODEL_2e20940bbbcf4927a49eee9f410cb697",
            "_model_module": "@jupyter-widgets/controls",
            "children": [
              "IPY_MODEL_3ba64f833a3445cfbc4778cede51018c",
              "IPY_MODEL_e5f66d850af94f7ebc8fb7ed538b2cc0"
            ]
          }
        },
        "2e20940bbbcf4927a49eee9f410cb697": {
          "model_module": "@jupyter-widgets/base",
          "model_name": "LayoutModel",
          "state": {
            "_view_name": "LayoutView",
            "grid_template_rows": null,
            "right": null,
            "justify_content": null,
            "_view_module": "@jupyter-widgets/base",
            "overflow": null,
            "_model_module_version": "1.2.0",
            "_view_count": null,
            "flex_flow": null,
            "width": null,
            "min_width": null,
            "border": null,
            "align_items": null,
            "bottom": null,
            "_model_module": "@jupyter-widgets/base",
            "top": null,
            "grid_column": null,
            "overflow_y": null,
            "overflow_x": null,
            "grid_auto_flow": null,
            "grid_area": null,
            "grid_template_columns": null,
            "flex": null,
            "_model_name": "LayoutModel",
            "justify_items": null,
            "grid_row": null,
            "max_height": null,
            "align_content": null,
            "visibility": null,
            "align_self": null,
            "height": null,
            "min_height": null,
            "padding": null,
            "grid_auto_rows": null,
            "grid_gap": null,
            "max_width": null,
            "order": null,
            "_view_module_version": "1.2.0",
            "grid_template_areas": null,
            "object_position": null,
            "object_fit": null,
            "grid_auto_columns": null,
            "margin": null,
            "display": null,
            "left": null
          }
        },
        "3ba64f833a3445cfbc4778cede51018c": {
          "model_module": "@jupyter-widgets/controls",
          "model_name": "FloatProgressModel",
          "state": {
            "_view_name": "ProgressView",
            "style": "IPY_MODEL_8f3b93b001884e43b3a2910808e9ba9e",
            "_dom_classes": [],
            "description": "",
            "_model_name": "FloatProgressModel",
            "bar_style": "success",
            "max": 1,
            "_view_module": "@jupyter-widgets/controls",
            "_model_module_version": "1.5.0",
            "value": 1,
            "_view_count": null,
            "_view_module_version": "1.5.0",
            "orientation": "horizontal",
            "min": 0,
            "description_tooltip": null,
            "_model_module": "@jupyter-widgets/controls",
            "layout": "IPY_MODEL_a9a12f27eb6c47ed8fb19458678fc3d5"
          }
        },
        "e5f66d850af94f7ebc8fb7ed538b2cc0": {
          "model_module": "@jupyter-widgets/controls",
          "model_name": "HTMLModel",
          "state": {
            "_view_name": "HTMLView",
            "style": "IPY_MODEL_526030aaa02243a684e0e1bb2b698c9f",
            "_dom_classes": [],
            "description": "",
            "_model_name": "HTMLModel",
            "placeholder": "​",
            "_view_module": "@jupyter-widgets/controls",
            "_model_module_version": "1.5.0",
            "value": " 1835008/? [00:01&lt;00:00, 919767.84it/s]",
            "_view_count": null,
            "_view_module_version": "1.5.0",
            "description_tooltip": null,
            "_model_module": "@jupyter-widgets/controls",
            "layout": "IPY_MODEL_3a2e44bd70ba4313bee19dcdb47718b0"
          }
        },
        "8f3b93b001884e43b3a2910808e9ba9e": {
          "model_module": "@jupyter-widgets/controls",
          "model_name": "ProgressStyleModel",
          "state": {
            "_view_name": "StyleView",
            "_model_name": "ProgressStyleModel",
            "description_width": "initial",
            "_view_module": "@jupyter-widgets/base",
            "_model_module_version": "1.5.0",
            "_view_count": null,
            "_view_module_version": "1.2.0",
            "bar_color": null,
            "_model_module": "@jupyter-widgets/controls"
          }
        },
        "a9a12f27eb6c47ed8fb19458678fc3d5": {
          "model_module": "@jupyter-widgets/base",
          "model_name": "LayoutModel",
          "state": {
            "_view_name": "LayoutView",
            "grid_template_rows": null,
            "right": null,
            "justify_content": null,
            "_view_module": "@jupyter-widgets/base",
            "overflow": null,
            "_model_module_version": "1.2.0",
            "_view_count": null,
            "flex_flow": null,
            "width": null,
            "min_width": null,
            "border": null,
            "align_items": null,
            "bottom": null,
            "_model_module": "@jupyter-widgets/base",
            "top": null,
            "grid_column": null,
            "overflow_y": null,
            "overflow_x": null,
            "grid_auto_flow": null,
            "grid_area": null,
            "grid_template_columns": null,
            "flex": null,
            "_model_name": "LayoutModel",
            "justify_items": null,
            "grid_row": null,
            "max_height": null,
            "align_content": null,
            "visibility": null,
            "align_self": null,
            "height": null,
            "min_height": null,
            "padding": null,
            "grid_auto_rows": null,
            "grid_gap": null,
            "max_width": null,
            "order": null,
            "_view_module_version": "1.2.0",
            "grid_template_areas": null,
            "object_position": null,
            "object_fit": null,
            "grid_auto_columns": null,
            "margin": null,
            "display": null,
            "left": null
          }
        },
        "526030aaa02243a684e0e1bb2b698c9f": {
          "model_module": "@jupyter-widgets/controls",
          "model_name": "DescriptionStyleModel",
          "state": {
            "_view_name": "StyleView",
            "_model_name": "DescriptionStyleModel",
            "description_width": "",
            "_view_module": "@jupyter-widgets/base",
            "_model_module_version": "1.5.0",
            "_view_count": null,
            "_view_module_version": "1.2.0",
            "_model_module": "@jupyter-widgets/controls"
          }
        },
        "3a2e44bd70ba4313bee19dcdb47718b0": {
          "model_module": "@jupyter-widgets/base",
          "model_name": "LayoutModel",
          "state": {
            "_view_name": "LayoutView",
            "grid_template_rows": null,
            "right": null,
            "justify_content": null,
            "_view_module": "@jupyter-widgets/base",
            "overflow": null,
            "_model_module_version": "1.2.0",
            "_view_count": null,
            "flex_flow": null,
            "width": null,
            "min_width": null,
            "border": null,
            "align_items": null,
            "bottom": null,
            "_model_module": "@jupyter-widgets/base",
            "top": null,
            "grid_column": null,
            "overflow_y": null,
            "overflow_x": null,
            "grid_auto_flow": null,
            "grid_area": null,
            "grid_template_columns": null,
            "flex": null,
            "_model_name": "LayoutModel",
            "justify_items": null,
            "grid_row": null,
            "max_height": null,
            "align_content": null,
            "visibility": null,
            "align_self": null,
            "height": null,
            "min_height": null,
            "padding": null,
            "grid_auto_rows": null,
            "grid_gap": null,
            "max_width": null,
            "order": null,
            "_view_module_version": "1.2.0",
            "grid_template_areas": null,
            "object_position": null,
            "object_fit": null,
            "grid_auto_columns": null,
            "margin": null,
            "display": null,
            "left": null
          }
        }
      }
    }
  },
  "cells": [
    {
      "cell_type": "markdown",
      "metadata": {
        "id": "view-in-github",
        "colab_type": "text"
      },
      "source": [
        "<a href=\"https://colab.research.google.com/github/cerezamo/dl_ensae2020/blob/master/USPS_MNIST_GOOD.ipynb\" target=\"_parent\"><img src=\"https://colab.research.google.com/assets/colab-badge.svg\" alt=\"Open In Colab\"/></a>"
      ]
    },
    {
      "cell_type": "markdown",
      "metadata": {
        "id": "d3WozZiVqzTe",
        "colab_type": "text"
      },
      "source": [
        "# **Deep Learning - ENSAE 2020** "
      ]
    },
    {
      "cell_type": "markdown",
      "metadata": {
        "id": "TA26UtpSZSrk",
        "colab_type": "text"
      },
      "source": [
        "## **Cycle-GANs application** : from MNIST to USPS "
      ]
    },
    {
      "cell_type": "markdown",
      "metadata": {
        "id": "ALiFm5zLOqV9",
        "colab_type": "text"
      },
      "source": [
        "In this notebook we undertake an Image-to-Image translation using the Cycle-GANs architecture. The first section uses a simple architecture proposed in the Cycle-GAN introductory [paper](https://arxiv.org/pdf/1703.10593.pdf) and its Pytorch implementation in the following [github](https://github.com/junyanz/pytorch-CycleGAN-and-pix2pix). The task is to translate from USPS to MNIST. Section 2 proposes improvements based on [(Martin Arjovsky et al., 2017)]() and computes a Wasserstein Cycle-GAN on the same task."
      ]
    },
    {
      "cell_type": "markdown",
      "metadata": {
        "id": "0Nzv4stxsPBE",
        "colab_type": "text"
      },
      "source": [
        "This code is adapted from [yunjey](https://github.com/yunjey/) and the assignment proposed. "
      ]
    },
    {
      "cell_type": "markdown",
      "metadata": {
        "id": "l11pGx3YrZ33",
        "colab_type": "text"
      },
      "source": [
        "#### Import packages "
      ]
    },
    {
      "cell_type": "code",
      "metadata": {
        "id": "fo2xoAWXbQNk",
        "colab_type": "code",
        "colab": {}
      },
      "source": [
        "import torch\n",
        "import torch.nn as nn\n",
        "from torch.autograd import Variable\n",
        "from torch import optim\n",
        "import torchvision.utils as utils\n",
        "import torch.nn.functional as F\n",
        "import torch.utils as tutils\n",
        "from torchvision import datasets\n",
        "from torchvision import transforms\n",
        "import numpy as np\n",
        "from torchvision import datasets, models, transforms\n",
        "import os "
      ],
      "execution_count": 0,
      "outputs": []
    },
    {
      "cell_type": "markdown",
      "metadata": {
        "id": "MAdzPsjnZXdO",
        "colab_type": "text"
      },
      "source": [
        "### **Preparing the data** "
      ]
    },
    {
      "cell_type": "code",
      "metadata": {
        "id": "bXtvtBLSgnUm",
        "colab_type": "code",
        "colab": {}
      },
      "source": [
        "PATH_DATA = './data/'\n",
        "RESULTS_PATH = './results/'"
      ],
      "execution_count": 0,
      "outputs": []
    },
    {
      "cell_type": "code",
      "metadata": {
        "id": "ZbV6KZFTg3JH",
        "colab_type": "code",
        "colab": {}
      },
      "source": [
        "os.makedirs(PATH_DATA, exist_ok=True)\n",
        "os.makedirs(RESULTS_PATH, exist_ok=True)"
      ],
      "execution_count": 0,
      "outputs": []
    },
    {
      "cell_type": "code",
      "metadata": {
        "id": "lbwxuXVXYes5",
        "colab_type": "code",
        "colab": {}
      },
      "source": [
        "device = torch.device(\"cuda:0\" if torch.cuda.is_available() else \"cpu\")\n",
        "image_size = 32\n",
        "batch_size = 64"
      ],
      "execution_count": 0,
      "outputs": []
    },
    {
      "cell_type": "markdown",
      "metadata": {
        "id": "VkJhQlnyd1pf",
        "colab_type": "text"
      },
      "source": [
        "#### Download and construct loaders for USPS and Mnist"
      ]
    },
    {
      "cell_type": "code",
      "metadata": {
        "id": "zMntxDhzaCsX",
        "colab_type": "code",
        "colab": {}
      },
      "source": [
        "def get_loader_mnist(image_size,batch_size):\n",
        "    transform = transforms.Compose([\n",
        "                    transforms.CenterCrop(22),\n",
        "                    transforms.Resize(image_size),\n",
        "                    transforms.ToTensor(),\n",
        "                    transforms.Normalize((0.5,), (0.5,))\n",
        "                    ])\n",
        "\n",
        "    mnist_train = datasets.MNIST(root=PATH_DATA,\n",
        "                                 download=True,\n",
        "                                 transform=transform,\n",
        "                                 train=True)\n",
        "    \n",
        "    mnist_test = datasets.MNIST(root=PATH_DATA,\n",
        "                                download=True,\n",
        "                                transform=transform,\n",
        "                                train=False)\n",
        "\n",
        "    train_loader = torch.utils.data.DataLoader(dataset=mnist_train,\n",
        "                                               batch_size=batch_size,\n",
        "                                               shuffle=True)\n",
        "\n",
        "    test_loader = torch.utils.data.DataLoader(dataset=mnist_test,\n",
        "                                               batch_size=batch_size,\n",
        "                                               shuffle=False)\n",
        "\n",
        "    return train_loader, test_loader "
      ],
      "execution_count": 0,
      "outputs": []
    },
    {
      "cell_type": "code",
      "metadata": {
        "id": "EBjkiheLeG5B",
        "colab_type": "code",
        "colab": {}
      },
      "source": [
        "def get_loader_usps(image_size,batch_size):\n",
        "    transform = transforms.Compose([\n",
        "                    transforms.Resize(image_size),\n",
        "                    transforms.ToTensor(),\n",
        "                    transforms.Normalize((0.5,), (0.5,))\n",
        "                    ])\n",
        "\n",
        "    usps_train = datasets.USPS(root=PATH_DATA,\n",
        "                               download=True,\n",
        "                               transform=transform,\n",
        "                               train=True)\n",
        "    \n",
        "    usps_test = datasets.USPS(root=PATH_DATA, \n",
        "                              download=True, \n",
        "                              transform=transform, \n",
        "                              train=False)\n",
        "\n",
        "    train_loader = torch.utils.data.DataLoader(dataset=usps_train,\n",
        "                                                batch_size=batch_size,\n",
        "                                                shuffle=True)\n",
        "\n",
        "    test_loader = torch.utils.data.DataLoader(dataset=usps_test,\n",
        "                                              batch_size=batch_size,\n",
        "                                              shuffle=False)\n",
        "\n",
        "    return train_loader, test_loader "
      ],
      "execution_count": 0,
      "outputs": []
    },
    {
      "cell_type": "code",
      "metadata": {
        "id": "NS9TtewDd0-7",
        "colab_type": "code",
        "colab": {
          "base_uri": "https://localhost:8080/",
          "height": 391,
          "referenced_widgets": [
            "10ad7e85604e45828b53951cec9de8aa",
            "316149af3f9a4130941a9bf347b15b16",
            "e94836c15c5642b1b8916e5ab4502f1b",
            "a7093e2a24da4bf0ba3d3f3c091ce46d",
            "a4cda5d6f8a2489cb85624c38d97ccdb",
            "221a2d282b23457d9408661acc9d1572",
            "c0f4ffc99c58403a933852fddb9e45ab",
            "c3871233637d4621a3c0e21f00f74abc",
            "69899fb42e8f4da983c91e46041048bc",
            "5f957f4fe24249c28b993010d91b82a4",
            "9c999f77d2be434181576320bbae42f6",
            "d97853b93c09467db78ee838f2209610",
            "429d91ada1a74a07ab2be9d1bc1ee6a0",
            "2e8604ddafdc46d8b2189c912e723384",
            "462a78e42f984124bedda86d210590dc",
            "cd2bb6fca37e4db89d63d47be3295ce8",
            "2d0ab07c99914bd69a54ac04383d344d",
            "b149d49d00ef47ca8b7665127dabe506",
            "d07278b4ff784368a9e8a307682e7451",
            "302652842fc14482baea761ba46655df",
            "eb03263a31f04642a0896a5e06457db1",
            "813f2d92354741d681c4a5e4e75c9aba",
            "7c3bf9f924684f2b8514abdb5d24473f",
            "69bcb69c771a47b4a8fab5ea4ed1cc60",
            "cab711bc3b884d7ca8c3bafe88733a7d",
            "ea4f9df882ab4183bb25b03e049bd5db",
            "d9cce682d52e47939755665c130b4daa",
            "dc44ceaa13f84c30985b13531752aa5b",
            "f817f9cef22a45b182c9168f8c73a7de",
            "b36e140d99b746648f32c5a335d62013",
            "2d64e5158dca4d2bbc6bc92307aac32f",
            "fe4425e294214c93a3696e883f84a921"
          ]
        },
        "outputId": "020368bb-383c-4924-bfd1-7fe4060810ab"
      },
      "source": [
        "M_train_loader, M_test_loader = get_loader_mnist(image_size, batch_size)"
      ],
      "execution_count": 7,
      "outputs": [
        {
          "output_type": "stream",
          "text": [
            "Downloading http://yann.lecun.com/exdb/mnist/train-images-idx3-ubyte.gz to ./data/MNIST/raw/train-images-idx3-ubyte.gz\n"
          ],
          "name": "stdout"
        },
        {
          "output_type": "display_data",
          "data": {
            "application/vnd.jupyter.widget-view+json": {
              "model_id": "10ad7e85604e45828b53951cec9de8aa",
              "version_minor": 0,
              "version_major": 2
            },
            "text/plain": [
              "HBox(children=(FloatProgress(value=1.0, bar_style='info', max=1.0), HTML(value='')))"
            ]
          },
          "metadata": {
            "tags": []
          }
        },
        {
          "output_type": "stream",
          "text": [
            "Extracting ./data/MNIST/raw/train-images-idx3-ubyte.gz to ./data/MNIST/raw\n",
            "Downloading http://yann.lecun.com/exdb/mnist/train-labels-idx1-ubyte.gz to ./data/MNIST/raw/train-labels-idx1-ubyte.gz\n"
          ],
          "name": "stdout"
        },
        {
          "output_type": "display_data",
          "data": {
            "application/vnd.jupyter.widget-view+json": {
              "model_id": "69899fb42e8f4da983c91e46041048bc",
              "version_minor": 0,
              "version_major": 2
            },
            "text/plain": [
              "HBox(children=(FloatProgress(value=1.0, bar_style='info', max=1.0), HTML(value='')))"
            ]
          },
          "metadata": {
            "tags": []
          }
        },
        {
          "output_type": "stream",
          "text": [
            "Extracting ./data/MNIST/raw/train-labels-idx1-ubyte.gz to ./data/MNIST/raw\n",
            "Downloading http://yann.lecun.com/exdb/mnist/t10k-images-idx3-ubyte.gz to ./data/MNIST/raw/t10k-images-idx3-ubyte.gz\n"
          ],
          "name": "stdout"
        },
        {
          "output_type": "display_data",
          "data": {
            "application/vnd.jupyter.widget-view+json": {
              "model_id": "2d0ab07c99914bd69a54ac04383d344d",
              "version_minor": 0,
              "version_major": 2
            },
            "text/plain": [
              "HBox(children=(FloatProgress(value=1.0, bar_style='info', max=1.0), HTML(value='')))"
            ]
          },
          "metadata": {
            "tags": []
          }
        },
        {
          "output_type": "stream",
          "text": [
            "Extracting ./data/MNIST/raw/t10k-images-idx3-ubyte.gz to ./data/MNIST/raw\n",
            "Downloading http://yann.lecun.com/exdb/mnist/t10k-labels-idx1-ubyte.gz to ./data/MNIST/raw/t10k-labels-idx1-ubyte.gz\n",
            "\n",
            "\n"
          ],
          "name": "stdout"
        },
        {
          "output_type": "display_data",
          "data": {
            "application/vnd.jupyter.widget-view+json": {
              "model_id": "cab711bc3b884d7ca8c3bafe88733a7d",
              "version_minor": 0,
              "version_major": 2
            },
            "text/plain": [
              "HBox(children=(FloatProgress(value=1.0, bar_style='info', max=1.0), HTML(value='')))"
            ]
          },
          "metadata": {
            "tags": []
          }
        },
        {
          "output_type": "stream",
          "text": [
            "Extracting ./data/MNIST/raw/t10k-labels-idx1-ubyte.gz to ./data/MNIST/raw\n",
            "Processing...\n",
            "Done!\n"
          ],
          "name": "stdout"
        },
        {
          "output_type": "stream",
          "text": [
            "/pytorch/torch/csrc/utils/tensor_numpy.cpp:141: UserWarning: The given NumPy array is not writeable, and PyTorch does not support non-writeable tensors. This means you can write to the underlying (supposedly non-writeable) NumPy array using the tensor. You may want to copy the array to protect its data or make it writeable before converting it to a tensor. This type of warning will be suppressed for the rest of this program.\n"
          ],
          "name": "stderr"
        }
      ]
    },
    {
      "cell_type": "code",
      "metadata": {
        "id": "PWVC0H3Oaijj",
        "colab_type": "code",
        "colab": {
          "base_uri": "https://localhost:8080/",
          "height": 133,
          "referenced_widgets": [
            "ad3d24c5a2574a3db4b5d5439cfc0b0f",
            "22aac8069b07433284eebcb15af922cc",
            "ae9f9b07db744c9e8d3f3e74fd8032b5",
            "5550f041e3c547fcb1903b6ba42a8015",
            "f1b8a4ac86fd493b8ae3adcbee9245b5",
            "a255f5e5c9a24f01802ca233ffffb9ad",
            "66b99293bd5847899c6298a72d38768a",
            "306d6318d4dd46c99ea440939e1dbe63",
            "8fd6406aaf3442619aff33aa6868f41c",
            "2e20940bbbcf4927a49eee9f410cb697",
            "3ba64f833a3445cfbc4778cede51018c",
            "e5f66d850af94f7ebc8fb7ed538b2cc0",
            "8f3b93b001884e43b3a2910808e9ba9e",
            "a9a12f27eb6c47ed8fb19458678fc3d5",
            "526030aaa02243a684e0e1bb2b698c9f",
            "3a2e44bd70ba4313bee19dcdb47718b0"
          ]
        },
        "outputId": "52b0b79f-0131-4632-be24-aa3861825656"
      },
      "source": [
        "U_train_loader, U_test_loader = get_loader_usps(image_size, batch_size)"
      ],
      "execution_count": 8,
      "outputs": [
        {
          "output_type": "stream",
          "text": [
            "Downloading https://www.csie.ntu.edu.tw/~cjlin/libsvmtools/datasets/multiclass/usps.bz2 to ./data/usps.bz2\n"
          ],
          "name": "stdout"
        },
        {
          "output_type": "display_data",
          "data": {
            "application/vnd.jupyter.widget-view+json": {
              "model_id": "ad3d24c5a2574a3db4b5d5439cfc0b0f",
              "version_minor": 0,
              "version_major": 2
            },
            "text/plain": [
              "HBox(children=(FloatProgress(value=1.0, bar_style='info', max=1.0), HTML(value='')))"
            ]
          },
          "metadata": {
            "tags": []
          }
        },
        {
          "output_type": "stream",
          "text": [
            "Downloading https://www.csie.ntu.edu.tw/~cjlin/libsvmtools/datasets/multiclass/usps.t.bz2 to ./data/usps.t.bz2\n"
          ],
          "name": "stdout"
        },
        {
          "output_type": "display_data",
          "data": {
            "application/vnd.jupyter.widget-view+json": {
              "model_id": "8fd6406aaf3442619aff33aa6868f41c",
              "version_minor": 0,
              "version_major": 2
            },
            "text/plain": [
              "HBox(children=(FloatProgress(value=1.0, bar_style='info', max=1.0), HTML(value='')))"
            ]
          },
          "metadata": {
            "tags": []
          }
        },
        {
          "output_type": "stream",
          "text": [
            "\n"
          ],
          "name": "stdout"
        }
      ]
    },
    {
      "cell_type": "code",
      "metadata": {
        "id": "dc6q_rHdlhUd",
        "colab_type": "code",
        "colab": {}
      },
      "source": [
        "examples_mnist = enumerate(M_train_loader)\n",
        "batch_idx, (example_data_mnist, example_targets_mnist) = next(examples_mnist)\n",
        "\n",
        "examples_usps = enumerate(U_train_loader)\n",
        "batch_idx, (example_data_usps, example_targets_usps) = next(examples_usps)"
      ],
      "execution_count": 0,
      "outputs": []
    },
    {
      "cell_type": "code",
      "metadata": {
        "id": "vUMuqDB5lo9z",
        "colab_type": "code",
        "outputId": "7f6e08e4-896a-4d10-b526-b3ef728c6f70",
        "colab": {
          "base_uri": "https://localhost:8080/",
          "height": 34
        }
      },
      "source": [
        "example_data_usps.shape, example_data_mnist.shape # 64 per batch, size 32x32  # 64 per batch, size 32x32 "
      ],
      "execution_count": 10,
      "outputs": [
        {
          "output_type": "execute_result",
          "data": {
            "text/plain": [
              "(torch.Size([64, 1, 32, 32]), torch.Size([64, 1, 32, 32]))"
            ]
          },
          "metadata": {
            "tags": []
          },
          "execution_count": 10
        }
      ]
    },
    {
      "cell_type": "markdown",
      "metadata": {
        "id": "QG7gBsX9lZsK",
        "colab_type": "text"
      },
      "source": [
        "#### Visualizing both collections"
      ]
    },
    {
      "cell_type": "code",
      "metadata": {
        "id": "eqC9UChoj11e",
        "colab_type": "code",
        "colab": {}
      },
      "source": [
        "import matplotlib.pyplot as plt"
      ],
      "execution_count": 0,
      "outputs": []
    },
    {
      "cell_type": "code",
      "metadata": {
        "id": "kO11V_IXE9j2",
        "colab_type": "code",
        "colab": {}
      },
      "source": [
        "list_label = []\n",
        "list_images = []\n",
        "\n",
        "while len(list_label)<10:\n",
        "    for i in range(len(example_targets_mnist)):\n",
        "        if example_targets_mnist[i].item() in list_label:\n",
        "            pass\n",
        "        else:\n",
        "            list_label.append(example_targets_mnist[i].item())\n",
        "            list_images.append(example_data_mnist[i])\n",
        "\n",
        "list_label,list_images = zip(*sorted(zip(list_label,list_images)))"
      ],
      "execution_count": 0,
      "outputs": []
    },
    {
      "cell_type": "code",
      "metadata": {
        "id": "n46JB-OHl4TU",
        "colab_type": "code",
        "outputId": "a47914db-d33b-4fa8-b085-be0c44c4152d",
        "colab": {
          "base_uri": "https://localhost:8080/",
          "height": 178
        }
      },
      "source": [
        "print(\"MNIST Collection :\")\n",
        "\n",
        "fig = plt.figure(figsize=(20,12))\n",
        "for i in range(10):\n",
        "    plt.subplot(1,10,i+1)\n",
        "    plt.tight_layout()\n",
        "    plt.imshow(list_images[i][0],cmap='gray', interpolation='none')\n",
        "    plt.title(\"Labels: {}\".format(list_label[i]))\n",
        "    plt.xticks([])\n",
        "    plt.yticks([])"
      ],
      "execution_count": 20,
      "outputs": [
        {
          "output_type": "stream",
          "text": [
            "MNIST Collection :\n"
          ],
          "name": "stdout"
        },
        {
          "output_type": "display_data",
          "data": {
            "image/png": "[encoded data removed]",
            "text/plain": [
              "<Figure size 1440x864 with 10 Axes>"
            ]
          },
          "metadata": {
            "tags": []
          }
        }
      ]
    },
    {
      "cell_type": "code",
      "metadata": {
        "id": "-BV-63YrIWk-",
        "colab_type": "code",
        "colab": {}
      },
      "source": [
        "list_label = []\n",
        "list_images = []\n",
        "\n",
        "while len(list_label)<10:\n",
        "    for i in range(len(example_targets_usps)):\n",
        "        if example_targets_usps[i].item() in list_label:\n",
        "            pass\n",
        "        else:\n",
        "            list_label.append(example_targets_usps[i].item())\n",
        "            list_images.append(example_data_usps[i])\n",
        "\n",
        "list_label,list_images = zip(*sorted(zip(list_label,list_images)))"
      ],
      "execution_count": 0,
      "outputs": []
    },
    {
      "cell_type": "code",
      "metadata": {
        "id": "qn0disVBmcT-",
        "colab_type": "code",
        "outputId": "b0e8aa33-104f-42e5-e1be-bc460c01028b",
        "colab": {
          "base_uri": "https://localhost:8080/",
          "height": 178
        }
      },
      "source": [
        "print(\"USPS Collection :\")\n",
        "\n",
        "fig = plt.figure(figsize=(20,12))\n",
        "for i in range(10):\n",
        "    plt.subplot(1,10,i+1)\n",
        "    plt.tight_layout()\n",
        "    plt.imshow(list_images[i][0],cmap='gray', interpolation='none')\n",
        "    plt.title(\"Labels: {}\".format(list_label[i]))\n",
        "    plt.xticks([])\n",
        "    plt.yticks([])"
      ],
      "execution_count": 22,
      "outputs": [
        {
          "output_type": "stream",
          "text": [
            "USPS Collection :\n"
          ],
          "name": "stdout"
        },
        {
          "output_type": "display_data",
          "data": {
            "image/png": "[encoded data removed]",
            "text/plain": [
              "<Figure size 1440x864 with 10 Axes>"
            ]
          },
          "metadata": {
            "tags": []
          }
        }
      ]
    },
    {
      "cell_type": "markdown",
      "metadata": {
        "id": "HhDEfGGNDybx",
        "colab_type": "text"
      },
      "source": [
        "The USPS dataset consists of 7,291 training images and 2007 test images each of which is of the original size of 16x16. The MNIST dataset consists of 60 000 training images and 10 000 test images each of which is of the size 28x28. Both contains 10 categories (numbers from 0 to 9) and follow distinct distributions. "
      ]
    },
    {
      "cell_type": "markdown",
      "metadata": {
        "id": "enoQEznrZrMO",
        "colab_type": "text"
      },
      "source": [
        "### **Model Construction**"
      ]
    },
    {
      "cell_type": "markdown",
      "metadata": {
        "id": "q3YwAQFQZ36j",
        "colab_type": "text"
      },
      "source": [
        "Some helper functions"
      ]
    },
    {
      "cell_type": "code",
      "metadata": {
        "id": "6O_Sr4Eem6cq",
        "colab_type": "code",
        "colab": {}
      },
      "source": [
        "def deconv(c_in, c_out, k_size, stride=2, pad=1, batch_norm=True):\n",
        "    \"\"\"Custom deconvolutional layer \"\"\"\n",
        "    layers = []\n",
        "    layers.append(nn.ConvTranspose2d(c_in, c_out, k_size, stride, pad, bias=False))\n",
        "    if batch_norm:\n",
        "        layers.append(nn.BatchNorm2d(c_out))\n",
        "    return nn.Sequential(*layers)"
      ],
      "execution_count": 0,
      "outputs": []
    },
    {
      "cell_type": "code",
      "metadata": {
        "id": "iklOPXmIj8nF",
        "colab_type": "code",
        "colab": {}
      },
      "source": [
        "def conv(c_in, c_out, k_size, stride=2, pad=1, batch_norm=True):\n",
        "    \"\"\"Custom convolutional layer\"\"\"\n",
        "    layers = []\n",
        "    layers.append(nn.Conv2d(c_in, c_out, k_size, stride, pad, bias=False))\n",
        "    if batch_norm:\n",
        "        layers.append(nn.BatchNorm2d(c_out))\n",
        "    return nn.Sequential(*layers)"
      ],
      "execution_count": 0,
      "outputs": []
    },
    {
      "cell_type": "code",
      "metadata": {
        "id": "-v2W04iyj_FC",
        "colab_type": "code",
        "colab": {}
      },
      "source": [
        "def to_var(x):\n",
        "    \"\"\"Converts numpy to variable.\"\"\"\n",
        "    if torch.cuda.is_available():\n",
        "        x = x.cuda()\n",
        "    return Variable(x)"
      ],
      "execution_count": 0,
      "outputs": []
    },
    {
      "cell_type": "code",
      "metadata": {
        "id": "0r3W8w26a04O",
        "colab_type": "code",
        "colab": {}
      },
      "source": [
        "def to_data(x):\n",
        "    \"\"\"Converts variable to numpy.\"\"\"\n",
        "    if torch.cuda.is_available():\n",
        "        x = x.cpu()\n",
        "    return x.data.numpy()"
      ],
      "execution_count": 0,
      "outputs": []
    },
    {
      "cell_type": "markdown",
      "metadata": {
        "id": "lryI_Qeft8cV",
        "colab_type": "text"
      },
      "source": [
        "**Discriminator**\n",
        "\n",
        "The discriminator takes images and tries to predict if it is real of if it is fake. In this case the discriminator is just a network that search for features in the input. \n",
        "\n",
        "The network consist in a serie of convolutional layer. "
      ]
    },
    {
      "cell_type": "code",
      "metadata": {
        "id": "NKaAbO-Nm6fG",
        "colab_type": "code",
        "colab": {}
      },
      "source": [
        "class D_(nn.Module):\n",
        "    \"\"\"Discriminator for mnist.\"\"\"\n",
        "\n",
        "    def __init__(self, conv_dim=64, sigmoid_end=True):\n",
        "        super(D_, self).__init__()\n",
        "        self.sigmoid_end = sigmoid_end\n",
        "        self.conv1 = conv(1, conv_dim, 4, batch_norm=False)\n",
        "        self.conv2 = conv(conv_dim, conv_dim*2, 4)\n",
        "        self.conv3 = conv(conv_dim*2, conv_dim*4, 4)\n",
        "        n_out = 1\n",
        "        self.fc = conv(conv_dim*4, n_out, 4, 1, 0, False)\n",
        "\n",
        "    def forward(self, x):\n",
        "        out = F.leaky_relu(self.conv1(x), 0.05)   \n",
        "        out = F.leaky_relu(self.conv2(out), 0.05) \n",
        "        out = F.leaky_relu(self.conv3(out), 0.05)  \n",
        "        out = self.fc(out).squeeze()\n",
        "        if self.sigmoid_end:\n",
        "          out=torch.sigmoid(out)\n",
        "        return out"
      ],
      "execution_count": 0,
      "outputs": []
    },
    {
      "cell_type": "code",
      "metadata": {
        "id": "gNDFwwngakIS",
        "colab_type": "code",
        "outputId": "b5ac66ce-9188-4294-ed77-156d7df3cb23",
        "colab": {
          "base_uri": "https://localhost:8080/",
          "height": 295
        }
      },
      "source": [
        "D_M = D_()\n",
        "D_M.cuda() # This is our discriminator architecture"
      ],
      "execution_count": 32,
      "outputs": [
        {
          "output_type": "execute_result",
          "data": {
            "text/plain": [
              "D_(\n",
              "  (conv1): Sequential(\n",
              "    (0): Conv2d(1, 64, kernel_size=(4, 4), stride=(2, 2), padding=(1, 1), bias=False)\n",
              "  )\n",
              "  (conv2): Sequential(\n",
              "    (0): Conv2d(64, 128, kernel_size=(4, 4), stride=(2, 2), padding=(1, 1), bias=False)\n",
              "    (1): BatchNorm2d(128, eps=1e-05, momentum=0.1, affine=True, track_running_stats=True)\n",
              "  )\n",
              "  (conv3): Sequential(\n",
              "    (0): Conv2d(128, 256, kernel_size=(4, 4), stride=(2, 2), padding=(1, 1), bias=False)\n",
              "    (1): BatchNorm2d(256, eps=1e-05, momentum=0.1, affine=True, track_running_stats=True)\n",
              "  )\n",
              "  (fc): Sequential(\n",
              "    (0): Conv2d(256, 1, kernel_size=(4, 4), stride=(1, 1), bias=False)\n",
              "  )\n",
              ")"
            ]
          },
          "metadata": {
            "tags": []
          },
          "execution_count": 32
        }
      ]
    },
    {
      "cell_type": "markdown",
      "metadata": {
        "id": "nvc5JYiCfH0S",
        "colab_type": "text"
      },
      "source": [
        "An example of one batch passing through the Discriminator"
      ]
    },
    {
      "cell_type": "code",
      "metadata": {
        "id": "ejzKy83obwOw",
        "colab_type": "code",
        "colab": {}
      },
      "source": [
        "images_M, labels_M = iter(M_train_loader).next()\n",
        "images_M, labels_M = to_var(images_M), to_var(labels_M).long().squeeze()"
      ],
      "execution_count": 0,
      "outputs": []
    },
    {
      "cell_type": "code",
      "metadata": {
        "id": "1LQtA3SSbB0P",
        "colab_type": "code",
        "outputId": "1dbcfe56-2282-4ba2-ddd5-00274e726f94",
        "colab": {
          "base_uri": "https://localhost:8080/",
          "height": 34
        }
      },
      "source": [
        "print(\"Discriminator's output size : {}\".format(D_M(images_M).size()))"
      ],
      "execution_count": 40,
      "outputs": [
        {
          "output_type": "stream",
          "text": [
            "Discriminator's output size : torch.Size([64])\n"
          ],
          "name": "stdout"
        }
      ]
    },
    {
      "cell_type": "code",
      "metadata": {
        "id": "193YQGFkb2yf",
        "colab_type": "code",
        "outputId": "b31448ae-4538-4159-cb1a-4b9a0d916049",
        "colab": {
          "base_uri": "https://localhost:8080/",
          "height": 173
        }
      },
      "source": [
        "print(\"Discriminator's output overview :\")\n",
        "D_M(images_M)"
      ],
      "execution_count": 41,
      "outputs": [
        {
          "output_type": "stream",
          "text": [
            "Discriminator output overview :\n"
          ],
          "name": "stdout"
        },
        {
          "output_type": "execute_result",
          "data": {
            "text/plain": [
              "tensor([0.4103, 0.4825, 0.4207, 0.2892, 0.4368, 0.5203, 0.3950, 0.4991, 0.4312,\n",
              "        0.4392, 0.3355, 0.4101, 0.4290, 0.2897, 0.4596, 0.4469, 0.4835, 0.4223,\n",
              "        0.5134, 0.3482, 0.4791, 0.4040, 0.3247, 0.3515, 0.5241, 0.4531, 0.4466,\n",
              "        0.4403, 0.4049, 0.5460, 0.4431, 0.5038, 0.4330, 0.4270, 0.4177, 0.3228,\n",
              "        0.3731, 0.5130, 0.3751, 0.3913, 0.3975, 0.4164, 0.4888, 0.3798, 0.2644,\n",
              "        0.3963, 0.3802, 0.3339, 0.4369, 0.3420, 0.3328, 0.4502, 0.3600, 0.4299,\n",
              "        0.3825, 0.3950, 0.3563, 0.5308, 0.4300, 0.2953, 0.4217, 0.4029, 0.3122,\n",
              "        0.4196], device='cuda:0', grad_fn=<SigmoidBackward>)"
            ]
          },
          "metadata": {
            "tags": []
          },
          "execution_count": 41
        }
      ]
    },
    {
      "cell_type": "markdown",
      "metadata": {
        "id": "3SROYfqxu-m8",
        "colab_type": "text"
      },
      "source": [
        "#### Creating generators \n",
        "\n",
        "The Generator contains 3 relevants parts : \n",
        "\n",
        "\n",
        "1.   Encoding blocks : A convolution network that extract features from the input image \n",
        "\n",
        "2.   Residual blocks : \n",
        "\n",
        "3.   Decoding blocks : deconvolution layes work back the low-level features \n",
        "\n",
        "\n",
        "\n",
        "\n"
      ]
    },
    {
      "cell_type": "code",
      "metadata": {
        "id": "WU30ammS0vCP",
        "colab_type": "code",
        "colab": {}
      },
      "source": [
        "class G_(nn.Module):\n",
        "    \"\"\"Generator for transfering from mnist to usps\"\"\"\n",
        "    \n",
        "    def __init__(self, conv_dim=64):\n",
        "        super(G_, self).__init__()\n",
        "        # encoding blocks\n",
        "        self.conv1 = conv(1, conv_dim, 4)\n",
        "        self.conv2 = conv(conv_dim, conv_dim*2, 4)\n",
        "\n",
        "        # residual blocks\n",
        "        self.conv3 = conv(conv_dim*2, conv_dim*2, 3, 1, 1)\n",
        "        self.conv4 = conv(conv_dim*2, conv_dim*2, 3, 1, 1)\n",
        "\n",
        "        # decoding blocks\n",
        "        self.deconv1 = deconv(conv_dim*2, conv_dim, 4)\n",
        "        self.deconv2 = deconv(conv_dim, 1, 4, batch_norm=False)\n",
        "\n",
        "    def forward(self, x):\n",
        "        out = F.leaky_relu(self.conv1(x), 0.05)      # (?, 64, 16, 16)\n",
        "        out = F.leaky_relu(self.conv2(out), 0.05)    # (?, 128, 8, 8)\n",
        "\n",
        "        out = F.leaky_relu(self.conv3(out), 0.05)    # ( \" )\n",
        "        out = F.leaky_relu(self.conv4(out), 0.05)    # ( \" )\n",
        "\n",
        "        out = F.leaky_relu(self.deconv1(out), 0.05)  # (?, 64, 16, 16)\n",
        "        out = torch.tanh(self.deconv2(out))              # (?, 3, 32, 32)\n",
        "        return out\n"
      ],
      "execution_count": 0,
      "outputs": []
    },
    {
      "cell_type": "code",
      "metadata": {
        "id": "BA21BZb41Iyc",
        "colab_type": "code",
        "outputId": "9b0f2e4c-25af-4a0d-d67d-796be43f01c7",
        "colab": {
          "base_uri": "https://localhost:8080/",
          "height": 34
        }
      },
      "source": [
        "# Check number of parameters in the generator\n",
        "pytorch_total_params = sum(p.numel() for p in G_().parameters())\n",
        "print(\"Number of parameters in the Generator's Network : {}\".format(pytorch_total_params))"
      ],
      "execution_count": 43,
      "outputs": [
        {
          "output_type": "stream",
          "text": [
            "Number of parameters in the Generator's Network : 560128\n"
          ],
          "name": "stdout"
        }
      ]
    },
    {
      "cell_type": "markdown",
      "metadata": {
        "id": "w_bxYEIkPrMn",
        "colab_type": "text"
      },
      "source": [
        "#### Utility functions"
      ]
    },
    {
      "cell_type": "code",
      "metadata": {
        "id": "Pd6SynLQQTHG",
        "colab_type": "code",
        "colab": {}
      },
      "source": [
        "def print_models(G_MtoU, G_UtoM, D_M, D_U):\n",
        "    \"\"\"Prints model information for the generators and discriminators.\n",
        "    \"\"\"\n",
        "    \n",
        "    print(\"                 G_MtoU                \")\n",
        "    print(\"---------------------------------------\")\n",
        "    print(G_MtoU)\n",
        "    print(\"---------------------------------------\")\n",
        "\n",
        "    print(\"                 G_UtoM                \")\n",
        "    print(\"---------------------------------------\")\n",
        "    print(G_UtoM)\n",
        "    print(\"---------------------------------------\")\n",
        "\n",
        "    print(\"                  D_M                  \")\n",
        "    print(\"---------------------------------------\")\n",
        "    print(D_M)\n",
        "    print(\"---------------------------------------\")\n",
        "\n",
        "    print(\"                  D_U                  \")\n",
        "    print(\"---------------------------------------\")\n",
        "    print(D_U)\n",
        "    print(\"---------------------------------------\")"
      ],
      "execution_count": 0,
      "outputs": []
    },
    {
      "cell_type": "code",
      "metadata": {
        "id": "nxaFocJdV1V_",
        "colab_type": "code",
        "colab": {}
      },
      "source": [
        "def weights_init(m):\n",
        "    \"\"\"Initialization of model weights and biases\n",
        "    \"\"\"\n",
        "\n",
        "    classname = m.__class__.__name__\n",
        "\n",
        "    if classname.find('Conv') != -1:\n",
        "        m.weight.data.normal_(0.0, 0.02)\n",
        "\n",
        "    elif classname.find('BatchNorm') != -1:\n",
        "        m.weight.data.normal_(1.0, 0.02)\n",
        "        m.bias.data.fill_(0)"
      ],
      "execution_count": 0,
      "outputs": []
    },
    {
      "cell_type": "code",
      "metadata": {
        "id": "BXd4mpXsPqSF",
        "colab_type": "code",
        "colab": {}
      },
      "source": [
        "def create_model():\n",
        "    \"\"\"Instantiate models, initialize their parameters,\n",
        "    display their architecture, and send them to the GPU if available.\n",
        "    \"\"\"\n",
        "\n",
        "    G_MtoU = G_().apply(weights_init)\n",
        "    G_UtoM = G_().apply(weights_init)\n",
        "    D_M = D_().apply(weights_init)\n",
        "    D_U = D_().apply(weights_init)\n",
        "\n",
        "    print_models(G_MtoU, G_UtoM, D_M, D_U)\n",
        "\n",
        "    if torch.cuda.is_available():\n",
        "        G_MtoU.cuda()\n",
        "        G_UtoM.cuda()\n",
        "        D_M.cuda()\n",
        "        D_U.cuda()\n",
        "        print('Models moved to GPU.')\n",
        "\n",
        "    return G_MtoU, G_UtoM, D_M, D_U"
      ],
      "execution_count": 0,
      "outputs": []
    },
    {
      "cell_type": "code",
      "metadata": {
        "id": "A9Yt42NGm6mS",
        "colab_type": "code",
        "colab": {}
      },
      "source": [
        "def merge_images(sources, targets, k=10):\n",
        "    \"\"\"Creates a grid consisting of pairs of columns, where the first column in\n",
        "    each pair contains images source images and the second column in each pair\n",
        "    contains images generated by the CycleGAN from the corresponding images in\n",
        "    the first column.\n",
        "    \"\"\"\n",
        "\n",
        "    _, _, h, w = sources.shape\n",
        "    row = int(np.sqrt(64))\n",
        "    merged = np.zeros([3, row*h, row*w*2]) # 3\n",
        "\n",
        "    for idx, (s, t) in enumerate(zip(sources, targets)):\n",
        "        i = idx // row\n",
        "        j = idx % row\n",
        "        merged[:, i*h:(i+1)*h, (j*2)*h:(j*2+1)*h] = s\n",
        "        merged[:, i*h:(i+1)*h, (j*2+1)*h:(j*2+2)*h] = t\n",
        "        \n",
        "    return merged.transpose(1, 2, 0)"
      ],
      "execution_count": 0,
      "outputs": []
    },
    {
      "cell_type": "code",
      "metadata": {
        "id": "tAe8wnLPPqa8",
        "colab_type": "code",
        "colab": {}
      },
      "source": [
        "def save_samples(iteration, fixed_U, fixed_M, G_UtoM, G_MtoU, opt=''):\n",
        "    \"\"\"Saves samples from both generators M->U and U->M.\n",
        "    \"\"\"\n",
        "\n",
        "    import os\n",
        "    import imageio\n",
        "    fake_M = G_UtoM(fixed_U)\n",
        "    fake_U = G_MtoU(fixed_M)\n",
        "\n",
        "    M, fake_M = to_data(fixed_M), to_data(fake_M)\n",
        "    U, fake_U = to_data(fixed_U), to_data(fake_U)\n",
        "\n",
        "    merged = merge_images(M, fake_U)\n",
        "    path = os.path.join(RESULTS_PATH,\n",
        "                        'sample-{:06d}-M-U'.format(iteration) + opt + '.png')\n",
        "    imageio.imwrite(path, merged)\n",
        "    print('Saved {}'.format(path))\n",
        "\n",
        "    merged = merge_images(U, fake_M)\n",
        "    path = os.path.join(RESULTS_PATH,\n",
        "                        'sample-{:06d}-U-M'.format(iteration) + opt + '.png')\n",
        "    imageio.imwrite(path, merged)\n",
        "    print('Saved {}'.format(path))"
      ],
      "execution_count": 0,
      "outputs": []
    },
    {
      "cell_type": "markdown",
      "metadata": {
        "id": "uVvh5v9LvxXm",
        "colab_type": "text"
      },
      "source": [
        "#### Training loop"
      ]
    },
    {
      "cell_type": "code",
      "metadata": {
        "id": "oPeVcmkoJHIS",
        "colab_type": "code",
        "outputId": "59b36d3c-6835-4127-fff9-53ae951343b9",
        "colab": {
          "base_uri": "https://localhost:8080/",
          "height": 1000
        }
      },
      "source": [
        "G_MtoU, G_UtoM, D_M, D_U = create_model()"
      ],
      "execution_count": 46,
      "outputs": [
        {
          "output_type": "stream",
          "text": [
            "                 G_MtoU                \n",
            "---------------------------------------\n",
            "G_(\n",
            "  (conv1): Sequential(\n",
            "    (0): Conv2d(1, 64, kernel_size=(4, 4), stride=(2, 2), padding=(1, 1), bias=False)\n",
            "    (1): BatchNorm2d(64, eps=1e-05, momentum=0.1, affine=True, track_running_stats=True)\n",
            "  )\n",
            "  (conv2): Sequential(\n",
            "    (0): Conv2d(64, 128, kernel_size=(4, 4), stride=(2, 2), padding=(1, 1), bias=False)\n",
            "    (1): BatchNorm2d(128, eps=1e-05, momentum=0.1, affine=True, track_running_stats=True)\n",
            "  )\n",
            "  (conv3): Sequential(\n",
            "    (0): Conv2d(128, 128, kernel_size=(3, 3), stride=(1, 1), padding=(1, 1), bias=False)\n",
            "    (1): BatchNorm2d(128, eps=1e-05, momentum=0.1, affine=True, track_running_stats=True)\n",
            "  )\n",
            "  (conv4): Sequential(\n",
            "    (0): Conv2d(128, 128, kernel_size=(3, 3), stride=(1, 1), padding=(1, 1), bias=False)\n",
            "    (1): BatchNorm2d(128, eps=1e-05, momentum=0.1, affine=True, track_running_stats=True)\n",
            "  )\n",
            "  (deconv1): Sequential(\n",
            "    (0): ConvTranspose2d(128, 64, kernel_size=(4, 4), stride=(2, 2), padding=(1, 1), bias=False)\n",
            "    (1): BatchNorm2d(64, eps=1e-05, momentum=0.1, affine=True, track_running_stats=True)\n",
            "  )\n",
            "  (deconv2): Sequential(\n",
            "    (0): ConvTranspose2d(64, 1, kernel_size=(4, 4), stride=(2, 2), padding=(1, 1), bias=False)\n",
            "  )\n",
            ")\n",
            "---------------------------------------\n",
            "                 G_UtoM                \n",
            "---------------------------------------\n",
            "G_(\n",
            "  (conv1): Sequential(\n",
            "    (0): Conv2d(1, 64, kernel_size=(4, 4), stride=(2, 2), padding=(1, 1), bias=False)\n",
            "    (1): BatchNorm2d(64, eps=1e-05, momentum=0.1, affine=True, track_running_stats=True)\n",
            "  )\n",
            "  (conv2): Sequential(\n",
            "    (0): Conv2d(64, 128, kernel_size=(4, 4), stride=(2, 2), padding=(1, 1), bias=False)\n",
            "    (1): BatchNorm2d(128, eps=1e-05, momentum=0.1, affine=True, track_running_stats=True)\n",
            "  )\n",
            "  (conv3): Sequential(\n",
            "    (0): Conv2d(128, 128, kernel_size=(3, 3), stride=(1, 1), padding=(1, 1), bias=False)\n",
            "    (1): BatchNorm2d(128, eps=1e-05, momentum=0.1, affine=True, track_running_stats=True)\n",
            "  )\n",
            "  (conv4): Sequential(\n",
            "    (0): Conv2d(128, 128, kernel_size=(3, 3), stride=(1, 1), padding=(1, 1), bias=False)\n",
            "    (1): BatchNorm2d(128, eps=1e-05, momentum=0.1, affine=True, track_running_stats=True)\n",
            "  )\n",
            "  (deconv1): Sequential(\n",
            "    (0): ConvTranspose2d(128, 64, kernel_size=(4, 4), stride=(2, 2), padding=(1, 1), bias=False)\n",
            "    (1): BatchNorm2d(64, eps=1e-05, momentum=0.1, affine=True, track_running_stats=True)\n",
            "  )\n",
            "  (deconv2): Sequential(\n",
            "    (0): ConvTranspose2d(64, 1, kernel_size=(4, 4), stride=(2, 2), padding=(1, 1), bias=False)\n",
            "  )\n",
            ")\n",
            "---------------------------------------\n",
            "                  D_M                  \n",
            "---------------------------------------\n",
            "D_(\n",
            "  (conv1): Sequential(\n",
            "    (0): Conv2d(1, 64, kernel_size=(4, 4), stride=(2, 2), padding=(1, 1), bias=False)\n",
            "  )\n",
            "  (conv2): Sequential(\n",
            "    (0): Conv2d(64, 128, kernel_size=(4, 4), stride=(2, 2), padding=(1, 1), bias=False)\n",
            "    (1): BatchNorm2d(128, eps=1e-05, momentum=0.1, affine=True, track_running_stats=True)\n",
            "  )\n",
            "  (conv3): Sequential(\n",
            "    (0): Conv2d(128, 256, kernel_size=(4, 4), stride=(2, 2), padding=(1, 1), bias=False)\n",
            "    (1): BatchNorm2d(256, eps=1e-05, momentum=0.1, affine=True, track_running_stats=True)\n",
            "  )\n",
            "  (fc): Sequential(\n",
            "    (0): Conv2d(256, 1, kernel_size=(4, 4), stride=(1, 1), bias=False)\n",
            "  )\n",
            ")\n",
            "---------------------------------------\n",
            "                  D_U                  \n",
            "---------------------------------------\n",
            "D_(\n",
            "  (conv1): Sequential(\n",
            "    (0): Conv2d(1, 64, kernel_size=(4, 4), stride=(2, 2), padding=(1, 1), bias=False)\n",
            "  )\n",
            "  (conv2): Sequential(\n",
            "    (0): Conv2d(64, 128, kernel_size=(4, 4), stride=(2, 2), padding=(1, 1), bias=False)\n",
            "    (1): BatchNorm2d(128, eps=1e-05, momentum=0.1, affine=True, track_running_stats=True)\n",
            "  )\n",
            "  (conv3): Sequential(\n",
            "    (0): Conv2d(128, 256, kernel_size=(4, 4), stride=(2, 2), padding=(1, 1), bias=False)\n",
            "    (1): BatchNorm2d(256, eps=1e-05, momentum=0.1, affine=True, track_running_stats=True)\n",
            "  )\n",
            "  (fc): Sequential(\n",
            "    (0): Conv2d(256, 1, kernel_size=(4, 4), stride=(1, 1), bias=False)\n",
            "  )\n",
            ")\n",
            "---------------------------------------\n",
            "Models moved to GPU.\n"
          ],
          "name": "stdout"
        }
      ]
    },
    {
      "cell_type": "markdown",
      "metadata": {
        "id": "p1PpqId_mek2",
        "colab_type": "text"
      },
      "source": [
        "**Partie à retirer?**"
      ]
    },
    {
      "cell_type": "code",
      "metadata": {
        "id": "qERcXLngmXz0",
        "colab_type": "code",
        "colab": {}
      },
      "source": [
        "iter_M = iter(M_train_loader)\n",
        "iter_U = iter(U_train_loader)"
      ],
      "execution_count": 0,
      "outputs": []
    },
    {
      "cell_type": "code",
      "metadata": {
        "id": "iN1boKhPI8d5",
        "colab_type": "code",
        "colab": {}
      },
      "source": [
        "images_M, labels_M = iter_M.next()\n",
        "images_M, labels_M = to_var(images_M), to_var(labels_M).long().squeeze()"
      ],
      "execution_count": 0,
      "outputs": []
    },
    {
      "cell_type": "code",
      "metadata": {
        "id": "iAneiudOJEQ4",
        "colab_type": "code",
        "colab": {}
      },
      "source": [
        "# Compute the discriminator losses on real images\n",
        "out_M = D_M(images_M) # discriminator mnist true\n",
        "#D_M_loss = torch.mean((out_M-1)**2) "
      ],
      "execution_count": 0,
      "outputs": []
    },
    {
      "cell_type": "code",
      "metadata": {
        "id": "iw8qWxbcJP8Z",
        "colab_type": "code",
        "outputId": "c5b59e0a-4253-4cc0-d9fd-1a2b21080107",
        "colab": {
          "base_uri": "https://localhost:8080/",
          "height": 156
        }
      },
      "source": [
        "out_M"
      ],
      "execution_count": 56,
      "outputs": [
        {
          "output_type": "execute_result",
          "data": {
            "text/plain": [
              "tensor([0.3982, 0.4679, 0.3693, 0.3079, 0.6130, 0.3899, 0.3680, 0.4804, 0.2796,\n",
              "        0.5743, 0.4930, 0.5222, 0.4835, 0.3732, 0.3481, 0.3295, 0.4198, 0.4737,\n",
              "        0.3866, 0.3329, 0.4991, 0.4339, 0.5284, 0.3135, 0.4033, 0.3860, 0.3820,\n",
              "        0.4739, 0.4471, 0.4564, 0.3855, 0.4210, 0.4078, 0.4347, 0.3360, 0.4703,\n",
              "        0.3524, 0.4075, 0.5334, 0.3502, 0.4140, 0.3768, 0.4238, 0.5472, 0.5823,\n",
              "        0.6319, 0.4096, 0.3959, 0.4404, 0.3330, 0.5209, 0.4195, 0.5856, 0.3942,\n",
              "        0.4335, 0.3728, 0.5443, 0.4660, 0.4452, 0.3958, 0.4435, 0.4705, 0.4261,\n",
              "        0.3931], device='cuda:0', grad_fn=<SigmoidBackward>)"
            ]
          },
          "metadata": {
            "tags": []
          },
          "execution_count": 56
        }
      ]
    },
    {
      "cell_type": "code",
      "metadata": {
        "id": "8xfU2vFFJhMh",
        "colab_type": "code",
        "outputId": "3e2d8d8f-3758-4981-aaa7-b816b0c5783d",
        "colab": {
          "base_uri": "https://localhost:8080/",
          "height": 34
        }
      },
      "source": [
        "torch.mean((out_M-1)**2).item(), torch.mean(out_M-1).item()"
      ],
      "execution_count": 58,
      "outputs": [
        {
          "output_type": "execute_result",
          "data": {
            "text/plain": [
              "(0.3275628685951233, -0.5671929717063904)"
            ]
          },
          "metadata": {
            "tags": []
          },
          "execution_count": 58
        }
      ]
    },
    {
      "cell_type": "markdown",
      "metadata": {
        "id": "kzGsjQGMrD9m",
        "colab_type": "text"
      },
      "source": [
        "Within the training loop, we train the GAN loss $\\mathcal{L}_{\\mathrm{GAN}}(G, D, X, Y)$ in the following way: \n",
        "   \n",
        "1 - the **Discriminator** $D$ to minimize $\\mathbb{E}_{x \\sim p_{\\text {data }}(x)}\\left[(D(G(x))-1)^{2}\\right]$  \n",
        "  \n",
        "2 - the **Generator** $G$ to minimize $\\mathbb{E}_{y \\sim p_{\\text {data }}(y)}\\left[(D(y)-1)^{2}\\right] + \\mathbb{E}_{x \\sim p_{\\text {data }}(x)}\\left[D(G(x))^{2}\\right]$"
      ]
    },
    {
      "cell_type": "code",
      "metadata": {
        "id": "6CJ0Ms4dRKdF",
        "colab_type": "code",
        "colab": {}
      },
      "source": [
        "def training_loop(M_train_loader, U_train_loader, M_test_loader, U_test_loader,\n",
        "                  sample_every=1000,  lr=0.0002, train_iters=20000, log_step=10,\n",
        "                  batch_size=64, use_cycle_consistency_loss=True, cyc_lambda=1):\n",
        "    \n",
        "\n",
        "    # Create Generators and Discriminators\n",
        "    G_MtoU, G_UtoM, D_M, D_U = create_model()\n",
        "\n",
        "    # Get Generator parameters\n",
        "    g_params = list(G_MtoU.parameters()) + list(G_UtoM.parameters())\n",
        "    # Get Discriminator parameters\n",
        "    d_params = list(D_M.parameters()) + list(D_U.parameters())  \n",
        "\n",
        "    # Create optimizers for the generators and discriminators\n",
        "    g_optimizer = optim.Adam(g_params, lr)\n",
        "    d_optimizer = optim.Adam(d_params, lr)\n",
        "\n",
        "    iter_M = iter(M_train_loader)\n",
        "    iter_U = iter(U_train_loader)\n",
        "\n",
        "    test_iter_M = iter(M_test_loader)\n",
        "    test_iter_U = iter(U_test_loader)\n",
        "\n",
        "    # Get some fixed data from domains X and Y for sampling. These are images that are held\n",
        "    # constant throughout training, that allow us to inspect the model's performance.\n",
        "    fixed_M = to_var(test_iter_M.next()[0])\n",
        "    fixed_U = to_var(test_iter_U.next()[0])\n",
        "\n",
        "    # Datasets don's have the same length, we choose the smaller one to drive the\n",
        "    # number of iterations per epoch\n",
        "    iter_per_epoch = min(len(iter_M), len(iter_U))\n",
        "\n",
        "\n",
        "\n",
        "    for iteration in range(1, train_iters+1):\n",
        "\n",
        "        # Reset data_iter for each epoch\n",
        "        if iteration % iter_per_epoch == 0:\n",
        "            iter_M = iter(M_train_loader)\n",
        "            iter_U = iter(U_train_loader)\n",
        "\n",
        "        images_M, labels_M = iter_M.next()\n",
        "        images_M, labels_M = to_var(images_M), to_var(labels_M).long().squeeze()\n",
        "\n",
        "        images_U, labels_U = iter_U.next()\n",
        "        images_U, labels_U = to_var(images_U), to_var(labels_U).long().squeeze()\n",
        "\n",
        "\n",
        "        # ============================================\n",
        "        #            TRAIN THE DISCRIMINATORS\n",
        "        # ============================================\n",
        "\n",
        "        ### Train with real images\n",
        "        d_optimizer.zero_grad()\n",
        "\n",
        "        # Compute the Discriminator's losses on real images\n",
        "        out_M = D_M(images_M) # Discriminator MNIST true\n",
        "        D_M_loss = torch.mean((out_M-1)**2) \n",
        "\n",
        "        out_U = D_U(images_U) # Discriminator USPS true\n",
        "        D_U_loss = torch.mean((out_U-1)**2)\n",
        "\n",
        "        d_real_loss = D_M_loss + D_U_loss\n",
        "        d_real_loss.backward()\n",
        "        d_optimizer.step()\n",
        "\n",
        "\n",
        "        ### Train with fake images\n",
        "        d_optimizer.zero_grad()\n",
        "\n",
        "        # Generate fake images that look like domain MNIST based on real images in domain USPS\n",
        "        fake_M = G_UtoM(images_U)\n",
        "\n",
        "        # Compute the loss for D_M\n",
        "        out_M = D_M(fake_M)\n",
        "        D_M_loss = torch.mean(out_M**2) \n",
        "\n",
        "        # Generate fake images that look like domain U based on real images in domain M\n",
        "        fake_U = G_MtoU(images_M)\n",
        "\n",
        "        # Compute the loss for D_U\n",
        "        out_U = D_U(fake_U)\n",
        "        D_U_loss = torch.mean((out_U)**2) \n",
        "\n",
        "        d_fake_loss = D_M_loss + D_U_loss\n",
        "        d_fake_loss.backward()\n",
        "        d_optimizer.step()\n",
        "\n",
        "        # =========================================\n",
        "        #            TRAIN THE GENERATORS\n",
        "        # =========================================\n",
        "\n",
        "        ## USPS--MNIST-->USPS \n",
        "\n",
        "        g_optimizer.zero_grad()\n",
        "\n",
        "        # Generate fake images that look like domain MNIST based on real images\n",
        "        # in domain USPS\n",
        "        fake_M = G_UtoM(images_U)\n",
        "        out = D_M(fake_M)\n",
        "\n",
        "        # Compute the generator loss based on domain MNIST\n",
        "        g_loss = torch.mean((out-1)**2)\n",
        "\n",
        "        if use_cycle_consistency_loss:\n",
        "            reconstructed_U = G_MtoU(fake_M)\n",
        "            # Compute the cycle consistency loss (the reconstruction loss)\n",
        "            cycle_consistency_loss = torch.mean((images_U - reconstructed_U)**2)\n",
        "            g_loss += cyc_lambda * cycle_consistency_loss\n",
        "\n",
        "        g_loss.backward()\n",
        "        g_optimizer.step()\n",
        "\n",
        "\n",
        "        ## MNIST--USPS-->MNIST \n",
        "\n",
        "        g_optimizer.zero_grad()\n",
        "\n",
        "        # Generate fake images that look like domain USPS based on real images \n",
        "        # in domain MNIST\n",
        "        fake_U = G_MtoU(images_M)\n",
        "        out = D_U(fake_U)\n",
        "\n",
        "        # Compute the generator loss based on domain USPS\n",
        "        g_loss = torch.mean((out-1)**2)\n",
        "\n",
        "        if use_cycle_consistency_loss:\n",
        "            reconstructed_M = G_UtoM(fake_U)\n",
        "            # Compute the cycle consistency loss (the reconstruction loss)\n",
        "            cycle_consistency_loss = torch.mean((images_M - reconstructed_M)**2)\n",
        "            g_loss += cyc_lambda * cycle_consistency_loss\n",
        "\n",
        "        g_loss.backward()\n",
        "        g_optimizer.step()\n",
        "\n",
        "\n",
        "        # Print the log info\n",
        "        if iteration % log_step == 0:\n",
        "            print('Iteration [{:5d}/{:5d}] | d_real_loss: {:6.4f} | d_U_loss: {:6.4f} | d_M_loss: {:6.4f} | '\n",
        "                'd_fake_loss: {:6.4f} | g_loss: {:6.4f}'.format(\n",
        "                    iteration, train_iters, d_real_loss.item(), D_U_loss.item(),\n",
        "                    D_M_loss.item(), d_fake_loss.item(), g_loss.item()))\n",
        "\n",
        "\n",
        "        # Save the generated samples\n",
        "        if iteration % sample_every == 0:\n",
        "            save_samples(iteration, fixed_U, fixed_M, G_UtoM, G_MtoU)"
      ],
      "execution_count": 0,
      "outputs": []
    },
    {
      "cell_type": "code",
      "metadata": {
        "id": "fpMhowQMRKgq",
        "colab_type": "code",
        "outputId": "c4307207-9c08-42af-f11e-5f74db90007d",
        "colab": {
          "base_uri": "https://localhost:8080/",
          "height": 1000
        }
      },
      "source": [
        "training_loop(M_train_loader, U_train_loader, M_test_loader, U_test_loader, sample_every=1000,  lr=0.0002, train_iters=5000, log_step = 100,  use_cycle_consistency_loss=True)"
      ],
      "execution_count": 61,
      "outputs": [
        {
          "output_type": "stream",
          "text": [
            "                 G_MtoU                \n",
            "---------------------------------------\n",
            "G_(\n",
            "  (conv1): Sequential(\n",
            "    (0): Conv2d(1, 64, kernel_size=(4, 4), stride=(2, 2), padding=(1, 1), bias=False)\n",
            "    (1): BatchNorm2d(64, eps=1e-05, momentum=0.1, affine=True, track_running_stats=True)\n",
            "  )\n",
            "  (conv2): Sequential(\n",
            "    (0): Conv2d(64, 128, kernel_size=(4, 4), stride=(2, 2), padding=(1, 1), bias=False)\n",
            "    (1): BatchNorm2d(128, eps=1e-05, momentum=0.1, affine=True, track_running_stats=True)\n",
            "  )\n",
            "  (conv3): Sequential(\n",
            "    (0): Conv2d(128, 128, kernel_size=(3, 3), stride=(1, 1), padding=(1, 1), bias=False)\n",
            "    (1): BatchNorm2d(128, eps=1e-05, momentum=0.1, affine=True, track_running_stats=True)\n",
            "  )\n",
            "  (conv4): Sequential(\n",
            "    (0): Conv2d(128, 128, kernel_size=(3, 3), stride=(1, 1), padding=(1, 1), bias=False)\n",
            "    (1): BatchNorm2d(128, eps=1e-05, momentum=0.1, affine=True, track_running_stats=True)\n",
            "  )\n",
            "  (deconv1): Sequential(\n",
            "    (0): ConvTranspose2d(128, 64, kernel_size=(4, 4), stride=(2, 2), padding=(1, 1), bias=False)\n",
            "    (1): BatchNorm2d(64, eps=1e-05, momentum=0.1, affine=True, track_running_stats=True)\n",
            "  )\n",
            "  (deconv2): Sequential(\n",
            "    (0): ConvTranspose2d(64, 1, kernel_size=(4, 4), stride=(2, 2), padding=(1, 1), bias=False)\n",
            "  )\n",
            ")\n",
            "---------------------------------------\n",
            "                 G_UtoM                \n",
            "---------------------------------------\n",
            "G_(\n",
            "  (conv1): Sequential(\n",
            "    (0): Conv2d(1, 64, kernel_size=(4, 4), stride=(2, 2), padding=(1, 1), bias=False)\n",
            "    (1): BatchNorm2d(64, eps=1e-05, momentum=0.1, affine=True, track_running_stats=True)\n",
            "  )\n",
            "  (conv2): Sequential(\n",
            "    (0): Conv2d(64, 128, kernel_size=(4, 4), stride=(2, 2), padding=(1, 1), bias=False)\n",
            "    (1): BatchNorm2d(128, eps=1e-05, momentum=0.1, affine=True, track_running_stats=True)\n",
            "  )\n",
            "  (conv3): Sequential(\n",
            "    (0): Conv2d(128, 128, kernel_size=(3, 3), stride=(1, 1), padding=(1, 1), bias=False)\n",
            "    (1): BatchNorm2d(128, eps=1e-05, momentum=0.1, affine=True, track_running_stats=True)\n",
            "  )\n",
            "  (conv4): Sequential(\n",
            "    (0): Conv2d(128, 128, kernel_size=(3, 3), stride=(1, 1), padding=(1, 1), bias=False)\n",
            "    (1): BatchNorm2d(128, eps=1e-05, momentum=0.1, affine=True, track_running_stats=True)\n",
            "  )\n",
            "  (deconv1): Sequential(\n",
            "    (0): ConvTranspose2d(128, 64, kernel_size=(4, 4), stride=(2, 2), padding=(1, 1), bias=False)\n",
            "    (1): BatchNorm2d(64, eps=1e-05, momentum=0.1, affine=True, track_running_stats=True)\n",
            "  )\n",
            "  (deconv2): Sequential(\n",
            "    (0): ConvTranspose2d(64, 1, kernel_size=(4, 4), stride=(2, 2), padding=(1, 1), bias=False)\n",
            "  )\n",
            ")\n",
            "---------------------------------------\n",
            "                  D_M                  \n",
            "---------------------------------------\n",
            "D_(\n",
            "  (conv1): Sequential(\n",
            "    (0): Conv2d(1, 64, kernel_size=(4, 4), stride=(2, 2), padding=(1, 1), bias=False)\n",
            "  )\n",
            "  (conv2): Sequential(\n",
            "    (0): Conv2d(64, 128, kernel_size=(4, 4), stride=(2, 2), padding=(1, 1), bias=False)\n",
            "    (1): BatchNorm2d(128, eps=1e-05, momentum=0.1, affine=True, track_running_stats=True)\n",
            "  )\n",
            "  (conv3): Sequential(\n",
            "    (0): Conv2d(128, 256, kernel_size=(4, 4), stride=(2, 2), padding=(1, 1), bias=False)\n",
            "    (1): BatchNorm2d(256, eps=1e-05, momentum=0.1, affine=True, track_running_stats=True)\n",
            "  )\n",
            "  (fc): Sequential(\n",
            "    (0): Conv2d(256, 1, kernel_size=(4, 4), stride=(1, 1), bias=False)\n",
            "  )\n",
            ")\n",
            "---------------------------------------\n",
            "                  D_U                  \n",
            "---------------------------------------\n",
            "D_(\n",
            "  (conv1): Sequential(\n",
            "    (0): Conv2d(1, 64, kernel_size=(4, 4), stride=(2, 2), padding=(1, 1), bias=False)\n",
            "  )\n",
            "  (conv2): Sequential(\n",
            "    (0): Conv2d(64, 128, kernel_size=(4, 4), stride=(2, 2), padding=(1, 1), bias=False)\n",
            "    (1): BatchNorm2d(128, eps=1e-05, momentum=0.1, affine=True, track_running_stats=True)\n",
            "  )\n",
            "  (conv3): Sequential(\n",
            "    (0): Conv2d(128, 256, kernel_size=(4, 4), stride=(2, 2), padding=(1, 1), bias=False)\n",
            "    (1): BatchNorm2d(256, eps=1e-05, momentum=0.1, affine=True, track_running_stats=True)\n",
            "  )\n",
            "  (fc): Sequential(\n",
            "    (0): Conv2d(256, 1, kernel_size=(4, 4), stride=(1, 1), bias=False)\n",
            "  )\n",
            ")\n",
            "---------------------------------------\n",
            "Models moved to GPU.\n",
            "Iteration [  100/ 5000] | d_real_loss: 0.1160 | d_U_loss: 0.1683 | d_M_loss: 0.0659 | d_fake_loss: 0.2342 | g_loss: 0.8114\n",
            "Iteration [  200/ 5000] | d_real_loss: 0.1093 | d_U_loss: 0.0083 | d_M_loss: 0.0838 | d_fake_loss: 0.0921 | g_loss: 1.0156\n",
            "Iteration [  300/ 5000] | d_real_loss: 0.1131 | d_U_loss: 0.0180 | d_M_loss: 0.0743 | d_fake_loss: 0.0923 | g_loss: 0.9834\n",
            "Iteration [  400/ 5000] | d_real_loss: 0.1359 | d_U_loss: 0.1808 | d_M_loss: 0.0491 | d_fake_loss: 0.2299 | g_loss: 0.7834\n",
            "Iteration [  500/ 5000] | d_real_loss: 0.1553 | d_U_loss: 0.0669 | d_M_loss: 0.0695 | d_fake_loss: 0.1364 | g_loss: 0.8060\n",
            "Iteration [  600/ 5000] | d_real_loss: 0.1637 | d_U_loss: 0.0605 | d_M_loss: 0.1297 | d_fake_loss: 0.1902 | g_loss: 0.8627\n",
            "Iteration [  700/ 5000] | d_real_loss: 0.1838 | d_U_loss: 0.1366 | d_M_loss: 0.1271 | d_fake_loss: 0.2637 | g_loss: 0.6850\n",
            "Iteration [  800/ 5000] | d_real_loss: 0.2288 | d_U_loss: 0.1233 | d_M_loss: 0.0471 | d_fake_loss: 0.1704 | g_loss: 0.6852\n",
            "Iteration [  900/ 5000] | d_real_loss: 0.1021 | d_U_loss: 0.0677 | d_M_loss: 0.0454 | d_fake_loss: 0.1131 | g_loss: 0.7320\n"
          ],
          "name": "stdout"
        },
        {
          "output_type": "stream",
          "text": [
            "WARNING:root:Lossy conversion from float64 to uint8. Range [-1.0, 1.0]. Convert image to uint8 prior to saving to suppress this warning.\n",
            "WARNING:root:Lossy conversion from float64 to uint8. Range [-1.0, 0.9940251708030701]. Convert image to uint8 prior to saving to suppress this warning.\n"
          ],
          "name": "stderr"
        },
        {
          "output_type": "stream",
          "text": [
            "Iteration [ 1000/ 5000] | d_real_loss: 0.2114 | d_U_loss: 0.0644 | d_M_loss: 0.0693 | d_fake_loss: 0.1337 | g_loss: 0.8083\n",
            "Saved ./results/sample-001000-M-Uopt.png\n",
            "Saved ./results/sample-001000-U-Mopt.png\n",
            "Iteration [ 1100/ 5000] | d_real_loss: 0.1064 | d_U_loss: 0.1540 | d_M_loss: 0.0639 | d_fake_loss: 0.2180 | g_loss: 0.7300\n",
            "Iteration [ 1200/ 5000] | d_real_loss: 0.1230 | d_U_loss: 0.2174 | d_M_loss: 0.0140 | d_fake_loss: 0.2314 | g_loss: 0.6592\n",
            "Iteration [ 1300/ 5000] | d_real_loss: 0.0791 | d_U_loss: 0.1917 | d_M_loss: 0.0390 | d_fake_loss: 0.2306 | g_loss: 0.6850\n",
            "Iteration [ 1400/ 5000] | d_real_loss: 0.1377 | d_U_loss: 0.1022 | d_M_loss: 0.0238 | d_fake_loss: 0.1260 | g_loss: 0.7439\n",
            "Iteration [ 1500/ 5000] | d_real_loss: 0.0650 | d_U_loss: 0.0930 | d_M_loss: 0.0112 | d_fake_loss: 0.1042 | g_loss: 0.8400\n",
            "Iteration [ 1600/ 5000] | d_real_loss: 0.1483 | d_U_loss: 0.1597 | d_M_loss: 0.0155 | d_fake_loss: 0.1752 | g_loss: 0.6790\n",
            "Iteration [ 1700/ 5000] | d_real_loss: 0.1491 | d_U_loss: 0.1895 | d_M_loss: 0.0745 | d_fake_loss: 0.2640 | g_loss: 0.6334\n",
            "Iteration [ 1800/ 5000] | d_real_loss: 0.2262 | d_U_loss: 0.1208 | d_M_loss: 0.0078 | d_fake_loss: 0.1287 | g_loss: 0.7532\n",
            "Iteration [ 1900/ 5000] | d_real_loss: 0.0970 | d_U_loss: 0.1173 | d_M_loss: 0.0261 | d_fake_loss: 0.1434 | g_loss: 0.8019\n"
          ],
          "name": "stdout"
        },
        {
          "output_type": "stream",
          "text": [
            "WARNING:root:Lossy conversion from float64 to uint8. Range [-1.0, 1.0]. Convert image to uint8 prior to saving to suppress this warning.\n",
            "WARNING:root:Lossy conversion from float64 to uint8. Range [-1.0, 0.9942466616630554]. Convert image to uint8 prior to saving to suppress this warning.\n"
          ],
          "name": "stderr"
        },
        {
          "output_type": "stream",
          "text": [
            "Iteration [ 2000/ 5000] | d_real_loss: 0.0829 | d_U_loss: 0.0579 | d_M_loss: 0.0232 | d_fake_loss: 0.0810 | g_loss: 0.8938\n",
            "Saved ./results/sample-002000-M-Uopt.png\n",
            "Saved ./results/sample-002000-U-Mopt.png\n",
            "Iteration [ 2100/ 5000] | d_real_loss: 0.2139 | d_U_loss: 0.0215 | d_M_loss: 0.0369 | d_fake_loss: 0.0584 | g_loss: 0.9025\n",
            "Iteration [ 2200/ 5000] | d_real_loss: 0.0725 | d_U_loss: 0.0668 | d_M_loss: 0.0055 | d_fake_loss: 0.0723 | g_loss: 0.8053\n",
            "Iteration [ 2300/ 5000] | d_real_loss: 0.0434 | d_U_loss: 0.1920 | d_M_loss: 0.0125 | d_fake_loss: 0.2045 | g_loss: 0.7070\n",
            "Iteration [ 2400/ 5000] | d_real_loss: 0.0561 | d_U_loss: 0.1099 | d_M_loss: 0.0437 | d_fake_loss: 0.1537 | g_loss: 0.6985\n",
            "Iteration [ 2500/ 5000] | d_real_loss: 0.0533 | d_U_loss: 0.0907 | d_M_loss: 0.0240 | d_fake_loss: 0.1147 | g_loss: 0.8445\n",
            "Iteration [ 2600/ 5000] | d_real_loss: 0.0547 | d_U_loss: 0.1487 | d_M_loss: 0.0650 | d_fake_loss: 0.2137 | g_loss: 0.7207\n",
            "Iteration [ 2700/ 5000] | d_real_loss: 0.1183 | d_U_loss: 0.0273 | d_M_loss: 0.0298 | d_fake_loss: 0.0571 | g_loss: 0.9094\n",
            "Iteration [ 2800/ 5000] | d_real_loss: 0.1423 | d_U_loss: 0.0309 | d_M_loss: 0.0511 | d_fake_loss: 0.0820 | g_loss: 0.8455\n",
            "Iteration [ 2900/ 5000] | d_real_loss: 0.1482 | d_U_loss: 0.0729 | d_M_loss: 0.0121 | d_fake_loss: 0.0850 | g_loss: 0.7525\n"
          ],
          "name": "stdout"
        },
        {
          "output_type": "stream",
          "text": [
            "WARNING:root:Lossy conversion from float64 to uint8. Range [-1.0, 1.0]. Convert image to uint8 prior to saving to suppress this warning.\n",
            "WARNING:root:Lossy conversion from float64 to uint8. Range [-1.0, 0.9966720342636108]. Convert image to uint8 prior to saving to suppress this warning.\n"
          ],
          "name": "stderr"
        },
        {
          "output_type": "stream",
          "text": [
            "Iteration [ 3000/ 5000] | d_real_loss: 0.1250 | d_U_loss: 0.0588 | d_M_loss: 0.0112 | d_fake_loss: 0.0701 | g_loss: 0.7853\n",
            "Saved ./results/sample-003000-M-Uopt.png\n",
            "Saved ./results/sample-003000-U-Mopt.png\n",
            "Iteration [ 3100/ 5000] | d_real_loss: 0.0785 | d_U_loss: 0.0872 | d_M_loss: 0.0025 | d_fake_loss: 0.0897 | g_loss: 0.8545\n",
            "Iteration [ 3200/ 5000] | d_real_loss: 0.1417 | d_U_loss: 0.1067 | d_M_loss: 0.0101 | d_fake_loss: 0.1168 | g_loss: 0.7742\n",
            "Iteration [ 3300/ 5000] | d_real_loss: 0.1294 | d_U_loss: 0.1409 | d_M_loss: 0.0146 | d_fake_loss: 0.1556 | g_loss: 0.7423\n",
            "Iteration [ 3400/ 5000] | d_real_loss: 0.1616 | d_U_loss: 0.0661 | d_M_loss: 0.0148 | d_fake_loss: 0.0808 | g_loss: 0.8664\n",
            "Iteration [ 3500/ 5000] | d_real_loss: 0.0608 | d_U_loss: 0.0177 | d_M_loss: 0.0597 | d_fake_loss: 0.0774 | g_loss: 0.9587\n",
            "Iteration [ 3600/ 5000] | d_real_loss: 0.1483 | d_U_loss: 0.1752 | d_M_loss: 0.0049 | d_fake_loss: 0.1802 | g_loss: 0.5791\n",
            "Iteration [ 3700/ 5000] | d_real_loss: 0.0502 | d_U_loss: 0.1052 | d_M_loss: 0.0278 | d_fake_loss: 0.1331 | g_loss: 0.7116\n",
            "Iteration [ 3800/ 5000] | d_real_loss: 0.0290 | d_U_loss: 0.0753 | d_M_loss: 0.0047 | d_fake_loss: 0.0800 | g_loss: 0.8935\n",
            "Iteration [ 3900/ 5000] | d_real_loss: 0.1067 | d_U_loss: 0.0395 | d_M_loss: 0.0178 | d_fake_loss: 0.0572 | g_loss: 0.8455\n"
          ],
          "name": "stdout"
        },
        {
          "output_type": "stream",
          "text": [
            "WARNING:root:Lossy conversion from float64 to uint8. Range [-1.0, 1.0]. Convert image to uint8 prior to saving to suppress this warning.\n",
            "WARNING:root:Lossy conversion from float64 to uint8. Range [-1.0, 0.9949891567230225]. Convert image to uint8 prior to saving to suppress this warning.\n"
          ],
          "name": "stderr"
        },
        {
          "output_type": "stream",
          "text": [
            "Iteration [ 4000/ 5000] | d_real_loss: 0.0838 | d_U_loss: 0.3151 | d_M_loss: 0.0254 | d_fake_loss: 0.3405 | g_loss: 0.5246\n",
            "Saved ./results/sample-004000-M-Uopt.png\n",
            "Saved ./results/sample-004000-U-Mopt.png\n",
            "Iteration [ 4100/ 5000] | d_real_loss: 0.1401 | d_U_loss: 0.0490 | d_M_loss: 0.0114 | d_fake_loss: 0.0604 | g_loss: 0.7583\n",
            "Iteration [ 4200/ 5000] | d_real_loss: 0.1383 | d_U_loss: 0.0508 | d_M_loss: 0.0081 | d_fake_loss: 0.0589 | g_loss: 0.8580\n",
            "Iteration [ 4300/ 5000] | d_real_loss: 0.0764 | d_U_loss: 0.0487 | d_M_loss: 0.0082 | d_fake_loss: 0.0570 | g_loss: 0.8248\n",
            "Iteration [ 4400/ 5000] | d_real_loss: 0.1088 | d_U_loss: 0.1109 | d_M_loss: 0.0233 | d_fake_loss: 0.1342 | g_loss: 0.7497\n",
            "Iteration [ 4500/ 5000] | d_real_loss: 0.2077 | d_U_loss: 0.0570 | d_M_loss: 0.0450 | d_fake_loss: 0.1020 | g_loss: 0.7569\n",
            "Iteration [ 4600/ 5000] | d_real_loss: 0.0871 | d_U_loss: 0.0866 | d_M_loss: 0.0355 | d_fake_loss: 0.1221 | g_loss: 0.8022\n",
            "Iteration [ 4700/ 5000] | d_real_loss: 0.0644 | d_U_loss: 0.0397 | d_M_loss: 0.0134 | d_fake_loss: 0.0531 | g_loss: 0.8308\n",
            "Iteration [ 4800/ 5000] | d_real_loss: 0.1059 | d_U_loss: 0.0807 | d_M_loss: 0.0026 | d_fake_loss: 0.0833 | g_loss: 0.8097\n",
            "Iteration [ 4900/ 5000] | d_real_loss: 0.1482 | d_U_loss: 0.0067 | d_M_loss: 0.0330 | d_fake_loss: 0.0397 | g_loss: 0.9459\n"
          ],
          "name": "stdout"
        },
        {
          "output_type": "stream",
          "text": [
            "WARNING:root:Lossy conversion from float64 to uint8. Range [-1.0, 1.0]. Convert image to uint8 prior to saving to suppress this warning.\n",
            "WARNING:root:Lossy conversion from float64 to uint8. Range [-1.0, 0.9939425587654114]. Convert image to uint8 prior to saving to suppress this warning.\n"
          ],
          "name": "stderr"
        },
        {
          "output_type": "stream",
          "text": [
            "Iteration [ 5000/ 5000] | d_real_loss: 0.0130 | d_U_loss: 0.0164 | d_M_loss: 0.0025 | d_fake_loss: 0.0189 | g_loss: 1.0495\n",
            "Saved ./results/sample-005000-M-Uopt.png\n",
            "Saved ./results/sample-005000-U-Mopt.png\n"
          ],
          "name": "stdout"
        }
      ]
    },
    {
      "cell_type": "code",
      "metadata": {
        "id": "HGjWBRrA74G6",
        "colab_type": "code",
        "outputId": "213c4fda-a0f6-4c7e-ea58-a5eb805593f6",
        "colab": {
          "base_uri": "https://localhost:8080/",
          "height": 273
        }
      },
      "source": [
        "from PIL import Image\n",
        "image = Image.open('/content/sample-005000-U-M.png')\n",
        "image"
      ],
      "execution_count": 0,
      "outputs": [
        {
          "output_type": "execute_result",
          "data": {
            "image/png": "[encoded data removed]",
            "text/plain": [
              "<PIL.PngImagePlugin.PngImageFile image mode=RGB size=512x256 at 0x7F059F51E7B8>"
            ]
          },
          "metadata": {
            "tags": []
          },
          "execution_count": 46
        }
      ]
    },
    {
      "cell_type": "code",
      "metadata": {
        "id": "Fd0elE7Ecuhv",
        "colab_type": "code",
        "outputId": "1822ac11-2071-49f5-98d3-480f19b57c26",
        "colab": {
          "base_uri": "https://localhost:8080/",
          "height": 273
        }
      },
      "source": [
        "from PIL import Image\n",
        "image = Image.open('/content/sample-005000-M-U.png')\n",
        "image"
      ],
      "execution_count": 0,
      "outputs": [
        {
          "output_type": "execute_result",
          "data": {
            "image/png": "[encoded data removed]",
            "text/plain": [
              "<PIL.PngImagePlugin.PngImageFile image mode=RGB size=512x256 at 0x7F059F51E9B0>"
            ]
          },
          "metadata": {
            "tags": []
          },
          "execution_count": 47
        }
      ]
    },
    {
      "cell_type": "code",
      "metadata": {
        "id": "id1tpHyidAdr",
        "colab_type": "code",
        "outputId": "2ef53785-bca9-4e8f-a5d8-009a7042ff6a",
        "colab": {
          "base_uri": "https://localhost:8080/",
          "height": 1000
        }
      },
      "source": [
        "training_loop(M_train_loader, U_train_loader, M_test_loader, U_test_loader, sample_every=1000,  lr=0.0002, train_iters=5000, log_step = 100,  use_cycle_consistency_loss=False)"
      ],
      "execution_count": 0,
      "outputs": [
        {
          "output_type": "stream",
          "text": [
            "                 G_MtoU                \n",
            "---------------------------------------\n",
            "G_MNIST_USPS(\n",
            "  (conv1): Sequential(\n",
            "    (0): Conv2d(1, 64, kernel_size=(4, 4), stride=(2, 2), padding=(1, 1), bias=False)\n",
            "    (1): BatchNorm2d(64, eps=1e-05, momentum=0.1, affine=True, track_running_stats=True)\n",
            "  )\n",
            "  (conv2): Sequential(\n",
            "    (0): Conv2d(64, 128, kernel_size=(4, 4), stride=(2, 2), padding=(1, 1), bias=False)\n",
            "    (1): BatchNorm2d(128, eps=1e-05, momentum=0.1, affine=True, track_running_stats=True)\n",
            "  )\n",
            "  (conv3): Sequential(\n",
            "    (0): Conv2d(128, 128, kernel_size=(3, 3), stride=(1, 1), padding=(1, 1), bias=False)\n",
            "    (1): BatchNorm2d(128, eps=1e-05, momentum=0.1, affine=True, track_running_stats=True)\n",
            "  )\n",
            "  (conv4): Sequential(\n",
            "    (0): Conv2d(128, 128, kernel_size=(3, 3), stride=(1, 1), padding=(1, 1), bias=False)\n",
            "    (1): BatchNorm2d(128, eps=1e-05, momentum=0.1, affine=True, track_running_stats=True)\n",
            "  )\n",
            "  (deconv1): Sequential(\n",
            "    (0): ConvTranspose2d(128, 64, kernel_size=(4, 4), stride=(2, 2), padding=(1, 1), bias=False)\n",
            "    (1): BatchNorm2d(64, eps=1e-05, momentum=0.1, affine=True, track_running_stats=True)\n",
            "  )\n",
            "  (deconv2): Sequential(\n",
            "    (0): ConvTranspose2d(64, 1, kernel_size=(4, 4), stride=(2, 2), padding=(1, 1), bias=False)\n",
            "  )\n",
            ")\n",
            "---------------------------------------\n",
            "                 G_UtoM                \n",
            "---------------------------------------\n",
            "G_USPS_MNIST(\n",
            "  (conv1): Sequential(\n",
            "    (0): Conv2d(1, 64, kernel_size=(4, 4), stride=(2, 2), padding=(1, 1), bias=False)\n",
            "    (1): BatchNorm2d(64, eps=1e-05, momentum=0.1, affine=True, track_running_stats=True)\n",
            "  )\n",
            "  (conv2): Sequential(\n",
            "    (0): Conv2d(64, 128, kernel_size=(4, 4), stride=(2, 2), padding=(1, 1), bias=False)\n",
            "    (1): BatchNorm2d(128, eps=1e-05, momentum=0.1, affine=True, track_running_stats=True)\n",
            "  )\n",
            "  (conv3): Sequential(\n",
            "    (0): Conv2d(128, 128, kernel_size=(3, 3), stride=(1, 1), padding=(1, 1), bias=False)\n",
            "    (1): BatchNorm2d(128, eps=1e-05, momentum=0.1, affine=True, track_running_stats=True)\n",
            "  )\n",
            "  (conv4): Sequential(\n",
            "    (0): Conv2d(128, 128, kernel_size=(3, 3), stride=(1, 1), padding=(1, 1), bias=False)\n",
            "    (1): BatchNorm2d(128, eps=1e-05, momentum=0.1, affine=True, track_running_stats=True)\n",
            "  )\n",
            "  (deconv1): Sequential(\n",
            "    (0): ConvTranspose2d(128, 64, kernel_size=(4, 4), stride=(2, 2), padding=(1, 1), bias=False)\n",
            "    (1): BatchNorm2d(64, eps=1e-05, momentum=0.1, affine=True, track_running_stats=True)\n",
            "  )\n",
            "  (deconv2): Sequential(\n",
            "    (0): ConvTranspose2d(64, 1, kernel_size=(4, 4), stride=(2, 2), padding=(1, 1), bias=False)\n",
            "  )\n",
            ")\n",
            "---------------------------------------\n",
            "                  D_M                  \n",
            "---------------------------------------\n",
            "D_MNIST(\n",
            "  (conv1): Sequential(\n",
            "    (0): Conv2d(1, 64, kernel_size=(4, 4), stride=(2, 2), padding=(1, 1), bias=False)\n",
            "  )\n",
            "  (conv2): Sequential(\n",
            "    (0): Conv2d(64, 128, kernel_size=(4, 4), stride=(2, 2), padding=(1, 1), bias=False)\n",
            "    (1): BatchNorm2d(128, eps=1e-05, momentum=0.1, affine=True, track_running_stats=True)\n",
            "  )\n",
            "  (conv3): Sequential(\n",
            "    (0): Conv2d(128, 256, kernel_size=(4, 4), stride=(2, 2), padding=(1, 1), bias=False)\n",
            "    (1): BatchNorm2d(256, eps=1e-05, momentum=0.1, affine=True, track_running_stats=True)\n",
            "  )\n",
            "  (fc): Sequential(\n",
            "    (0): Conv2d(256, 1, kernel_size=(4, 4), stride=(1, 1), bias=False)\n",
            "  )\n",
            ")\n",
            "---------------------------------------\n",
            "                  D_U                  \n",
            "---------------------------------------\n",
            "D_USPS(\n",
            "  (conv1): Sequential(\n",
            "    (0): Conv2d(1, 64, kernel_size=(4, 4), stride=(2, 2), padding=(1, 1), bias=False)\n",
            "  )\n",
            "  (conv2): Sequential(\n",
            "    (0): Conv2d(64, 128, kernel_size=(4, 4), stride=(2, 2), padding=(1, 1), bias=False)\n",
            "    (1): BatchNorm2d(128, eps=1e-05, momentum=0.1, affine=True, track_running_stats=True)\n",
            "  )\n",
            "  (conv3): Sequential(\n",
            "    (0): Conv2d(128, 256, kernel_size=(4, 4), stride=(2, 2), padding=(1, 1), bias=False)\n",
            "    (1): BatchNorm2d(256, eps=1e-05, momentum=0.1, affine=True, track_running_stats=True)\n",
            "  )\n",
            "  (fc): Sequential(\n",
            "    (0): Conv2d(256, 1, kernel_size=(4, 4), stride=(1, 1), bias=False)\n",
            "  )\n",
            ")\n",
            "---------------------------------------\n",
            "Models moved to GPU.\n",
            "Iteration [  100/ 5000] | d_real_loss: 0.0721 | d_U_loss: 0.0040 | d_M_loss: 0.0391 | d_fake_loss: 0.0431 | g_loss: 1.2120\n",
            "Iteration [  200/ 5000] | d_real_loss: 0.0684 | d_U_loss: 0.0034 | d_M_loss: 0.0782 | d_fake_loss: 0.0815 | g_loss: 0.9873\n",
            "Iteration [  300/ 5000] | d_real_loss: 0.0596 | d_U_loss: 0.0152 | d_M_loss: 0.0868 | d_fake_loss: 0.1020 | g_loss: 1.0687\n",
            "Iteration [  400/ 5000] | d_real_loss: 0.1433 | d_U_loss: 0.0975 | d_M_loss: 0.0611 | d_fake_loss: 0.1585 | g_loss: 0.8054\n",
            "Iteration [  500/ 5000] | d_real_loss: 0.2664 | d_U_loss: 0.1609 | d_M_loss: 0.0280 | d_fake_loss: 0.1889 | g_loss: 0.5845\n",
            "Iteration [  600/ 5000] | d_real_loss: 0.3736 | d_U_loss: 0.0593 | d_M_loss: 0.0593 | d_fake_loss: 0.1186 | g_loss: 0.5611\n",
            "Iteration [  700/ 5000] | d_real_loss: 0.1110 | d_U_loss: 0.0427 | d_M_loss: 0.0449 | d_fake_loss: 0.0876 | g_loss: 0.7654\n",
            "Iteration [  800/ 5000] | d_real_loss: 0.1225 | d_U_loss: 0.0705 | d_M_loss: 0.0780 | d_fake_loss: 0.1485 | g_loss: 1.2517\n",
            "Iteration [  900/ 5000] | d_real_loss: 0.1032 | d_U_loss: 0.0510 | d_M_loss: 0.0984 | d_fake_loss: 0.1494 | g_loss: 1.1654\n"
          ],
          "name": "stdout"
        },
        {
          "output_type": "stream",
          "text": [
            "WARNING:root:Lossy conversion from float64 to uint8. Range [-1.0, 1.0]. Convert image to uint8 prior to saving to suppress this warning.\n",
            "WARNING:root:Lossy conversion from float64 to uint8. Range [-1.0, 0.9990125298500061]. Convert image to uint8 prior to saving to suppress this warning.\n"
          ],
          "name": "stderr"
        },
        {
          "output_type": "stream",
          "text": [
            "Iteration [ 1000/ 5000] | d_real_loss: 0.2220 | d_U_loss: 0.0932 | d_M_loss: 0.0504 | d_fake_loss: 0.1436 | g_loss: 0.9194\n",
            "Saved /content/sample-001000-M-U.png\n",
            "Saved /content/sample-001000-U-M.png\n",
            "Iteration [ 1100/ 5000] | d_real_loss: 0.1619 | d_U_loss: 0.2259 | d_M_loss: 0.1988 | d_fake_loss: 0.4247 | g_loss: 0.6991\n",
            "Iteration [ 1200/ 5000] | d_real_loss: 0.2109 | d_U_loss: 0.0424 | d_M_loss: 0.0451 | d_fake_loss: 0.0874 | g_loss: 1.1110\n",
            "Iteration [ 1300/ 5000] | d_real_loss: 0.3366 | d_U_loss: 0.0370 | d_M_loss: 0.1136 | d_fake_loss: 0.1505 | g_loss: 0.7218\n",
            "Iteration [ 1400/ 5000] | d_real_loss: 0.1829 | d_U_loss: 0.1464 | d_M_loss: 0.0465 | d_fake_loss: 0.1930 | g_loss: 1.1514\n",
            "Iteration [ 1500/ 5000] | d_real_loss: 0.3740 | d_U_loss: 0.0936 | d_M_loss: 0.0359 | d_fake_loss: 0.1295 | g_loss: 0.5534\n",
            "Iteration [ 1600/ 5000] | d_real_loss: 0.2273 | d_U_loss: 0.1515 | d_M_loss: 0.0726 | d_fake_loss: 0.2241 | g_loss: 0.5994\n",
            "Iteration [ 1700/ 5000] | d_real_loss: 0.1631 | d_U_loss: 0.3557 | d_M_loss: 0.0822 | d_fake_loss: 0.4379 | g_loss: 0.4746\n",
            "Iteration [ 1800/ 5000] | d_real_loss: 0.2049 | d_U_loss: 0.0672 | d_M_loss: 0.0934 | d_fake_loss: 0.1606 | g_loss: 0.7013\n",
            "Iteration [ 1900/ 5000] | d_real_loss: 0.1450 | d_U_loss: 0.4244 | d_M_loss: 0.0503 | d_fake_loss: 0.4746 | g_loss: 0.4633\n"
          ],
          "name": "stdout"
        },
        {
          "output_type": "stream",
          "text": [
            "WARNING:root:Lossy conversion from float64 to uint8. Range [-1.0, 1.0]. Convert image to uint8 prior to saving to suppress this warning.\n",
            "WARNING:root:Lossy conversion from float64 to uint8. Range [-1.0, 0.9921956658363342]. Convert image to uint8 prior to saving to suppress this warning.\n"
          ],
          "name": "stderr"
        },
        {
          "output_type": "stream",
          "text": [
            "Iteration [ 2000/ 5000] | d_real_loss: 0.1403 | d_U_loss: 0.0380 | d_M_loss: 0.0597 | d_fake_loss: 0.0977 | g_loss: 1.2202\n",
            "Saved /content/sample-002000-M-U.png\n",
            "Saved /content/sample-002000-U-M.png\n",
            "Iteration [ 2100/ 5000] | d_real_loss: 0.3136 | d_U_loss: 0.0427 | d_M_loss: 0.0583 | d_fake_loss: 0.1010 | g_loss: 0.8064\n",
            "Iteration [ 2200/ 5000] | d_real_loss: 0.0880 | d_U_loss: 0.1548 | d_M_loss: 0.0453 | d_fake_loss: 0.2001 | g_loss: 0.7306\n",
            "Iteration [ 2300/ 5000] | d_real_loss: 0.2123 | d_U_loss: 0.1884 | d_M_loss: 0.0650 | d_fake_loss: 0.2533 | g_loss: 0.5011\n",
            "Iteration [ 2400/ 5000] | d_real_loss: 0.2846 | d_U_loss: 0.2948 | d_M_loss: 0.0292 | d_fake_loss: 0.3240 | g_loss: 0.5928\n",
            "Iteration [ 2500/ 5000] | d_real_loss: 0.1387 | d_U_loss: 0.0471 | d_M_loss: 0.0510 | d_fake_loss: 0.0981 | g_loss: 0.6433\n",
            "Iteration [ 2600/ 5000] | d_real_loss: 0.0956 | d_U_loss: 0.1729 | d_M_loss: 0.0361 | d_fake_loss: 0.2090 | g_loss: 0.5021\n",
            "Iteration [ 2700/ 5000] | d_real_loss: 0.0478 | d_U_loss: 0.0654 | d_M_loss: 0.0301 | d_fake_loss: 0.0954 | g_loss: 1.1659\n",
            "Iteration [ 2800/ 5000] | d_real_loss: 0.2373 | d_U_loss: 0.0490 | d_M_loss: 0.0463 | d_fake_loss: 0.0953 | g_loss: 0.8364\n",
            "Iteration [ 2900/ 5000] | d_real_loss: 0.2991 | d_U_loss: 0.0939 | d_M_loss: 0.0433 | d_fake_loss: 0.1372 | g_loss: 0.5347\n"
          ],
          "name": "stdout"
        },
        {
          "output_type": "stream",
          "text": [
            "WARNING:root:Lossy conversion from float64 to uint8. Range [-1.0, 1.0]. Convert image to uint8 prior to saving to suppress this warning.\n",
            "WARNING:root:Lossy conversion from float64 to uint8. Range [-1.0, 0.9937154650688171]. Convert image to uint8 prior to saving to suppress this warning.\n"
          ],
          "name": "stderr"
        },
        {
          "output_type": "stream",
          "text": [
            "Iteration [ 3000/ 5000] | d_real_loss: 0.2272 | d_U_loss: 0.0386 | d_M_loss: 0.0846 | d_fake_loss: 0.1232 | g_loss: 0.7984\n",
            "Saved /content/sample-003000-M-U.png\n",
            "Saved /content/sample-003000-U-M.png\n",
            "Iteration [ 3100/ 5000] | d_real_loss: 0.4039 | d_U_loss: 0.0627 | d_M_loss: 0.0470 | d_fake_loss: 0.1097 | g_loss: 0.6154\n",
            "Iteration [ 3200/ 5000] | d_real_loss: 0.2297 | d_U_loss: 0.0504 | d_M_loss: 0.0284 | d_fake_loss: 0.0788 | g_loss: 1.0219\n",
            "Iteration [ 3300/ 5000] | d_real_loss: 0.0638 | d_U_loss: 0.0426 | d_M_loss: 0.0409 | d_fake_loss: 0.0836 | g_loss: 1.0732\n",
            "Iteration [ 3400/ 5000] | d_real_loss: 0.1972 | d_U_loss: 0.1194 | d_M_loss: 0.0188 | d_fake_loss: 0.1382 | g_loss: 0.5326\n",
            "Iteration [ 3500/ 5000] | d_real_loss: 0.0953 | d_U_loss: 0.0725 | d_M_loss: 0.0221 | d_fake_loss: 0.0946 | g_loss: 1.0044\n",
            "Iteration [ 3600/ 5000] | d_real_loss: 0.2176 | d_U_loss: 0.1941 | d_M_loss: 0.0697 | d_fake_loss: 0.2638 | g_loss: 0.6038\n",
            "Iteration [ 3700/ 5000] | d_real_loss: 0.0930 | d_U_loss: 0.0787 | d_M_loss: 0.0238 | d_fake_loss: 0.1025 | g_loss: 0.8421\n",
            "Iteration [ 3800/ 5000] | d_real_loss: 0.1058 | d_U_loss: 0.1044 | d_M_loss: 0.0250 | d_fake_loss: 0.1295 | g_loss: 0.7309\n",
            "Iteration [ 3900/ 5000] | d_real_loss: 0.1456 | d_U_loss: 0.0243 | d_M_loss: 0.0350 | d_fake_loss: 0.0594 | g_loss: 1.1125\n"
          ],
          "name": "stdout"
        },
        {
          "output_type": "stream",
          "text": [
            "WARNING:root:Lossy conversion from float64 to uint8. Range [-1.0, 1.0]. Convert image to uint8 prior to saving to suppress this warning.\n",
            "WARNING:root:Lossy conversion from float64 to uint8. Range [-1.0, 0.9946696758270264]. Convert image to uint8 prior to saving to suppress this warning.\n"
          ],
          "name": "stderr"
        },
        {
          "output_type": "stream",
          "text": [
            "Iteration [ 4000/ 5000] | d_real_loss: 0.1895 | d_U_loss: 0.0846 | d_M_loss: 0.0301 | d_fake_loss: 0.1146 | g_loss: 0.7748\n",
            "Saved /content/sample-004000-M-U.png\n",
            "Saved /content/sample-004000-U-M.png\n",
            "Iteration [ 4100/ 5000] | d_real_loss: 0.1045 | d_U_loss: 0.0651 | d_M_loss: 0.0607 | d_fake_loss: 0.1257 | g_loss: 1.3450\n",
            "Iteration [ 4200/ 5000] | d_real_loss: 0.2526 | d_U_loss: 0.0585 | d_M_loss: 0.0194 | d_fake_loss: 0.0779 | g_loss: 1.1409\n",
            "Iteration [ 4300/ 5000] | d_real_loss: 0.1311 | d_U_loss: 0.1578 | d_M_loss: 0.0387 | d_fake_loss: 0.1965 | g_loss: 0.6865\n",
            "Iteration [ 4400/ 5000] | d_real_loss: 0.1738 | d_U_loss: 0.0858 | d_M_loss: 0.0291 | d_fake_loss: 0.1149 | g_loss: 0.6862\n",
            "Iteration [ 4500/ 5000] | d_real_loss: 0.2106 | d_U_loss: 0.0381 | d_M_loss: 0.0548 | d_fake_loss: 0.0930 | g_loss: 0.7724\n",
            "Iteration [ 4600/ 5000] | d_real_loss: 0.1131 | d_U_loss: 0.0545 | d_M_loss: 0.0470 | d_fake_loss: 0.1015 | g_loss: 1.0520\n",
            "Iteration [ 4700/ 5000] | d_real_loss: 0.1715 | d_U_loss: 0.0777 | d_M_loss: 0.0481 | d_fake_loss: 0.1258 | g_loss: 0.5797\n",
            "Iteration [ 4800/ 5000] | d_real_loss: 0.2399 | d_U_loss: 0.1293 | d_M_loss: 0.0143 | d_fake_loss: 0.1435 | g_loss: 0.6415\n",
            "Iteration [ 4900/ 5000] | d_real_loss: 0.1267 | d_U_loss: 0.0430 | d_M_loss: 0.0797 | d_fake_loss: 0.1227 | g_loss: 1.1367\n"
          ],
          "name": "stdout"
        },
        {
          "output_type": "stream",
          "text": [
            "WARNING:root:Lossy conversion from float64 to uint8. Range [-1.0, 1.0]. Convert image to uint8 prior to saving to suppress this warning.\n",
            "WARNING:root:Lossy conversion from float64 to uint8. Range [-1.0, 0.9921568632125854]. Convert image to uint8 prior to saving to suppress this warning.\n"
          ],
          "name": "stderr"
        },
        {
          "output_type": "stream",
          "text": [
            "Iteration [ 5000/ 5000] | d_real_loss: 0.0940 | d_U_loss: 0.0284 | d_M_loss: 0.0433 | d_fake_loss: 0.0716 | g_loss: 0.8823\n",
            "Saved /content/sample-005000-M-U.png\n",
            "Saved /content/sample-005000-U-M.png\n"
          ],
          "name": "stdout"
        }
      ]
    },
    {
      "cell_type": "code",
      "metadata": {
        "id": "bss5S2VWvcmJ",
        "colab_type": "code",
        "outputId": "3a15332a-2471-45e7-b623-e5428d814e62",
        "colab": {
          "base_uri": "https://localhost:8080/",
          "height": 273
        }
      },
      "source": [
        "from PIL import Image\n",
        "image = Image.open(os.path.join(RESULTS_PATH, 'sample-005000-U-Mopt.png'))\n",
        "image"
      ],
      "execution_count": 63,
      "outputs": [
        {
          "output_type": "execute_result",
          "data": {
            "image/png": "[encoded data removed]",
            "text/plain": [
              "<PIL.PngImagePlugin.PngImageFile image mode=RGB size=512x256 at 0x7F99C406E0B8>"
            ]
          },
          "metadata": {
            "tags": []
          },
          "execution_count": 63
        }
      ]
    },
    {
      "cell_type": "code",
      "metadata": {
        "id": "l5ruFbd3vjIU",
        "colab_type": "code",
        "colab": {}
      },
      "source": [
        ""
      ],
      "execution_count": 0,
      "outputs": []
    },
    {
      "cell_type": "markdown",
      "metadata": {
        "id": "VPtcxEDx-ay-",
        "colab_type": "text"
      },
      "source": [
        "# Testing Wassesrstein Cycle GAN "
      ]
    },
    {
      "cell_type": "markdown",
      "metadata": {
        "id": "YU7cxgZD_uF0",
        "colab_type": "text"
      },
      "source": [
        "What we need to modify : \n",
        "1. Turning the Adam optimizer into the RMS Prop optimizer \n",
        "2. The discriminator should not end with a sigmoid on the last layer (this is ok) \n",
        "3. D_loss =  -torch.mean(discriminator(real_imgs)) + torch.mean(discriminator(fake_imgs))\n",
        "\n",
        "\n",
        "G_loss = -torch.mean(D_fake)\n",
        "\n",
        "4. Clip parameters "
      ]
    },
    {
      "cell_type": "code",
      "metadata": {
        "id": "Ad2tc3lV_lok",
        "colab_type": "code",
        "colab": {}
      },
      "source": [
        ""
      ],
      "execution_count": 0,
      "outputs": []
    },
    {
      "cell_type": "code",
      "metadata": {
        "id": "5ev-Mrd_-epC",
        "colab_type": "code",
        "colab": {}
      },
      "source": [
        "def training_loop(M_train_loader, U_train_loader, M_test_loader, U_test_loader, sample_every=1000,  lr=0.0002, train_iters=20000, log_step = 10, batch_size=64, use_cycle_consistency_loss=True):\n",
        "  # Create generators and discriminators\n",
        "  G_MtoU, G_UtoM, D_M, D_U = create_model()\n",
        "\n",
        "  g_params = list(G_MtoU.parameters()) + list(G_UtoM.parameters())  # Get generator parameters\n",
        "  d_m_params = list(D_M.parameters())  # Get discriminator parameters\n",
        "  d_u_params = list(D_U.parameters())  # Get discriminator parameters\n",
        "\n",
        "  # Create optimizers for the generators and discriminators\n",
        "  g_optimizer = optim.RMSprop(g_params, lr, alpha=0.99, eps=1e-08, weight_decay=0, momentum=0, centered=False)\n",
        "  d_m_optimizer = optim.RMSprop(d_m_params, lr, alpha=0.99, eps=1e-08, weight_decay=0, momentum=0, centered=False)\n",
        "  d_u_optimizer = optim.RMSprop(d_u_params, lr, alpha=0.99, eps=1e-08, weight_decay=0, momentum=0, centered=False)\n",
        "\n",
        "  iter_M = iter(M_train_loader)\n",
        "  iter_U = iter(U_train_loader)\n",
        "\n",
        "  test_iter_M = iter(M_test_loader)\n",
        "  test_iter_U = iter(U_test_loader)\n",
        "\n",
        "  fixed_M = to_var(test_iter_M.next()[0])\n",
        "  fixed_U = to_var(test_iter_U.next()[0])\n",
        "\n",
        "  iter_per_epoch = min(len(iter_M), len(iter_U))\n",
        "\n",
        "  for iteration in range(1, train_iters+1):\n",
        "\n",
        "      # Reset data_iter for each epoch\n",
        "      if iteration % iter_per_epoch == 0:\n",
        "          iter_M = iter(M_train_loader)\n",
        "          iter_U = iter(U_train_loader)\n",
        "\n",
        "      images_M, labels_M = iter_M.next()\n",
        "      images_M, labels_M = to_var(images_M), to_var(labels_M).long().squeeze()\n",
        "\n",
        "      images_U, labels_U = iter_U.next()\n",
        "      images_U, labels_U = to_var(images_U), to_var(labels_U).long().squeeze()\n",
        "\n",
        "      # ============================================\n",
        "      #            TRAIN THE DISCRIMINATORS\n",
        "      # ============================================\n",
        "\n",
        "      for _ in range(5):\n",
        "        # Train with real images\n",
        "        d_m_optimizer.zero_grad()\n",
        "        d_u_optimizer.zero_grad()\n",
        "\n",
        "        # Compute the discriminator losses on real images\n",
        "        out_M = D_M(images_M) # discriminator mnist true\n",
        "        D_M_loss = - torch.mean(out_M) \n",
        "\n",
        "        out_U = D_U(images_U)\n",
        "        D_U_loss = - torch.mean(out_U)\n",
        "\n",
        "        d_real_loss = D_M_loss + D_U_loss\n",
        "        d_real_loss_m = D_M_loss\n",
        "        d_real_loss_u = D_U_loss\n",
        "        #d_real_loss.backward()\n",
        "        #d_optimizer.step()\n",
        "\n",
        "        # Train with fake images\n",
        "        #d_optimizer.zero_grad()\n",
        "\n",
        "        # Generate fake images that look like domain MNIST based on real images in domain USPS\n",
        "        fake_M = G_UtoM(images_U)\n",
        "\n",
        "        # Compute the loss for D_M\n",
        "        out_M = D_M(fake_M)\n",
        "        D_M_loss =  torch.mean(out_M) \n",
        "\n",
        "        # 4. Generate fake images that look like domain U based on real images in domain M\n",
        "        fake_U = G_MtoU(images_M)\n",
        "\n",
        "        # 5. Compute the loss for D_U\n",
        "        out_U = D_U(fake_U)\n",
        "        D_U_loss = torch.mean(out_U) \n",
        "\n",
        "        d_fake_loss = D_M_loss + D_U_loss\n",
        "\n",
        "        d_loss = d_real_loss + d_fake_loss\n",
        "\n",
        "        d_fake_loss_m = D_M_loss\n",
        "        d_fake_loss_u = D_U_loss\n",
        "\n",
        "        d_loss_m = d_real_loss_m + d_fake_loss_m\n",
        "        d_loss_u = d_real_loss_u + d_fake_loss_u\n",
        "\n",
        "        d_loss_u.backward()\n",
        "        d_loss_m.backward()\n",
        "\n",
        "        d_m_optimizer.step()\n",
        "        d_u_optimizer.step()\n",
        "\n",
        "        #d_loss.backward()\n",
        "        #d_optimizer.step()\n",
        "\n",
        "        # Clipping discriminator parameters \n",
        "        for p in D_M.parameters():\n",
        "              p.data.clamp_(-0.01, 0.01)\n",
        "        \n",
        "        # Clipping discriminator parameters \n",
        "        for p in D_U.parameters():\n",
        "              p.data.clamp_(-0.01, 0.01)\n",
        "\n",
        "      # =========================================\n",
        "      #            TRAIN THE GENERATORS\n",
        "      # =========================================\n",
        "\n",
        "      ## U--M-->U \n",
        "\n",
        "      g_optimizer.zero_grad()\n",
        "\n",
        "      # 1. Generate fake images that look like domain M based on real images in domain U\n",
        "      fake_M = G_UtoM(images_U)\n",
        "      out = D_M(fake_M)\n",
        "\n",
        "      # 2. Compute the generator loss based on domain M\n",
        "\n",
        "      g_loss = - torch.mean(out)\n",
        "\n",
        "      if use_cycle_consistency_loss:\n",
        "          reconstructed_U = G_MtoU(fake_M)\n",
        "          # 3. Compute the cycle consistency loss (the reconstruction loss)\n",
        "          cycle_consistency_loss = torch.mean((images_U - reconstructed_U)**2)\n",
        "          g_loss += cycle_consistency_loss\n",
        "\n",
        "      #g_loss.backward()\n",
        "      #g_optimizer.step()\n",
        "\n",
        "      ## M--U-->M \n",
        "\n",
        "      #torch.mean((D_M(G_UtoM(images_U)-1)**2) + torch.mean((images_U - G_MtoU(G_UtoM(images_U)))**2)\n",
        "\n",
        "      #g_optimizer.zero_grad()\n",
        "\n",
        "      # 1. Generate fake images that look like domain U based on real images in domain M\n",
        "      fake_U = G_MtoU(images_M)\n",
        "      out = D_U(fake_U)\n",
        "\n",
        "      # 2. Compute the generator loss based on domain U\n",
        "      #g_loss = - torch.mean(out)\n",
        "      g_loss += - torch.mean(out)\n",
        "\n",
        "      if use_cycle_consistency_loss:\n",
        "          reconstructed_M = G_UtoM(fake_U)\n",
        "          # 3. Compute the cycle consistency loss (the reconstruction loss)\n",
        "          cycle_consistency_loss = torch.mean((images_M - reconstructed_M)**2)\n",
        "          g_loss += cycle_consistency_loss\n",
        "\n",
        "      g_loss.backward()\n",
        "      g_optimizer.step()\n",
        "\n",
        "\n",
        "      # Print the log info\n",
        "      if iteration % log_step == 0:\n",
        "          print('Iteration [{:5d}/{:5d}] | d_real_loss: {:6.4f} | d_U_loss: {:6.4f} | d_M_loss: {:6.4f} | '\n",
        "                'd_fake_loss: {:6.4f} | g_loss: {:6.4f}'.format(\n",
        "                  iteration, train_iters, d_real_loss.item(), D_U_loss.item(),\n",
        "                  D_M_loss.item(), d_fake_loss.item(), g_loss.item()))\n",
        "\n",
        "\n",
        "      # Save the generated samples\n",
        "      if iteration % sample_every == 0:\n",
        "          save_samples(iteration, fixed_U, fixed_M, G_UtoM, G_MtoU)"
      ],
      "execution_count": 0,
      "outputs": []
    },
    {
      "cell_type": "code",
      "metadata": {
        "id": "HWDo6oMe-er4",
        "colab_type": "code",
        "outputId": "aa5d0dc7-f5c4-477d-8907-5cd476bca211",
        "colab": {
          "base_uri": "https://localhost:8080/",
          "height": 1000
        }
      },
      "source": [
        "training_loop(M_train_loader, U_train_loader, M_test_loader, U_test_loader, sample_every=1000,  lr=0.0002, train_iters=5000, log_step = 100,  use_cycle_consistency_loss=False)"
      ],
      "execution_count": 0,
      "outputs": [
        {
          "output_type": "stream",
          "text": [
            "                 G_MtoU                \n",
            "---------------------------------------\n",
            "G_MNIST_USPS(\n",
            "  (conv1): Sequential(\n",
            "    (0): Conv2d(1, 64, kernel_size=(4, 4), stride=(2, 2), padding=(1, 1), bias=False)\n",
            "    (1): BatchNorm2d(64, eps=1e-05, momentum=0.1, affine=True, track_running_stats=True)\n",
            "  )\n",
            "  (conv2): Sequential(\n",
            "    (0): Conv2d(64, 128, kernel_size=(4, 4), stride=(2, 2), padding=(1, 1), bias=False)\n",
            "    (1): BatchNorm2d(128, eps=1e-05, momentum=0.1, affine=True, track_running_stats=True)\n",
            "  )\n",
            "  (conv3): Sequential(\n",
            "    (0): Conv2d(128, 128, kernel_size=(3, 3), stride=(1, 1), padding=(1, 1), bias=False)\n",
            "    (1): BatchNorm2d(128, eps=1e-05, momentum=0.1, affine=True, track_running_stats=True)\n",
            "  )\n",
            "  (conv4): Sequential(\n",
            "    (0): Conv2d(128, 128, kernel_size=(3, 3), stride=(1, 1), padding=(1, 1), bias=False)\n",
            "    (1): BatchNorm2d(128, eps=1e-05, momentum=0.1, affine=True, track_running_stats=True)\n",
            "  )\n",
            "  (deconv1): Sequential(\n",
            "    (0): ConvTranspose2d(128, 64, kernel_size=(4, 4), stride=(2, 2), padding=(1, 1), bias=False)\n",
            "    (1): BatchNorm2d(64, eps=1e-05, momentum=0.1, affine=True, track_running_stats=True)\n",
            "  )\n",
            "  (deconv2): Sequential(\n",
            "    (0): ConvTranspose2d(64, 1, kernel_size=(4, 4), stride=(2, 2), padding=(1, 1), bias=False)\n",
            "  )\n",
            ")\n",
            "---------------------------------------\n",
            "                 G_UtoM                \n",
            "---------------------------------------\n",
            "G_USPS_MNIST(\n",
            "  (conv1): Sequential(\n",
            "    (0): Conv2d(1, 64, kernel_size=(4, 4), stride=(2, 2), padding=(1, 1), bias=False)\n",
            "    (1): BatchNorm2d(64, eps=1e-05, momentum=0.1, affine=True, track_running_stats=True)\n",
            "  )\n",
            "  (conv2): Sequential(\n",
            "    (0): Conv2d(64, 128, kernel_size=(4, 4), stride=(2, 2), padding=(1, 1), bias=False)\n",
            "    (1): BatchNorm2d(128, eps=1e-05, momentum=0.1, affine=True, track_running_stats=True)\n",
            "  )\n",
            "  (conv3): Sequential(\n",
            "    (0): Conv2d(128, 128, kernel_size=(3, 3), stride=(1, 1), padding=(1, 1), bias=False)\n",
            "    (1): BatchNorm2d(128, eps=1e-05, momentum=0.1, affine=True, track_running_stats=True)\n",
            "  )\n",
            "  (conv4): Sequential(\n",
            "    (0): Conv2d(128, 128, kernel_size=(3, 3), stride=(1, 1), padding=(1, 1), bias=False)\n",
            "    (1): BatchNorm2d(128, eps=1e-05, momentum=0.1, affine=True, track_running_stats=True)\n",
            "  )\n",
            "  (deconv1): Sequential(\n",
            "    (0): ConvTranspose2d(128, 64, kernel_size=(4, 4), stride=(2, 2), padding=(1, 1), bias=False)\n",
            "    (1): BatchNorm2d(64, eps=1e-05, momentum=0.1, affine=True, track_running_stats=True)\n",
            "  )\n",
            "  (deconv2): Sequential(\n",
            "    (0): ConvTranspose2d(64, 1, kernel_size=(4, 4), stride=(2, 2), padding=(1, 1), bias=False)\n",
            "  )\n",
            ")\n",
            "---------------------------------------\n",
            "                  D_M                  \n",
            "---------------------------------------\n",
            "D_MNIST(\n",
            "  (conv1): Sequential(\n",
            "    (0): Conv2d(1, 64, kernel_size=(4, 4), stride=(2, 2), padding=(1, 1), bias=False)\n",
            "  )\n",
            "  (conv2): Sequential(\n",
            "    (0): Conv2d(64, 128, kernel_size=(4, 4), stride=(2, 2), padding=(1, 1), bias=False)\n",
            "    (1): BatchNorm2d(128, eps=1e-05, momentum=0.1, affine=True, track_running_stats=True)\n",
            "  )\n",
            "  (conv3): Sequential(\n",
            "    (0): Conv2d(128, 256, kernel_size=(4, 4), stride=(2, 2), padding=(1, 1), bias=False)\n",
            "    (1): BatchNorm2d(256, eps=1e-05, momentum=0.1, affine=True, track_running_stats=True)\n",
            "  )\n",
            "  (fc): Sequential(\n",
            "    (0): Conv2d(256, 1, kernel_size=(4, 4), stride=(1, 1), bias=False)\n",
            "  )\n",
            ")\n",
            "---------------------------------------\n",
            "                  D_U                  \n",
            "---------------------------------------\n",
            "D_USPS(\n",
            "  (conv1): Sequential(\n",
            "    (0): Conv2d(1, 64, kernel_size=(4, 4), stride=(2, 2), padding=(1, 1), bias=False)\n",
            "  )\n",
            "  (conv2): Sequential(\n",
            "    (0): Conv2d(64, 128, kernel_size=(4, 4), stride=(2, 2), padding=(1, 1), bias=False)\n",
            "    (1): BatchNorm2d(128, eps=1e-05, momentum=0.1, affine=True, track_running_stats=True)\n",
            "  )\n",
            "  (conv3): Sequential(\n",
            "    (0): Conv2d(128, 256, kernel_size=(4, 4), stride=(2, 2), padding=(1, 1), bias=False)\n",
            "    (1): BatchNorm2d(256, eps=1e-05, momentum=0.1, affine=True, track_running_stats=True)\n",
            "  )\n",
            "  (fc): Sequential(\n",
            "    (0): Conv2d(256, 1, kernel_size=(4, 4), stride=(1, 1), bias=False)\n",
            "  )\n",
            ")\n",
            "---------------------------------------\n",
            "Models moved to GPU.\n",
            "Iteration [  100/ 5000] | d_real_loss: -0.1877 | d_U_loss: -0.1227 | d_M_loss: -0.0908 | d_fake_loss: -0.2135 | g_loss: 0.0965\n",
            "Iteration [  200/ 5000] | d_real_loss: -0.2461 | d_U_loss: -0.0023 | d_M_loss: -0.2120 | d_fake_loss: -0.2143 | g_loss: 0.2985\n",
            "Iteration [  300/ 5000] | d_real_loss: -0.1500 | d_U_loss: -0.2189 | d_M_loss: -0.0993 | d_fake_loss: -0.3182 | g_loss: 0.2108\n",
            "Iteration [  400/ 5000] | d_real_loss: -0.2491 | d_U_loss: -0.1221 | d_M_loss: -0.1445 | d_fake_loss: -0.2667 | g_loss: 0.1679\n",
            "Iteration [  500/ 5000] | d_real_loss: -0.3618 | d_U_loss: -0.0247 | d_M_loss: -0.0265 | d_fake_loss: -0.0512 | g_loss: 0.4321\n",
            "Iteration [  600/ 5000] | d_real_loss: -0.4501 | d_U_loss: 0.0449 | d_M_loss: -0.0229 | d_fake_loss: 0.0220 | g_loss: 0.4714\n",
            "Iteration [  700/ 5000] | d_real_loss: -0.2318 | d_U_loss: -0.1796 | d_M_loss: 0.0244 | d_fake_loss: -0.1553 | g_loss: 0.1673\n",
            "Iteration [  800/ 5000] | d_real_loss: -0.1545 | d_U_loss: -0.0978 | d_M_loss: -0.1399 | d_fake_loss: -0.2377 | g_loss: 0.1330\n",
            "Iteration [  900/ 5000] | d_real_loss: -0.2781 | d_U_loss: 0.0563 | d_M_loss: -0.1480 | d_fake_loss: -0.0917 | g_loss: 0.2893\n"
          ],
          "name": "stdout"
        },
        {
          "output_type": "stream",
          "text": [
            "WARNING:root:Lossy conversion from float64 to uint8. Range [-1.0, 1.0]. Convert image to uint8 prior to saving to suppress this warning.\n",
            "WARNING:root:Lossy conversion from float64 to uint8. Range [-1.0, 0.9989150166511536]. Convert image to uint8 prior to saving to suppress this warning.\n"
          ],
          "name": "stderr"
        },
        {
          "output_type": "stream",
          "text": [
            "Iteration [ 1000/ 5000] | d_real_loss: -0.4124 | d_U_loss: 0.0946 | d_M_loss: 0.0057 | d_fake_loss: 0.1003 | g_loss: 0.4309\n",
            "Saved /content/sample-001000-M-U.png\n",
            "Saved /content/sample-001000-U-M.png\n",
            "Iteration [ 1100/ 5000] | d_real_loss: -0.2091 | d_U_loss: -0.0367 | d_M_loss: -0.1201 | d_fake_loss: -0.1568 | g_loss: 0.2553\n",
            "Iteration [ 1200/ 5000] | d_real_loss: -0.2281 | d_U_loss: 0.0239 | d_M_loss: -0.1717 | d_fake_loss: -0.1478 | g_loss: 0.2339\n",
            "Iteration [ 1300/ 5000] | d_real_loss: -0.1451 | d_U_loss: -0.1951 | d_M_loss: -0.0334 | d_fake_loss: -0.2285 | g_loss: 0.2073\n",
            "Iteration [ 1400/ 5000] | d_real_loss: -0.2063 | d_U_loss: 0.0349 | d_M_loss: -0.1641 | d_fake_loss: -0.1292 | g_loss: 0.2399\n",
            "Iteration [ 1500/ 5000] | d_real_loss: -0.3129 | d_U_loss: 0.0821 | d_M_loss: -0.1149 | d_fake_loss: -0.0328 | g_loss: 0.2907\n",
            "Iteration [ 1600/ 5000] | d_real_loss: 0.0523 | d_U_loss: -0.1791 | d_M_loss: -0.1544 | d_fake_loss: -0.3336 | g_loss: 0.1110\n",
            "Iteration [ 1700/ 5000] | d_real_loss: -0.1225 | d_U_loss: -0.0561 | d_M_loss: -0.1378 | d_fake_loss: -0.1939 | g_loss: 0.1556\n",
            "Iteration [ 1800/ 5000] | d_real_loss: -0.3321 | d_U_loss: 0.0636 | d_M_loss: -0.0575 | d_fake_loss: 0.0060 | g_loss: 0.3660\n",
            "Iteration [ 1900/ 5000] | d_real_loss: -0.0425 | d_U_loss: -0.1614 | d_M_loss: -0.1075 | d_fake_loss: -0.2689 | g_loss: 0.1191\n"
          ],
          "name": "stdout"
        },
        {
          "output_type": "stream",
          "text": [
            "WARNING:root:Lossy conversion from float64 to uint8. Range [-1.0, 1.0]. Convert image to uint8 prior to saving to suppress this warning.\n",
            "WARNING:root:Lossy conversion from float64 to uint8. Range [-1.0, 0.9994796514511108]. Convert image to uint8 prior to saving to suppress this warning.\n"
          ],
          "name": "stderr"
        },
        {
          "output_type": "stream",
          "text": [
            "Iteration [ 2000/ 5000] | d_real_loss: -0.1396 | d_U_loss: 0.0277 | d_M_loss: -0.1790 | d_fake_loss: -0.1512 | g_loss: 0.1112\n",
            "Saved /content/sample-002000-M-U.png\n",
            "Saved /content/sample-002000-U-M.png\n",
            "Iteration [ 2100/ 5000] | d_real_loss: -0.1380 | d_U_loss: -0.1176 | d_M_loss: -0.0548 | d_fake_loss: -0.1725 | g_loss: 0.1081\n",
            "Iteration [ 2200/ 5000] | d_real_loss: -0.2318 | d_U_loss: -0.0026 | d_M_loss: -0.0972 | d_fake_loss: -0.0997 | g_loss: 0.3379\n",
            "Iteration [ 2300/ 5000] | d_real_loss: -0.1340 | d_U_loss: 0.0013 | d_M_loss: -0.1525 | d_fake_loss: -0.1512 | g_loss: 0.1743\n",
            "Iteration [ 2400/ 5000] | d_real_loss: -0.1555 | d_U_loss: -0.0638 | d_M_loss: -0.0999 | d_fake_loss: -0.1637 | g_loss: 0.2592\n",
            "Iteration [ 2500/ 5000] | d_real_loss: -0.1445 | d_U_loss: -0.0671 | d_M_loss: -0.0568 | d_fake_loss: -0.1239 | g_loss: 0.1956\n",
            "Iteration [ 2600/ 5000] | d_real_loss: 0.0378 | d_U_loss: -0.0925 | d_M_loss: -0.1825 | d_fake_loss: -0.2750 | g_loss: -0.0226\n",
            "Iteration [ 2700/ 5000] | d_real_loss: -0.2465 | d_U_loss: -0.0483 | d_M_loss: 0.0176 | d_fake_loss: -0.0308 | g_loss: 0.2327\n",
            "Iteration [ 2800/ 5000] | d_real_loss: -0.0399 | d_U_loss: -0.0518 | d_M_loss: -0.1796 | d_fake_loss: -0.2314 | g_loss: 0.0385\n",
            "Iteration [ 2900/ 5000] | d_real_loss: -0.1480 | d_U_loss: -0.0554 | d_M_loss: -0.1014 | d_fake_loss: -0.1569 | g_loss: 0.2115\n"
          ],
          "name": "stdout"
        },
        {
          "output_type": "stream",
          "text": [
            "WARNING:root:Lossy conversion from float64 to uint8. Range [-1.0, 1.0]. Convert image to uint8 prior to saving to suppress this warning.\n",
            "WARNING:root:Lossy conversion from float64 to uint8. Range [-1.0, 0.9997968673706055]. Convert image to uint8 prior to saving to suppress this warning.\n"
          ],
          "name": "stderr"
        },
        {
          "output_type": "stream",
          "text": [
            "Iteration [ 3000/ 5000] | d_real_loss: -0.2600 | d_U_loss: -0.0396 | d_M_loss: -0.0292 | d_fake_loss: -0.0689 | g_loss: 0.3601\n",
            "Saved /content/sample-003000-M-U.png\n",
            "Saved /content/sample-003000-U-M.png\n",
            "Iteration [ 3100/ 5000] | d_real_loss: -0.0426 | d_U_loss: -0.0641 | d_M_loss: -0.1778 | d_fake_loss: -0.2419 | g_loss: 0.0277\n",
            "Iteration [ 3200/ 5000] | d_real_loss: -0.1807 | d_U_loss: -0.0201 | d_M_loss: -0.1142 | d_fake_loss: -0.1343 | g_loss: 0.1791\n",
            "Iteration [ 3300/ 5000] | d_real_loss: -0.1422 | d_U_loss: -0.0316 | d_M_loss: -0.1097 | d_fake_loss: -0.1413 | g_loss: 0.1719\n",
            "Iteration [ 3400/ 5000] | d_real_loss: -0.0369 | d_U_loss: -0.0707 | d_M_loss: -0.1775 | d_fake_loss: -0.2481 | g_loss: 0.1117\n",
            "Iteration [ 3500/ 5000] | d_real_loss: -0.1060 | d_U_loss: -0.0670 | d_M_loss: -0.1047 | d_fake_loss: -0.1717 | g_loss: 0.1026\n",
            "Iteration [ 3600/ 5000] | d_real_loss: -0.1886 | d_U_loss: -0.0098 | d_M_loss: -0.0858 | d_fake_loss: -0.0956 | g_loss: 0.3044\n",
            "Iteration [ 3700/ 5000] | d_real_loss: -0.1309 | d_U_loss: -0.0580 | d_M_loss: -0.1268 | d_fake_loss: -0.1849 | g_loss: 0.1840\n",
            "Iteration [ 3800/ 5000] | d_real_loss: -0.0269 | d_U_loss: -0.0832 | d_M_loss: -0.1444 | d_fake_loss: -0.2276 | g_loss: 0.1084\n",
            "Iteration [ 3900/ 5000] | d_real_loss: -0.0579 | d_U_loss: -0.0263 | d_M_loss: -0.1947 | d_fake_loss: -0.2209 | g_loss: 0.0529\n"
          ],
          "name": "stdout"
        },
        {
          "output_type": "stream",
          "text": [
            "WARNING:root:Lossy conversion from float64 to uint8. Range [-1.0, 1.0]. Convert image to uint8 prior to saving to suppress this warning.\n",
            "WARNING:root:Lossy conversion from float64 to uint8. Range [-1.0, 0.999747633934021]. Convert image to uint8 prior to saving to suppress this warning.\n"
          ],
          "name": "stderr"
        },
        {
          "output_type": "stream",
          "text": [
            "Iteration [ 4000/ 5000] | d_real_loss: -0.0839 | d_U_loss: -0.0807 | d_M_loss: -0.0916 | d_fake_loss: -0.1724 | g_loss: 0.1768\n",
            "Saved /content/sample-004000-M-U.png\n",
            "Saved /content/sample-004000-U-M.png\n",
            "Iteration [ 4100/ 5000] | d_real_loss: -0.0674 | d_U_loss: -0.0949 | d_M_loss: -0.1036 | d_fake_loss: -0.1984 | g_loss: 0.1196\n",
            "Iteration [ 4200/ 5000] | d_real_loss: -0.1708 | d_U_loss: -0.0734 | d_M_loss: -0.0720 | d_fake_loss: -0.1454 | g_loss: 0.2532\n",
            "Iteration [ 4300/ 5000] | d_real_loss: -0.1243 | d_U_loss: -0.0564 | d_M_loss: -0.0980 | d_fake_loss: -0.1544 | g_loss: 0.1408\n",
            "Iteration [ 4400/ 5000] | d_real_loss: -0.0253 | d_U_loss: -0.0537 | d_M_loss: -0.1777 | d_fake_loss: -0.2314 | g_loss: 0.0139\n",
            "Iteration [ 4500/ 5000] | d_real_loss: -0.0564 | d_U_loss: -0.0747 | d_M_loss: -0.1809 | d_fake_loss: -0.2556 | g_loss: 0.1583\n",
            "Iteration [ 4600/ 5000] | d_real_loss: -0.1041 | d_U_loss: 0.0367 | d_M_loss: -0.1837 | d_fake_loss: -0.1471 | g_loss: 0.0160\n",
            "Iteration [ 4700/ 5000] | d_real_loss: -0.1538 | d_U_loss: -0.0547 | d_M_loss: -0.1278 | d_fake_loss: -0.1825 | g_loss: 0.1648\n",
            "Iteration [ 4800/ 5000] | d_real_loss: -0.1528 | d_U_loss: -0.0517 | d_M_loss: -0.0827 | d_fake_loss: -0.1344 | g_loss: 0.1478\n",
            "Iteration [ 4900/ 5000] | d_real_loss: -0.2060 | d_U_loss: -0.0591 | d_M_loss: -0.0740 | d_fake_loss: -0.1331 | g_loss: 0.3038\n"
          ],
          "name": "stdout"
        },
        {
          "output_type": "stream",
          "text": [
            "WARNING:root:Lossy conversion from float64 to uint8. Range [-1.0, 1.0]. Convert image to uint8 prior to saving to suppress this warning.\n",
            "WARNING:root:Lossy conversion from float64 to uint8. Range [-1.0, 0.9995278716087341]. Convert image to uint8 prior to saving to suppress this warning.\n"
          ],
          "name": "stderr"
        },
        {
          "output_type": "stream",
          "text": [
            "Iteration [ 5000/ 5000] | d_real_loss: -0.0702 | d_U_loss: -0.0936 | d_M_loss: -0.1226 | d_fake_loss: -0.2162 | g_loss: 0.1375\n",
            "Saved /content/sample-005000-M-U.png\n",
            "Saved /content/sample-005000-U-M.png\n"
          ],
          "name": "stdout"
        }
      ]
    },
    {
      "cell_type": "code",
      "metadata": {
        "id": "vzDALZRj-evC",
        "colab_type": "code",
        "colab": {}
      },
      "source": [
        ""
      ],
      "execution_count": 0,
      "outputs": []
    },
    {
      "cell_type": "code",
      "metadata": {
        "id": "YHTPSlKEf3-7",
        "colab_type": "code",
        "colab": {}
      },
      "source": [
        ""
      ],
      "execution_count": 0,
      "outputs": []
    },
    {
      "cell_type": "code",
      "metadata": {
        "id": "qMtPb_KtgErI",
        "colab_type": "code",
        "colab": {}
      },
      "source": [
        ""
      ],
      "execution_count": 0,
      "outputs": []
    },
    {
      "cell_type": "code",
      "metadata": {
        "id": "_tLppSUH-eya",
        "colab_type": "code",
        "colab": {}
      },
      "source": [
        ""
      ],
      "execution_count": 0,
      "outputs": []
    }
  ]
}